{
 "cells": [
  {
   "cell_type": "code",
   "execution_count": null,
   "metadata": {},
   "outputs": [],
   "source": [
    "## Config\n",
    "MARKET_DATA_PATH=\"../../resources/data/csi300_stock_feats.csv\"\n",
    "NEWS_DATA_DIR=\"../../resources/data/CSI300news_chunked_summarized_senti\""
   ]
  },
  {
   "cell_type": "code",
   "execution_count": null,
   "metadata": {},
   "outputs": [],
   "source": [
    "## 初始化alpha158\n",
    "import polars as pl\n",
    "import sys; sys.path.append(\"../..\")\n",
    "from utils.models import *\n",
    "from utils.alpha import *\n",
    "\n",
    "def transform_data(df: pl.DataFrame):\n",
    "    df = build_alpha158(df)\n",
    "    df = build_label(df)\n",
    "    return df\n",
    "\n",
    "df = (pl\n",
    "    .read_csv(MARKET_DATA_PATH)\n",
    "    .filter(pl.col('datetime').str.strptime(pl.Datetime).dt.year() == 2019)\n",
    "    .group_by('instrument')\n",
    "    .map_groups(transform_data)\n",
    "    .to_pandas()\n",
    ")\n",
    "\n",
    "df = df.assign(\n",
    "    full_instrument=df['instrument'],\n",
    "    datetime=pd.to_datetime(df['datetime']),\n",
    "    instrument=df['instrument'].str.slice(start=2)\n",
    ").set_index(['instrument', 'datetime'])\n"
   ]
  },
  {
   "cell_type": "code",
   "execution_count": null,
   "metadata": {},
   "outputs": [],
   "source": [
    "import pandas as pd\n",
    "import sys; sys.path.append(\"../..\")\n",
    "from utils.alpha import *\n",
    "import os\n",
    "\n",
    "\n",
    "df_news = pd.concat([(pd\n",
    "    .read_json(os.path.join(NEWS_DATA_DIR, filename))\n",
    "    .assign(instrument=filename.split('.')[0],datetime=lambda x: x['date'].dt.date)\n",
    "    )\n",
    "    for filename in os.listdir(NEWS_DATA_DIR)\n",
    "    if filename.endswith(\".json\")\n",
    "], ignore_index=True)\n",
    "\n",
    "df_senti = build_senti_alpha(df_news,method=\"标签众数\")\n",
    "df_senti = (df_senti\n",
    "    .assign(datetime=pd.to_datetime(df_senti['datetime']))\n",
    "    .fillna({'SENTI': 0})\n",
    "    .set_index(['instrument', 'datetime'])\n",
    ")\n",
    "    "
   ]
  },
  {
   "cell_type": "code",
   "execution_count": 4,
   "metadata": {},
   "outputs": [],
   "source": [
    "## 特征拼接\n",
    "df_tot=pd.merge(df, df_senti, left_index=True, right_index=True, how='left')\n",
    "df_tot.fillna({'SENTI':0}, inplace=True)"
   ]
  },
  {
   "cell_type": "code",
   "execution_count": 5,
   "metadata": {},
   "outputs": [
    {
     "name": "stderr",
     "output_type": "stream",
     "text": [
      "/mnt/disk2/xinghua.jia/.miniforge3/envs/finbot/lib/python3.10/site-packages/statsmodels/regression/linear_model.py:1782: RuntimeWarning: divide by zero encountered in scalar divide\n",
      "  return 1 - self.ssr/self.centered_tss\n"
     ]
    },
    {
     "name": "stdout",
     "output_type": "stream",
     "text": [
      "     feature           VIF\n",
      "0      const  0.000000e+00\n",
      "1       KMID  2.692671e+10\n",
      "2       KLEN  3.410880e+03\n",
      "3      KMID2  6.724601e+10\n",
      "4        KUP  3.845024e+09\n",
      "..       ...           ...\n",
      "155  VSUMD60  7.503811e+09\n",
      "156   BETA60  2.215295e+00\n",
      "157   RSQR60  1.981874e+00\n",
      "158   RESI60  1.023132e+00\n",
      "159    SENTI  1.012107e+00\n",
      "\n",
      "[160 rows x 2 columns]\n"
     ]
    }
   ],
   "source": [
    "import pandas as pd\n",
    "import numpy as np\n",
    "from statsmodels.stats.outliers_influence import variance_inflation_factor\n",
    "from statsmodels.tools.tools import add_constant\n",
    "label_cols = ['LABEL0']\n",
    "feature_cols = [col for col in df_tot.columns if col.isupper() and col not in label_cols] # 非label的大写字段视为特征字段\n",
    "X = df_tot[feature_cols] # 将特征列转换为 DataFrame（X）\n",
    "X = add_constant(X) # 添加常数列，因为 VIF 计算需要常数项\n",
    "X = X[~np.isinf(X).any(axis=1)].dropna()\n",
    "\n",
    "# 计算 VIF\n",
    "vif_data = pd.DataFrame()\n",
    "vif_data[\"feature\"] = X.columns\n",
    "vif_data[\"VIF\"] = [variance_inflation_factor(X.values, i) for i in range(X.shape[1])]\n",
    "\n",
    "# 显示结果\n",
    "print(vif_data)\n"
   ]
  },
  {
   "cell_type": "code",
   "execution_count": 8,
   "metadata": {},
   "outputs": [
    {
     "name": "stdout",
     "output_type": "stream",
     "text": [
      "VIF_Range\n",
      "<5       27\n",
      "5-10      7\n",
      ">=10    126\n",
      "Name: count, dtype: int64\n"
     ]
    }
   ],
   "source": [
    "# 定义 VIF 区间\n",
    "bins = [0, 5, 10, np.inf]\n",
    "labels = [\"<5\", \"5-10\", \">=10\"]\n",
    "\n",
    "# 添加 VIF 区间列\n",
    "vif_data[\"VIF_Range\"] = pd.cut(vif_data[\"VIF\"], bins=bins, labels=labels, right=False)\n",
    "\n",
    "# 统计各区间的特征数量\n",
    "vif_summary = vif_data[\"VIF_Range\"].value_counts().sort_index()\n",
    "\n",
    "# 显示结果\n",
    "print(vif_summary)"
   ]
  },
  {
   "cell_type": "code",
   "execution_count": 10,
   "metadata": {},
   "outputs": [
    {
     "data": {
      "text/html": [
       "<div>\n",
       "<style scoped>\n",
       "    .dataframe tbody tr th:only-of-type {\n",
       "        vertical-align: middle;\n",
       "    }\n",
       "\n",
       "    .dataframe tbody tr th {\n",
       "        vertical-align: top;\n",
       "    }\n",
       "\n",
       "    .dataframe thead th {\n",
       "        text-align: right;\n",
       "    }\n",
       "</style>\n",
       "<table border=\"1\" class=\"dataframe\">\n",
       "  <thead>\n",
       "    <tr style=\"text-align: right;\">\n",
       "      <th></th>\n",
       "      <th>feature</th>\n",
       "      <th>VIF</th>\n",
       "      <th>VIF_Range</th>\n",
       "    </tr>\n",
       "  </thead>\n",
       "  <tbody>\n",
       "    <tr>\n",
       "      <th>0</th>\n",
       "      <td>const</td>\n",
       "      <td>0.000000e+00</td>\n",
       "      <td>&lt;5</td>\n",
       "    </tr>\n",
       "    <tr>\n",
       "      <th>1</th>\n",
       "      <td>KMID</td>\n",
       "      <td>2.692671e+10</td>\n",
       "      <td>&gt;=10</td>\n",
       "    </tr>\n",
       "    <tr>\n",
       "      <th>2</th>\n",
       "      <td>KLEN</td>\n",
       "      <td>3.410880e+03</td>\n",
       "      <td>&gt;=10</td>\n",
       "    </tr>\n",
       "    <tr>\n",
       "      <th>3</th>\n",
       "      <td>KMID2</td>\n",
       "      <td>6.724601e+10</td>\n",
       "      <td>&gt;=10</td>\n",
       "    </tr>\n",
       "    <tr>\n",
       "      <th>4</th>\n",
       "      <td>KUP</td>\n",
       "      <td>3.845024e+09</td>\n",
       "      <td>&gt;=10</td>\n",
       "    </tr>\n",
       "    <tr>\n",
       "      <th>...</th>\n",
       "      <td>...</td>\n",
       "      <td>...</td>\n",
       "      <td>...</td>\n",
       "    </tr>\n",
       "    <tr>\n",
       "      <th>155</th>\n",
       "      <td>VSUMD60</td>\n",
       "      <td>7.503811e+09</td>\n",
       "      <td>&gt;=10</td>\n",
       "    </tr>\n",
       "    <tr>\n",
       "      <th>156</th>\n",
       "      <td>BETA60</td>\n",
       "      <td>2.215295e+00</td>\n",
       "      <td>&lt;5</td>\n",
       "    </tr>\n",
       "    <tr>\n",
       "      <th>157</th>\n",
       "      <td>RSQR60</td>\n",
       "      <td>1.981874e+00</td>\n",
       "      <td>&lt;5</td>\n",
       "    </tr>\n",
       "    <tr>\n",
       "      <th>158</th>\n",
       "      <td>RESI60</td>\n",
       "      <td>1.023132e+00</td>\n",
       "      <td>&lt;5</td>\n",
       "    </tr>\n",
       "    <tr>\n",
       "      <th>159</th>\n",
       "      <td>SENTI</td>\n",
       "      <td>1.012107e+00</td>\n",
       "      <td>&lt;5</td>\n",
       "    </tr>\n",
       "  </tbody>\n",
       "</table>\n",
       "<p>160 rows × 3 columns</p>\n",
       "</div>"
      ],
      "text/plain": [
       "     feature           VIF VIF_Range\n",
       "0      const  0.000000e+00        <5\n",
       "1       KMID  2.692671e+10      >=10\n",
       "2       KLEN  3.410880e+03      >=10\n",
       "3      KMID2  6.724601e+10      >=10\n",
       "4        KUP  3.845024e+09      >=10\n",
       "..       ...           ...       ...\n",
       "155  VSUMD60  7.503811e+09      >=10\n",
       "156   BETA60  2.215295e+00        <5\n",
       "157   RSQR60  1.981874e+00        <5\n",
       "158   RESI60  1.023132e+00        <5\n",
       "159    SENTI  1.012107e+00        <5\n",
       "\n",
       "[160 rows x 3 columns]"
      ]
     },
     "execution_count": 10,
     "metadata": {},
     "output_type": "execute_result"
    }
   ],
   "source": [
    "vif_data"
   ]
  },
  {
   "cell_type": "code",
   "execution_count": 6,
   "metadata": {},
   "outputs": [
    {
     "data": {
      "text/html": [
       "<div>\n",
       "<style scoped>\n",
       "    .dataframe tbody tr th:only-of-type {\n",
       "        vertical-align: middle;\n",
       "    }\n",
       "\n",
       "    .dataframe tbody tr th {\n",
       "        vertical-align: top;\n",
       "    }\n",
       "\n",
       "    .dataframe thead th {\n",
       "        text-align: right;\n",
       "    }\n",
       "</style>\n",
       "<table border=\"1\" class=\"dataframe\">\n",
       "  <thead>\n",
       "    <tr style=\"text-align: right;\">\n",
       "      <th></th>\n",
       "      <th>feature</th>\n",
       "      <th>VIF</th>\n",
       "    </tr>\n",
       "  </thead>\n",
       "  <tbody>\n",
       "    <tr>\n",
       "      <th>159</th>\n",
       "      <td>SENTI</td>\n",
       "      <td>1.012107</td>\n",
       "    </tr>\n",
       "  </tbody>\n",
       "</table>\n",
       "</div>"
      ],
      "text/plain": [
       "    feature       VIF\n",
       "159   SENTI  1.012107"
      ]
     },
     "execution_count": 6,
     "metadata": {},
     "output_type": "execute_result"
    }
   ],
   "source": [
    "vif_data.query('feature == \"SENTI\"')"
   ]
  }
 ],
 "metadata": {
  "kernelspec": {
   "display_name": "finbot",
   "language": "python",
   "name": "python3"
  },
  "language_info": {
   "codemirror_mode": {
    "name": "ipython",
    "version": 3
   },
   "file_extension": ".py",
   "mimetype": "text/x-python",
   "name": "python",
   "nbconvert_exporter": "python",
   "pygments_lexer": "ipython3",
   "version": "3.10.16"
  }
 },
 "nbformat": 4,
 "nbformat_minor": 2
}
