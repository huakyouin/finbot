{
 "cells": [
  {
   "cell_type": "code",
   "execution_count": 1,
   "metadata": {},
   "outputs": [],
   "source": [
    "## Configs\n",
    "FROM_DIR=\"../resouces/data/CSI300news_chunked_summarized\"\n",
    "TO_DIR=\"../resouces/data/CSI300news_chunked_summarized_senti\"\n",
    "BERT_BACKBONE_DIR = \"../resources/open_models/FinBert\"\n",
    "CLASSIFIER_DIR = '../resources/ckpts/FinBert'"
   ]
  },
  {
   "cell_type": "code",
   "execution_count": null,
   "metadata": {},
   "outputs": [
    {
     "name": "stderr",
     "output_type": "stream",
     "text": [
      "/mnt/disk2/xinghua.jia/.miniforge3/envs/finbot/lib/python3.10/site-packages/tqdm/auto.py:21: TqdmWarning: IProgress not found. Please update jupyter and ipywidgets. See https://ipywidgets.readthedocs.io/en/stable/user_install.html\n",
      "  from .autonotebook import tqdm as notebook_tqdm\n"
     ]
    },
    {
     "name": "stdout",
     "output_type": "stream",
     "text": [
      "Classifier weights loaded from ../resources/ckpts/FinBert/classifier_weights.pth\n"
     ]
    }
   ],
   "source": [
    "## 初始化\n",
    "import sys; sys.path.append(\"..\")\n",
    "from utils.models import *\n",
    "from transformers import AutoTokenizer, AutoModel\n",
    "import time\n",
    "import pandas as pd\n",
    "from tqdm import tqdm\n",
    "\n",
    "tokenizer = AutoTokenizer.from_pretrained(BERT_BACKBONE_DIR)\n",
    "backbone = AutoModel.from_pretrained(BERT_BACKBONE_DIR)\n",
    "model = BaseModel.use_subclass(\"bert_classifier\")(backbone,2)\n",
    "model.load_classifier(CLASSIFIER_DIR)"
   ]
  },
  {
   "cell_type": "code",
   "execution_count": 5,
   "metadata": {},
   "outputs": [],
   "source": [
    "def fn_extract(news):\n",
    "    input_tokens = tokenizer(news, return_tensors=\"pt\", padding=True, truncation=True, max_length=512)\n",
    "    return model.pred(input_tokens)\n",
    "\n",
    "def extract_sentiment_from_news(from_dir, to_dir, fn_extract):\n",
    "    os.makedirs(to_dir,exist_ok=True)\n",
    "    done_files = os.listdir(to_dir)\n",
    "    total_time = 0  # 总耗时\n",
    "    total_count = 0  # 总条数\n",
    "    start_time = time.time()  # 开始时间\n",
    "    for filename in os.listdir(from_dir):\n",
    "        stock_code = filename.split('.')[0]\n",
    "        if not filename.endswith(\".json\"): continue\n",
    "        # if stock_id+\".json\" in done_files: continue\n",
    "\n",
    "        print(f\"当前股票代码：{stock_code}\")\n",
    "        filepath = os.path.join(from_dir, filename)\n",
    "        # 读取文件\n",
    "        df = pd.read_json(filepath)\n",
    "        df['date'] = df['date'].dt.strftime(\"%Y-%m-%d %H:%M:%S\")\n",
    "        # 处理每行数据\n",
    "        for index, row in tqdm(df.iterrows()):\n",
    "            df.loc[index, 'sentiment'] = fn_extract(row['chunk'])\n",
    "            total_count += 1\n",
    "\n",
    "        print(f\"{stock_code} done.\")  # 打印或保存结果DataFrame\n",
    "        df.to_json(os.path.join(to_dir,f'{stock_code}.json'), force_ascii=False, orient='records', indent=2)\n",
    "        \n",
    "    end_time = time.time()  # 结束时间\n",
    "    total_time = end_time - start_time  # 总耗时（秒）\n",
    "\n",
    "    print(f\"总耗时：{total_time:.2f} 秒\")\n",
    "    print(f\"总条数：{total_count} 条\")\n",
    "\n"
   ]
  },
  {
   "cell_type": "code",
   "execution_count": 9,
   "metadata": {},
   "outputs": [
    {
     "data": {
      "text/plain": [
       "(array([[0.8732003 , 0.1267997 ],\n",
       "        [0.00231368, 0.99768627]], dtype=float32),\n",
       " ['NEGATIVE', 'POSITIVE'])"
      ]
     },
     "execution_count": 9,
     "metadata": {},
     "output_type": "execute_result"
    }
   ],
   "source": [
    "fn_extract([\"盛运环保2月13日晚间发布公告称，截至目前，共有37.48亿元到期债务未清偿。\", \"真好啊\"])"
   ]
  }
 ],
 "metadata": {
  "kernelspec": {
   "display_name": "finbot",
   "language": "python",
   "name": "python3"
  },
  "language_info": {
   "codemirror_mode": {
    "name": "ipython",
    "version": 3
   },
   "file_extension": ".py",
   "mimetype": "text/x-python",
   "name": "python",
   "nbconvert_exporter": "python",
   "pygments_lexer": "ipython3",
   "version": "3.10.16"
  }
 },
 "nbformat": 4,
 "nbformat_minor": 2
}
