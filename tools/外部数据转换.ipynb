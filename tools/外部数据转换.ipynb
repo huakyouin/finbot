{
 "cells": [
  {
   "cell_type": "code",
   "execution_count": null,
   "metadata": {},
   "outputs": [],
   "source": [
    "def custom_Dataset_of_financial_news_sentiment_classification(from_dir, to_dir):\n",
    "    import os\n",
    "    import pandas as pd\n",
    "    train_data = pd.read_csv(f\"{from_dir}/train_data.csv\")\n",
    "    test_data = pd.read_csv(f\"{from_dir}/test_data.csv\")\n",
    "    get_text = lambda x: x['正文']\n",
    "    get_label = lambda x: x['正负面']\n",
    "    # 合并数据集\n",
    "    df = pd.concat([\n",
    "        train_data.assign(split='train', text=get_text, label=get_label),\n",
    "        test_data.assign(split='test', text=get_text, label=get_label)\n",
    "    ], ignore_index=True)[['split', 'text', 'label']]\n",
    "    # 清洗\n",
    "    df = df[df['text'].notna() & (df['text'] != '')]\n",
    "    # 保存清洗后的数据\n",
    "    os.makedirs(to_dir, exist_ok=True)\n",
    "    df.to_json(os.path.join(to_dir,'Dataset-of-financial-news-sentiment-classification.jsonl'), orient='records',force_ascii=False, lines=True)\n",
    "\n",
    "\n",
    "def custom_qlib_stock_dataset(from_dir, to_dir):\n",
    "    import qlib\n",
    "    import os\n",
    "    from qlib.data import D\n",
    "    # 初始化 Qlib 的数据存储\n",
    "    qlib.init(provider_uri = from_dir)\n",
    "    fields = ['$open', '$high', '$low', '$close', '$volume', '$amount', '$vwap']\n",
    "    df = D.features(D.instruments(market='csi300'), fields, start_time='20160101', end_time='20201231', freq='day')\n",
    "    df.rename(columns=lambda x: x.replace('$', ''), inplace=True)\n",
    "    os.makedirs(to_dir, exist_ok=True)\n",
    "    df.to_csv(os.path.join(to_dir,\"csi300_stock_feats.csv\"))\n",
    "\n",
    "\n",
    "def custom_FinCUGE(from_dir, to_dir):\n",
    "    from datasets import load_dataset, concatenate_datasets\n",
    "    import os\n",
    "    dataset = load_dataset(from_dir)  \n",
    "    for split_name in dataset:\n",
    "        dataset[split_name] = dataset[split_name].map(lambda example: {\"split\": split_name})\n",
    "    combined_data = concatenate_datasets([dataset[split_name] for split_name in dataset])\n",
    "    os.makedirs(to_dir, exist_ok=True)\n",
    "    df = combined_data.to_pandas()\n",
    "    df.to_json(os.path.join(to_dir,\"FinCUGE.jsonl\"), orient='records',force_ascii=False, lines=True)"
   ]
  }
 ],
 "metadata": {
  "kernelspec": {
   "display_name": "finbot",
   "language": "python",
   "name": "python3"
  },
  "language_info": {
   "name": "python",
   "version": "3.10.15"
  }
 },
 "nbformat": 4,
 "nbformat_minor": 2
}
