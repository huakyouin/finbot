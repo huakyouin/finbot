{
 "cells": [
  {
   "cell_type": "markdown",
   "metadata": {},
   "source": [
    "## 数据预处理"
   ]
  },
  {
   "cell_type": "code",
   "execution_count": null,
   "metadata": {},
   "outputs": [],
   "source": [
    "# https://github.com/fjiangAI/CPTS\n",
    "def custom_CPTS(from_dir, to_dir):\n",
    "    import pandas as pd\n",
    "    import os\n",
    "    def boundary_to_mass(boundary_list):\n",
    "        bound_idx = [-1] + [i for i, val in enumerate(boundary_list) if val==1]\n",
    "        return [ bound_idx[i+1] - bound_idx[i] for i in range(len(bound_idx) - 1) ]\n",
    "    train_data = pd.read_json(f\"{from_dir}/train.json\")\n",
    "    test_data = pd.read_json(f\"{from_dir}/test.json\")\n",
    "    df = pd.concat([train_data.assign(split='train'),test_data.assign(split='test')], ignore_index=True) # 合并数据集\n",
    "    df['sentences'] = df.apply(lambda row: [i['text'] for i in row['paragraph_list']], axis=1)\n",
    "    df['masses'] = df['label_list'].apply(boundary_to_mass)\n",
    "    # 保存\n",
    "    os.makedirs(to_dir, exist_ok=True)\n",
    "    df[['id','title','topic_list','sentences', 'masses','split','label_list']].to_json(os.path.join(to_dir,'CPTS.jsonl'), orient='records',force_ascii=False, lines=True)"
   ]
  }
 ],
 "metadata": {
  "language_info": {
   "name": "python"
  }
 },
 "nbformat": 4,
 "nbformat_minor": 2
}
