{
 "cells": [
  {
   "cell_type": "code",
   "execution_count": null,
   "metadata": {},
   "outputs": [],
   "source": [
    "## 数据预处理\n",
    "def custom_Dataset_of_financial_news_sentiment_classification(from_dir, to_dir):\n",
    "    # https://github.com/wwwxmu/Dataset-of-financial-news-sentiment-classification\n",
    "    import os\n",
    "    import pandas as pd\n",
    "    train_data = pd.read_csv(f\"{from_dir}/train_data.csv\")\n",
    "    test_data = pd.read_csv(f\"{from_dir}/test_data.csv\")\n",
    "    get_text = lambda x: x['正文']\n",
    "    get_label = lambda x: x['正负面']\n",
    "    # 合并数据集\n",
    "    df = pd.concat([\n",
    "        train_data.assign(split='train', text=get_text, label=get_label),\n",
    "        test_data.assign(split='test', text=get_text, label=get_label)\n",
    "    ], ignore_index=True)[['split', 'text', 'label']]\n",
    "    # 清洗\n",
    "    df = df[df['text'].notna() & (df['text'] != '')]\n",
    "    # 保存清洗后的数据\n",
    "    os.makedirs(to_dir, exist_ok=True)\n",
    "    df.to_json(os.path.join(to_dir,'Dataset-of-financial-news-sentiment-classification.jsonl'), orient='records',force_ascii=False, lines=True)\n"
   ]
  },
  {
   "cell_type": "code",
   "execution_count": null,
   "metadata": {},
   "outputs": [],
   "source": [
    "## Configs\n",
    "model_dir = \"../../resources/open_models/FinBert\"\n",
    "ckpt_dir = '../../resources/ckpts/FinBert'\n",
    "testset_path = \"../../resources/data/Dataset-of-financial-news-sentiment-classification.jsonl\"\n",
    "pred_path =  \"test_results/情感提取-pred.xlsx\"\n",
    "\n",
    "pred_batch_size = 16\n"
   ]
  },
  {
   "cell_type": "code",
   "execution_count": null,
   "metadata": {},
   "outputs": [],
   "source": [
    "import pandas as pd\n",
    "eval_df = pd.read_json(testset_path, lines=True)\n",
    "eval_df = eval_df[eval_df['split'] == 'test'].reset_index()"
   ]
  },
  {
   "cell_type": "code",
   "execution_count": null,
   "metadata": {},
   "outputs": [
    {
     "name": "stdout",
     "output_type": "stream",
     "text": [
      "Classifier weights loaded from ../../resources/ckpts/FinBert/classifier_weights.pth\n"
     ]
    }
   ],
   "source": [
    "import sys; sys.path.append(\"../..\")\n",
    "from utils.models import *\n",
    "from transformers import AutoTokenizer, AutoModel\n",
    "\n",
    "backbone = AutoModel.from_pretrained(model_dir)\n",
    "tokenizer = AutoTokenizer.from_pretrained(model_dir)\n",
    "model = BaseModel.use_subclass(\"bert_classifier\")(backbone,2)\n",
    "model.load_classifier(ckpt_dir)"
   ]
  },
  {
   "cell_type": "markdown",
   "metadata": {},
   "source": [
    "## 预测"
   ]
  },
  {
   "cell_type": "code",
   "execution_count": null,
   "metadata": {},
   "outputs": [
    {
     "name": "stdout",
     "output_type": "stream",
     "text": [
      "(array([[0.8732003 , 0.1267997 ],\n",
      "       [0.00231368, 0.99768627]], dtype=float32), ['NEGATIVE', 'POSITIVE'])\n",
      "预测...\n"
     ]
    },
    {
     "name": "stderr",
     "output_type": "stream",
     "text": [
      "100%|██████████| 150/150 [00:07<00:00, 20.38it/s]\n"
     ]
    }
   ],
   "source": [
    "from tqdm import tqdm\n",
    "import numpy as np\n",
    "# warmup\n",
    "seqs = [\"盛运环保2月13日晚间发布公告称，截至目前，共有37.48亿元到期债务未清偿。\", \"真好啊\"]\n",
    "input_tokens = tokenizer(seqs, return_tensors=\"pt\", padding=True, truncation=True, max_length=512)\n",
    "print(model.pred(input_tokens))\n",
    "\n",
    "if os.path.exists(pred_path):\n",
    "    print(\"结果文件已经存在，跳过预测。\")\n",
    "else:\n",
    "    print(\"预测...\")\n",
    "    seqs = eval_df['text'].tolist()\n",
    "    pred_labels = []\n",
    "    probabilities = []\n",
    "    \n",
    "\n",
    "    for i in tqdm(range(0, len(seqs), pred_batch_size)):\n",
    "        batch_seqs = seqs[i : i + pred_batch_size]\n",
    "        \n",
    "        input_tokens = tokenizer(\n",
    "            batch_seqs, return_tensors=\"pt\", padding=True, truncation=True, max_length=512\n",
    "        ).to(model.device)  # 确保数据在同一设备上\n",
    "        \n",
    "        batch_probs, batch_labels = model.pred(input_tokens) \n",
    "        pred_labels.extend(batch_labels)\n",
    "        probabilities.append(batch_probs) \n",
    "\n",
    "    probabilities = np.vstack(probabilities)  # shape: (num_samples, num_classes)\n",
    "    for i in range(probabilities.shape[1]):\n",
    "        eval_df[f'prob_class_{i}'] = probabilities[:, i]\n",
    "    eval_df['prediction'] = pred_labels\n",
    "    eval_df.to_excel(pred_path)"
   ]
  },
  {
   "cell_type": "markdown",
   "metadata": {},
   "source": [
    "## 评估"
   ]
  },
  {
   "cell_type": "code",
   "execution_count": null,
   "metadata": {},
   "outputs": [
    {
     "name": "stdout",
     "output_type": "stream",
     "text": [
      "Acc: 91.50%\n"
     ]
    }
   ],
   "source": [
    "import pandas as pd\n",
    "label_mapper = {\n",
    "    0: \"NEGATIVE\",\n",
    "    1: \"POSITIVE\"\n",
    "}\n",
    "pred_df = pd.read_excel(pred_path)\n",
    "match = pred_df['prediction'] == pred_df['label'].apply(lambda x: label_mapper[x])\n",
    "accuracy = match.mean() * 100\n",
    "print(f\"Acc: {accuracy:.2f}%\")"
   ]
  }
 ],
 "metadata": {
  "language_info": {
   "name": "python"
  }
 },
 "nbformat": 4,
 "nbformat_minor": 2
}
