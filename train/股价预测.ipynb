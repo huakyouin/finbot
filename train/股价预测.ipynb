{
 "cells": [
  {
   "cell_type": "code",
   "execution_count": 2,
   "metadata": {},
   "outputs": [],
   "source": [
    "## 自造表达式引擎\n",
    "## 参考：\n",
    "## https://blog.csdn.net/itnerd/article/details/136041182\n",
    "## https://zhuanlan.zhihu.com/p/679186652\n",
    "## https://blog.csdn.net/weixin_38175458/article/details/139828021\n",
    "import sys\n",
    "sys.path.append(\"..\")\n",
    "from utils.qlib_exp_engine import *\n",
    "import re\n",
    "import pandas as pd\n",
    "\n",
    "\n",
    "\n",
    "def parse_field(field):\n",
    "    # Following patterns will be matched:\n",
    "    # - $close -> Feature(\"close\")\n",
    "    # - $close5 -> Feature(\"close5\")\n",
    "    # - $open+$close -> Feature(\"open\")+Feature(\"close\")\n",
    "\n",
    "    if not isinstance(field, str):\n",
    "        field = str(field)\n",
    "\n",
    "    for pattern, new in [\n",
    "        (rf\"\\$([\\w]+)\", r'Feature(\"\\1\")'),\n",
    "    ]:  # Features  # Operators\n",
    "        field = re.sub(pattern, new, field)\n",
    "    return field\n",
    "\n",
    "\n",
    "def compute_feature(df, exp):\n",
    "    exp = eval(parse_field(exp))\n",
    "    return exp.load(df, df.index[0], df.index[-1])\n",
    "\n",
    "def compute_features(df, exps, labels):\n",
    "    data = dict()\n",
    "    for label, exp in zip(labels, exps):\n",
    "        # print(label,exp)\n",
    "        data[label] = compute_feature(df, exp)\n",
    "    if len(data) > 1:\n",
    "        return pd.concat(data, axis=1)\n",
    "    else:\n",
    "        return pd.DataFrame(data)"
   ]
  },
  {
   "cell_type": "code",
   "execution_count": 12,
   "metadata": {},
   "outputs": [],
   "source": [
    "import qlib\n",
    "import pandas as pd\n",
    "from qlib.contrib.data.handler import Alpha158\n",
    "from qlib.data.dataset.handler import DataHandlerLP\n",
    "from qlib.data.dataset.loader import StaticDataLoader, QlibDataLoader, DLWParser\n",
    "from qlib.data.dataset import DatasetH\n",
    "\n",
    "## 特征与标签配置\n",
    "feature_config = Alpha158.parse_config_to_fields(dict(price={\"windows\": [0],\"feature\": [\"OPEN\", \"HIGH\", \"LOW\", \"VWAP\"]},rolling={},kbar={}))\n",
    "label_config = ([\"Ref($close, -1)/$close-1\"],['LABEL0']) \n",
    "\n",
    "\n",
    "## 加载数据\n",
    "# qlib.init(provider_uri = \"../data/raw/qlib_data/cn_data\")\n",
    "# dl = QlibDataLoader(config = {\"feature\":feature_config, \"label\":label_config})\n",
    "df = pd.read_csv('../data/cleaned/csi300_stock_feats.csv', index_col=[\"datetime\"])\n",
    "instruments = df.groupby(by='instrument')\n",
    "# for name, instrument in instruments:\n",
    "#     print(name)\n",
    "#     df2=compute_features(instrument, *feature_config)\n",
    "df = df.loc[df['instrument'] == 'SH600005']\n",
    "df2=compute_features(df, *feature_config)"
   ]
  },
  {
   "cell_type": "code",
   "execution_count": null,
   "metadata": {},
   "outputs": [],
   "source": [
    "df = compute_features(df, *label_config)\n",
    "dl = StaticDataLoader(config=df)\n",
    "\n",
    "## 创建数据处理器\n",
    "dh = DataHandlerLP(\n",
    "    instruments='csi300', \n",
    "    start_time='20160101', \n",
    "    end_time='20191231',\n",
    "    data_loader=dl\n",
    ")\n",
    "\n",
    "## 创建数据集\n",
    "ds = DatasetH(handler=dh,segments={\"train\": ('20160101', '20171231'), \"valid\": ('20170101', '20181231'),\"test\": ('20180101', '20191231')})"
   ]
  },
  {
   "cell_type": "code",
   "execution_count": null,
   "metadata": {},
   "outputs": [],
   "source": [
    "test = instruments.get_group('SH600000')\n",
    "print(compute_features(test, *feature_config))"
   ]
  },
  {
   "cell_type": "code",
   "execution_count": null,
   "metadata": {},
   "outputs": [],
   "source": [
    "dl.load(instruments=\"csi300\")"
   ]
  },
  {
   "cell_type": "code",
   "execution_count": null,
   "metadata": {},
   "outputs": [],
   "source": [
    "from qlib.contrib.model.gbdt import LGBModel\n",
    "model = LGBModel(\n",
    "    loss=\"mse\",\n",
    "    colsample_bytree=0.8879,\n",
    "    learning_rate=0.0421,\n",
    "    subsample=0.8789,\n",
    "    lambda_l1=205.6999,\n",
    "    lambda_l2=580.9768,\n",
    "    max_depth=8,\n",
    "    num_leaves=210,\n",
    "    num_threads=20,\n",
    ")"
   ]
  },
  {
   "cell_type": "code",
   "execution_count": null,
   "metadata": {},
   "outputs": [],
   "source": [
    "# 训练模型\n",
    "from qlib.workflow import R\n",
    "with R.start(uri=None):\n",
    "    model.fit(ds)"
   ]
  },
  {
   "cell_type": "code",
   "execution_count": null,
   "metadata": {},
   "outputs": [],
   "source": [
    "from qlib.contrib.evaluate import backtest_daily\n",
    "from qlib.contrib.evaluate import risk_analysis\n",
    "from qlib.contrib.strategy import TopkDropoutStrategy\n",
    "\n",
    "# 初始化模型和策略配置\n",
    "STRATEGY_CONFIG = {\"signal\": model.predict(ds),\"topk\": 50,\"n_drop\": 5,}\n",
    "# 设置策略回测参数\n",
    "strategy_obj = TopkDropoutStrategy(**STRATEGY_CONFIG)\n",
    "# 执行回测\n",
    "report_normal, positions_normal = backtest_daily(\n",
    "    start_time=\"20210101\", end_time=\"20211231\", strategy=strategy_obj\n",
    ")\n",
    "# 分析回测结果\n",
    "analysis = dict()\n",
    "analysis[\"excess_return_without_cost\"] = risk_analysis(report_normal[\"return\"] - report_normal[\"bench\"])\n",
    "analysis[\"excess_return_with_cost\"] = risk_analysis(report_normal[\"return\"] - report_normal[\"bench\"] - report_normal[\"cost\"])\n",
    "analysis_df = pd.concat(analysis)  # type: pd.DataFrame\n",
    "print(analysis_df)"
   ]
  }
 ],
 "metadata": {
  "kernelspec": {
   "display_name": "finbot",
   "language": "python",
   "name": "python3"
  },
  "language_info": {
   "codemirror_mode": {
    "name": "ipython",
    "version": 3
   },
   "file_extension": ".py",
   "mimetype": "text/x-python",
   "name": "python",
   "nbconvert_exporter": "python",
   "pygments_lexer": "ipython3",
   "version": "3.8.20"
  }
 },
 "nbformat": 4,
 "nbformat_minor": 2
}
