{
 "cells": [
  {
   "cell_type": "code",
   "execution_count": 1,
   "metadata": {},
   "outputs": [],
   "source": [
    "## 数据集转换\n",
    "import os\n",
    "data_path = \"../data/cleaned/csi300_stock_feats.csv\"\n",
    "if not os.path.exists(data_path):\n",
    "    import qlib\n",
    "    from qlib.data import D\n",
    "    # 初始化 Qlib 的数据存储\n",
    "    qlib.init(provider_uri = \"../data/raw/qlib_data/cn_data\")\n",
    "    fields = ['$open', '$high', '$low', '$close', '$volume', '$amount', '$vwap']\n",
    "    df = D.features(D.instruments(market='csi300'), fields, start_time='20160101', end_time='20201231', freq='day')\n",
    "    df.to_csv(\"../data/cleaned/csi300_stock_feats.csv\")\n",
    "    print(df)"
   ]
  },
  {
   "cell_type": "code",
   "execution_count": 2,
   "metadata": {},
   "outputs": [
    {
     "name": "stdout",
     "output_type": "stream",
     "text": [
      "SH600009\n"
     ]
    }
   ],
   "source": [
    "## 数据读取+特征转换\n",
    "import polars as pl\n",
    "from polars_ta.prefix.tdx import *\n",
    "from polars_ta.prefix.wq import *\n",
    "\n",
    "OPEN, HIGH, LOW, CLOSE, VOLUME, AMOUNT, VWAP = [pl.col(col) for col in ['open', 'high', 'low', 'close', 'volume', 'amount', 'vwap']]\n",
    "\n",
    "def fast_linregress(x, y):\n",
    "            x_mean = np.mean(x)\n",
    "            y_mean = np.mean(y)\n",
    "            slope = np.dot(x - x_mean, y - y_mean) / np.dot(x - x_mean, x - x_mean)\n",
    "            intercept = y_mean - slope * x_mean\n",
    "            y_pred = slope * x + intercept\n",
    "            ss_total = np.sum((y - np.mean(y)) ** 2) + 1e-12\n",
    "            ss_residual = np.sum((y - y_pred) ** 2)\n",
    "            r2 = 1 - (ss_residual / ss_total)\n",
    "            resd = np.sum(y - y_pred)\n",
    "            return slope, intercept, r2, resd\n",
    "\n",
    "def func_ts_date(df: pl.DataFrame) -> pl.DataFrame:\n",
    "    print(df['instrument'][0])\n",
    "    df = df.sort(by=['datetime'])\n",
    "    df = df.with_columns([\n",
    "        ((CLOSE - OPEN) / OPEN).alias('KMID'),\n",
    "        ((HIGH - LOW) / OPEN).alias(\"KLEN\"),\n",
    "        ((CLOSE - OPEN) / (HIGH - LOW + 1e-12)).alias(\"KMID2\"),\n",
    "        ((HIGH - max_(OPEN, CLOSE)) / OPEN).alias(\"KUP\"),\n",
    "        ((HIGH - max_(OPEN, CLOSE)) / (HIGH - LOW + 1e-12)).alias(\"KUP2\"),\n",
    "        ((min_(OPEN, CLOSE) - LOW) / OPEN).alias(\"KLOW\"),\n",
    "        ((min_(OPEN, CLOSE) - LOW) / (HIGH - LOW + 1e-12)).alias(\"KLOW2\"),\n",
    "        ((2 * CLOSE - HIGH - LOW) / OPEN).alias(\"KSFT\"),\n",
    "        ((2 * CLOSE - HIGH - LOW) / (HIGH - LOW + 1e-12)).alias(\"KSFT2\"),\n",
    "        *[(ts_delay(OPEN, i) / CLOSE).alias(f'OPEN{i}') for i in [0]],\n",
    "        *[(ts_delay(HIGH, i) / CLOSE).alias(f'HIGH{i}') for i in [0]],\n",
    "        *[(ts_delay(LOW, i) / CLOSE).alias(f'LOW{i}') for i in [0]],\n",
    "        *[(ts_delay(VWAP, i) / CLOSE).alias(f'VWAP{i}') for i in [0]],\n",
    "    ])\n",
    "    for i in [5,10,20,30,60]:\n",
    "        df = df.with_columns([\n",
    "            (ts_delay(CLOSE, i) / CLOSE).alias(f'ROC{i}'),\n",
    "            (ts_mean(CLOSE, i) / CLOSE).alias(f'MA{i}'),\n",
    "            (CLOSE.rolling_std(i) / CLOSE).alias(f'STD{i}'),\n",
    "            (CLOSE.rolling_max(i) / CLOSE).alias(f'MAX{i}'),\n",
    "            (CLOSE.rolling_min(i) / CLOSE).alias(f'MIN{i}'),\n",
    "            (CLOSE.rolling_quantile(0.8, interpolation='linear', window_size=i) / CLOSE).alias(f'QTLU{i}'),\n",
    "            (CLOSE.rolling_quantile(0.2, interpolation='linear', window_size=i) / CLOSE).alias(f'QTLD{i}'),\n",
    "            (ts_rank(CLOSE, i)).alias(f'RANK{i}'),\n",
    "            (ts_RSV(HIGH, LOW, CLOSE, i)).alias(f'RSV{i}'),\n",
    "            (1 - ts_arg_max(HIGH, i) / i).alias(f'IMAX{i}'),\n",
    "            (1 - ts_arg_min(LOW, i) / i).alias(f'IMIN{i}'),\n",
    "            (ts_corr(CLOSE, log1p(VOLUME), i)).alias(f'CORR{i}'),\n",
    "            (ts_corr(CLOSE / ts_delay(CLOSE, 1), log1p(VOLUME / ts_delay(VOLUME, 1)), i)).alias(f'CORD{i}'),\n",
    "            (ts_mean(CLOSE > ts_delay(CLOSE, 1), i)).alias(f'CNTP{i}'),\n",
    "            (ts_mean(CLOSE < ts_delay(CLOSE, 1), i)).alias(f'CNTN{i}'),\n",
    "            (ts_sum(max_(CLOSE - ts_delay(CLOSE, 1), 0), i) / (ts_sum(abs_(CLOSE - ts_delay(CLOSE, 1)), i) + 1e-12)).alias(f'SUMP{i}'),\n",
    "            (ts_sum(max_(ts_delay(CLOSE, 1) - CLOSE, 0), i) / (ts_sum(abs_(CLOSE - ts_delay(CLOSE, 1)), i) + 1e-12)).alias(f'SUMN{i}'),\n",
    "            (ts_mean(VOLUME, i) / (VOLUME + 1e-12)).alias(f'VMA{i}'),\n",
    "            (VOLUME.rolling_std(i) / (VOLUME + 1e-12)).alias(f'VSTD{i}'),\n",
    "            ((abs_(ts_returns(CLOSE, 1)) * VOLUME).rolling_std(i) / (ts_mean(abs_(ts_returns(CLOSE, 1)) * VOLUME, i) + 1e-12)).alias(f'WVMA{i}'),\n",
    "            (ts_sum(max_(VOLUME - ts_delay(VOLUME, 1), 0), i) / (ts_sum(abs_(VOLUME - ts_delay(VOLUME, 1)), i) + 1e-12)).alias(f'VSUMP{i}'),\n",
    "            (ts_sum(max_(ts_delay(VOLUME, 1) - VOLUME, 0), i) / (ts_sum(abs_(VOLUME - ts_delay(VOLUME, 1)), i) + 1e-12)).alias(f'VSUMN{i}')\n",
    "        ])\n",
    "        df = df.with_columns([\n",
    "            (pl.col(f\"IMAX{i}\") -pl.col(f\"IMIN{i}\")).alias(f\"IMXD{i}\"),\n",
    "            (pl.col(f\"CNTP{i}\") - pl.col(f\"CNTN{i}\")).alias(f'CNTD{i}'),\n",
    "            (pl.col(f\"SUMP{i}\") - pl.col(f\"SUMN{i}\")).alias(f'SUMD{i}'),\n",
    "            (pl.col(f\"VSUMP{i}\") - pl.col(f\"VSUMN{i}\")).alias(f'VSUMD{i}'),\n",
    "        ])\n",
    "\n",
    "        reg = [fast_linregress(x = np.arange(i), y = df[\"close\"][idx: idx + i].to_numpy()) for idx in range(len(df) - i + 1)]\n",
    "        beta = [None] * (i - 1) + [item[0] for item in reg if item]\n",
    "        rsqr = [None] * (i - 1) + [item[2] for item in reg if item]\n",
    "        resi = [None] * (i - 1) + [item[3] for item in reg if item]\n",
    "        row_n = len(df)\n",
    "        df = df.with_columns([\n",
    "            pl.Series(f'BETA{i}', beta[:row_n]),\n",
    "            pl.Series(f'RSQR{i}', rsqr[:row_n]),\n",
    "            pl.Series(f'RESI{i}', resi[:row_n]),\n",
    "        ])\n",
    "    return df\n",
    "\n",
    "pldf = pl.read_csv(\"../data/cleaned/csi300_stock_feats.csv\")\n",
    "# pldf = pldf.group_by('instrument').map_groups(func_ts_date)\n",
    "pldf = func_ts_date(pldf.filter(pl.col('instrument') == 'SH600009'))\n",
    "# print(pldf)"
   ]
  },
  {
   "cell_type": "code",
   "execution_count": 3,
   "metadata": {},
   "outputs": [],
   "source": [
    "## 数据装载\n",
    "from qlib.data.dataset.loader import StaticDataLoader\n",
    "from qlib.data.dataset.handler import DataHandlerLP\n",
    "from qlib.data.dataset import DatasetH\n",
    "from qlib.data.dataset.processor import DropnaProcessor, CSZScoreNorm, ProcessInf, Fillna\n",
    "\n",
    "df = pldf.to_pandas()\n",
    "df['datetime'] = pd.to_datetime(df['datetime'])\n",
    "df.set_index(['instrument', 'datetime'], inplace=True)\n",
    "features = df[[col for col in df.columns if col.isupper()]]\n",
    "labels = df[['close']]\n",
    "\n",
    "## 创建数据加载器\n",
    "dl = StaticDataLoader(config=dict(feature=features,label=labels))\n",
    "## 创建数据处理器\n",
    "LEARN_PROCESSORS = [DropnaProcessor(),CSZScoreNorm(fields_group='label')]\n",
    "INFER_PROCESSORS = []\n",
    "dh = DataHandlerLP(data_loader=dl,infer_processors=LEARN_PROCESSORS,learn_processors=INFER_PROCESSORS)\n",
    "## 创建数据集\n",
    "ds = DatasetH(handler=dh, segments={\"train\": ('2016-01-01', '2017-12-31'), \"valid\": ('2018-01-01', '2018-12-31'),\"test\": ('2019-01-01', '2019-12-31')})"
   ]
  },
  {
   "cell_type": "code",
   "execution_count": 4,
   "metadata": {},
   "outputs": [],
   "source": [
    "use_initial = False\n",
    "if use_initial:\n",
    "    import qlib\n",
    "    import pandas as pd\n",
    "    from qlib.contrib.data.handler import Alpha158\n",
    "    from qlib.data.dataset import DatasetH\n",
    "    ## 加载数据\n",
    "    qlib.init(provider_uri = \"../data/raw/qlib_data/cn_data\")\n",
    "    dh = Alpha158(instruments=\"csi300\",start_time='20160101',end_time='20201231',freq=\"day\")\n",
    "    ds = DatasetH(handler=dh,segments={\"train\": ('20160101', '20171231'), \"valid\": ('20180101', '20181231'),\"test\": ('20190101', '20191231')})"
   ]
  },
  {
   "cell_type": "code",
   "execution_count": 5,
   "metadata": {},
   "outputs": [
    {
     "name": "stderr",
     "output_type": "stream",
     "text": [
      "/mnt/disk1/JXH/01_apps/miniforge3/envs/finbot/lib/python3.8/site-packages/tqdm/auto.py:21: TqdmWarning: IProgress not found. Please update jupyter and ipywidgets. See https://ipywidgets.readthedocs.io/en/stable/user_install.html\n",
      "  from .autonotebook import tqdm as notebook_tqdm\n"
     ]
    }
   ],
   "source": [
    "from qlib.contrib.model.gbdt import LGBModel\n",
    "model = LGBModel(\n",
    "    loss=\"mse\",\n",
    "    colsample_bytree=0.8879,\n",
    "    learning_rate=0.0421,\n",
    "    subsample=0.8789,\n",
    "    lambda_l1=205.6999,\n",
    "    lambda_l2=580.9768,\n",
    "    max_depth=8,\n",
    "    num_leaves=210,\n",
    "    num_threads=20,\n",
    ")"
   ]
  },
  {
   "cell_type": "code",
   "execution_count": 6,
   "metadata": {},
   "outputs": [],
   "source": [
    "## 自定义qlib初始化\n",
    "from qlib.utils import register_wrapper\n",
    "from qlib.workflow import R\n",
    "from qlib.data.data import D, Cal, DatasetD, BaseProvider\n",
    "class MyR:\n",
    "    def __init__(self,):\n",
    "        self.exp_manager = {'active_experiment':None}\n",
    "    def log_metrics(self, **metrics): \n",
    "        pass\n",
    "class MyDD():\n",
    "    def fetch(self, instruments, start_time, end_time, fields):\n",
    "        return df.loc[(instruments, slice(start_time, end_time)), fields]\n",
    "# class MyD:\n",
    "#     def features(self, instruments, fields, start_time, end_time, freq='day', disk_cache='False'):\n",
    "#         return df.loc[(instruments, slice(start_time, end_time)), fields]\n",
    "class MyCal:\n",
    "    def load_calendar(self,freq='day',future=False):\n",
    "        return df.index.get_level_values('datetime')\n",
    "    \n",
    "    def calendar(self, start_time=None, end_time=None,freq='day',future=False):\n",
    "        calendar = self.load_calendar()\n",
    "        if future:\n",
    "            calendar = calendar[calendar >= pd.Timestamp.today()]\n",
    "        if start_time:\n",
    "            start_time = pd.Timestamp(start_time)\n",
    "            calendar = calendar[calendar >= start_time]\n",
    "        if end_time:\n",
    "            end_time = pd.Timestamp(end_time)\n",
    "            calendar = calendar[calendar <= end_time]\n",
    "        return calendar\n",
    "\n",
    "register_wrapper(R, MyR)\n",
    "register_wrapper(DatasetD,MyDD)\n",
    "register_wrapper(D, BaseProvider)\n",
    "register_wrapper(Cal, MyCal)"
   ]
  },
  {
   "cell_type": "code",
   "execution_count": 7,
   "metadata": {},
   "outputs": [
    {
     "name": "stdout",
     "output_type": "stream",
     "text": [
      "Training until validation scores don't improve for 50 rounds\n",
      "[20]\ttrain's l2: 0\tvalid's l2: 0\n",
      "[40]\ttrain's l2: 0\tvalid's l2: 0\n",
      "Early stopping, best iteration is:\n",
      "[1]\ttrain's l2: 0\tvalid's l2: 0\n"
     ]
    }
   ],
   "source": [
    "# 训练模型\n",
    "model.fit(ds)"
   ]
  },
  {
   "cell_type": "code",
   "execution_count": 8,
   "metadata": {},
   "outputs": [
    {
     "ename": "AssertionError",
     "evalue": "",
     "output_type": "error",
     "traceback": [
      "\u001b[0;31m---------------------------------------------------------------------------\u001b[0m",
      "\u001b[0;31mAssertionError\u001b[0m                            Traceback (most recent call last)",
      "Cell \u001b[0;32mIn[8], line 7\u001b[0m\n\u001b[1;32m      4\u001b[0m \u001b[38;5;28;01mfrom\u001b[39;00m \u001b[38;5;21;01mqlib\u001b[39;00m\u001b[38;5;21;01m.\u001b[39;00m\u001b[38;5;21;01mbacktest\u001b[39;00m\u001b[38;5;21;01m.\u001b[39;00m\u001b[38;5;21;01mexecutor\u001b[39;00m \u001b[38;5;28;01mimport\u001b[39;00m BaseExecutor\n\u001b[1;32m      6\u001b[0m strategy_obj \u001b[38;5;241m=\u001b[39m TopkDropoutStrategy(model\u001b[38;5;241m=\u001b[39mmodel,dataset\u001b[38;5;241m=\u001b[39mds,topk\u001b[38;5;241m=\u001b[39m\u001b[38;5;241m50\u001b[39m,n_drop\u001b[38;5;241m=\u001b[39m\u001b[38;5;241m5\u001b[39m)\n\u001b[0;32m----> 7\u001b[0m executor_obj \u001b[38;5;241m=\u001b[39m \u001b[43mBaseExecutor\u001b[49m\u001b[43m(\u001b[49m\u001b[43mtime_per_step\u001b[49m\u001b[38;5;241;43m=\u001b[39;49m\u001b[38;5;124;43m'\u001b[39;49m\u001b[38;5;124;43mday\u001b[39;49m\u001b[38;5;124;43m'\u001b[39;49m\u001b[43m)\u001b[49m\n\u001b[1;32m      8\u001b[0m report_normal, positions_normal \u001b[38;5;241m=\u001b[39m backtest_daily(\n\u001b[1;32m      9\u001b[0m     start_time\u001b[38;5;241m=\u001b[39m\u001b[38;5;124m\"\u001b[39m\u001b[38;5;124m2019-01-01\u001b[39m\u001b[38;5;124m\"\u001b[39m, end_time\u001b[38;5;241m=\u001b[39m\u001b[38;5;124m\"\u001b[39m\u001b[38;5;124m2019-12-31\u001b[39m\u001b[38;5;124m\"\u001b[39m, strategy\u001b[38;5;241m=\u001b[39mstrategy_obj\n\u001b[1;32m     10\u001b[0m )\n",
      "File \u001b[0;32m/mnt/disk1/JXH/01_apps/miniforge3/envs/finbot/lib/python3.8/site-packages/qlib/backtest/executor.py:119\u001b[0m, in \u001b[0;36mBaseExecutor.__init__\u001b[0;34m(self, time_per_step, start_time, end_time, indicator_config, generate_portfolio_metrics, verbose, track_data, trade_exchange, common_infra, settle_type, **kwargs)\u001b[0m\n\u001b[1;32m    117\u001b[0m \u001b[38;5;28mself\u001b[39m\u001b[38;5;241m.\u001b[39mlevel_infra\u001b[38;5;241m.\u001b[39mreset_infra(common_infra\u001b[38;5;241m=\u001b[39mcommon_infra, executor\u001b[38;5;241m=\u001b[39m\u001b[38;5;28mself\u001b[39m)\n\u001b[1;32m    118\u001b[0m \u001b[38;5;28mself\u001b[39m\u001b[38;5;241m.\u001b[39m_settle_type \u001b[38;5;241m=\u001b[39m settle_type\n\u001b[0;32m--> 119\u001b[0m \u001b[38;5;28;43mself\u001b[39;49m\u001b[38;5;241;43m.\u001b[39;49m\u001b[43mreset\u001b[49m\u001b[43m(\u001b[49m\u001b[43mstart_time\u001b[49m\u001b[38;5;241;43m=\u001b[39;49m\u001b[43mstart_time\u001b[49m\u001b[43m,\u001b[49m\u001b[43m \u001b[49m\u001b[43mend_time\u001b[49m\u001b[38;5;241;43m=\u001b[39;49m\u001b[43mend_time\u001b[49m\u001b[43m,\u001b[49m\u001b[43m \u001b[49m\u001b[43mcommon_infra\u001b[49m\u001b[38;5;241;43m=\u001b[39;49m\u001b[43mcommon_infra\u001b[49m\u001b[43m)\u001b[49m\n\u001b[1;32m    120\u001b[0m \u001b[38;5;28;01mif\u001b[39;00m common_infra \u001b[38;5;129;01mis\u001b[39;00m \u001b[38;5;28;01mNone\u001b[39;00m:\n\u001b[1;32m    121\u001b[0m     get_module_logger(\u001b[38;5;124m\"\u001b[39m\u001b[38;5;124mBaseExecutor\u001b[39m\u001b[38;5;124m\"\u001b[39m)\u001b[38;5;241m.\u001b[39mwarning(\u001b[38;5;124mf\u001b[39m\u001b[38;5;124m\"\u001b[39m\u001b[38;5;124m`common_infra` is not set for \u001b[39m\u001b[38;5;132;01m{\u001b[39;00m\u001b[38;5;28mself\u001b[39m\u001b[38;5;132;01m}\u001b[39;00m\u001b[38;5;124m\"\u001b[39m)\n",
      "File \u001b[0;32m/mnt/disk1/JXH/01_apps/miniforge3/envs/finbot/lib/python3.8/site-packages/qlib/backtest/executor.py:173\u001b[0m, in \u001b[0;36mBaseExecutor.reset\u001b[0;34m(self, common_infra, **kwargs)\u001b[0m\n\u001b[1;32m    171\u001b[0m     start_time \u001b[38;5;241m=\u001b[39m kwargs\u001b[38;5;241m.\u001b[39mget(\u001b[38;5;124m\"\u001b[39m\u001b[38;5;124mstart_time\u001b[39m\u001b[38;5;124m\"\u001b[39m)\n\u001b[1;32m    172\u001b[0m     end_time \u001b[38;5;241m=\u001b[39m kwargs\u001b[38;5;241m.\u001b[39mget(\u001b[38;5;124m\"\u001b[39m\u001b[38;5;124mend_time\u001b[39m\u001b[38;5;124m\"\u001b[39m)\n\u001b[0;32m--> 173\u001b[0m     \u001b[38;5;28;43mself\u001b[39;49m\u001b[38;5;241;43m.\u001b[39;49m\u001b[43mlevel_infra\u001b[49m\u001b[38;5;241;43m.\u001b[39;49m\u001b[43mreset_cal\u001b[49m\u001b[43m(\u001b[49m\u001b[43mfreq\u001b[49m\u001b[38;5;241;43m=\u001b[39;49m\u001b[38;5;28;43mself\u001b[39;49m\u001b[38;5;241;43m.\u001b[39;49m\u001b[43mtime_per_step\u001b[49m\u001b[43m,\u001b[49m\u001b[43m \u001b[49m\u001b[43mstart_time\u001b[49m\u001b[38;5;241;43m=\u001b[39;49m\u001b[43mstart_time\u001b[49m\u001b[43m,\u001b[49m\u001b[43m \u001b[49m\u001b[43mend_time\u001b[49m\u001b[38;5;241;43m=\u001b[39;49m\u001b[43mend_time\u001b[49m\u001b[43m)\u001b[49m\n\u001b[1;32m    174\u001b[0m \u001b[38;5;28;01mif\u001b[39;00m common_infra \u001b[38;5;129;01mis\u001b[39;00m \u001b[38;5;129;01mnot\u001b[39;00m \u001b[38;5;28;01mNone\u001b[39;00m:\n\u001b[1;32m    175\u001b[0m     \u001b[38;5;28mself\u001b[39m\u001b[38;5;241m.\u001b[39mreset_common_infra(common_infra)\n",
      "File \u001b[0;32m/mnt/disk1/JXH/01_apps/miniforge3/envs/finbot/lib/python3.8/site-packages/qlib/backtest/utils.py:263\u001b[0m, in \u001b[0;36mLevelInfrastructure.reset_cal\u001b[0;34m(self, freq, start_time, end_time)\u001b[0m\n\u001b[1;32m    260\u001b[0m     \u001b[38;5;28mself\u001b[39m\u001b[38;5;241m.\u001b[39mget(\u001b[38;5;124m\"\u001b[39m\u001b[38;5;124mtrade_calendar\u001b[39m\u001b[38;5;124m\"\u001b[39m)\u001b[38;5;241m.\u001b[39mreset(freq, start_time\u001b[38;5;241m=\u001b[39mstart_time, end_time\u001b[38;5;241m=\u001b[39mend_time)\n\u001b[1;32m    261\u001b[0m \u001b[38;5;28;01melse\u001b[39;00m:\n\u001b[1;32m    262\u001b[0m     \u001b[38;5;28mself\u001b[39m\u001b[38;5;241m.\u001b[39mreset_infra(\n\u001b[0;32m--> 263\u001b[0m         trade_calendar\u001b[38;5;241m=\u001b[39m\u001b[43mTradeCalendarManager\u001b[49m\u001b[43m(\u001b[49m\u001b[43mfreq\u001b[49m\u001b[43m,\u001b[49m\u001b[43m \u001b[49m\u001b[43mstart_time\u001b[49m\u001b[38;5;241;43m=\u001b[39;49m\u001b[43mstart_time\u001b[49m\u001b[43m,\u001b[49m\u001b[43m \u001b[49m\u001b[43mend_time\u001b[49m\u001b[38;5;241;43m=\u001b[39;49m\u001b[43mend_time\u001b[49m\u001b[43m,\u001b[49m\u001b[43m \u001b[49m\u001b[43mlevel_infra\u001b[49m\u001b[38;5;241;43m=\u001b[39;49m\u001b[38;5;28;43mself\u001b[39;49m\u001b[43m)\u001b[49m,\n\u001b[1;32m    264\u001b[0m     )\n",
      "File \u001b[0;32m/mnt/disk1/JXH/01_apps/miniforge3/envs/finbot/lib/python3.8/site-packages/qlib/backtest/utils.py:49\u001b[0m, in \u001b[0;36mTradeCalendarManager.__init__\u001b[0;34m(self, freq, start_time, end_time, level_infra)\u001b[0m\n\u001b[1;32m     36\u001b[0m \u001b[38;5;250m\u001b[39m\u001b[38;5;124;03m\"\"\"\u001b[39;00m\n\u001b[1;32m     37\u001b[0m \u001b[38;5;124;03mParameters\u001b[39;00m\n\u001b[1;32m     38\u001b[0m \u001b[38;5;124;03m----------\u001b[39;00m\n\u001b[0;32m   (...)\u001b[0m\n\u001b[1;32m     46\u001b[0m \u001b[38;5;124;03m    If `end_time` is None, it must be reset before trading.\u001b[39;00m\n\u001b[1;32m     47\u001b[0m \u001b[38;5;124;03m\"\"\"\u001b[39;00m\n\u001b[1;32m     48\u001b[0m \u001b[38;5;28mself\u001b[39m\u001b[38;5;241m.\u001b[39mlevel_infra \u001b[38;5;241m=\u001b[39m level_infra\n\u001b[0;32m---> 49\u001b[0m \u001b[38;5;28;43mself\u001b[39;49m\u001b[38;5;241;43m.\u001b[39;49m\u001b[43mreset\u001b[49m\u001b[43m(\u001b[49m\u001b[43mfreq\u001b[49m\u001b[38;5;241;43m=\u001b[39;49m\u001b[43mfreq\u001b[49m\u001b[43m,\u001b[49m\u001b[43m \u001b[49m\u001b[43mstart_time\u001b[49m\u001b[38;5;241;43m=\u001b[39;49m\u001b[43mstart_time\u001b[49m\u001b[43m,\u001b[49m\u001b[43m \u001b[49m\u001b[43mend_time\u001b[49m\u001b[38;5;241;43m=\u001b[39;49m\u001b[43mend_time\u001b[49m\u001b[43m)\u001b[49m\n",
      "File \u001b[0;32m/mnt/disk1/JXH/01_apps/miniforge3/envs/finbot/lib/python3.8/site-packages/qlib/backtest/utils.py:70\u001b[0m, in \u001b[0;36mTradeCalendarManager.reset\u001b[0;34m(self, freq, start_time, end_time)\u001b[0m\n\u001b[1;32m     67\u001b[0m \u001b[38;5;28mself\u001b[39m\u001b[38;5;241m.\u001b[39mend_time \u001b[38;5;241m=\u001b[39m pd\u001b[38;5;241m.\u001b[39mTimestamp(end_time) \u001b[38;5;28;01mif\u001b[39;00m end_time \u001b[38;5;28;01melse\u001b[39;00m \u001b[38;5;28;01mNone\u001b[39;00m\n\u001b[1;32m     69\u001b[0m _calendar \u001b[38;5;241m=\u001b[39m Cal\u001b[38;5;241m.\u001b[39mcalendar(freq\u001b[38;5;241m=\u001b[39mfreq, future\u001b[38;5;241m=\u001b[39m\u001b[38;5;28;01mTrue\u001b[39;00m)\n\u001b[0;32m---> 70\u001b[0m \u001b[38;5;28;01massert\u001b[39;00m \u001b[38;5;28misinstance\u001b[39m(_calendar, np\u001b[38;5;241m.\u001b[39mndarray)\n\u001b[1;32m     71\u001b[0m \u001b[38;5;28mself\u001b[39m\u001b[38;5;241m.\u001b[39m_calendar \u001b[38;5;241m=\u001b[39m _calendar\n\u001b[1;32m     72\u001b[0m _, _, _start_index, _end_index \u001b[38;5;241m=\u001b[39m Cal\u001b[38;5;241m.\u001b[39mlocate_index(start_time, end_time, freq\u001b[38;5;241m=\u001b[39mfreq, future\u001b[38;5;241m=\u001b[39m\u001b[38;5;28;01mTrue\u001b[39;00m)\n",
      "\u001b[0;31mAssertionError\u001b[0m: "
     ]
    }
   ],
   "source": [
    "from qlib.contrib.evaluate import backtest_daily\n",
    "from qlib.contrib.evaluate import risk_analysis\n",
    "from qlib.contrib.strategy import TopkDropoutStrategy\n",
    "from qlib.backtest.executor import BaseExecutor\n",
    "\n",
    "strategy_obj = TopkDropoutStrategy(model=model,dataset=ds,topk=50,n_drop=5)\n",
    "executor_obj = BaseExecutor(time_per_step='day')\n",
    "report_normal, positions_normal = backtest_daily(\n",
    "    start_time=\"2019-01-01\", end_time=\"2019-12-31\", strategy=strategy_obj\n",
    ")"
   ]
  },
  {
   "cell_type": "code",
   "execution_count": null,
   "metadata": {},
   "outputs": [],
   "source": [
    "# 分析回测结果\n",
    "analysis = dict()\n",
    "analysis[\"excess_return_without_cost\"] = risk_analysis(report_normal[\"return\"] - report_normal[\"bench\"])\n",
    "analysis[\"excess_return_with_cost\"] = risk_analysis(report_normal[\"return\"] - report_normal[\"bench\"] - report_normal[\"cost\"])\n",
    "analysis_df = pd.concat(analysis)  # type: pd.DataFrame\n",
    "print(analysis_df)"
   ]
  }
 ],
 "metadata": {
  "kernelspec": {
   "display_name": "finbot",
   "language": "python",
   "name": "python3"
  },
  "language_info": {
   "codemirror_mode": {
    "name": "ipython",
    "version": 3
   },
   "file_extension": ".py",
   "mimetype": "text/x-python",
   "name": "python",
   "nbconvert_exporter": "python",
   "pygments_lexer": "ipython3",
   "version": "3.8.20"
  }
 },
 "nbformat": 4,
 "nbformat_minor": 2
}
