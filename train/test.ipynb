{
 "cells": [
  {
   "cell_type": "code",
   "execution_count": 12,
   "metadata": {},
   "outputs": [
    {
     "name": "stdout",
     "output_type": "stream",
     "text": [
      "SH600005\n"
     ]
    }
   ],
   "source": [
    "## 特征转换\n",
    "import polars as pl\n",
    "from polars_ta.prefix.tdx import *\n",
    "from polars_ta.prefix.wq import *\n",
    "\n",
    "df = pl.read_csv(\"../data/cleaned/csi300_stock_feats.csv\")\n",
    "\n",
    "OPEN, HIGH, LOW, CLOSE, VOLUME, AMOUNT, VWAP = [pl.col(col) for col in ['open', 'high', 'low', 'close', 'volume', 'amount', 'vwap']]\n",
    "\n",
    "def fast_linregress(x, y):\n",
    "            x_mean = np.mean(x)\n",
    "            y_mean = np.mean(y)\n",
    "            slope = np.dot(x - x_mean, y - y_mean) / np.dot(x - x_mean, x - x_mean)\n",
    "            intercept = y_mean - slope * x_mean\n",
    "            y_pred = slope * x + intercept\n",
    "            ss_total = np.sum((y - np.mean(y)) ** 2) + 1e-12\n",
    "            ss_residual = np.sum((y - y_pred) ** 2)\n",
    "            r2 = 1 - (ss_residual / ss_total)\n",
    "            resd = np.sum(y - y_pred)\n",
    "            return slope, intercept, r2, resd\n",
    "\n",
    "def func_ts_date(df: pl.DataFrame) -> pl.DataFrame:\n",
    "    print(df['instrument'][0])\n",
    "    df = df.sort(by=['datetime'])\n",
    "    df = df.with_columns([\n",
    "        ((CLOSE - OPEN) / OPEN).alias('KMID'),\n",
    "        ((HIGH - LOW) / OPEN).alias(\"KLEN\"),\n",
    "        ((CLOSE - OPEN) / (HIGH - LOW + 1e-12)).alias(\"KMID2\"),\n",
    "        ((HIGH - max_(OPEN, CLOSE)) / OPEN).alias(\"KUP\"),\n",
    "        ((HIGH - max_(OPEN, CLOSE)) / (HIGH - LOW + 1e-12)).alias(\"KUP2\"),\n",
    "        ((min_(OPEN, CLOSE) - LOW) / OPEN).alias(\"KLOW\"),\n",
    "        ((min_(OPEN, CLOSE) - LOW) / (HIGH - LOW + 1e-12)).alias(\"KLOW2\"),\n",
    "        ((2 * CLOSE - HIGH - LOW) / OPEN).alias(\"KSFT\"),\n",
    "        ((2 * CLOSE - HIGH - LOW) / (HIGH - LOW + 1e-12)).alias(\"KSFT2\"),\n",
    "        *[(ts_delay(OPEN, i) / CLOSE).alias(f'OPEN{i}') for i in [0]],\n",
    "        *[(ts_delay(HIGH, i) / CLOSE).alias(f'HIGH{i}') for i in [0]],\n",
    "        *[(ts_delay(LOW, i) / CLOSE).alias(f'LOW{i}') for i in [0]],\n",
    "        *[(ts_delay(VWAP, i) / CLOSE).alias(f'VWAP{i}') for i in [0]],\n",
    "    ])\n",
    "    for i in [5,10,20,30,60]:\n",
    "        df = df.with_columns([\n",
    "            (ts_delay(CLOSE, i) / CLOSE).alias(f'ROC{i}'),\n",
    "            (ts_mean(CLOSE, i) / CLOSE).alias(f'MA{i}'),\n",
    "            (CLOSE.rolling_std(i) / CLOSE).alias(f'STD{i}'),\n",
    "            (CLOSE.rolling_max(i) / CLOSE).alias(f'MAX{i}'),\n",
    "            (CLOSE.rolling_min(i) / CLOSE).alias(f'MIN{i}'),\n",
    "            (CLOSE.rolling_quantile(0.8, interpolation='linear', window_size=i) / CLOSE).alias(f'QTLU{i}'),\n",
    "            (CLOSE.rolling_quantile(0.2, interpolation='linear', window_size=i) / CLOSE).alias(f'QTLD{i}'),\n",
    "            (ts_rank(CLOSE, i)).alias(f'RANK{i}'),\n",
    "            (ts_RSV(HIGH, LOW, CLOSE, i)).alias(f'RSV{i}'),\n",
    "            (1 - ts_arg_max(HIGH, i) / i).alias(f'IMAX{i}'),\n",
    "            (1 - ts_arg_min(LOW, i) / i).alias(f'IMIN{i}'),\n",
    "            (ts_corr(CLOSE, log1p(VOLUME), i)).alias(f'CORR{i}'),\n",
    "            (ts_corr(CLOSE / ts_delay(CLOSE, 1), log1p(VOLUME / ts_delay(VOLUME, 1)), i)).alias(f'CORD{i}'),\n",
    "            (ts_mean(CLOSE > ts_delay(CLOSE, 1), i)).alias(f'CNTP{i}'),\n",
    "            (ts_mean(CLOSE < ts_delay(CLOSE, 1), i)).alias(f'CNTN{i}'),\n",
    "            (ts_sum(max_(CLOSE - ts_delay(CLOSE, 1), 0), i) / (ts_sum(abs_(CLOSE - ts_delay(CLOSE, 1)), i) + 1e-12)).alias(f'SUMP{i}'),\n",
    "            (ts_sum(max_(ts_delay(CLOSE, 1) - CLOSE, 0), i) / (ts_sum(abs_(CLOSE - ts_delay(CLOSE, 1)), i) + 1e-12)).alias(f'SUMN{i}'),\n",
    "            (ts_mean(VOLUME, i) / (VOLUME + 1e-12)).alias(f'VMA{i}'),\n",
    "            (VOLUME.rolling_std(i) / (VOLUME + 1e-12)).alias(f'VSTD{i}'),\n",
    "            ((abs_(ts_returns(CLOSE, 1)) * VOLUME).rolling_std(i) / (ts_mean(abs_(ts_returns(CLOSE, 1)) * VOLUME, i) + 1e-12)).alias(f'WVMA{i}'),\n",
    "            (ts_sum(max_(VOLUME - ts_delay(VOLUME, 1), 0), i) / (ts_sum(abs_(VOLUME - ts_delay(VOLUME, 1)), i) + 1e-12)).alias(f'VSUMP{i}'),\n",
    "            (ts_sum(max_(ts_delay(VOLUME, 1) - VOLUME, 0), i) / (ts_sum(abs_(VOLUME - ts_delay(VOLUME, 1)), i) + 1e-12)).alias(f'VSUMN{i}')\n",
    "        ])\n",
    "        df = df.with_columns([\n",
    "            (pl.col(f\"IMAX{i}\") -pl.col(f\"IMIN{i}\")).alias(f\"IMXD{i}\"),\n",
    "            (pl.col(f\"CNTP{i}\") - pl.col(f\"CNTN{i}\")).alias(f'CNTD{i}'),\n",
    "            (pl.col(f\"SUMP{i}\") - pl.col(f\"SUMN{i}\")).alias(f'SUMD{i}'),\n",
    "            (pl.col(f\"VSUMP{i}\") - pl.col(f\"VSUMN{i}\")).alias(f'VSUMD{i}'),\n",
    "        ])\n",
    "\n",
    "        reg = [fast_linregress(x = np.arange(i), y = df[\"close\"][idx: idx + i].to_numpy()) for idx in range(len(df) - i + 1)]\n",
    "        beta = [None] * (i - 1) + [item[0] for item in reg if item]\n",
    "        rsqr = [None] * (i - 1) + [item[2] for item in reg if item]\n",
    "        resi = [None] * (i - 1) + [item[3] for item in reg if item]\n",
    "        row_n = len(df)\n",
    "        df = df.with_columns([\n",
    "            pl.Series(f'BETA{i}', beta[:row_n]),\n",
    "            pl.Series(f'RSQR{i}', rsqr[:row_n]),\n",
    "            pl.Series(f'RESI{i}', resi[:row_n]),\n",
    "        ])\n",
    "    return df\n",
    "\n",
    "# df = df.group_by('instrument').map_groups(func_ts_date)\n",
    "# print(df)\n",
    "\n",
    "df = func_ts_date(df.filter(pl.col('instrument') == 'SH600005'))\n"
   ]
  },
  {
   "cell_type": "code",
   "execution_count": 13,
   "metadata": {},
   "outputs": [
    {
     "data": {
      "text/html": [
       "<div><style>\n",
       ".dataframe > thead > tr,\n",
       ".dataframe > tbody > tr {\n",
       "  text-align: right;\n",
       "  white-space: pre-wrap;\n",
       "}\n",
       "</style>\n",
       "<small>shape: (10, 7)</small><table border=\"1\" class=\"dataframe\"><thead><tr><th>datetime</th><th>MAX5</th><th>MIN5</th><th>RSQR5</th><th>close</th><th>RESI5</th><th>BETA5</th></tr><tr><td>str</td><td>f64</td><td>f64</td><td>f64</td><td>f64</td><td>f64</td><td>f64</td></tr></thead><tbody><tr><td>&quot;2016-01-04&quot;</td><td>null</td><td>null</td><td>null</td><td>1.5577798</td><td>null</td><td>null</td></tr><tr><td>&quot;2016-01-05&quot;</td><td>null</td><td>null</td><td>null</td><td>1.6060054</td><td>null</td><td>null</td></tr><tr><td>&quot;2016-01-06&quot;</td><td>null</td><td>null</td><td>null</td><td>1.7652411</td><td>null</td><td>null</td></tr><tr><td>&quot;2016-01-07&quot;</td><td>null</td><td>null</td><td>null</td><td>1.5914468</td><td>null</td><td>null</td></tr><tr><td>&quot;2016-01-08&quot;</td><td>1.008316</td><td>0.889813</td><td>0.37053</td><td>1.7506825</td><td>4.4409e-16</td><td>0.037125</td></tr><tr><td>&quot;2016-01-11&quot;</td><td>1.049216</td><td>0.945917</td><td>0.074777</td><td>1.6824386</td><td>8.8818e-16</td><td>0.013831</td></tr><tr><td>&quot;2016-01-12&quot;</td><td>1.086226</td><td>0.979283</td><td>0.155217</td><td>1.6251137</td><td>-6.6613e-16</td><td>-0.018926</td></tr><tr><td>&quot;2016-01-13&quot;</td><td>1.055403</td><td>0.959408</td><td>0.000566</td><td>1.6587807</td><td>-4.4409e-16</td><td>0.00091</td></tr><tr><td>&quot;2016-01-14&quot;</td><td>1.025586</td><td>0.952026</td><td>0.135739</td><td>1.7070063</td><td>2.2204e-16</td><td>-0.011101</td></tr><tr><td>&quot;2016-01-15&quot;</td><td>1.059887</td><td>1.0</td><td>0.060533</td><td>1.610555</td><td>2.2204e-16</td><td>-0.006187</td></tr></tbody></table></div>"
      ],
      "text/plain": [
       "shape: (10, 7)\n",
       "┌────────────┬──────────┬──────────┬──────────┬───────────┬─────────────┬───────────┐\n",
       "│ datetime   ┆ MAX5     ┆ MIN5     ┆ RSQR5    ┆ close     ┆ RESI5       ┆ BETA5     │\n",
       "│ ---        ┆ ---      ┆ ---      ┆ ---      ┆ ---       ┆ ---         ┆ ---       │\n",
       "│ str        ┆ f64      ┆ f64      ┆ f64      ┆ f64       ┆ f64         ┆ f64       │\n",
       "╞════════════╪══════════╪══════════╪══════════╪═══════════╪═════════════╪═══════════╡\n",
       "│ 2016-01-04 ┆ null     ┆ null     ┆ null     ┆ 1.5577798 ┆ null        ┆ null      │\n",
       "│ 2016-01-05 ┆ null     ┆ null     ┆ null     ┆ 1.6060054 ┆ null        ┆ null      │\n",
       "│ 2016-01-06 ┆ null     ┆ null     ┆ null     ┆ 1.7652411 ┆ null        ┆ null      │\n",
       "│ 2016-01-07 ┆ null     ┆ null     ┆ null     ┆ 1.5914468 ┆ null        ┆ null      │\n",
       "│ 2016-01-08 ┆ 1.008316 ┆ 0.889813 ┆ 0.37053  ┆ 1.7506825 ┆ 4.4409e-16  ┆ 0.037125  │\n",
       "│ 2016-01-11 ┆ 1.049216 ┆ 0.945917 ┆ 0.074777 ┆ 1.6824386 ┆ 8.8818e-16  ┆ 0.013831  │\n",
       "│ 2016-01-12 ┆ 1.086226 ┆ 0.979283 ┆ 0.155217 ┆ 1.6251137 ┆ -6.6613e-16 ┆ -0.018926 │\n",
       "│ 2016-01-13 ┆ 1.055403 ┆ 0.959408 ┆ 0.000566 ┆ 1.6587807 ┆ -4.4409e-16 ┆ 0.00091   │\n",
       "│ 2016-01-14 ┆ 1.025586 ┆ 0.952026 ┆ 0.135739 ┆ 1.7070063 ┆ 2.2204e-16  ┆ -0.011101 │\n",
       "│ 2016-01-15 ┆ 1.059887 ┆ 1.0      ┆ 0.060533 ┆ 1.610555  ┆ 2.2204e-16  ┆ -0.006187 │\n",
       "└────────────┴──────────┴──────────┴──────────┴───────────┴─────────────┴───────────┘"
      ]
     },
     "execution_count": 13,
     "metadata": {},
     "output_type": "execute_result"
    }
   ],
   "source": [
    "df[['datetime','MAX5','MIN5', 'RSQR5','close', 'RESI5', 'BETA5']].head(10)\n",
    "# df"
   ]
  },
  {
   "cell_type": "code",
   "execution_count": 6,
   "metadata": {},
   "outputs": [
    {
     "data": {
      "text/html": [
       "<div><style>\n",
       ".dataframe > thead > tr,\n",
       ".dataframe > tbody > tr {\n",
       "  text-align: right;\n",
       "  white-space: pre-wrap;\n",
       "}\n",
       "</style>\n",
       "<small>shape: (365_307, 158)</small><table border=\"1\" class=\"dataframe\"><thead><tr><th>KMID</th><th>KLEN</th><th>KMID2</th><th>KUP</th><th>KUP2</th><th>KLOW</th><th>KLOW2</th><th>KSFT</th><th>KSFT2</th><th>OPEN0</th><th>HIGH0</th><th>LOW0</th><th>VWAP0</th><th>ROC5</th><th>MA5</th><th>STD5</th><th>MAX5</th><th>MIN5</th><th>QTLU5</th><th>QTLD5</th><th>RANK5</th><th>RSV5</th><th>IMAX5</th><th>IMIN5</th><th>CORR5</th><th>CORD5</th><th>CNTP5</th><th>CNTN5</th><th>SUMP5</th><th>SUMN5</th><th>VMA5</th><th>VSTD5</th><th>WVMA5</th><th>VSUMP5</th><th>VSUMN5</th><th>IMXD5</th><th>CNTD5</th><th>&hellip;</th><th>VSUMN30</th><th>IMXD30</th><th>CNTD30</th><th>SUMD30</th><th>VSUMD30</th><th>BETA30</th><th>RSQR30</th><th>RESI30</th><th>ROC60</th><th>MA60</th><th>STD60</th><th>MAX60</th><th>MIN60</th><th>QTLU60</th><th>QTLD60</th><th>RANK60</th><th>RSV60</th><th>IMAX60</th><th>IMIN60</th><th>CORR60</th><th>CORD60</th><th>CNTP60</th><th>CNTN60</th><th>SUMP60</th><th>SUMN60</th><th>VMA60</th><th>VSTD60</th><th>WVMA60</th><th>VSUMP60</th><th>VSUMN60</th><th>IMXD60</th><th>CNTD60</th><th>SUMD60</th><th>VSUMD60</th><th>BETA60</th><th>RSQR60</th><th>RESI60</th></tr><tr><td>f64</td><td>f64</td><td>f64</td><td>f64</td><td>f64</td><td>f64</td><td>f64</td><td>f64</td><td>f64</td><td>f64</td><td>f64</td><td>f64</td><td>f64</td><td>f64</td><td>f64</td><td>f64</td><td>f64</td><td>f64</td><td>f64</td><td>f64</td><td>f64</td><td>f64</td><td>f64</td><td>f64</td><td>f64</td><td>f64</td><td>f64</td><td>f64</td><td>f64</td><td>f64</td><td>f64</td><td>f64</td><td>f64</td><td>f64</td><td>f64</td><td>f64</td><td>f64</td><td>&hellip;</td><td>f64</td><td>f64</td><td>f64</td><td>f64</td><td>f64</td><td>f64</td><td>f64</td><td>f64</td><td>f64</td><td>f64</td><td>f64</td><td>f64</td><td>f64</td><td>f64</td><td>f64</td><td>f64</td><td>f64</td><td>f64</td><td>f64</td><td>f64</td><td>f64</td><td>f64</td><td>f64</td><td>f64</td><td>f64</td><td>f64</td><td>f64</td><td>f64</td><td>f64</td><td>f64</td><td>f64</td><td>f64</td><td>f64</td><td>f64</td><td>f64</td><td>f64</td><td>f64</td></tr></thead><tbody><tr><td>-0.098022</td><td>0.107481</td><td>-0.912</td><td>0.008598</td><td>0.08</td><td>0.00086</td><td>0.008</td><td>-0.105761</td><td>-0.984</td><td>1.108675</td><td>1.118208</td><td>0.999047</td><td>1.058824</td><td>null</td><td>null</td><td>null</td><td>null</td><td>null</td><td>null</td><td>null</td><td>null</td><td>null</td><td>null</td><td>null</td><td>null</td><td>null</td><td>null</td><td>null</td><td>null</td><td>null</td><td>null</td><td>null</td><td>null</td><td>null</td><td>null</td><td>null</td><td>null</td><td>&hellip;</td><td>null</td><td>null</td><td>null</td><td>null</td><td>null</td><td>null</td><td>null</td><td>null</td><td>null</td><td>null</td><td>null</td><td>null</td><td>null</td><td>null</td><td>null</td><td>null</td><td>null</td><td>null</td><td>null</td><td>null</td><td>null</td><td>null</td><td>null</td><td>null</td><td>null</td><td>null</td><td>null</td><td>null</td><td>null</td><td>null</td><td>null</td><td>null</td><td>null</td><td>null</td><td>null</td><td>null</td><td>null</td></tr><tr><td>0.021611</td><td>0.072692</td><td>0.297296</td><td>0.02554</td><td>0.351352</td><td>0.02554</td><td>0.351352</td><td>0.021611</td><td>0.297296</td><td>0.978846</td><td>1.025</td><td>0.953846</td><td>0.99057</td><td>null</td><td>null</td><td>null</td><td>null</td><td>null</td><td>null</td><td>null</td><td>null</td><td>null</td><td>null</td><td>null</td><td>null</td><td>null</td><td>null</td><td>null</td><td>null</td><td>null</td><td>null</td><td>null</td><td>null</td><td>null</td><td>null</td><td>null</td><td>null</td><td>&hellip;</td><td>null</td><td>null</td><td>null</td><td>null</td><td>null</td><td>null</td><td>null</td><td>null</td><td>null</td><td>null</td><td>null</td><td>null</td><td>null</td><td>null</td><td>null</td><td>null</td><td>null</td><td>null</td><td>null</td><td>null</td><td>null</td><td>null</td><td>null</td><td>null</td><td>null</td><td>null</td><td>null</td><td>null</td><td>null</td><td>null</td><td>null</td><td>null</td><td>null</td><td>null</td><td>null</td><td>null</td><td>null</td></tr><tr><td>0.018234</td><td>0.03071</td><td>0.593749</td><td>0.001919</td><td>0.062499</td><td>0.010557</td><td>0.343752</td><td>0.026872</td><td>0.875002</td><td>0.982092</td><td>1.001885</td><td>0.971725</td><td>0.988487</td><td>null</td><td>null</td><td>null</td><td>null</td><td>null</td><td>null</td><td>null</td><td>null</td><td>null</td><td>null</td><td>null</td><td>null</td><td>null</td><td>null</td><td>null</td><td>null</td><td>null</td><td>null</td><td>null</td><td>null</td><td>null</td><td>null</td><td>null</td><td>null</td><td>&hellip;</td><td>null</td><td>null</td><td>null</td><td>null</td><td>null</td><td>null</td><td>null</td><td>null</td><td>null</td><td>null</td><td>null</td><td>null</td><td>null</td><td>null</td><td>null</td><td>null</td><td>null</td><td>null</td><td>null</td><td>null</td><td>null</td><td>null</td><td>null</td><td>null</td><td>null</td><td>null</td><td>null</td><td>null</td><td>null</td><td>null</td><td>null</td><td>null</td><td>null</td><td>null</td><td>null</td><td>null</td><td>null</td></tr><tr><td>-0.071291</td><td>0.081888</td><td>-0.870589</td><td>0.006744</td><td>0.082353</td><td>0.003854</td><td>0.047058</td><td>-0.074181</td><td>-0.905883</td><td>1.076764</td><td>1.084025</td><td>0.995851</td><td>1.042044</td><td>null</td><td>null</td><td>null</td><td>null</td><td>null</td><td>null</td><td>null</td><td>null</td><td>null</td><td>null</td><td>null</td><td>null</td><td>null</td><td>null</td><td>null</td><td>null</td><td>null</td><td>null</td><td>null</td><td>null</td><td>null</td><td>null</td><td>null</td><td>null</td><td>&hellip;</td><td>null</td><td>null</td><td>null</td><td>null</td><td>null</td><td>null</td><td>null</td><td>null</td><td>null</td><td>null</td><td>null</td><td>null</td><td>null</td><td>null</td><td>null</td><td>null</td><td>null</td><td>null</td><td>null</td><td>null</td><td>null</td><td>null</td><td>null</td><td>null</td><td>null</td><td>null</td><td>null</td><td>null</td><td>null</td><td>null</td><td>null</td><td>null</td><td>null</td><td>null</td><td>null</td><td>null</td><td>null</td></tr><tr><td>-0.00597</td><td>0.068657</td><td>-0.086956</td><td>0.00995</td><td>0.144928</td><td>0.052736</td><td>0.768116</td><td>0.036816</td><td>0.536231</td><td>1.006006</td><td>1.016016</td><td>0.946947</td><td>0.994787</td><td>null</td><td>1.023635</td><td>0.040233</td><td>1.062059</td><td>0.965</td><td>1.052459</td><td>0.993</td><td>0.4</td><td>0.23347</td><td>0.2</td><td>1.0</td><td>0.643622</td><td>null</td><td>null</td><td>null</td><td>null</td><td>null</td><td>0.704077</td><td>0.334692</td><td>null</td><td>null</td><td>null</td><td>-0.8</td><td>null</td><td>&hellip;</td><td>null</td><td>null</td><td>null</td><td>null</td><td>null</td><td>null</td><td>null</td><td>null</td><td>null</td><td>null</td><td>null</td><td>null</td><td>null</td><td>null</td><td>null</td><td>null</td><td>null</td><td>null</td><td>null</td><td>null</td><td>null</td><td>null</td><td>null</td><td>null</td><td>null</td><td>null</td><td>null</td><td>null</td><td>null</td><td>null</td><td>null</td><td>null</td><td>null</td><td>null</td><td>null</td><td>null</td><td>null</td></tr><tr><td>&hellip;</td><td>&hellip;</td><td>&hellip;</td><td>&hellip;</td><td>&hellip;</td><td>&hellip;</td><td>&hellip;</td><td>&hellip;</td><td>&hellip;</td><td>&hellip;</td><td>&hellip;</td><td>&hellip;</td><td>&hellip;</td><td>&hellip;</td><td>&hellip;</td><td>&hellip;</td><td>&hellip;</td><td>&hellip;</td><td>&hellip;</td><td>&hellip;</td><td>&hellip;</td><td>&hellip;</td><td>&hellip;</td><td>&hellip;</td><td>&hellip;</td><td>&hellip;</td><td>&hellip;</td><td>&hellip;</td><td>&hellip;</td><td>&hellip;</td><td>&hellip;</td><td>&hellip;</td><td>&hellip;</td><td>&hellip;</td><td>&hellip;</td><td>&hellip;</td><td>&hellip;</td><td>&hellip;</td><td>&hellip;</td><td>&hellip;</td><td>&hellip;</td><td>&hellip;</td><td>&hellip;</td><td>&hellip;</td><td>&hellip;</td><td>&hellip;</td><td>&hellip;</td><td>&hellip;</td><td>&hellip;</td><td>&hellip;</td><td>&hellip;</td><td>&hellip;</td><td>&hellip;</td><td>&hellip;</td><td>&hellip;</td><td>&hellip;</td><td>&hellip;</td><td>&hellip;</td><td>&hellip;</td><td>&hellip;</td><td>&hellip;</td><td>&hellip;</td><td>&hellip;</td><td>&hellip;</td><td>&hellip;</td><td>&hellip;</td><td>&hellip;</td><td>&hellip;</td><td>&hellip;</td><td>&hellip;</td><td>&hellip;</td><td>&hellip;</td><td>&hellip;</td><td>&hellip;</td><td>&hellip;</td></tr><tr><td>0.021739</td><td>0.04837</td><td>0.449436</td><td>0.015761</td><td>0.325844</td><td>0.01087</td><td>0.22472</td><td>0.016848</td><td>0.348312</td><td>0.978723</td><td>1.015426</td><td>0.968085</td><td>0.998748</td><td>1.035128</td><td>1.021232</td><td>0.027967</td><td>1.05374</td><td>0.98671</td><td>1.044166</td><td>0.997342</td><td>0.4</td><td>0.372463</td><td>0.6</td><td>0.8</td><td>0.006196</td><td>-0.378944</td><td>0.4</td><td>0.6</td><td>0.355224</td><td>0.644776</td><td>1.576293</td><td>0.462574</td><td>1.045704</td><td>0.524215</td><td>0.475785</td><td>-0.2</td><td>-0.2</td><td>&hellip;</td><td>0.492089</td><td>-0.333333</td><td>-0.266667</td><td>-0.206089</td><td>0.015822</td><td>-0.002162</td><td>0.002664</td><td>-5.3291e-15</td><td>0.846005</td><td>1.011128</td><td>0.075916</td><td>1.146286</td><td>0.838844</td><td>1.060018</td><td>0.963724</td><td>0.433333</td><td>0.517697</td><td>0.4</td><td>0.016667</td><td>0.100587</td><td>0.168408</td><td>0.466667</td><td>0.533333</td><td>0.570247</td><td>0.429753</td><td>1.454835</td><td>0.511551</td><td>1.554582</td><td>0.488577</td><td>0.511423</td><td>0.383333</td><td>-0.066667</td><td>0.140494</td><td>-0.022846</td><td>0.011422</td><td>0.07439</td><td>-4.2633e-14</td></tr><tr><td>0.010907</td><td>0.05294</td><td>0.206029</td><td>0.026071</td><td>0.492462</td><td>0.015962</td><td>0.301509</td><td>0.000798</td><td>0.015076</td><td>0.989211</td><td>1.025789</td><td>0.973421</td><td>1.003694</td><td>1.01315</td><td>1.007845</td><td>0.027978</td><td>1.042642</td><td>0.976317</td><td>1.033168</td><td>0.986837</td><td>0.6</td><td>0.450937</td><td>0.4</td><td>0.6</td><td>0.071555</td><td>-0.301117</td><td>0.6</td><td>0.4</td><td>0.444979</td><td>0.555021</td><td>1.244147</td><td>0.37534</td><td>1.053301</td><td>0.488206</td><td>0.511794</td><td>-0.2</td><td>0.2</td><td>&hellip;</td><td>0.488797</td><td>-0.3</td><td>-0.2</td><td>-0.16129</td><td>0.022405</td><td>0.004212</td><td>0.01286</td><td>4.0856e-14</td><td>0.830009</td><td>1.003311</td><td>0.071706</td><td>1.134212</td><td>0.843956</td><td>1.048853</td><td>0.96025</td><td>0.466667</td><td>0.545588</td><td>0.383333</td><td>0.016667</td><td>0.059874</td><td>0.163412</td><td>0.483333</td><td>0.516667</td><td>0.578121</td><td>0.421879</td><td>1.16127</td><td>0.404143</td><td>1.549226</td><td>0.50571</td><td>0.49429</td><td>0.366667</td><td>-0.033333</td><td>0.156243</td><td>0.01142</td><td>0.008601</td><td>0.046292</td><td>-3.1974e-14</td></tr><tr><td>-0.11292</td><td>0.116279</td><td>-0.971111</td><td>0.0</td><td>0.0</td><td>0.003359</td><td>0.028889</td><td>-0.109561</td><td>-0.942223</td><td>1.127294</td><td>1.127294</td><td>0.996213</td><td>1.034069</td><td>1.154107</td><td>1.08477</td><td>0.052355</td><td>1.141</td><td>1.0</td><td>1.113726</td><td>1.064554</td><td>0.2</td><td>0.019695</td><td>0.2</td><td>1.0</td><td>-0.785023</td><td>-0.887945</td><td>0.4</td><td>0.6</td><td>0.126925</td><td>0.873075</td><td>0.502988</td><td>0.300787</td><td>1.466709</td><td>0.733153</td><td>0.266847</td><td>-0.8</td><td>-0.2</td><td>&hellip;</td><td>0.41683</td><td>-0.966667</td><td>-0.2</td><td>-0.26504</td><td>0.166339</td><td>0.003764</td><td>0.009916</td><td>-7.6383e-14</td><td>0.934464</td><td>1.111665</td><td>0.077332</td><td>1.255467</td><td>0.934181</td><td>1.160982</td><td>1.062908</td><td>0.1</td><td>0.223957</td><td>0.366667</td><td>0.066667</td><td>-0.083811</td><td>-0.060003</td><td>0.466667</td><td>0.533333</td><td>0.525294</td><td>0.474706</td><td>0.375286</td><td>0.148687</td><td>1.753673</td><td>0.556162</td><td>0.443838</td><td>0.3</td><td>-0.066667</td><td>0.050588</td><td>0.112325</td><td>0.004381</td><td>0.012653</td><td>-1.4744e-13</td></tr><tr><td>-0.002055</td><td>0.055768</td><td>-0.036842</td><td>0.021133</td><td>0.378947</td><td>0.03258</td><td>0.584211</td><td>0.009392</td><td>0.168421</td><td>1.002059</td><td>1.023235</td><td>0.967353</td><td>0.990434</td><td>1.152071</td><td>1.064881</td><td>0.055701</td><td>1.117647</td><td>1.0</td><td>1.10823</td><td>1.007762</td><td>0.2</td><td>0.173165</td><td>0.2</td><td>1.0</td><td>-0.916085</td><td>-0.88806</td><td>0.4</td><td>0.6</td><td>0.129111</td><td>0.870889</td><td>0.682663</td><td>0.380883</td><td>1.408148</td><td>0.677801</td><td>0.322199</td><td>-0.8</td><td>-0.2</td><td>&hellip;</td><td>0.461566</td><td>-0.166667</td><td>-0.2</td><td>-0.200497</td><td>0.076869</td><td>-0.000557</td><td>0.000176</td><td>-4.9738e-14</td><td>0.961189</td><td>1.123098</td><td>0.076875</td><td>1.267649</td><td>0.943246</td><td>1.172247</td><td>1.073221</td><td>0.083333</td><td>0.196281</td><td>0.35</td><td>0.05</td><td>-0.175281</td><td>-0.064784</td><td>0.45</td><td>0.55</td><td>0.514926</td><td>0.485074</td><td>0.439819</td><td>0.184333</td><td>1.742771</td><td>0.541783</td><td>0.458217</td><td>0.3</td><td>-0.1</td><td>0.029852</td><td>0.083566</td><td>0.000251</td><td>0.000043</td><td>-1.5987e-13</td></tr><tr><td>0.024198</td><td>0.038776</td><td>0.62406</td><td>0.001749</td><td>0.04511</td><td>0.012828</td><td>0.33083</td><td>0.035277</td><td>0.909781</td><td>0.976373</td><td>1.001708</td><td>0.963848</td><td>0.989318</td><td>1.056068</td><td>1.019403</td><td>0.053117</td><td>1.081685</td><td>0.967823</td><td>1.07257</td><td>0.975336</td><td>0.6</td><td>0.367879</td><td>0.4</td><td>0.8</td><td>-0.9553</td><td>-0.920831</td><td>0.6</td><td>0.4</td><td>0.336686</td><td>0.663314</td><td>1.104059</td><td>0.620416</td><td>1.541663</td><td>0.494734</td><td>0.505266</td><td>-0.4</td><td>0.2</td><td>&hellip;</td><td>0.481048</td><td>-0.166667</td><td>-0.2</td><td>-0.143931</td><td>0.037904</td><td>-0.00246</td><td>0.003234</td><td>3.3751e-14</td><td>0.928811</td><td>1.088147</td><td>0.072377</td><td>1.22686</td><td>0.912895</td><td>1.134528</td><td>1.038688</td><td>0.1</td><td>0.291112</td><td>0.333333</td><td>0.033333</td><td>-0.267887</td><td>-0.086221</td><td>0.466667</td><td>0.533333</td><td>0.527614</td><td>0.472386</td><td>0.725602</td><td>0.298506</td><td>1.690456</td><td>0.52262</td><td>0.47738</td><td>0.3</td><td>-0.066667</td><td>0.055228</td><td>0.045241</td><td>-0.003444</td><td>0.008526</td><td>-7.1054e-15</td></tr></tbody></table></div>"
      ],
      "text/plain": [
       "shape: (365_307, 158)\n",
       "┌───────────┬──────────┬───────────┬──────────┬───┬───────────┬───────────┬──────────┬─────────────┐\n",
       "│ KMID      ┆ KLEN     ┆ KMID2     ┆ KUP      ┆ … ┆ VSUMD60   ┆ BETA60    ┆ RSQR60   ┆ RESI60      │\n",
       "│ ---       ┆ ---      ┆ ---       ┆ ---      ┆   ┆ ---       ┆ ---       ┆ ---      ┆ ---         │\n",
       "│ f64       ┆ f64      ┆ f64       ┆ f64      ┆   ┆ f64       ┆ f64       ┆ f64      ┆ f64         │\n",
       "╞═══════════╪══════════╪═══════════╪══════════╪═══╪═══════════╪═══════════╪══════════╪═════════════╡\n",
       "│ -0.098022 ┆ 0.107481 ┆ -0.912    ┆ 0.008598 ┆ … ┆ null      ┆ null      ┆ null     ┆ null        │\n",
       "│ 0.021611  ┆ 0.072692 ┆ 0.297296  ┆ 0.02554  ┆ … ┆ null      ┆ null      ┆ null     ┆ null        │\n",
       "│ 0.018234  ┆ 0.03071  ┆ 0.593749  ┆ 0.001919 ┆ … ┆ null      ┆ null      ┆ null     ┆ null        │\n",
       "│ -0.071291 ┆ 0.081888 ┆ -0.870589 ┆ 0.006744 ┆ … ┆ null      ┆ null      ┆ null     ┆ null        │\n",
       "│ -0.00597  ┆ 0.068657 ┆ -0.086956 ┆ 0.00995  ┆ … ┆ null      ┆ null      ┆ null     ┆ null        │\n",
       "│ …         ┆ …        ┆ …         ┆ …        ┆ … ┆ …         ┆ …         ┆ …        ┆ …           │\n",
       "│ 0.021739  ┆ 0.04837  ┆ 0.449436  ┆ 0.015761 ┆ … ┆ -0.022846 ┆ 0.011422  ┆ 0.07439  ┆ -4.2633e-14 │\n",
       "│ 0.010907  ┆ 0.05294  ┆ 0.206029  ┆ 0.026071 ┆ … ┆ 0.01142   ┆ 0.008601  ┆ 0.046292 ┆ -3.1974e-14 │\n",
       "│ -0.11292  ┆ 0.116279 ┆ -0.971111 ┆ 0.0      ┆ … ┆ 0.112325  ┆ 0.004381  ┆ 0.012653 ┆ -1.4744e-13 │\n",
       "│ -0.002055 ┆ 0.055768 ┆ -0.036842 ┆ 0.021133 ┆ … ┆ 0.083566  ┆ 0.000251  ┆ 0.000043 ┆ -1.5987e-13 │\n",
       "│ 0.024198  ┆ 0.038776 ┆ 0.62406   ┆ 0.001749 ┆ … ┆ 0.045241  ┆ -0.003444 ┆ 0.008526 ┆ -7.1054e-15 │\n",
       "└───────────┴──────────┴───────────┴──────────┴───┴───────────┴───────────┴──────────┴─────────────┘"
      ]
     },
     "execution_count": 6,
     "metadata": {},
     "output_type": "execute_result"
    }
   ],
   "source": [
    "df.select([col for col in df.columns if not col.islower()])"
   ]
  },
  {
   "cell_type": "code",
   "execution_count": 11,
   "metadata": {},
   "outputs": [
    {
     "data": {
      "text/plain": [
       "509"
      ]
     },
     "execution_count": 11,
     "metadata": {},
     "output_type": "execute_result"
    }
   ],
   "source": [
    "df['instrument'].n_unique()"
   ]
  }
 ],
 "metadata": {
  "kernelspec": {
   "display_name": "finbot",
   "language": "python",
   "name": "python3"
  },
  "language_info": {
   "codemirror_mode": {
    "name": "ipython",
    "version": 3
   },
   "file_extension": ".py",
   "mimetype": "text/x-python",
   "name": "python",
   "nbconvert_exporter": "python",
   "pygments_lexer": "ipython3",
   "version": "3.8.20"
  }
 },
 "nbformat": 4,
 "nbformat_minor": 2
}
