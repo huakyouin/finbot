{
 "cells": [
  {
   "cell_type": "code",
   "execution_count": null,
   "metadata": {},
   "outputs": [],
   "source": [
    "import pandas as pd\n",
    "import os\n",
    "\n",
    "def extract_certain_day_related_news(market_data_path, news_dir, day):\n",
    "    df_market = pd.read_excel(market_data_path)  # 读取 Excel\n",
    "    df_market['date'] = pd.to_datetime(df_market['datetime']).dt.date  # 统一日期格式\n",
    "\n",
    "    # 读取新闻数据\n",
    "    df_news = pd.concat([\n",
    "        pd.read_json(os.path.join(news_dir, filename))\n",
    "        .assign(instrument=filename.split('.')[0])\n",
    "        for filename in os.listdir(news_dir) if filename.endswith(\".json\")\n",
    "    ], ignore_index=True)\n",
    "\n",
    "    # 统一新闻数据的日期格式\n",
    "    df_news['date'] = pd.to_datetime(df_news['date']).dt.date\n",
    "\n",
    "    # 找到市场数据中当天有数据的股票\n",
    "    stocks_on_day = df_market.loc[df_market['date'] == pd.to_datetime(day).date(), 'instrument'].unique()\n",
    "\n",
    "    # 筛选新闻数据，要求日期为 day，且 instrument 在 stocks_on_day 中\n",
    "    df_filtered_news = df_news[(df_news['date'] == pd.to_datetime(day).date()) & (df_news['instrument'].astype(int).isin(stocks_on_day))]\n",
    "        \n",
    "    return df_filtered_news\n",
    "\n",
    "\n",
    "market_data_path = \"2019Q4股票预测.xlsx\"\n",
    "news_dir = \"/mnt/disk2/xinghua.jia/workspace/finbot/resources/data/ablation_recommend/csi300news_2019/seq@q25_b3_sft_sum@finbert_valuesimplex_senti\"\n",
    "day = \"2019-10-08\"\n",
    "df_filtered_news = extract_certain_day_related_news(market_data_path, news_dir, day)\n",
    "df_filtered_news.to_json(f\"{day}_相关新闻片段.json\", orient=\"records\",indent=4,index=False,force_ascii=False)"
   ]
  }
 ],
 "metadata": {
  "language_info": {
   "name": "python"
  }
 },
 "nbformat": 4,
 "nbformat_minor": 2
}
