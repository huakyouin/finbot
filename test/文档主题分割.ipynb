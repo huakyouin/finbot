{
 "cells": [
  {
   "cell_type": "code",
   "execution_count": null,
   "metadata": {},
   "outputs": [],
   "source": [
    "## 6中测试指标 https://blog.csdn.net/qq_35082030/article/details/105410478\n",
    "## 开箱即用库 https://github.com/cfournie/segmentation.evaluation\n",
    "## example\n",
    "from segeval.window.pk import pk\n",
    "from segeval.window.windowdiff import window_diff as WD\n",
    "from segeval.similarity.boundary import boundary_similarity as B\n",
    "from segeval.similarity.segmentation import segmentation_similarity as S\n",
    "\n",
    "gold = [2, 3, 6]\n",
    "h_list = [[5, 6], [2, 2, 7], [2, 3, 3, 3], [1, 1, 3, 1, 5]]\n",
    "for n, h in enumerate(h_list):\n",
    "    print(\"第%d次实验\" % int(n + 1))\n",
    "    print(\"1-Pk=%.3f, 1-WD=%.3f, B=%.3f, S=%.3f\" % (pk(h, gold, one_minus=True),\n",
    "            WD(h, gold, one_minus=True, window_size=2), B(h, gold), S(h, gold)))\n"
   ]
  },
  {
   "cell_type": "code",
   "execution_count": 1,
   "metadata": {},
   "outputs": [],
   "source": [
    "import re\n",
    "import pandas as pd \n",
    "from tqdm import tqdm\n",
    "from segeval.window.pk import pk\n",
    "from segeval.window.windowdiff import window_diff as WD\n",
    "from segeval.similarity.boundary import boundary_similarity as B\n",
    "from segeval.similarity.segmentation import segmentation_similarity as S\n",
    "\n",
    "import sys\n",
    "sys.path.append(\"..\")\n",
    "from utils.split_text import *\n",
    "\n",
    "def init_spliter(method):\n",
    "    if method == \"cos_sim_spliter\":\n",
    "        from FlagEmbedding import FlagModel\n",
    "        model = FlagModel('../resources/open_models/bge-large-zh-v1.5', query_instruction_for_retrieval=\"为这个句子生成表示以用于检索相关文章：\", use_fp16=True)\n",
    "        spliter = BaseSpliter.use_subclass(\"cos_sim_spliter\")(model)\n",
    "\n",
    "    elif method == \"doc_seg_model_spliter\":\n",
    "        from transformers import AutoModelForTokenClassification, AutoTokenizer\n",
    "        model_name = '../resources/open_models/nlp_bert_document-segmentation_chinese-base'\n",
    "        model = AutoModelForTokenClassification.from_pretrained(model_name)\n",
    "        tokenizer = AutoTokenizer.from_pretrained(model_name)\n",
    "        spliter = BaseSpliter.use_subclass(\"doc_seg_model_spliter\")(model, tokenizer)\n",
    "    return spliter\n",
    "\n",
    "df = pd.read_json(\"../resources/data/cleaned/CPTS.jsonl\", lines=True)\n",
    "df = df[df['split']=='test'].reset_index()"
   ]
  },
  {
   "cell_type": "code",
   "execution_count": 2,
   "metadata": {},
   "outputs": [
    {
     "name": "stderr",
     "output_type": "stream",
     "text": [
      "/mnt/disk1/JXH/01_apps/miniforge3/envs/finbot/lib/python3.8/site-packages/tqdm/auto.py:21: TqdmWarning: IProgress not found. Please update jupyter and ipywidgets. See https://ipywidgets.readthedocs.io/en/stable/user_install.html\n",
      "  from .autonotebook import tqdm as notebook_tqdm\n",
      "initial target device: 100%|██████████| 8/8 [00:28<00:00,  3.58s/it]\n",
      "You're using a BertTokenizerFast tokenizer. Please note that with a fast tokenizer, using the `__call__` method is faster than using a method to encode the text followed by a call to the `pad` method to get a padded encoding.\n",
      "You're using a BertTokenizerFast tokenizer. Please note that with a fast tokenizer, using the `__call__` method is faster than using a method to encode the text followed by a call to the `pad` method to get a padded encoding.\n",
      "You're using a BertTokenizerFast tokenizer. Please note that with a fast tokenizer, using the `__call__` method is faster than using a method to encode the text followed by a call to the `pad` method to get a padded encoding.\n",
      "You're using a BertTokenizerFast tokenizer. Please note that with a fast tokenizer, using the `__call__` method is faster than using a method to encode the text followed by a call to the `pad` method to get a padded encoding.\n",
      "You're using a BertTokenizerFast tokenizer. Please note that with a fast tokenizer, using the `__call__` method is faster than using a method to encode the text followed by a call to the `pad` method to get a padded encoding.\n",
      "You're using a BertTokenizerFast tokenizer. Please note that with a fast tokenizer, using the `__call__` method is faster than using a method to encode the text followed by a call to the `pad` method to get a padded encoding.\n",
      "You're using a BertTokenizerFast tokenizer. Please note that with a fast tokenizer, using the `__call__` method is faster than using a method to encode the text followed by a call to the `pad` method to get a padded encoding.\n",
      "You're using a BertTokenizerFast tokenizer. Please note that with a fast tokenizer, using the `__call__` method is faster than using a method to encode the text followed by a call to the `pad` method to get a padded encoding.\n",
      "Chunks: 100%|██████████| 8/8 [00:07<00:00,  1.03it/s]\n",
      "1it [00:36, 36.80s/it]"
     ]
    },
    {
     "name": "stdout",
     "output_type": "stream",
     "text": [
      "pred: [5, 1, 10], gt: [3, 13]\n"
     ]
    },
    {
     "name": "stderr",
     "output_type": "stream",
     "text": [
      "Chunks: 100%|██████████| 8/8 [00:01<00:00,  7.74it/s]\n",
      "2it [00:37, 15.79s/it]"
     ]
    },
    {
     "name": "stdout",
     "output_type": "stream",
     "text": [
      "pred: [3, 18, 2, 1], gt: [2, 9, 7, 6]\n"
     ]
    },
    {
     "name": "stderr",
     "output_type": "stream",
     "text": [
      "Chunks: 100%|██████████| 6/6 [00:00<00:00, 10.02it/s]\n",
      "3it [00:38,  8.86s/it]"
     ]
    },
    {
     "name": "stdout",
     "output_type": "stream",
     "text": [
      "pred: [6, 5], gt: [1, 5, 5]\n"
     ]
    },
    {
     "name": "stderr",
     "output_type": "stream",
     "text": [
      "Chunks: 100%|██████████| 8/8 [00:00<00:00, 10.24it/s]\n",
      "4it [00:39,  5.69s/it]"
     ]
    },
    {
     "name": "stdout",
     "output_type": "stream",
     "text": [
      "pred: [10, 2, 1, 1, 2, 15], gt: [3, 7, 11, 10]\n"
     ]
    },
    {
     "name": "stderr",
     "output_type": "stream",
     "text": [
      "Chunks: 100%|██████████| 8/8 [00:01<00:00,  7.20it/s]\n",
      "5it [00:40,  4.05s/it]"
     ]
    },
    {
     "name": "stdout",
     "output_type": "stream",
     "text": [
      "pred: [2, 10, 4], gt: [2, 3, 6, 5]\n"
     ]
    },
    {
     "name": "stderr",
     "output_type": "stream",
     "text": [
      "Chunks: 100%|██████████| 3/3 [00:00<00:00,  4.40it/s]\n",
      "6it [00:41,  2.91s/it]"
     ]
    },
    {
     "name": "stdout",
     "output_type": "stream",
     "text": [
      "pred: [3], gt: [1, 1, 1]\n"
     ]
    },
    {
     "name": "stderr",
     "output_type": "stream",
     "text": [
      "Chunks: 100%|██████████| 7/7 [00:00<00:00,  8.75it/s]\n",
      "7it [00:42,  2.24s/it]"
     ]
    },
    {
     "name": "stdout",
     "output_type": "stream",
     "text": [
      "pred: [2, 7, 4, 5, 4, 11, 1], gt: [3, 20, 11]\n"
     ]
    },
    {
     "name": "stderr",
     "output_type": "stream",
     "text": [
      "Chunks: 100%|██████████| 6/6 [00:00<00:00,  6.25it/s]\n",
      "8it [00:43,  1.84s/it]"
     ]
    },
    {
     "name": "stdout",
     "output_type": "stream",
     "text": [
      "pred: [2, 5, 5, 5], gt: [1, 5, 5, 6]\n"
     ]
    },
    {
     "name": "stderr",
     "output_type": "stream",
     "text": [
      "Chunks: 100%|██████████| 8/8 [00:00<00:00,  8.15it/s]\n",
      "9it [00:44,  1.58s/it]"
     ]
    },
    {
     "name": "stdout",
     "output_type": "stream",
     "text": [
      "pred: [1, 7], gt: [1, 2, 2, 1, 2]\n"
     ]
    },
    {
     "name": "stderr",
     "output_type": "stream",
     "text": [
      "Chunks: 100%|██████████| 6/6 [00:01<00:00,  4.66it/s]\n",
      "10it [00:45,  1.50s/it]"
     ]
    },
    {
     "name": "stdout",
     "output_type": "stream",
     "text": [
      "pred: [5, 6], gt: [1, 3, 3, 4]\n"
     ]
    },
    {
     "name": "stderr",
     "output_type": "stream",
     "text": [
      "Chunks: 100%|██████████| 5/5 [00:00<00:00,  6.59it/s]\n",
      "11it [00:46,  1.28s/it]"
     ]
    },
    {
     "name": "stdout",
     "output_type": "stream",
     "text": [
      "pred: [4, 5], gt: [1, 3, 2, 3]\n"
     ]
    },
    {
     "name": "stderr",
     "output_type": "stream",
     "text": [
      "Chunks: 100%|██████████| 8/8 [00:00<00:00,  9.06it/s]\n",
      "12it [00:47,  1.17s/it]"
     ]
    },
    {
     "name": "stdout",
     "output_type": "stream",
     "text": [
      "pred: [5, 7, 3, 5, 2], gt: [2, 6, 3, 4, 7]\n"
     ]
    },
    {
     "name": "stderr",
     "output_type": "stream",
     "text": [
      "Chunks: 100%|██████████| 6/6 [00:00<00:00,  8.29it/s]\n",
      "13it [00:47,  1.05s/it]"
     ]
    },
    {
     "name": "stdout",
     "output_type": "stream",
     "text": [
      "pred: [2, 2, 6, 7], gt: [3, 5, 4, 5]\n"
     ]
    },
    {
     "name": "stderr",
     "output_type": "stream",
     "text": [
      "Chunks: 100%|██████████| 5/5 [00:01<00:00,  4.89it/s]\n",
      "14it [00:48,  1.05s/it]"
     ]
    },
    {
     "name": "stdout",
     "output_type": "stream",
     "text": [
      "pred: [7, 3], gt: [1, 3, 2, 4]\n"
     ]
    },
    {
     "name": "stderr",
     "output_type": "stream",
     "text": [
      "Chunks: 100%|██████████| 6/6 [00:00<00:00,  7.66it/s]\n",
      "15it [00:49,  1.02it/s]"
     ]
    },
    {
     "name": "stdout",
     "output_type": "stream",
     "text": [
      "pred: [2, 9], gt: [1, 4, 4, 2]\n"
     ]
    },
    {
     "name": "stderr",
     "output_type": "stream",
     "text": [
      "Chunks: 100%|██████████| 7/7 [00:01<00:00,  5.00it/s]\n",
      "16it [00:51,  1.12s/it]"
     ]
    },
    {
     "name": "stdout",
     "output_type": "stream",
     "text": [
      "pred: [2, 9, 3], gt: [1, 4, 5, 4]\n"
     ]
    },
    {
     "name": "stderr",
     "output_type": "stream",
     "text": [
      "Chunks: 100%|██████████| 7/7 [00:00<00:00, 12.85it/s]\n",
      "17it [00:51,  1.05it/s]"
     ]
    },
    {
     "name": "stdout",
     "output_type": "stream",
     "text": [
      "pred: [7, 10, 3, 1], gt: [2, 4, 4, 5, 6]\n"
     ]
    },
    {
     "name": "stderr",
     "output_type": "stream",
     "text": [
      "Chunks: 100%|██████████| 8/8 [00:00<00:00, 12.60it/s]\n",
      "18it [00:52,  1.16it/s]"
     ]
    },
    {
     "name": "stdout",
     "output_type": "stream",
     "text": [
      "pred: [3, 10, 2], gt: [2, 3, 4, 4, 2]\n"
     ]
    },
    {
     "name": "stderr",
     "output_type": "stream",
     "text": [
      "Chunks: 100%|██████████| 8/8 [00:00<00:00, 19.35it/s]\n",
      "19it [00:52,  1.36it/s]"
     ]
    },
    {
     "name": "stdout",
     "output_type": "stream",
     "text": [
      "pred: [5, 3], gt: [3, 2, 2, 1]\n"
     ]
    },
    {
     "name": "stderr",
     "output_type": "stream",
     "text": [
      "Chunks: 100%|██████████| 6/6 [00:00<00:00,  8.08it/s]\n",
      "20it [00:53,  1.34it/s]"
     ]
    },
    {
     "name": "stdout",
     "output_type": "stream",
     "text": [
      "pred: [6], gt: [2, 2, 2]\n"
     ]
    },
    {
     "name": "stderr",
     "output_type": "stream",
     "text": [
      "Chunks: 100%|██████████| 7/7 [00:00<00:00,  7.41it/s]\n",
      "21it [00:54,  1.23it/s]"
     ]
    },
    {
     "name": "stdout",
     "output_type": "stream",
     "text": [
      "pred: [9, 2, 2], gt: [1, 4, 5, 3]\n"
     ]
    },
    {
     "name": "stderr",
     "output_type": "stream",
     "text": [
      "Chunks: 100%|██████████| 8/8 [00:01<00:00,  6.27it/s]\n",
      "22it [00:55,  1.04it/s]"
     ]
    },
    {
     "name": "stdout",
     "output_type": "stream",
     "text": [
      "pred: [2, 1, 13], gt: [3, 4, 5, 4]\n"
     ]
    },
    {
     "name": "stderr",
     "output_type": "stream",
     "text": [
      "Chunks: 100%|██████████| 7/7 [00:00<00:00,  8.62it/s]\n",
      "23it [00:56,  1.08it/s]"
     ]
    },
    {
     "name": "stdout",
     "output_type": "stream",
     "text": [
      "pred: [1, 6], gt: [1, 2, 1, 1, 2]\n"
     ]
    },
    {
     "name": "stderr",
     "output_type": "stream",
     "text": [
      "Chunks: 100%|██████████| 6/6 [00:00<00:00,  7.91it/s]\n",
      "24it [00:57,  1.13it/s]"
     ]
    },
    {
     "name": "stdout",
     "output_type": "stream",
     "text": [
      "pred: [6, 6, 4, 2], gt: [1, 5, 7, 5]\n"
     ]
    },
    {
     "name": "stderr",
     "output_type": "stream",
     "text": [
      "Chunks: 100%|██████████| 4/4 [00:00<00:00,  7.26it/s]\n",
      "25it [00:58,  1.26it/s]"
     ]
    },
    {
     "name": "stdout",
     "output_type": "stream",
     "text": [
      "pred: [4], gt: [1, 2, 1]\n"
     ]
    },
    {
     "name": "stderr",
     "output_type": "stream",
     "text": [
      "Chunks: 100%|██████████| 5/5 [00:01<00:00,  4.34it/s]\n",
      "26it [00:59,  1.10it/s]"
     ]
    },
    {
     "name": "stdout",
     "output_type": "stream",
     "text": [
      "pred: [1, 8], gt: [1, 3, 2, 3]\n"
     ]
    },
    {
     "name": "stderr",
     "output_type": "stream",
     "text": [
      "Chunks: 100%|██████████| 5/5 [00:00<00:00,  7.68it/s]\n",
      "27it [00:59,  1.19it/s]"
     ]
    },
    {
     "name": "stdout",
     "output_type": "stream",
     "text": [
      "pred: [4, 6], gt: [3, 4, 3]\n"
     ]
    },
    {
     "name": "stderr",
     "output_type": "stream",
     "text": [
      "Chunks: 100%|██████████| 8/8 [00:00<00:00, 13.05it/s]\n",
      "28it [01:00,  1.28it/s]"
     ]
    },
    {
     "name": "stdout",
     "output_type": "stream",
     "text": [
      "pred: [3, 9, 4], gt: [2, 3, 2, 2, 2, 2, 3]\n"
     ]
    },
    {
     "name": "stderr",
     "output_type": "stream",
     "text": [
      "Chunks: 100%|██████████| 5/5 [00:00<00:00,  6.04it/s]\n",
      "29it [01:01,  1.25it/s]"
     ]
    },
    {
     "name": "stdout",
     "output_type": "stream",
     "text": [
      "pred: [8, 1], gt: [4, 3, 2]\n"
     ]
    },
    {
     "name": "stderr",
     "output_type": "stream",
     "text": [
      "Chunks: 100%|██████████| 5/5 [00:00<00:00,  5.84it/s]\n",
      "30it [01:02,  1.21it/s]"
     ]
    },
    {
     "name": "stdout",
     "output_type": "stream",
     "text": [
      "pred: [7, 2], gt: [1, 3, 2, 3]\n"
     ]
    },
    {
     "name": "stderr",
     "output_type": "stream",
     "text": [
      "Chunks: 100%|██████████| 8/8 [00:00<00:00, 12.33it/s]\n",
      "31it [01:02,  1.28it/s]"
     ]
    },
    {
     "name": "stdout",
     "output_type": "stream",
     "text": [
      "pred: [6, 2], gt: [1, 2, 2, 3]\n"
     ]
    },
    {
     "name": "stderr",
     "output_type": "stream",
     "text": [
      "Chunks: 100%|██████████| 7/7 [00:01<00:00,  4.95it/s]\n",
      "32it [01:04,  1.02it/s]"
     ]
    },
    {
     "name": "stdout",
     "output_type": "stream",
     "text": [
      "pred: [4, 1, 3, 12], gt: [1, 3, 3, 4, 6, 3]\n"
     ]
    },
    {
     "name": "stderr",
     "output_type": "stream",
     "text": [
      "Chunks: 100%|██████████| 7/7 [00:00<00:00, 11.69it/s]\n",
      "33it [01:05,  1.14it/s]"
     ]
    },
    {
     "name": "stdout",
     "output_type": "stream",
     "text": [
      "pred: [9, 1, 4], gt: [4, 5, 5]\n"
     ]
    },
    {
     "name": "stderr",
     "output_type": "stream",
     "text": [
      "Chunks: 100%|██████████| 7/7 [00:00<00:00,  9.30it/s]\n",
      "34it [01:05,  1.18it/s]"
     ]
    },
    {
     "name": "stdout",
     "output_type": "stream",
     "text": [
      "pred: [8, 3, 2], gt: [1, 3, 3, 6]\n"
     ]
    },
    {
     "name": "stderr",
     "output_type": "stream",
     "text": [
      "Chunks: 100%|██████████| 8/8 [00:00<00:00, 12.42it/s]\n",
      "35it [01:06,  1.26it/s]"
     ]
    },
    {
     "name": "stdout",
     "output_type": "stream",
     "text": [
      "pred: [4, 1, 10], gt: [2, 3, 6, 4]\n"
     ]
    },
    {
     "name": "stderr",
     "output_type": "stream",
     "text": [
      "Chunks: 100%|██████████| 8/8 [00:01<00:00,  6.35it/s]\n",
      "36it [01:07,  1.06it/s]"
     ]
    },
    {
     "name": "stdout",
     "output_type": "stream",
     "text": [
      "pred: [8, 1, 7], gt: [4, 3, 4, 5]\n"
     ]
    },
    {
     "name": "stderr",
     "output_type": "stream",
     "text": [
      "Chunks: 100%|██████████| 6/6 [00:00<00:00,  6.63it/s]\n",
      "37it [01:08,  1.06it/s]"
     ]
    },
    {
     "name": "stdout",
     "output_type": "stream",
     "text": [
      "pred: [6, 4, 2], gt: [1, 3, 3, 5]\n"
     ]
    },
    {
     "name": "stderr",
     "output_type": "stream",
     "text": [
      "Chunks: 100%|██████████| 4/4 [00:00<00:00,  4.68it/s]\n",
      "38it [01:09,  1.08it/s]"
     ]
    },
    {
     "name": "stdout",
     "output_type": "stream",
     "text": [
      "pred: [4], gt: [1, 1, 1, 1]\n"
     ]
    },
    {
     "name": "stderr",
     "output_type": "stream",
     "text": [
      "Chunks: 100%|██████████| 6/6 [00:01<00:00,  4.38it/s]\n",
      "39it [01:10,  1.07s/it]"
     ]
    },
    {
     "name": "stdout",
     "output_type": "stream",
     "text": [
      "pred: [5, 5, 2], gt: [1, 4, 4, 3]\n"
     ]
    },
    {
     "name": "stderr",
     "output_type": "stream",
     "text": [
      "Chunks: 100%|██████████| 7/7 [00:00<00:00, 13.82it/s]\n",
      "40it [01:11,  1.10it/s]"
     ]
    },
    {
     "name": "stdout",
     "output_type": "stream",
     "text": [
      "pred: [2, 3, 9], gt: [1, 4, 5, 4]\n"
     ]
    },
    {
     "name": "stderr",
     "output_type": "stream",
     "text": [
      "Chunks: 100%|██████████| 8/8 [00:00<00:00, 15.18it/s]\n",
      "41it [01:12,  1.25it/s]"
     ]
    },
    {
     "name": "stdout",
     "output_type": "stream",
     "text": [
      "pred: [4, 8, 3], gt: [1, 3, 3, 3, 2, 3]\n"
     ]
    },
    {
     "name": "stderr",
     "output_type": "stream",
     "text": [
      "Chunks: 100%|██████████| 7/7 [00:00<00:00, 11.86it/s]\n",
      "42it [01:12,  1.34it/s]"
     ]
    },
    {
     "name": "stdout",
     "output_type": "stream",
     "text": [
      "pred: [1, 9, 3], gt: [2, 4, 4, 3]\n"
     ]
    },
    {
     "name": "stderr",
     "output_type": "stream",
     "text": [
      "Chunks: 100%|██████████| 8/8 [00:00<00:00,  8.59it/s]\n",
      "43it [01:13,  1.23it/s]"
     ]
    },
    {
     "name": "stdout",
     "output_type": "stream",
     "text": [
      "pred: [8, 1, 6], gt: [2, 4, 7, 2]\n"
     ]
    },
    {
     "name": "stderr",
     "output_type": "stream",
     "text": [
      "Chunks: 100%|██████████| 7/7 [00:00<00:00, 11.59it/s]\n",
      "44it [01:14,  1.32it/s]"
     ]
    },
    {
     "name": "stdout",
     "output_type": "stream",
     "text": [
      "pred: [7, 5, 6, 4, 3], gt: [1, 6, 5, 6, 7]\n"
     ]
    },
    {
     "name": "stderr",
     "output_type": "stream",
     "text": [
      "Chunks: 100%|██████████| 7/7 [00:00<00:00, 13.23it/s]\n",
      "45it [01:14,  1.43it/s]"
     ]
    },
    {
     "name": "stdout",
     "output_type": "stream",
     "text": [
      "pred: [2, 5], gt: [1, 2, 2, 2]\n"
     ]
    },
    {
     "name": "stderr",
     "output_type": "stream",
     "text": [
      "Chunks: 100%|██████████| 8/8 [00:00<00:00, 13.32it/s]\n",
      "46it [01:15,  1.47it/s]"
     ]
    },
    {
     "name": "stdout",
     "output_type": "stream",
     "text": [
      "pred: [1, 13, 1], gt: [1, 5, 4, 5]\n"
     ]
    },
    {
     "name": "stderr",
     "output_type": "stream",
     "text": [
      "Chunks: 100%|██████████| 8/8 [00:01<00:00,  6.11it/s]\n",
      "47it [01:16,  1.14it/s]"
     ]
    },
    {
     "name": "stdout",
     "output_type": "stream",
     "text": [
      "pred: [8, 2, 6], gt: [1, 9, 6]\n"
     ]
    },
    {
     "name": "stderr",
     "output_type": "stream",
     "text": [
      "Chunks: 100%|██████████| 6/6 [00:00<00:00,  7.44it/s]\n",
      "48it [01:17,  1.15it/s]"
     ]
    },
    {
     "name": "stdout",
     "output_type": "stream",
     "text": [
      "pred: [1, 6, 5], gt: [1, 4, 4, 3]\n"
     ]
    },
    {
     "name": "stderr",
     "output_type": "stream",
     "text": [
      "Chunks: 100%|██████████| 5/5 [00:00<00:00,  5.62it/s]\n",
      "49it [01:18,  1.13it/s]"
     ]
    },
    {
     "name": "stdout",
     "output_type": "stream",
     "text": [
      "pred: [4, 6], gt: [3, 4, 3]\n"
     ]
    },
    {
     "name": "stderr",
     "output_type": "stream",
     "text": [
      "Chunks: 100%|██████████| 7/7 [00:00<00:00,  9.16it/s]\n",
      "50it [01:19,  1.17it/s]"
     ]
    },
    {
     "name": "stdout",
     "output_type": "stream",
     "text": [
      "pred: [7, 3, 3], gt: [2, 2, 3, 3, 3]\n"
     ]
    },
    {
     "name": "stderr",
     "output_type": "stream",
     "text": [
      "Chunks: 100%|██████████| 4/4 [00:00<00:00,  5.90it/s]\n",
      "51it [01:20,  1.24it/s]"
     ]
    },
    {
     "name": "stdout",
     "output_type": "stream",
     "text": [
      "pred: [4], gt: [1, 1, 1, 1]\n"
     ]
    },
    {
     "name": "stderr",
     "output_type": "stream",
     "text": [
      "Chunks: 100%|██████████| 8/8 [00:01<00:00,  6.49it/s]\n",
      "52it [01:21,  1.06it/s]"
     ]
    },
    {
     "name": "stdout",
     "output_type": "stream",
     "text": [
      "pred: [9, 1, 5], gt: [1, 6, 4, 4]\n"
     ]
    },
    {
     "name": "stderr",
     "output_type": "stream",
     "text": [
      "Chunks: 100%|██████████| 6/6 [00:01<00:00,  4.09it/s]\n",
      "53it [01:22,  1.11s/it]"
     ]
    },
    {
     "name": "stdout",
     "output_type": "stream",
     "text": [
      "pred: [1, 8, 4, 4], gt: [2, 6, 4, 5]\n"
     ]
    },
    {
     "name": "stderr",
     "output_type": "stream",
     "text": [
      "Chunks: 100%|██████████| 7/7 [00:00<00:00, 11.41it/s]\n",
      "54it [01:23,  1.03it/s]"
     ]
    },
    {
     "name": "stdout",
     "output_type": "stream",
     "text": [
      "pred: [5, 7, 2], gt: [1, 3, 4, 3, 3]\n"
     ]
    },
    {
     "name": "stderr",
     "output_type": "stream",
     "text": [
      "Chunks: 100%|██████████| 6/6 [00:00<00:00,  9.94it/s]\n",
      "55it [01:24,  1.15it/s]"
     ]
    },
    {
     "name": "stdout",
     "output_type": "stream",
     "text": [
      "pred: [9, 1, 3, 4], gt: [1, 3, 3, 4, 6]\n"
     ]
    },
    {
     "name": "stderr",
     "output_type": "stream",
     "text": [
      "Chunks: 100%|██████████| 6/6 [00:01<00:00,  4.17it/s]\n",
      "56it [01:25,  1.05s/it]"
     ]
    },
    {
     "name": "stdout",
     "output_type": "stream",
     "text": [
      "pred: [5, 1, 2, 9], gt: [1, 3, 6, 7]\n"
     ]
    },
    {
     "name": "stderr",
     "output_type": "stream",
     "text": [
      "Chunks: 100%|██████████| 7/7 [00:00<00:00, 10.15it/s]\n",
      "57it [01:26,  1.05it/s]"
     ]
    },
    {
     "name": "stdout",
     "output_type": "stream",
     "text": [
      "pred: [4, 7, 1, 7], gt: [9, 10]\n"
     ]
    },
    {
     "name": "stderr",
     "output_type": "stream",
     "text": [
      "Chunks: 100%|██████████| 8/8 [00:01<00:00,  7.94it/s]\n",
      "58it [01:27,  1.02it/s]"
     ]
    },
    {
     "name": "stdout",
     "output_type": "stream",
     "text": [
      "pred: [7, 1], gt: [1, 2, 3, 2]\n"
     ]
    },
    {
     "name": "stderr",
     "output_type": "stream",
     "text": [
      "Chunks: 100%|██████████| 6/6 [00:00<00:00,  7.58it/s]\n",
      "59it [01:28,  1.07it/s]"
     ]
    },
    {
     "name": "stdout",
     "output_type": "stream",
     "text": [
      "pred: [6, 2, 1, 9], gt: [1, 6, 5, 6]\n"
     ]
    },
    {
     "name": "stderr",
     "output_type": "stream",
     "text": [
      "Chunks: 100%|██████████| 7/7 [00:01<00:00,  5.35it/s]\n",
      "60it [01:29,  1.05s/it]"
     ]
    },
    {
     "name": "stdout",
     "output_type": "stream",
     "text": [
      "pred: [1, 6, 7, 6, 6], gt: [3, 9, 7, 7]\n"
     ]
    },
    {
     "name": "stderr",
     "output_type": "stream",
     "text": [
      "Chunks: 100%|██████████| 6/6 [00:00<00:00,  8.53it/s]\n",
      "61it [01:30,  1.04it/s]"
     ]
    },
    {
     "name": "stdout",
     "output_type": "stream",
     "text": [
      "pred: [10, 1], gt: [1, 3, 3, 4]\n"
     ]
    },
    {
     "name": "stderr",
     "output_type": "stream",
     "text": [
      "Chunks: 100%|██████████| 7/7 [00:01<00:00,  4.95it/s]\n",
      "62it [01:31,  1.10s/it]"
     ]
    },
    {
     "name": "stdout",
     "output_type": "stream",
     "text": [
      "pred: [3, 7, 3], gt: [2, 4, 3, 4]\n"
     ]
    },
    {
     "name": "stderr",
     "output_type": "stream",
     "text": [
      "Chunks: 100%|██████████| 8/8 [00:01<00:00,  6.69it/s]\n",
      "63it [01:32,  1.14s/it]"
     ]
    },
    {
     "name": "stdout",
     "output_type": "stream",
     "text": [
      "pred: [6, 2], gt: [2, 2, 4]\n"
     ]
    },
    {
     "name": "stderr",
     "output_type": "stream",
     "text": [
      "Chunks: 100%|██████████| 7/7 [00:00<00:00,  9.10it/s]\n",
      "64it [01:33,  1.04s/it]"
     ]
    },
    {
     "name": "stdout",
     "output_type": "stream",
     "text": [
      "pred: [2, 2, 1, 1, 5, 16], gt: [2, 9, 7, 9]\n"
     ]
    },
    {
     "name": "stderr",
     "output_type": "stream",
     "text": [
      "Chunks: 100%|██████████| 7/7 [00:00<00:00,  8.11it/s]\n",
      "65it [01:34,  1.01it/s]"
     ]
    },
    {
     "name": "stdout",
     "output_type": "stream",
     "text": [
      "pred: [6, 2, 8, 3], gt: [2, 6, 6, 5]\n"
     ]
    },
    {
     "name": "stderr",
     "output_type": "stream",
     "text": [
      "Chunks: 100%|██████████| 8/8 [00:01<00:00,  5.33it/s]\n",
      "66it [01:36,  1.16s/it]"
     ]
    },
    {
     "name": "stdout",
     "output_type": "stream",
     "text": [
      "pred: [5, 2, 7, 6, 4], gt: [5, 9, 10]\n"
     ]
    },
    {
     "name": "stderr",
     "output_type": "stream",
     "text": [
      "Chunks: 100%|██████████| 6/6 [00:01<00:00,  5.96it/s]\n",
      "67it [01:37,  1.12s/it]"
     ]
    },
    {
     "name": "stdout",
     "output_type": "stream",
     "text": [
      "pred: [3, 11, 1, 3], gt: [2, 6, 6, 4]\n"
     ]
    },
    {
     "name": "stderr",
     "output_type": "stream",
     "text": [
      "Chunks: 100%|██████████| 7/7 [00:00<00:00, 13.52it/s]\n",
      "68it [01:37,  1.05it/s]"
     ]
    },
    {
     "name": "stdout",
     "output_type": "stream",
     "text": [
      "pred: [14, 1, 6, 2, 3], gt: [1, 5, 6, 4, 6, 4]\n"
     ]
    },
    {
     "name": "stderr",
     "output_type": "stream",
     "text": [
      "Chunks: 100%|██████████| 7/7 [00:00<00:00,  7.13it/s]\n",
      "69it [01:38,  1.03it/s]"
     ]
    },
    {
     "name": "stdout",
     "output_type": "stream",
     "text": [
      "pred: [2, 7, 4], gt: [1, 4, 3, 5]\n"
     ]
    },
    {
     "name": "stderr",
     "output_type": "stream",
     "text": [
      "Chunks: 100%|██████████| 7/7 [00:01<00:00,  4.89it/s]\n",
      "70it [01:40,  1.12s/it]"
     ]
    },
    {
     "name": "stdout",
     "output_type": "stream",
     "text": [
      "pred: [2, 2, 4, 2, 11, 6], gt: [1, 9, 8, 9]\n"
     ]
    },
    {
     "name": "stderr",
     "output_type": "stream",
     "text": [
      "Chunks: 100%|██████████| 8/8 [00:00<00:00, 12.48it/s]\n",
      "71it [01:40,  1.01it/s]"
     ]
    },
    {
     "name": "stdout",
     "output_type": "stream",
     "text": [
      "pred: [9, 4, 3], gt: [1, 6, 6, 3]\n"
     ]
    },
    {
     "name": "stderr",
     "output_type": "stream",
     "text": [
      "Chunks: 100%|██████████| 6/6 [00:00<00:00,  9.05it/s]\n",
      "72it [01:41,  1.12it/s]"
     ]
    },
    {
     "name": "stdout",
     "output_type": "stream",
     "text": [
      "pred: [6], gt: [3, 3]\n"
     ]
    },
    {
     "name": "stderr",
     "output_type": "stream",
     "text": [
      "Chunks: 100%|██████████| 7/7 [00:00<00:00,  8.59it/s]\n",
      "73it [01:42,  1.13it/s]"
     ]
    },
    {
     "name": "stdout",
     "output_type": "stream",
     "text": [
      "pred: [2, 9, 6, 3, 3, 5], gt: [2, 8, 12, 6]\n"
     ]
    },
    {
     "name": "stderr",
     "output_type": "stream",
     "text": [
      "Chunks: 100%|██████████| 7/7 [00:00<00:00, 11.85it/s]\n",
      "74it [01:43,  1.24it/s]"
     ]
    },
    {
     "name": "stdout",
     "output_type": "stream",
     "text": [
      "pred: [1, 13, 4, 2], gt: [3, 17]\n"
     ]
    },
    {
     "name": "stderr",
     "output_type": "stream",
     "text": [
      "Chunks: 100%|██████████| 8/8 [00:01<00:00,  6.78it/s]\n",
      "75it [01:44,  1.08it/s]"
     ]
    },
    {
     "name": "stdout",
     "output_type": "stream",
     "text": [
      "pred: [1, 1, 14], gt: [2, 4, 4, 6]\n"
     ]
    },
    {
     "name": "stderr",
     "output_type": "stream",
     "text": [
      "Chunks: 100%|██████████| 6/6 [00:01<00:00,  5.73it/s]\n",
      "76it [01:45,  1.03it/s]"
     ]
    },
    {
     "name": "stdout",
     "output_type": "stream",
     "text": [
      "pred: [1, 2, 6, 8], gt: [2, 5, 6, 4]\n"
     ]
    },
    {
     "name": "stderr",
     "output_type": "stream",
     "text": [
      "Chunks: 100%|██████████| 7/7 [00:01<00:00,  5.81it/s]\n",
      "77it [01:46,  1.05s/it]"
     ]
    },
    {
     "name": "stdout",
     "output_type": "stream",
     "text": [
      "pred: [4, 3], gt: [1, 2, 2, 2]\n"
     ]
    },
    {
     "name": "stderr",
     "output_type": "stream",
     "text": [
      "Chunks: 100%|██████████| 4/4 [00:00<00:00,  7.71it/s]\n",
      "78it [01:47,  1.11it/s]"
     ]
    },
    {
     "name": "stdout",
     "output_type": "stream",
     "text": [
      "pred: [4], gt: [2, 1, 1]\n"
     ]
    },
    {
     "name": "stderr",
     "output_type": "stream",
     "text": [
      "Chunks: 100%|██████████| 4/4 [00:00<00:00,  4.55it/s]\n",
      "79it [01:48,  1.11it/s]"
     ]
    },
    {
     "name": "stdout",
     "output_type": "stream",
     "text": [
      "pred: [4], gt: [2, 1, 1]\n"
     ]
    },
    {
     "name": "stderr",
     "output_type": "stream",
     "text": [
      "Chunks: 100%|██████████| 6/6 [00:00<00:00,  7.55it/s]\n",
      "80it [01:48,  1.14it/s]"
     ]
    },
    {
     "name": "stdout",
     "output_type": "stream",
     "text": [
      "pred: [1, 4, 7], gt: [1, 3, 3, 5]\n"
     ]
    },
    {
     "name": "stderr",
     "output_type": "stream",
     "text": [
      "Chunks: 100%|██████████| 8/8 [00:00<00:00,  8.30it/s]\n",
      "81it [01:49,  1.09it/s]"
     ]
    },
    {
     "name": "stdout",
     "output_type": "stream",
     "text": [
      "pred: [4, 2, 1, 1, 10, 3, 10, 6], gt: [4, 8, 7, 9, 9]\n"
     ]
    },
    {
     "name": "stderr",
     "output_type": "stream",
     "text": [
      "Chunks: 100%|██████████| 7/7 [00:00<00:00,  7.56it/s]\n",
      "82it [01:50,  1.08it/s]"
     ]
    },
    {
     "name": "stdout",
     "output_type": "stream",
     "text": [
      "pred: [1, 4, 3, 12], gt: [3, 5, 7, 5]\n"
     ]
    },
    {
     "name": "stderr",
     "output_type": "stream",
     "text": [
      "Chunks: 100%|██████████| 8/8 [00:00<00:00, 10.67it/s]\n",
      "83it [01:51,  1.13it/s]"
     ]
    },
    {
     "name": "stdout",
     "output_type": "stream",
     "text": [
      "pred: [3, 5, 3, 3, 8], gt: [2, 4, 4, 4, 4, 4]\n"
     ]
    },
    {
     "name": "stderr",
     "output_type": "stream",
     "text": [
      "Chunks: 100%|██████████| 7/7 [00:00<00:00,  8.44it/s]\n",
      "84it [01:52,  1.14it/s]"
     ]
    },
    {
     "name": "stdout",
     "output_type": "stream",
     "text": [
      "pred: [6, 1], gt: [3, 3, 1]\n"
     ]
    },
    {
     "name": "stderr",
     "output_type": "stream",
     "text": [
      "Chunks: 100%|██████████| 8/8 [00:01<00:00,  7.97it/s]\n",
      "85it [01:53,  1.08it/s]"
     ]
    },
    {
     "name": "stdout",
     "output_type": "stream",
     "text": [
      "pred: [1, 4, 5, 9, 5], gt: [2, 8, 8, 6]\n"
     ]
    },
    {
     "name": "stderr",
     "output_type": "stream",
     "text": [
      "Chunks: 100%|██████████| 6/6 [00:01<00:00,  4.89it/s]\n",
      "86it [01:54,  1.03s/it]"
     ]
    },
    {
     "name": "stdout",
     "output_type": "stream",
     "text": [
      "pred: [1, 5, 6], gt: [2, 3, 3, 4]\n"
     ]
    },
    {
     "name": "stderr",
     "output_type": "stream",
     "text": [
      "Chunks: 100%|██████████| 7/7 [00:01<00:00,  6.12it/s]\n",
      "87it [01:55,  1.07s/it]"
     ]
    },
    {
     "name": "stdout",
     "output_type": "stream",
     "text": [
      "pred: [4, 7, 3], gt: [1, 5, 4, 4]\n"
     ]
    },
    {
     "name": "stderr",
     "output_type": "stream",
     "text": [
      "Chunks: 100%|██████████| 7/7 [00:00<00:00,  7.15it/s]\n",
      "88it [01:57,  1.06s/it]"
     ]
    },
    {
     "name": "stdout",
     "output_type": "stream",
     "text": [
      "pred: [3, 4, 2, 15, 1, 3], gt: [3, 8, 9, 8]\n"
     ]
    },
    {
     "name": "stderr",
     "output_type": "stream",
     "text": [
      "Chunks: 100%|██████████| 7/7 [00:00<00:00,  7.27it/s]\n",
      "89it [01:58,  1.04s/it]"
     ]
    },
    {
     "name": "stdout",
     "output_type": "stream",
     "text": [
      "pred: [3, 9, 1], gt: [1, 4, 4, 4]\n"
     ]
    },
    {
     "name": "stderr",
     "output_type": "stream",
     "text": [
      "Chunks: 100%|██████████| 6/6 [00:00<00:00,  7.53it/s]\n",
      "90it [01:58,  1.02it/s]"
     ]
    },
    {
     "name": "stdout",
     "output_type": "stream",
     "text": [
      "pred: [4, 7], gt: [3, 5, 2, 1]\n"
     ]
    },
    {
     "name": "stderr",
     "output_type": "stream",
     "text": [
      "Chunks: 100%|██████████| 6/6 [00:00<00:00,  6.65it/s]\n",
      "91it [01:59,  1.04it/s]"
     ]
    },
    {
     "name": "stdout",
     "output_type": "stream",
     "text": [
      "pred: [1, 3, 12, 2], gt: [4, 4, 5, 5]\n"
     ]
    },
    {
     "name": "stderr",
     "output_type": "stream",
     "text": [
      "Chunks: 100%|██████████| 6/6 [00:01<00:00,  4.88it/s]\n",
      "92it [02:01,  1.05s/it]"
     ]
    },
    {
     "name": "stdout",
     "output_type": "stream",
     "text": [
      "pred: [4, 7], gt: [1, 3, 2, 5]\n"
     ]
    },
    {
     "name": "stderr",
     "output_type": "stream",
     "text": [
      "Chunks: 100%|██████████| 8/8 [00:01<00:00,  7.43it/s]\n",
      "93it [02:02,  1.07s/it]"
     ]
    },
    {
     "name": "stdout",
     "output_type": "stream",
     "text": [
      "pred: [7, 1], gt: [2, 4, 2]\n"
     ]
    },
    {
     "name": "stderr",
     "output_type": "stream",
     "text": [
      "Chunks: 100%|██████████| 7/7 [00:00<00:00,  8.96it/s]\n",
      "94it [02:02,  1.01it/s]"
     ]
    },
    {
     "name": "stdout",
     "output_type": "stream",
     "text": [
      "pred: [4, 3, 2, 12], gt: [2, 7, 5, 7]\n"
     ]
    },
    {
     "name": "stderr",
     "output_type": "stream",
     "text": [
      "Chunks: 100%|██████████| 6/6 [00:01<00:00,  4.79it/s]\n",
      "95it [02:04,  1.08s/it]"
     ]
    },
    {
     "name": "stdout",
     "output_type": "stream",
     "text": [
      "pred: [3, 3, 6], gt: [2, 4, 3, 3]\n"
     ]
    },
    {
     "name": "stderr",
     "output_type": "stream",
     "text": [
      "Chunks: 100%|██████████| 5/5 [00:01<00:00,  4.42it/s]\n",
      "96it [02:05,  1.10s/it]"
     ]
    },
    {
     "name": "stdout",
     "output_type": "stream",
     "text": [
      "pred: [1, 8], gt: [1, 2, 3, 2, 1]\n"
     ]
    },
    {
     "name": "stderr",
     "output_type": "stream",
     "text": [
      "Chunks: 100%|██████████| 6/6 [00:01<00:00,  4.94it/s]\n",
      "97it [02:06,  1.15s/it]"
     ]
    },
    {
     "name": "stdout",
     "output_type": "stream",
     "text": [
      "pred: [4, 7, 1], gt: [1, 4, 3, 4]\n"
     ]
    },
    {
     "name": "stderr",
     "output_type": "stream",
     "text": [
      "Chunks: 100%|██████████| 5/5 [00:01<00:00,  3.65it/s]\n",
      "98it [02:08,  1.22s/it]"
     ]
    },
    {
     "name": "stdout",
     "output_type": "stream",
     "text": [
      "pred: [5, 5], gt: [1, 3, 6]\n"
     ]
    },
    {
     "name": "stderr",
     "output_type": "stream",
     "text": [
      "Chunks: 100%|██████████| 7/7 [00:01<00:00,  6.93it/s]\n",
      "99it [02:09,  1.17s/it]"
     ]
    },
    {
     "name": "stdout",
     "output_type": "stream",
     "text": [
      "pred: [5, 1, 7], gt: [1, 3, 4, 5]\n"
     ]
    },
    {
     "name": "stderr",
     "output_type": "stream",
     "text": [
      "Chunks: 100%|██████████| 4/4 [00:00<00:00,  8.80it/s]\n",
      "100it [02:09,  1.04it/s]"
     ]
    },
    {
     "name": "stdout",
     "output_type": "stream",
     "text": [
      "pred: [4], gt: [1, 2, 1]\n"
     ]
    },
    {
     "name": "stderr",
     "output_type": "stream",
     "text": [
      "Chunks: 100%|██████████| 8/8 [00:00<00:00,  9.68it/s]\n",
      "101it [02:10,  1.07it/s]"
     ]
    },
    {
     "name": "stdout",
     "output_type": "stream",
     "text": [
      "pred: [7, 1, 3, 7, 6], gt: [2, 5, 6, 5, 6]\n"
     ]
    },
    {
     "name": "stderr",
     "output_type": "stream",
     "text": [
      "Chunks: 100%|██████████| 6/6 [00:00<00:00,  8.56it/s]\n",
      "102it [02:11,  1.15it/s]"
     ]
    },
    {
     "name": "stdout",
     "output_type": "stream",
     "text": [
      "pred: [2, 4, 6], gt: [2, 3, 4, 3]\n"
     ]
    },
    {
     "name": "stderr",
     "output_type": "stream",
     "text": [
      "Chunks: 100%|██████████| 7/7 [00:00<00:00,  8.52it/s]\n",
      "103it [02:11,  1.15it/s]"
     ]
    },
    {
     "name": "stdout",
     "output_type": "stream",
     "text": [
      "pred: [7, 1, 3, 9], gt: [1, 3, 4, 4, 5, 3]\n"
     ]
    },
    {
     "name": "stderr",
     "output_type": "stream",
     "text": [
      "Chunks: 100%|██████████| 8/8 [00:01<00:00,  7.97it/s]\n",
      "104it [02:13,  1.09it/s]"
     ]
    },
    {
     "name": "stdout",
     "output_type": "stream",
     "text": [
      "pred: [1, 1, 3, 11, 7], gt: [4, 6, 7, 6]\n"
     ]
    },
    {
     "name": "stderr",
     "output_type": "stream",
     "text": [
      "Chunks: 100%|██████████| 6/6 [00:01<00:00,  4.22it/s]\n",
      "105it [02:14,  1.08s/it]"
     ]
    },
    {
     "name": "stdout",
     "output_type": "stream",
     "text": [
      "pred: [8, 1, 3], gt: [1, 4, 3, 4]\n"
     ]
    },
    {
     "name": "stderr",
     "output_type": "stream",
     "text": [
      "Chunks: 100%|██████████| 6/6 [00:00<00:00,  9.27it/s]\n",
      "106it [02:15,  1.05it/s]"
     ]
    },
    {
     "name": "stdout",
     "output_type": "stream",
     "text": [
      "pred: [9, 1, 2], gt: [1, 4, 4, 3]\n"
     ]
    },
    {
     "name": "stderr",
     "output_type": "stream",
     "text": [
      "Chunks: 100%|██████████| 4/4 [00:01<00:00,  3.38it/s]\n",
      "107it [02:16,  1.03s/it]"
     ]
    },
    {
     "name": "stdout",
     "output_type": "stream",
     "text": [
      "pred: [4], gt: [1, 1, 1, 1]\n"
     ]
    },
    {
     "name": "stderr",
     "output_type": "stream",
     "text": [
      "Chunks: 100%|██████████| 8/8 [00:01<00:00,  4.19it/s]\n",
      "108it [02:18,  1.30s/it]"
     ]
    },
    {
     "name": "stdout",
     "output_type": "stream",
     "text": [
      "pred: [6, 2], gt: [1, 2, 2, 3]\n"
     ]
    },
    {
     "name": "stderr",
     "output_type": "stream",
     "text": [
      "Chunks: 100%|██████████| 8/8 [00:02<00:00,  3.92it/s]\n",
      "109it [02:20,  1.53s/it]"
     ]
    },
    {
     "name": "stdout",
     "output_type": "stream",
     "text": [
      "pred: [6, 2], gt: [1, 7]\n"
     ]
    },
    {
     "name": "stderr",
     "output_type": "stream",
     "text": [
      "Chunks: 100%|██████████| 7/7 [00:00<00:00,  7.95it/s]\n",
      "110it [02:21,  1.35s/it]"
     ]
    },
    {
     "name": "stdout",
     "output_type": "stream",
     "text": [
      "pred: [7, 1, 5, 6], gt: [2, 5, 5, 7]\n"
     ]
    },
    {
     "name": "stderr",
     "output_type": "stream",
     "text": [
      "Chunks: 100%|██████████| 5/5 [00:00<00:00,  8.04it/s]\n",
      "111it [02:21,  1.14s/it]"
     ]
    },
    {
     "name": "stdout",
     "output_type": "stream",
     "text": [
      "pred: [3, 6], gt: [2, 2, 2, 3]\n"
     ]
    },
    {
     "name": "stderr",
     "output_type": "stream",
     "text": [
      "Chunks: 100%|██████████| 6/6 [00:01<00:00,  4.85it/s]\n",
      "112it [02:23,  1.18s/it]"
     ]
    },
    {
     "name": "stdout",
     "output_type": "stream",
     "text": [
      "pred: [5, 10, 2, 1], gt: [3, 5, 4, 6]\n"
     ]
    },
    {
     "name": "stderr",
     "output_type": "stream",
     "text": [
      "Chunks: 100%|██████████| 7/7 [00:01<00:00,  6.68it/s]\n",
      "113it [02:24,  1.15s/it]"
     ]
    },
    {
     "name": "stdout",
     "output_type": "stream",
     "text": [
      "pred: [2, 5], gt: [1, 5, 1]\n"
     ]
    },
    {
     "name": "stderr",
     "output_type": "stream",
     "text": [
      "Chunks: 100%|██████████| 6/6 [00:00<00:00,  7.66it/s]\n",
      "114it [02:25,  1.05s/it]"
     ]
    },
    {
     "name": "stdout",
     "output_type": "stream",
     "text": [
      "pred: [7, 2, 7, 2], gt: [2, 4, 6, 6]\n"
     ]
    },
    {
     "name": "stderr",
     "output_type": "stream",
     "text": [
      "Chunks: 100%|██████████| 6/6 [00:00<00:00,  9.20it/s]\n",
      "115it [02:25,  1.07it/s]"
     ]
    },
    {
     "name": "stdout",
     "output_type": "stream",
     "text": [
      "pred: [2, 4, 6], gt: [2, 3, 4, 3]\n"
     ]
    },
    {
     "name": "stderr",
     "output_type": "stream",
     "text": [
      "Chunks: 100%|██████████| 7/7 [00:00<00:00,  9.84it/s]\n",
      "116it [02:26,  1.14it/s]"
     ]
    },
    {
     "name": "stdout",
     "output_type": "stream",
     "text": [
      "pred: [2, 8, 3], gt: [2, 6, 5]\n"
     ]
    },
    {
     "name": "stderr",
     "output_type": "stream",
     "text": [
      "Chunks: 100%|██████████| 4/4 [00:00<00:00,  7.42it/s]\n",
      "117it [02:27,  1.28it/s]"
     ]
    },
    {
     "name": "stdout",
     "output_type": "stream",
     "text": [
      "pred: [4], gt: [1, 1, 1, 1]\n"
     ]
    },
    {
     "name": "stderr",
     "output_type": "stream",
     "text": [
      "Chunks: 100%|██████████| 7/7 [00:01<00:00,  5.34it/s]\n",
      "118it [02:28,  1.05it/s]"
     ]
    },
    {
     "name": "stdout",
     "output_type": "stream",
     "text": [
      "pred: [6, 4, 4], gt: [1, 4, 3, 6]\n"
     ]
    },
    {
     "name": "stderr",
     "output_type": "stream",
     "text": [
      "Chunks: 100%|██████████| 5/5 [00:01<00:00,  3.52it/s]\n",
      "119it [02:29,  1.10s/it]"
     ]
    },
    {
     "name": "stdout",
     "output_type": "stream",
     "text": [
      "pred: [4, 5], gt: [4, 2, 3]\n"
     ]
    },
    {
     "name": "stderr",
     "output_type": "stream",
     "text": [
      "Chunks: 100%|██████████| 7/7 [00:01<00:00,  6.86it/s]\n",
      "120it [02:30,  1.09s/it]"
     ]
    },
    {
     "name": "stdout",
     "output_type": "stream",
     "text": [
      "pred: [1, 9, 4], gt: [1, 3, 5, 5]\n"
     ]
    },
    {
     "name": "stderr",
     "output_type": "stream",
     "text": [
      "Chunks: 100%|██████████| 6/6 [00:01<00:00,  5.92it/s]\n",
      "121it [02:31,  1.07s/it]"
     ]
    },
    {
     "name": "stdout",
     "output_type": "stream",
     "text": [
      "pred: [3, 8, 1], gt: [1, 11]\n"
     ]
    },
    {
     "name": "stderr",
     "output_type": "stream",
     "text": [
      "Chunks: 100%|██████████| 8/8 [00:01<00:00,  6.19it/s]\n",
      "122it [02:33,  1.15s/it]"
     ]
    },
    {
     "name": "stdout",
     "output_type": "stream",
     "text": [
      "pred: [8, 1, 7], gt: [9, 7]\n"
     ]
    },
    {
     "name": "stderr",
     "output_type": "stream",
     "text": [
      "Chunks: 100%|██████████| 8/8 [00:01<00:00,  6.79it/s]\n",
      "123it [02:34,  1.17s/it]"
     ]
    },
    {
     "name": "stdout",
     "output_type": "stream",
     "text": [
      "pred: [1, 2, 12], gt: [1, 5, 4, 5]\n"
     ]
    },
    {
     "name": "stderr",
     "output_type": "stream",
     "text": [
      "Chunks: 100%|██████████| 5/5 [00:00<00:00,  5.78it/s]\n",
      "124it [02:35,  1.08s/it]"
     ]
    },
    {
     "name": "stdout",
     "output_type": "stream",
     "text": [
      "pred: [5, 5], gt: [5, 5]\n"
     ]
    },
    {
     "name": "stderr",
     "output_type": "stream",
     "text": [
      "Chunks: 100%|██████████| 6/6 [00:01<00:00,  4.62it/s]\n",
      "125it [02:36,  1.16s/it]"
     ]
    },
    {
     "name": "stdout",
     "output_type": "stream",
     "text": [
      "pred: [2, 9], gt: [1, 3, 3, 4]\n"
     ]
    },
    {
     "name": "stderr",
     "output_type": "stream",
     "text": [
      "Chunks: 100%|██████████| 8/8 [00:00<00:00, 10.77it/s]\n",
      "126it [02:37,  1.04s/it]"
     ]
    },
    {
     "name": "stdout",
     "output_type": "stream",
     "text": [
      "pred: [2, 10, 3], gt: [3, 4, 4, 4]\n"
     ]
    },
    {
     "name": "stderr",
     "output_type": "stream",
     "text": [
      "Chunks: 100%|██████████| 7/7 [00:00<00:00, 11.53it/s]\n",
      "127it [02:38,  1.09it/s]"
     ]
    },
    {
     "name": "stdout",
     "output_type": "stream",
     "text": [
      "pred: [4, 3], gt: [2, 2, 3]\n"
     ]
    },
    {
     "name": "stderr",
     "output_type": "stream",
     "text": [
      "Chunks: 100%|██████████| 8/8 [00:01<00:00,  7.64it/s]\n",
      "128it [02:39,  1.03it/s]"
     ]
    },
    {
     "name": "stdout",
     "output_type": "stream",
     "text": [
      "pred: [1, 6, 9], gt: [1, 6, 4, 5]\n"
     ]
    },
    {
     "name": "stderr",
     "output_type": "stream",
     "text": [
      "Chunks: 100%|██████████| 7/7 [00:00<00:00, 11.34it/s]\n",
      "129it [02:39,  1.15it/s]"
     ]
    },
    {
     "name": "stdout",
     "output_type": "stream",
     "text": [
      "pred: [6, 1], gt: [2, 2, 2, 1]\n"
     ]
    },
    {
     "name": "stderr",
     "output_type": "stream",
     "text": [
      "Chunks: 100%|██████████| 8/8 [00:00<00:00, 10.06it/s]\n",
      "130it [02:40,  1.16it/s]"
     ]
    },
    {
     "name": "stdout",
     "output_type": "stream",
     "text": [
      "pred: [1, 2, 7, 2, 10], gt: [3, 6, 6, 7]\n"
     ]
    },
    {
     "name": "stderr",
     "output_type": "stream",
     "text": [
      "Chunks: 100%|██████████| 7/7 [00:01<00:00,  5.85it/s]\n",
      "131it [02:41,  1.03it/s]"
     ]
    },
    {
     "name": "stdout",
     "output_type": "stream",
     "text": [
      "pred: [7, 4, 3], gt: [1, 6, 3, 4]\n"
     ]
    },
    {
     "name": "stderr",
     "output_type": "stream",
     "text": [
      "Chunks: 100%|██████████| 8/8 [00:00<00:00, 11.93it/s]\n",
      "132it [02:42,  1.12it/s]"
     ]
    },
    {
     "name": "stdout",
     "output_type": "stream",
     "text": [
      "pred: [5, 7, 3], gt: [2, 4, 3, 6]\n"
     ]
    },
    {
     "name": "stderr",
     "output_type": "stream",
     "text": [
      "Chunks: 100%|██████████| 8/8 [00:02<00:00,  3.61it/s]\n",
      "133it [02:44,  1.30s/it]"
     ]
    },
    {
     "name": "stdout",
     "output_type": "stream",
     "text": [
      "pred: [3, 9, 3], gt: [2, 5, 4, 4]\n"
     ]
    },
    {
     "name": "stderr",
     "output_type": "stream",
     "text": [
      "Chunks: 100%|██████████| 8/8 [00:01<00:00,  5.41it/s]\n",
      "134it [02:46,  1.37s/it]"
     ]
    },
    {
     "name": "stdout",
     "output_type": "stream",
     "text": [
      "pred: [7, 2, 4, 2, 9], gt: [2, 7, 6, 9]\n"
     ]
    },
    {
     "name": "stderr",
     "output_type": "stream",
     "text": [
      "Chunks: 100%|██████████| 8/8 [00:01<00:00,  6.46it/s]\n",
      "135it [02:47,  1.33s/it]"
     ]
    },
    {
     "name": "stdout",
     "output_type": "stream",
     "text": [
      "pred: [14, 1, 2, 2, 1, 3, 2, 12], gt: [8, 19, 10]\n"
     ]
    },
    {
     "name": "stderr",
     "output_type": "stream",
     "text": [
      "Chunks: 100%|██████████| 6/6 [00:00<00:00,  6.29it/s]\n",
      "136it [02:48,  1.23s/it]"
     ]
    },
    {
     "name": "stdout",
     "output_type": "stream",
     "text": [
      "pred: [2, 1, 12, 3], gt: [1, 7, 6, 4]\n"
     ]
    },
    {
     "name": "stderr",
     "output_type": "stream",
     "text": [
      "Chunks: 100%|██████████| 7/7 [00:00<00:00,  8.27it/s]\n",
      "137it [02:49,  1.12s/it]"
     ]
    },
    {
     "name": "stdout",
     "output_type": "stream",
     "text": [
      "pred: [7, 9, 3, 1], gt: [1, 5, 5, 5, 4]\n"
     ]
    },
    {
     "name": "stderr",
     "output_type": "stream",
     "text": [
      "Chunks: 100%|██████████| 8/8 [00:01<00:00,  4.33it/s]\n",
      "138it [02:51,  1.34s/it]"
     ]
    },
    {
     "name": "stdout",
     "output_type": "stream",
     "text": [
      "pred: [7, 2, 6], gt: [2, 4, 5, 4]\n"
     ]
    },
    {
     "name": "stderr",
     "output_type": "stream",
     "text": [
      "Chunks: 100%|██████████| 6/6 [00:00<00:00, 11.39it/s]\n",
      "139it [02:51,  1.10s/it]"
     ]
    },
    {
     "name": "stdout",
     "output_type": "stream",
     "text": [
      "pred: [4, 3, 5], gt: [2, 2, 1, 1, 2, 2, 2]\n"
     ]
    },
    {
     "name": "stderr",
     "output_type": "stream",
     "text": [
      "Chunks: 100%|██████████| 8/8 [00:00<00:00, 10.99it/s]\n",
      "140it [02:52,  1.00it/s]"
     ]
    },
    {
     "name": "stdout",
     "output_type": "stream",
     "text": [
      "pred: [8, 4, 3], gt: [2, 6, 4, 3]\n"
     ]
    },
    {
     "name": "stderr",
     "output_type": "stream",
     "text": [
      "Chunks: 100%|██████████| 7/7 [00:00<00:00, 11.88it/s]\n",
      "141it [02:53,  1.13it/s]"
     ]
    },
    {
     "name": "stdout",
     "output_type": "stream",
     "text": [
      "pred: [4, 7, 2], gt: [1, 4, 3, 5]\n"
     ]
    },
    {
     "name": "stderr",
     "output_type": "stream",
     "text": [
      "Chunks: 100%|██████████| 6/6 [00:00<00:00, 10.79it/s]\n",
      "142it [02:53,  1.26it/s]"
     ]
    },
    {
     "name": "stdout",
     "output_type": "stream",
     "text": [
      "pred: [3, 6, 3], gt: [2, 2, 2, 2, 2, 2]\n"
     ]
    },
    {
     "name": "stderr",
     "output_type": "stream",
     "text": [
      "Chunks: 100%|██████████| 8/8 [00:01<00:00,  5.40it/s]\n",
      "143it [02:55,  1.01s/it]"
     ]
    },
    {
     "name": "stdout",
     "output_type": "stream",
     "text": [
      "pred: [6, 2, 2, 11, 1], gt: [1, 9, 6, 6]\n"
     ]
    },
    {
     "name": "stderr",
     "output_type": "stream",
     "text": [
      "Chunks: 100%|██████████| 8/8 [00:01<00:00,  5.66it/s]\n",
      "144it [02:56,  1.15s/it]"
     ]
    },
    {
     "name": "stdout",
     "output_type": "stream",
     "text": [
      "pred: [9, 3, 5, 2, 3], gt: [2, 9, 5, 6]\n"
     ]
    },
    {
     "name": "stderr",
     "output_type": "stream",
     "text": [
      "Chunks: 100%|██████████| 7/7 [00:01<00:00,  5.41it/s]\n",
      "145it [02:58,  1.20s/it]"
     ]
    },
    {
     "name": "stdout",
     "output_type": "stream",
     "text": [
      "pred: [2, 3, 3, 11], gt: [1, 8, 5, 5]\n"
     ]
    },
    {
     "name": "stderr",
     "output_type": "stream",
     "text": [
      "Chunks: 100%|██████████| 8/8 [00:01<00:00,  5.85it/s]\n",
      "146it [02:59,  1.26s/it]"
     ]
    },
    {
     "name": "stdout",
     "output_type": "stream",
     "text": [
      "pred: [1, 5, 4, 2, 10], gt: [4, 6, 7, 5]\n"
     ]
    },
    {
     "name": "stderr",
     "output_type": "stream",
     "text": [
      "Chunks: 100%|██████████| 6/6 [00:01<00:00,  4.67it/s]\n",
      "147it [03:00,  1.28s/it]"
     ]
    },
    {
     "name": "stdout",
     "output_type": "stream",
     "text": [
      "pred: [1, 10], gt: [1, 1, 1, 1, 1, 1, 1, 1, 1, 1, 1]\n"
     ]
    },
    {
     "name": "stderr",
     "output_type": "stream",
     "text": [
      "Chunks: 100%|██████████| 5/5 [00:00<00:00,  5.96it/s]\n",
      "148it [03:01,  1.15s/it]"
     ]
    },
    {
     "name": "stdout",
     "output_type": "stream",
     "text": [
      "pred: [5], gt: [1, 1, 1, 1, 1]\n"
     ]
    },
    {
     "name": "stderr",
     "output_type": "stream",
     "text": [
      "Chunks: 100%|██████████| 6/6 [00:01<00:00,  5.52it/s]\n",
      "149it [03:02,  1.14s/it]"
     ]
    },
    {
     "name": "stdout",
     "output_type": "stream",
     "text": [
      "pred: [3, 1, 7, 7], gt: [2, 5, 3, 3, 5]\n"
     ]
    },
    {
     "name": "stderr",
     "output_type": "stream",
     "text": [
      "Chunks: 100%|██████████| 7/7 [00:01<00:00,  5.29it/s]\n",
      "150it [03:04,  1.21s/it]"
     ]
    },
    {
     "name": "stdout",
     "output_type": "stream",
     "text": [
      "pred: [3, 2, 6, 2, 10, 5], gt: [1, 7, 7, 6, 7]\n"
     ]
    },
    {
     "name": "stderr",
     "output_type": "stream",
     "text": [
      "Chunks: 100%|██████████| 8/8 [00:00<00:00, 11.61it/s]\n",
      "151it [03:04,  1.06s/it]"
     ]
    },
    {
     "name": "stdout",
     "output_type": "stream",
     "text": [
      "pred: [8, 6, 2], gt: [3, 4, 4, 5]\n"
     ]
    },
    {
     "name": "stderr",
     "output_type": "stream",
     "text": [
      "Chunks: 100%|██████████| 7/7 [00:01<00:00,  3.62it/s]\n",
      "152it [03:06,  1.33s/it]"
     ]
    },
    {
     "name": "stdout",
     "output_type": "stream",
     "text": [
      "pred: [2, 9, 2], gt: [1, 6, 3, 3]\n"
     ]
    },
    {
     "name": "stderr",
     "output_type": "stream",
     "text": [
      "Chunks: 100%|██████████| 8/8 [00:01<00:00,  5.40it/s]\n",
      "153it [03:08,  1.39s/it]"
     ]
    },
    {
     "name": "stdout",
     "output_type": "stream",
     "text": [
      "pred: [9, 5, 1], gt: [1, 4, 4, 3, 3]\n"
     ]
    },
    {
     "name": "stderr",
     "output_type": "stream",
     "text": [
      "Chunks: 100%|██████████| 7/7 [00:00<00:00,  8.47it/s]\n",
      "154it [03:09,  1.23s/it]"
     ]
    },
    {
     "name": "stdout",
     "output_type": "stream",
     "text": [
      "pred: [2, 3, 5, 10], gt: [2, 7, 7, 4]\n"
     ]
    },
    {
     "name": "stderr",
     "output_type": "stream",
     "text": [
      "Chunks: 100%|██████████| 8/8 [00:01<00:00,  5.52it/s]\n",
      "155it [03:10,  1.30s/it]"
     ]
    },
    {
     "name": "stdout",
     "output_type": "stream",
     "text": [
      "pred: [2, 6], gt: [1, 2, 1, 2, 1, 1]\n"
     ]
    },
    {
     "name": "stderr",
     "output_type": "stream",
     "text": [
      "Chunks: 100%|██████████| 6/6 [00:02<00:00,  2.91it/s]\n",
      "156it [03:12,  1.54s/it]"
     ]
    },
    {
     "name": "stdout",
     "output_type": "stream",
     "text": [
      "pred: [5, 3, 2, 8], gt: [3, 8, 7]\n"
     ]
    },
    {
     "name": "stderr",
     "output_type": "stream",
     "text": [
      "Chunks: 100%|██████████| 8/8 [00:01<00:00,  4.56it/s]\n",
      "157it [03:14,  1.61s/it]"
     ]
    },
    {
     "name": "stdout",
     "output_type": "stream",
     "text": [
      "pred: [4, 4], gt: [1, 1, 2, 2, 2]\n"
     ]
    },
    {
     "name": "stderr",
     "output_type": "stream",
     "text": [
      "Chunks: 100%|██████████| 5/5 [00:00<00:00,  8.29it/s]\n",
      "158it [03:15,  1.32s/it]"
     ]
    },
    {
     "name": "stdout",
     "output_type": "stream",
     "text": [
      "pred: [2, 8], gt: [2, 4, 4]\n"
     ]
    },
    {
     "name": "stderr",
     "output_type": "stream",
     "text": [
      "Chunks: 100%|██████████| 5/5 [00:01<00:00,  3.88it/s]\n",
      "159it [03:16,  1.32s/it]"
     ]
    },
    {
     "name": "stdout",
     "output_type": "stream",
     "text": [
      "pred: [4, 6], gt: [3, 7]\n"
     ]
    },
    {
     "name": "stderr",
     "output_type": "stream",
     "text": [
      "Chunks: 100%|██████████| 7/7 [00:02<00:00,  3.19it/s]\n",
      "160it [03:18,  1.59s/it]"
     ]
    },
    {
     "name": "stdout",
     "output_type": "stream",
     "text": [
      "pred: [7, 4, 3], gt: [2, 5, 4, 3]\n"
     ]
    },
    {
     "name": "stderr",
     "output_type": "stream",
     "text": [
      "Chunks: 100%|██████████| 8/8 [00:01<00:00,  6.11it/s]\n",
      "161it [03:20,  1.51s/it]"
     ]
    },
    {
     "name": "stdout",
     "output_type": "stream",
     "text": [
      "pred: [4, 2, 9], gt: [2, 3, 5, 5]\n"
     ]
    },
    {
     "name": "stderr",
     "output_type": "stream",
     "text": [
      "Chunks: 100%|██████████| 6/6 [00:00<00:00,  7.15it/s]\n",
      "162it [03:20,  1.32s/it]"
     ]
    },
    {
     "name": "stdout",
     "output_type": "stream",
     "text": [
      "pred: [9, 2], gt: [1, 2, 3, 2, 3]\n"
     ]
    },
    {
     "name": "stderr",
     "output_type": "stream",
     "text": [
      "Chunks: 100%|██████████| 7/7 [00:01<00:00,  6.56it/s]\n",
      "163it [03:22,  1.25s/it]"
     ]
    },
    {
     "name": "stdout",
     "output_type": "stream",
     "text": [
      "pred: [4, 1, 10, 5], gt: [2, 5, 7, 6]\n"
     ]
    },
    {
     "name": "stderr",
     "output_type": "stream",
     "text": [
      "Chunks: 100%|██████████| 7/7 [00:00<00:00,  7.91it/s]\n",
      "164it [03:23,  1.15s/it]"
     ]
    },
    {
     "name": "stdout",
     "output_type": "stream",
     "text": [
      "pred: [5, 3, 5], gt: [1, 4, 4, 4]\n"
     ]
    },
    {
     "name": "stderr",
     "output_type": "stream",
     "text": [
      "Chunks: 100%|██████████| 8/8 [00:00<00:00,  8.28it/s]\n",
      "165it [03:24,  1.10s/it]"
     ]
    },
    {
     "name": "stdout",
     "output_type": "stream",
     "text": [
      "pred: [3, 10, 2], gt: [2, 5, 8]\n"
     ]
    },
    {
     "name": "stderr",
     "output_type": "stream",
     "text": [
      "Chunks: 100%|██████████| 5/5 [00:01<00:00,  4.81it/s]\n",
      "166it [03:25,  1.09s/it]"
     ]
    },
    {
     "name": "stdout",
     "output_type": "stream",
     "text": [
      "pred: [1, 9], gt: [1, 3, 6]\n"
     ]
    },
    {
     "name": "stderr",
     "output_type": "stream",
     "text": [
      "Chunks: 100%|██████████| 6/6 [00:01<00:00,  4.20it/s]\n",
      "167it [03:26,  1.20s/it]"
     ]
    },
    {
     "name": "stdout",
     "output_type": "stream",
     "text": [
      "pred: [2, 5, 6, 4], gt: [1, 5, 7, 4]\n"
     ]
    },
    {
     "name": "stderr",
     "output_type": "stream",
     "text": [
      "Chunks: 100%|██████████| 6/6 [00:01<00:00,  5.87it/s]\n",
      "168it [03:27,  1.15s/it]"
     ]
    },
    {
     "name": "stdout",
     "output_type": "stream",
     "text": [
      "pred: [8, 3], gt: [3, 2, 3, 3]\n"
     ]
    },
    {
     "name": "stderr",
     "output_type": "stream",
     "text": [
      "Chunks: 100%|██████████| 6/6 [00:00<00:00,  6.88it/s]\n",
      "169it [03:28,  1.08s/it]"
     ]
    },
    {
     "name": "stdout",
     "output_type": "stream",
     "text": [
      "pred: [6], gt: [2, 2, 2]\n"
     ]
    },
    {
     "name": "stderr",
     "output_type": "stream",
     "text": [
      "Chunks: 100%|██████████| 6/6 [00:02<00:00,  2.58it/s]\n",
      "170it [03:30,  1.46s/it]"
     ]
    },
    {
     "name": "stdout",
     "output_type": "stream",
     "text": [
      "pred: [1, 7, 4], gt: [2, 6, 4]\n"
     ]
    },
    {
     "name": "stderr",
     "output_type": "stream",
     "text": [
      "Chunks: 100%|██████████| 7/7 [00:00<00:00,  7.32it/s]\n",
      "171it [03:31,  1.31s/it]"
     ]
    },
    {
     "name": "stdout",
     "output_type": "stream",
     "text": [
      "pred: [1, 6], gt: [1, 2, 4]\n"
     ]
    },
    {
     "name": "stderr",
     "output_type": "stream",
     "text": [
      "Chunks: 100%|██████████| 6/6 [00:01<00:00,  5.93it/s]\n",
      "172it [03:32,  1.23s/it]"
     ]
    },
    {
     "name": "stdout",
     "output_type": "stream",
     "text": [
      "pred: [9, 2], gt: [3, 5, 3]\n"
     ]
    },
    {
     "name": "stderr",
     "output_type": "stream",
     "text": [
      "Chunks: 100%|██████████| 8/8 [00:01<00:00,  7.62it/s]\n",
      "173it [03:33,  1.18s/it]"
     ]
    },
    {
     "name": "stdout",
     "output_type": "stream",
     "text": [
      "pred: [8, 11, 2, 2, 1], gt: [1, 7, 5, 5, 6]\n"
     ]
    },
    {
     "name": "stderr",
     "output_type": "stream",
     "text": [
      "Chunks: 100%|██████████| 6/6 [00:00<00:00,  7.95it/s]\n",
      "174it [03:34,  1.06s/it]"
     ]
    },
    {
     "name": "stdout",
     "output_type": "stream",
     "text": [
      "pred: [2, 9], gt: [1, 3, 3, 4]\n"
     ]
    },
    {
     "name": "stderr",
     "output_type": "stream",
     "text": [
      "Chunks: 100%|██████████| 6/6 [00:01<00:00,  3.37it/s]\n",
      "175it [03:36,  1.29s/it]"
     ]
    },
    {
     "name": "stdout",
     "output_type": "stream",
     "text": [
      "pred: [7, 4, 3, 4], gt: [1, 5, 4, 8]\n"
     ]
    },
    {
     "name": "stderr",
     "output_type": "stream",
     "text": [
      "Chunks: 100%|██████████| 8/8 [00:01<00:00,  7.24it/s]\n",
      "176it [03:37,  1.24s/it]"
     ]
    },
    {
     "name": "stdout",
     "output_type": "stream",
     "text": [
      "pred: [12, 2, 2], gt: [2, 5, 5, 4]\n"
     ]
    },
    {
     "name": "stderr",
     "output_type": "stream",
     "text": [
      "Chunks: 100%|██████████| 7/7 [00:01<00:00,  5.37it/s]\n",
      "177it [03:38,  1.26s/it]"
     ]
    },
    {
     "name": "stdout",
     "output_type": "stream",
     "text": [
      "pred: [2, 5, 7], gt: [1, 7, 4, 2]\n"
     ]
    },
    {
     "name": "stderr",
     "output_type": "stream",
     "text": [
      "Chunks: 100%|██████████| 8/8 [00:01<00:00,  6.74it/s]\n",
      "178it [03:40,  1.25s/it]"
     ]
    },
    {
     "name": "stdout",
     "output_type": "stream",
     "text": [
      "pred: [13, 4, 1, 2, 2], gt: [2, 9, 5, 6]\n"
     ]
    },
    {
     "name": "stderr",
     "output_type": "stream",
     "text": [
      "Chunks: 100%|██████████| 7/7 [00:01<00:00,  4.83it/s]\n",
      "179it [03:41,  1.32s/it]"
     ]
    },
    {
     "name": "stdout",
     "output_type": "stream",
     "text": [
      "pred: [4, 4, 6], gt: [2, 7, 5]\n"
     ]
    },
    {
     "name": "stderr",
     "output_type": "stream",
     "text": [
      "Chunks: 100%|██████████| 6/6 [00:00<00:00, 12.30it/s]\n",
      "180it [03:42,  1.08s/it]"
     ]
    },
    {
     "name": "stdout",
     "output_type": "stream",
     "text": [
      "pred: [4, 3, 5], gt: [3, 3, 6]\n"
     ]
    },
    {
     "name": "stderr",
     "output_type": "stream",
     "text": [
      "Chunks: 100%|██████████| 8/8 [00:02<00:00,  2.76it/s]\n",
      "181it [03:45,  1.64s/it]"
     ]
    },
    {
     "name": "stdout",
     "output_type": "stream",
     "text": [
      "pred: [2, 6, 7], gt: [1, 3, 5, 4, 2]\n"
     ]
    },
    {
     "name": "stderr",
     "output_type": "stream",
     "text": [
      "Chunks: 100%|██████████| 6/6 [00:01<00:00,  4.20it/s]\n",
      "182it [03:46,  1.59s/it]"
     ]
    },
    {
     "name": "stdout",
     "output_type": "stream",
     "text": [
      "pred: [2, 7, 7, 2], gt: [1, 7, 6, 4]\n"
     ]
    },
    {
     "name": "stderr",
     "output_type": "stream",
     "text": [
      "Chunks: 100%|██████████| 5/5 [00:00<00:00,  5.30it/s]\n",
      "183it [03:47,  1.40s/it]"
     ]
    },
    {
     "name": "stdout",
     "output_type": "stream",
     "text": [
      "pred: [5], gt: [2, 2, 1]\n"
     ]
    },
    {
     "name": "stderr",
     "output_type": "stream",
     "text": [
      "Chunks: 100%|██████████| 7/7 [00:00<00:00,  7.94it/s]\n",
      "184it [03:48,  1.25s/it]"
     ]
    },
    {
     "name": "stdout",
     "output_type": "stream",
     "text": [
      "pred: [2, 1, 10], gt: [5, 4, 4]\n"
     ]
    },
    {
     "name": "stderr",
     "output_type": "stream",
     "text": [
      "Chunks: 100%|██████████| 6/6 [00:00<00:00,  7.80it/s]\n",
      "185it [03:49,  1.12s/it]"
     ]
    },
    {
     "name": "stdout",
     "output_type": "stream",
     "text": [
      "pred: [11, 1, 1, 4], gt: [2, 4, 4, 7]\n"
     ]
    },
    {
     "name": "stderr",
     "output_type": "stream",
     "text": [
      "Chunks: 100%|██████████| 3/3 [00:01<00:00,  2.36it/s]\n",
      "186it [03:50,  1.17s/it]"
     ]
    },
    {
     "name": "stdout",
     "output_type": "stream",
     "text": [
      "pred: [3], gt: [1, 1, 1]\n"
     ]
    },
    {
     "name": "stderr",
     "output_type": "stream",
     "text": [
      "Chunks: 100%|██████████| 7/7 [00:01<00:00,  4.17it/s]\n",
      "187it [03:52,  1.33s/it]"
     ]
    },
    {
     "name": "stdout",
     "output_type": "stream",
     "text": [
      "pred: [5, 8, 5, 3], gt: [3, 5, 7, 6]\n"
     ]
    },
    {
     "name": "stderr",
     "output_type": "stream",
     "text": [
      "Chunks: 100%|██████████| 7/7 [00:00<00:00,  8.62it/s]\n",
      "188it [03:53,  1.19s/it]"
     ]
    },
    {
     "name": "stdout",
     "output_type": "stream",
     "text": [
      "pred: [3, 2, 9], gt: [1, 5, 4, 4]\n"
     ]
    },
    {
     "name": "stderr",
     "output_type": "stream",
     "text": [
      "Chunks: 100%|██████████| 7/7 [00:03<00:00,  2.24it/s]\n",
      "189it [03:56,  1.78s/it]"
     ]
    },
    {
     "name": "stdout",
     "output_type": "stream",
     "text": [
      "pred: [6, 3, 8, 2, 6, 3], gt: [3, 3, 3, 5, 5, 4, 5]\n"
     ]
    },
    {
     "name": "stderr",
     "output_type": "stream",
     "text": [
      "Chunks: 100%|██████████| 5/5 [00:00<00:00,  9.21it/s]\n",
      "190it [03:56,  1.42s/it]"
     ]
    },
    {
     "name": "stdout",
     "output_type": "stream",
     "text": [
      "pred: [5], gt: [1, 2, 2]\n"
     ]
    },
    {
     "name": "stderr",
     "output_type": "stream",
     "text": [
      "Chunks: 100%|██████████| 5/5 [00:00<00:00,  5.27it/s]\n",
      "191it [03:57,  1.28s/it]"
     ]
    },
    {
     "name": "stdout",
     "output_type": "stream",
     "text": [
      "pred: [4, 5], gt: [3, 3, 3]\n"
     ]
    },
    {
     "name": "stderr",
     "output_type": "stream",
     "text": [
      "Chunks: 100%|██████████| 7/7 [00:01<00:00,  4.94it/s]\n",
      "192it [03:59,  1.33s/it]"
     ]
    },
    {
     "name": "stdout",
     "output_type": "stream",
     "text": [
      "pred: [7, 3, 4], gt: [6, 8]\n"
     ]
    },
    {
     "name": "stderr",
     "output_type": "stream",
     "text": [
      "Chunks: 100%|██████████| 5/5 [00:00<00:00,  6.30it/s]\n",
      "193it [04:00,  1.18s/it]"
     ]
    },
    {
     "name": "stdout",
     "output_type": "stream",
     "text": [
      "pred: [7, 2], gt: [1, 4, 4]\n"
     ]
    },
    {
     "name": "stderr",
     "output_type": "stream",
     "text": [
      "Chunks: 100%|██████████| 6/6 [00:00<00:00,  7.27it/s]\n",
      "194it [04:00,  1.08s/it]"
     ]
    },
    {
     "name": "stdout",
     "output_type": "stream",
     "text": [
      "pred: [2, 4, 6], gt: [2, 4, 6]\n"
     ]
    },
    {
     "name": "stderr",
     "output_type": "stream",
     "text": [
      "Chunks: 100%|██████████| 7/7 [00:01<00:00,  4.24it/s]\n",
      "195it [04:02,  1.27s/it]"
     ]
    },
    {
     "name": "stdout",
     "output_type": "stream",
     "text": [
      "pred: [3, 3, 4, 12, 2, 5, 6], gt: [10, 13, 12]\n"
     ]
    },
    {
     "name": "stderr",
     "output_type": "stream",
     "text": [
      "Chunks: 100%|██████████| 5/5 [00:00<00:00,  7.56it/s]\n",
      "196it [04:03,  1.10s/it]"
     ]
    },
    {
     "name": "stdout",
     "output_type": "stream",
     "text": [
      "pred: [2, 8], gt: [1, 3, 4, 2]\n"
     ]
    },
    {
     "name": "stderr",
     "output_type": "stream",
     "text": [
      "Chunks: 100%|██████████| 8/8 [00:01<00:00,  6.45it/s]\n",
      "197it [04:04,  1.15s/it]"
     ]
    },
    {
     "name": "stdout",
     "output_type": "stream",
     "text": [
      "pred: [7, 3, 4, 7, 2], gt: [2, 5, 4, 5, 3, 4]\n"
     ]
    },
    {
     "name": "stderr",
     "output_type": "stream",
     "text": [
      "Chunks: 100%|██████████| 8/8 [00:01<00:00,  7.79it/s]\n",
      "198it [04:05,  1.12s/it]"
     ]
    },
    {
     "name": "stdout",
     "output_type": "stream",
     "text": [
      "pred: [5, 3], gt: [2, 2, 1, 3]\n"
     ]
    },
    {
     "name": "stderr",
     "output_type": "stream",
     "text": [
      "Chunks: 100%|██████████| 7/7 [00:01<00:00,  5.87it/s]\n",
      "199it [04:06,  1.16s/it]"
     ]
    },
    {
     "name": "stdout",
     "output_type": "stream",
     "text": [
      "pred: [9, 9, 2, 1], gt: [4, 4, 6, 7]\n"
     ]
    },
    {
     "name": "stderr",
     "output_type": "stream",
     "text": [
      "Chunks: 100%|██████████| 6/6 [00:02<00:00,  2.41it/s]\n",
      "200it [04:09,  1.57s/it]"
     ]
    },
    {
     "name": "stdout",
     "output_type": "stream",
     "text": [
      "pred: [1, 6, 5], gt: [1, 1, 4, 6]\n"
     ]
    },
    {
     "name": "stderr",
     "output_type": "stream",
     "text": [
      "Chunks: 100%|██████████| 7/7 [00:01<00:00,  6.97it/s]\n",
      "201it [04:10,  1.41s/it]"
     ]
    },
    {
     "name": "stdout",
     "output_type": "stream",
     "text": [
      "pred: [6, 3, 4], gt: [1, 5, 3, 4]\n"
     ]
    },
    {
     "name": "stderr",
     "output_type": "stream",
     "text": [
      "Chunks: 100%|██████████| 5/5 [00:00<00:00,  5.39it/s]\n",
      "202it [04:11,  1.27s/it]"
     ]
    },
    {
     "name": "stdout",
     "output_type": "stream",
     "text": [
      "pred: [2, 7], gt: [2, 3, 4]\n"
     ]
    },
    {
     "name": "stderr",
     "output_type": "stream",
     "text": [
      "Chunks: 100%|██████████| 7/7 [00:00<00:00,  7.32it/s]\n",
      "203it [04:12,  1.19s/it]"
     ]
    },
    {
     "name": "stdout",
     "output_type": "stream",
     "text": [
      "pred: [8, 2, 4, 5, 2, 6], gt: [16, 11]\n"
     ]
    },
    {
     "name": "stderr",
     "output_type": "stream",
     "text": [
      "Chunks: 100%|██████████| 8/8 [00:01<00:00,  7.57it/s]\n",
      "204it [04:13,  1.16s/it]"
     ]
    },
    {
     "name": "stdout",
     "output_type": "stream",
     "text": [
      "pred: [5, 2, 9, 1, 4, 10], gt: [3, 12, 9, 7]\n"
     ]
    },
    {
     "name": "stderr",
     "output_type": "stream",
     "text": [
      "Chunks: 100%|██████████| 5/5 [00:00<00:00,  7.54it/s]\n",
      "205it [04:14,  1.02s/it]"
     ]
    },
    {
     "name": "stdout",
     "output_type": "stream",
     "text": [
      "pred: [1, 8], gt: [1, 3, 5]\n"
     ]
    },
    {
     "name": "stderr",
     "output_type": "stream",
     "text": [
      "Chunks: 100%|██████████| 6/6 [00:00<00:00,  7.26it/s]\n",
      "206it [04:15,  1.03it/s]"
     ]
    },
    {
     "name": "stdout",
     "output_type": "stream",
     "text": [
      "pred: [8, 3], gt: [1, 3, 2, 2, 3]\n"
     ]
    },
    {
     "name": "stderr",
     "output_type": "stream",
     "text": [
      "Chunks: 100%|██████████| 8/8 [00:01<00:00,  4.57it/s]\n",
      "207it [04:16,  1.21s/it]"
     ]
    },
    {
     "name": "stdout",
     "output_type": "stream",
     "text": [
      "pred: [7, 1, 7], gt: [1, 5, 5, 4]\n"
     ]
    },
    {
     "name": "stderr",
     "output_type": "stream",
     "text": [
      "Chunks: 100%|██████████| 6/6 [00:00<00:00, 10.13it/s]\n",
      "208it [04:17,  1.04s/it]"
     ]
    },
    {
     "name": "stdout",
     "output_type": "stream",
     "text": [
      "pred: [1, 7, 4], gt: [3, 3, 3, 3]\n"
     ]
    },
    {
     "name": "stderr",
     "output_type": "stream",
     "text": [
      "Chunks: 100%|██████████| 7/7 [00:01<00:00,  3.83it/s]\n",
      "209it [04:19,  1.29s/it]"
     ]
    },
    {
     "name": "stdout",
     "output_type": "stream",
     "text": [
      "pred: [1, 10, 2], gt: [3, 5, 1, 1, 3]\n"
     ]
    },
    {
     "name": "stderr",
     "output_type": "stream",
     "text": [
      "Chunks: 100%|██████████| 7/7 [00:00<00:00,  8.72it/s]\n",
      "210it [04:20,  1.15s/it]"
     ]
    },
    {
     "name": "stdout",
     "output_type": "stream",
     "text": [
      "pred: [4, 1, 13, 1, 6], gt: [3, 9, 6, 7]\n"
     ]
    },
    {
     "name": "stderr",
     "output_type": "stream",
     "text": [
      "Chunks: 100%|██████████| 6/6 [00:00<00:00,  8.72it/s]\n",
      "211it [04:20,  1.02s/it]"
     ]
    },
    {
     "name": "stdout",
     "output_type": "stream",
     "text": [
      "pred: [2, 9], gt: [2, 2, 2, 1, 2, 2]\n"
     ]
    },
    {
     "name": "stderr",
     "output_type": "stream",
     "text": [
      "Chunks: 100%|██████████| 7/7 [00:01<00:00,  5.53it/s]\n",
      "212it [04:22,  1.11s/it]"
     ]
    },
    {
     "name": "stdout",
     "output_type": "stream",
     "text": [
      "pred: [7, 2, 6, 6], gt: [2, 7, 7, 5]\n"
     ]
    },
    {
     "name": "stderr",
     "output_type": "stream",
     "text": [
      "Chunks: 100%|██████████| 6/6 [00:01<00:00,  3.66it/s]\n",
      "213it [04:23,  1.28s/it]"
     ]
    },
    {
     "name": "stdout",
     "output_type": "stream",
     "text": [
      "pred: [7, 5, 6], gt: [1, 5, 5, 7]\n"
     ]
    },
    {
     "name": "stderr",
     "output_type": "stream",
     "text": [
      "Chunks: 100%|██████████| 6/6 [00:00<00:00,  7.79it/s]\n",
      "214it [04:24,  1.14s/it]"
     ]
    },
    {
     "name": "stdout",
     "output_type": "stream",
     "text": [
      "pred: [6, 2, 4], gt: [1, 3, 4, 4]\n"
     ]
    },
    {
     "name": "stderr",
     "output_type": "stream",
     "text": [
      "Chunks: 100%|██████████| 6/6 [00:02<00:00,  2.26it/s]\n",
      "215it [04:27,  1.60s/it]"
     ]
    },
    {
     "name": "stdout",
     "output_type": "stream",
     "text": [
      "pred: [2, 3, 7], gt: [1, 3, 3, 5]\n"
     ]
    },
    {
     "name": "stderr",
     "output_type": "stream",
     "text": [
      "Chunks: 100%|██████████| 5/5 [00:00<00:00,  7.76it/s]\n",
      "216it [04:28,  1.32s/it]"
     ]
    },
    {
     "name": "stdout",
     "output_type": "stream",
     "text": [
      "pred: [8, 1], gt: [1, 3, 3, 2]\n"
     ]
    },
    {
     "name": "stderr",
     "output_type": "stream",
     "text": [
      "Chunks: 100%|██████████| 7/7 [00:01<00:00,  4.71it/s]\n",
      "217it [04:29,  1.38s/it]"
     ]
    },
    {
     "name": "stdout",
     "output_type": "stream",
     "text": [
      "pred: [3, 4, 6], gt: [1, 5, 4, 3]\n"
     ]
    },
    {
     "name": "stderr",
     "output_type": "stream",
     "text": [
      "Chunks: 100%|██████████| 7/7 [00:00<00:00, 10.02it/s]\n",
      "218it [04:30,  1.19s/it]"
     ]
    },
    {
     "name": "stdout",
     "output_type": "stream",
     "text": [
      "pred: [8, 2, 1, 4, 10, 1, 7], gt: [6, 12, 8, 7]\n"
     ]
    },
    {
     "name": "stderr",
     "output_type": "stream",
     "text": [
      "Chunks: 100%|██████████| 8/8 [00:01<00:00,  6.73it/s]\n",
      "219it [04:31,  1.20s/it]"
     ]
    },
    {
     "name": "stdout",
     "output_type": "stream",
     "text": [
      "pred: [3, 2, 5, 7, 6], gt: [2, 7, 8, 6]\n"
     ]
    },
    {
     "name": "stderr",
     "output_type": "stream",
     "text": [
      "Chunks: 100%|██████████| 5/5 [00:00<00:00,  6.68it/s]\n",
      "220it [04:32,  1.07s/it]"
     ]
    },
    {
     "name": "stdout",
     "output_type": "stream",
     "text": [
      "pred: [5], gt: [2, 3]\n"
     ]
    },
    {
     "name": "stderr",
     "output_type": "stream",
     "text": [
      "Chunks: 100%|██████████| 6/6 [00:00<00:00,  7.98it/s]\n",
      "221it [04:33,  1.02it/s]"
     ]
    },
    {
     "name": "stdout",
     "output_type": "stream",
     "text": [
      "pred: [6], gt: [2, 1, 3]\n"
     ]
    },
    {
     "name": "stderr",
     "output_type": "stream",
     "text": [
      "Chunks: 100%|██████████| 7/7 [00:01<00:00,  4.61it/s]\n",
      "222it [04:34,  1.15s/it]"
     ]
    },
    {
     "name": "stdout",
     "output_type": "stream",
     "text": [
      "pred: [5, 8, 1], gt: [1, 4, 5, 4]\n"
     ]
    },
    {
     "name": "stderr",
     "output_type": "stream",
     "text": [
      "Chunks: 100%|██████████| 6/6 [00:00<00:00,  8.01it/s]\n",
      "223it [04:35,  1.04s/it]"
     ]
    },
    {
     "name": "stdout",
     "output_type": "stream",
     "text": [
      "pred: [8, 3], gt: [1, 2, 3, 2, 3]\n"
     ]
    },
    {
     "name": "stderr",
     "output_type": "stream",
     "text": [
      "Chunks: 100%|██████████| 6/6 [00:02<00:00,  2.14it/s]\n",
      "224it [04:38,  1.58s/it]"
     ]
    },
    {
     "name": "stdout",
     "output_type": "stream",
     "text": [
      "pred: [1, 10], gt: [1, 2, 3, 2, 3]\n"
     ]
    },
    {
     "name": "stderr",
     "output_type": "stream",
     "text": [
      "Chunks: 100%|██████████| 7/7 [00:00<00:00, 11.03it/s]\n",
      "225it [04:38,  1.31s/it]"
     ]
    },
    {
     "name": "stdout",
     "output_type": "stream",
     "text": [
      "pred: [5, 2, 1, 1, 13, 5], gt: [1, 8, 6, 6, 6]\n"
     ]
    },
    {
     "name": "stderr",
     "output_type": "stream",
     "text": [
      "Chunks: 100%|██████████| 7/7 [00:01<00:00,  5.57it/s]\n",
      "226it [04:40,  1.30s/it]"
     ]
    },
    {
     "name": "stdout",
     "output_type": "stream",
     "text": [
      "pred: [2, 3, 4, 11], gt: [1, 7, 6, 6]\n"
     ]
    },
    {
     "name": "stderr",
     "output_type": "stream",
     "text": [
      "Chunks: 100%|██████████| 5/5 [00:00<00:00,  7.56it/s]\n",
      "227it [04:40,  1.12s/it]"
     ]
    },
    {
     "name": "stdout",
     "output_type": "stream",
     "text": [
      "pred: [2, 7], gt: [1, 2, 3, 3]\n"
     ]
    },
    {
     "name": "stderr",
     "output_type": "stream",
     "text": [
      "Chunks: 100%|██████████| 5/5 [00:01<00:00,  4.82it/s]\n",
      "228it [04:41,  1.10s/it]"
     ]
    },
    {
     "name": "stdout",
     "output_type": "stream",
     "text": [
      "pred: [8, 1], gt: [2, 1, 2, 3, 1]\n"
     ]
    },
    {
     "name": "stderr",
     "output_type": "stream",
     "text": [
      "Chunks: 100%|██████████| 7/7 [00:02<00:00,  2.89it/s]\n",
      "229it [04:44,  1.51s/it]"
     ]
    },
    {
     "name": "stdout",
     "output_type": "stream",
     "text": [
      "pred: [2, 2, 10], gt: [1, 5, 4, 4]\n"
     ]
    },
    {
     "name": "stderr",
     "output_type": "stream",
     "text": [
      "Chunks: 100%|██████████| 2/2 [00:00<00:00,  4.90it/s]\n",
      "230it [04:44,  1.18s/it]"
     ]
    },
    {
     "name": "stdout",
     "output_type": "stream",
     "text": [
      "pred: [2], gt: [1, 1]\n",
      "WD calculation failed at index 229: [<class 'decimal.DivisionUndefined'>]\n",
      "pred: [2], gt: [1, 1]\n"
     ]
    },
    {
     "name": "stderr",
     "output_type": "stream",
     "text": [
      "Chunks: 100%|██████████| 6/6 [00:01<00:00,  4.42it/s]\n",
      "231it [04:46,  1.24s/it]"
     ]
    },
    {
     "name": "stdout",
     "output_type": "stream",
     "text": [
      "pred: [5, 5, 2], gt: [1, 3, 4, 4]\n"
     ]
    },
    {
     "name": "stderr",
     "output_type": "stream",
     "text": [
      "Chunks: 100%|██████████| 8/8 [00:02<00:00,  3.35it/s]\n",
      "232it [04:48,  1.60s/it]"
     ]
    },
    {
     "name": "stdout",
     "output_type": "stream",
     "text": [
      "pred: [1, 7], gt: [1, 3, 4]\n"
     ]
    },
    {
     "name": "stderr",
     "output_type": "stream",
     "text": [
      "Chunks: 100%|██████████| 7/7 [00:00<00:00,  8.57it/s]\n",
      "233it [04:49,  1.37s/it]"
     ]
    },
    {
     "name": "stdout",
     "output_type": "stream",
     "text": [
      "pred: [9, 2, 7, 1], gt: [1, 8, 10]\n"
     ]
    },
    {
     "name": "stderr",
     "output_type": "stream",
     "text": [
      "Chunks: 100%|██████████| 8/8 [00:01<00:00,  5.66it/s]\n",
      "234it [04:50,  1.39s/it]"
     ]
    },
    {
     "name": "stdout",
     "output_type": "stream",
     "text": [
      "pred: [7, 1], gt: [1, 4, 1, 2]\n"
     ]
    },
    {
     "name": "stderr",
     "output_type": "stream",
     "text": [
      "Chunks: 100%|██████████| 7/7 [00:02<00:00,  3.16it/s]\n",
      "235it [04:53,  1.65s/it]"
     ]
    },
    {
     "name": "stdout",
     "output_type": "stream",
     "text": [
      "pred: [2, 6, 6, 5], gt: [1, 6, 6, 6]\n"
     ]
    },
    {
     "name": "stderr",
     "output_type": "stream",
     "text": [
      "Chunks: 100%|██████████| 2/2 [00:00<00:00,  2.66it/s]\n",
      "236it [04:53,  1.39s/it]"
     ]
    },
    {
     "name": "stdout",
     "output_type": "stream",
     "text": [
      "pred: [2], gt: [1, 1]\n",
      "WD calculation failed at index 235: [<class 'decimal.DivisionUndefined'>]\n",
      "pred: [2], gt: [1, 1]\n"
     ]
    },
    {
     "name": "stderr",
     "output_type": "stream",
     "text": [
      "Chunks: 100%|██████████| 7/7 [00:01<00:00,  4.09it/s]\n",
      "237it [04:55,  1.50s/it]"
     ]
    },
    {
     "name": "stdout",
     "output_type": "stream",
     "text": [
      "pred: [8, 4, 3, 2, 2, 8], gt: [3, 8, 8, 8]\n"
     ]
    },
    {
     "name": "stderr",
     "output_type": "stream",
     "text": [
      "Chunks: 100%|██████████| 7/7 [00:00<00:00, 10.83it/s]\n",
      "238it [04:56,  1.25s/it]"
     ]
    },
    {
     "name": "stdout",
     "output_type": "stream",
     "text": [
      "pred: [6, 2, 9, 3], gt: [2, 4, 6, 4, 4]\n"
     ]
    },
    {
     "name": "stderr",
     "output_type": "stream",
     "text": [
      "Chunks: 100%|██████████| 7/7 [00:01<00:00,  5.15it/s]\n",
      "239it [04:57,  1.30s/it]"
     ]
    },
    {
     "name": "stdout",
     "output_type": "stream",
     "text": [
      "pred: [2, 6, 6, 7, 4], gt: [1, 7, 6, 5, 6]\n"
     ]
    },
    {
     "name": "stderr",
     "output_type": "stream",
     "text": [
      "Chunks: 100%|██████████| 8/8 [00:00<00:00,  8.31it/s]\n",
      "240it [04:58,  1.21s/it]"
     ]
    },
    {
     "name": "stdout",
     "output_type": "stream",
     "text": [
      "pred: [8, 6, 1], gt: [2, 3, 6, 4]\n"
     ]
    },
    {
     "name": "stderr",
     "output_type": "stream",
     "text": [
      "Chunks: 100%|██████████| 8/8 [00:01<00:00,  5.47it/s]\n",
      "241it [05:00,  1.29s/it]"
     ]
    },
    {
     "name": "stdout",
     "output_type": "stream",
     "text": [
      "pred: [8, 6, 2], gt: [1, 3, 3, 3, 3, 3]\n"
     ]
    },
    {
     "name": "stderr",
     "output_type": "stream",
     "text": [
      "Chunks: 100%|██████████| 6/6 [00:00<00:00,  7.31it/s]\n",
      "242it [05:01,  1.16s/it]"
     ]
    },
    {
     "name": "stdout",
     "output_type": "stream",
     "text": [
      "pred: [6], gt: [2, 1, 1, 2]\n"
     ]
    },
    {
     "name": "stderr",
     "output_type": "stream",
     "text": [
      "Chunks: 100%|██████████| 7/7 [00:01<00:00,  5.68it/s]\n",
      "243it [05:02,  1.19s/it]"
     ]
    },
    {
     "name": "stdout",
     "output_type": "stream",
     "text": [
      "pred: [1, 6, 10, 3], gt: [5, 5, 5, 5]\n"
     ]
    },
    {
     "name": "stderr",
     "output_type": "stream",
     "text": [
      "Chunks: 100%|██████████| 5/5 [00:01<00:00,  3.54it/s]\n",
      "244it [05:03,  1.27s/it]"
     ]
    },
    {
     "name": "stdout",
     "output_type": "stream",
     "text": [
      "pred: [5], gt: [1, 1, 1, 2]\n"
     ]
    },
    {
     "name": "stderr",
     "output_type": "stream",
     "text": [
      "Chunks: 100%|██████████| 6/6 [00:03<00:00,  1.94it/s]\n",
      "245it [05:06,  1.82s/it]"
     ]
    },
    {
     "name": "stdout",
     "output_type": "stream",
     "text": [
      "pred: [2, 9, 1], gt: [6, 6]\n"
     ]
    },
    {
     "name": "stderr",
     "output_type": "stream",
     "text": [
      "Chunks: 100%|██████████| 7/7 [00:01<00:00,  6.62it/s]\n",
      "246it [05:08,  1.60s/it]"
     ]
    },
    {
     "name": "stdout",
     "output_type": "stream",
     "text": [
      "pred: [6, 4, 3], gt: [1, 4, 4, 4]\n"
     ]
    },
    {
     "name": "stderr",
     "output_type": "stream",
     "text": [
      "Chunks: 100%|██████████| 7/7 [00:01<00:00,  6.71it/s]\n",
      "247it [05:09,  1.44s/it]"
     ]
    },
    {
     "name": "stdout",
     "output_type": "stream",
     "text": [
      "pred: [1, 10, 3], gt: [1, 4, 5, 4]\n"
     ]
    },
    {
     "name": "stderr",
     "output_type": "stream",
     "text": [
      "Chunks: 100%|██████████| 5/5 [00:00<00:00,  7.91it/s]\n",
      "248it [05:09,  1.21s/it]"
     ]
    },
    {
     "name": "stdout",
     "output_type": "stream",
     "text": [
      "pred: [1, 8], gt: [3, 2, 4]\n"
     ]
    },
    {
     "name": "stderr",
     "output_type": "stream",
     "text": [
      "Chunks: 100%|██████████| 8/8 [00:02<00:00,  2.85it/s]\n",
      "249it [05:12,  1.70s/it]"
     ]
    },
    {
     "name": "stdout",
     "output_type": "stream",
     "text": [
      "pred: [5, 1, 10, 4, 2], gt: [1, 21]\n"
     ]
    },
    {
     "name": "stderr",
     "output_type": "stream",
     "text": [
      "Chunks: 100%|██████████| 6/6 [00:01<00:00,  4.13it/s]\n",
      "250it [05:14,  1.64s/it]"
     ]
    },
    {
     "name": "stdout",
     "output_type": "stream",
     "text": [
      "pred: [1, 2, 7, 8], gt: [5, 3, 5, 5]\n"
     ]
    },
    {
     "name": "stderr",
     "output_type": "stream",
     "text": [
      "Chunks: 100%|██████████| 4/4 [00:00<00:00,  5.78it/s]\n",
      "251it [05:14,  1.36s/it]"
     ]
    },
    {
     "name": "stdout",
     "output_type": "stream",
     "text": [
      "pred: [4], gt: [2, 1, 1]\n"
     ]
    },
    {
     "name": "stderr",
     "output_type": "stream",
     "text": [
      "Chunks: 100%|██████████| 7/7 [00:00<00:00,  7.99it/s]\n",
      "252it [05:15,  1.23s/it]"
     ]
    },
    {
     "name": "stdout",
     "output_type": "stream",
     "text": [
      "pred: [9, 7, 4, 2, 3], gt: [2, 7, 9, 7]\n"
     ]
    },
    {
     "name": "stderr",
     "output_type": "stream",
     "text": [
      "Chunks: 100%|██████████| 7/7 [00:01<00:00,  6.39it/s]\n",
      "253it [05:16,  1.20s/it]"
     ]
    },
    {
     "name": "stdout",
     "output_type": "stream",
     "text": [
      "pred: [2, 11, 2, 6, 5], gt: [3, 7, 9, 7]\n"
     ]
    },
    {
     "name": "stderr",
     "output_type": "stream",
     "text": [
      "Chunks: 100%|██████████| 7/7 [00:01<00:00,  6.56it/s]\n",
      "254it [05:17,  1.17s/it]"
     ]
    },
    {
     "name": "stdout",
     "output_type": "stream",
     "text": [
      "pred: [4, 3], gt: [1, 2, 4]\n"
     ]
    },
    {
     "name": "stderr",
     "output_type": "stream",
     "text": [
      "Chunks: 100%|██████████| 6/6 [00:00<00:00,  7.12it/s]\n",
      "255it [05:18,  1.08s/it]"
     ]
    },
    {
     "name": "stdout",
     "output_type": "stream",
     "text": [
      "pred: [2, 3, 10, 3], gt: [1, 8, 5, 4]\n"
     ]
    },
    {
     "name": "stderr",
     "output_type": "stream",
     "text": [
      "Chunks: 100%|██████████| 5/5 [00:01<00:00,  4.20it/s]\n",
      "256it [05:20,  1.12s/it]"
     ]
    },
    {
     "name": "stdout",
     "output_type": "stream",
     "text": [
      "pred: [4, 6], gt: [3, 5, 2]\n"
     ]
    },
    {
     "name": "stderr",
     "output_type": "stream",
     "text": [
      "Chunks: 100%|██████████| 6/6 [00:00<00:00, 11.16it/s]\n",
      "257it [05:20,  1.05it/s]"
     ]
    },
    {
     "name": "stdout",
     "output_type": "stream",
     "text": [
      "pred: [6], gt: [2, 2, 2]\n"
     ]
    },
    {
     "name": "stderr",
     "output_type": "stream",
     "text": [
      "Chunks: 100%|██████████| 5/5 [00:00<00:00,  8.87it/s]\n",
      "258it [05:21,  1.19it/s]"
     ]
    },
    {
     "name": "stdout",
     "output_type": "stream",
     "text": [
      "pred: [3, 6], gt: [3, 3, 3]\n"
     ]
    },
    {
     "name": "stderr",
     "output_type": "stream",
     "text": [
      "Chunks: 100%|██████████| 8/8 [00:00<00:00,  8.01it/s]\n",
      "259it [05:22,  1.11it/s]"
     ]
    },
    {
     "name": "stdout",
     "output_type": "stream",
     "text": [
      "pred: [11, 2, 2, 5, 2], gt: [2, 11, 9]\n"
     ]
    },
    {
     "name": "stderr",
     "output_type": "stream",
     "text": [
      "Chunks: 100%|██████████| 3/3 [00:00<00:00,  8.85it/s]\n",
      "260it [05:22,  1.36it/s]"
     ]
    },
    {
     "name": "stdout",
     "output_type": "stream",
     "text": [
      "pred: [3], gt: [1, 1, 1]\n"
     ]
    },
    {
     "name": "stderr",
     "output_type": "stream",
     "text": [
      "Chunks: 100%|██████████| 5/5 [00:00<00:00,  5.21it/s]\n",
      "261it [05:23,  1.23it/s]"
     ]
    },
    {
     "name": "stdout",
     "output_type": "stream",
     "text": [
      "pred: [5], gt: [1, 1, 1, 1, 1]\n"
     ]
    },
    {
     "name": "stderr",
     "output_type": "stream",
     "text": [
      "Chunks: 100%|██████████| 7/7 [00:01<00:00,  6.77it/s]\n",
      "262it [05:24,  1.13it/s]"
     ]
    },
    {
     "name": "stdout",
     "output_type": "stream",
     "text": [
      "pred: [6, 1, 2, 10], gt: [2, 4, 7, 6]\n"
     ]
    },
    {
     "name": "stderr",
     "output_type": "stream",
     "text": [
      "Chunks: 100%|██████████| 5/5 [00:00<00:00,  9.22it/s]\n",
      "263it [05:25,  1.26it/s]"
     ]
    },
    {
     "name": "stdout",
     "output_type": "stream",
     "text": [
      "pred: [5, 5], gt: [4, 3, 3]\n"
     ]
    },
    {
     "name": "stderr",
     "output_type": "stream",
     "text": [
      "Chunks: 100%|██████████| 7/7 [00:01<00:00,  4.62it/s]\n",
      "264it [05:26,  1.02s/it]"
     ]
    },
    {
     "name": "stdout",
     "output_type": "stream",
     "text": [
      "pred: [10, 4], gt: [1, 5, 3, 5]\n"
     ]
    },
    {
     "name": "stderr",
     "output_type": "stream",
     "text": [
      "Chunks: 100%|██████████| 6/6 [00:00<00:00,  8.03it/s]\n",
      "265it [05:27,  1.06it/s]"
     ]
    },
    {
     "name": "stdout",
     "output_type": "stream",
     "text": [
      "pred: [6], gt: [2, 2, 2]\n"
     ]
    },
    {
     "name": "stderr",
     "output_type": "stream",
     "text": [
      "Chunks: 100%|██████████| 7/7 [00:01<00:00,  6.35it/s]\n",
      "266it [05:28,  1.00s/it]"
     ]
    },
    {
     "name": "stdout",
     "output_type": "stream",
     "text": [
      "pred: [2, 5, 6], gt: [1, 4, 5, 3]\n"
     ]
    },
    {
     "name": "stderr",
     "output_type": "stream",
     "text": [
      "Chunks: 100%|██████████| 7/7 [00:00<00:00,  7.42it/s]\n",
      "267it [05:29,  1.01it/s]"
     ]
    },
    {
     "name": "stdout",
     "output_type": "stream",
     "text": [
      "pred: [12, 1, 4, 4], gt: [1, 5, 5, 5, 5]\n"
     ]
    },
    {
     "name": "stderr",
     "output_type": "stream",
     "text": [
      "Chunks: 100%|██████████| 8/8 [00:00<00:00,  9.83it/s]\n",
      "268it [05:30,  1.05it/s]"
     ]
    },
    {
     "name": "stdout",
     "output_type": "stream",
     "text": [
      "pred: [1, 7, 2, 5, 7], gt: [2, 5, 8, 7]\n"
     ]
    },
    {
     "name": "stderr",
     "output_type": "stream",
     "text": [
      "Chunks: 100%|██████████| 7/7 [00:01<00:00,  4.87it/s]\n",
      "269it [05:31,  1.11s/it]"
     ]
    },
    {
     "name": "stdout",
     "output_type": "stream",
     "text": [
      "pred: [7, 1, 6], gt: [1, 4, 4, 5]\n"
     ]
    },
    {
     "name": "stderr",
     "output_type": "stream",
     "text": [
      "Chunks: 100%|██████████| 8/8 [00:00<00:00, 10.88it/s]\n",
      "270it [05:32,  1.01s/it]"
     ]
    },
    {
     "name": "stdout",
     "output_type": "stream",
     "text": [
      "pred: [2, 1, 12], gt: [2, 4, 6, 3]\n"
     ]
    },
    {
     "name": "stderr",
     "output_type": "stream",
     "text": [
      "Chunks: 100%|██████████| 8/8 [00:01<00:00,  4.90it/s]\n",
      "271it [05:34,  1.21s/it]"
     ]
    },
    {
     "name": "stdout",
     "output_type": "stream",
     "text": [
      "pred: [1, 14, 3, 8, 7, 1, 2], gt: [2, 14, 9, 7, 4]\n"
     ]
    },
    {
     "name": "stderr",
     "output_type": "stream",
     "text": [
      "Chunks: 100%|██████████| 8/8 [00:01<00:00,  6.17it/s]\n",
      "272it [05:35,  1.24s/it]"
     ]
    },
    {
     "name": "stdout",
     "output_type": "stream",
     "text": [
      "pred: [6, 2, 7], gt: [1, 6, 4, 4]\n"
     ]
    },
    {
     "name": "stderr",
     "output_type": "stream",
     "text": [
      "Chunks: 100%|██████████| 6/6 [00:01<00:00,  5.09it/s]\n",
      "273it [05:36,  1.23s/it]"
     ]
    },
    {
     "name": "stdout",
     "output_type": "stream",
     "text": [
      "pred: [7, 5, 3, 2], gt: [3, 4, 4, 6]\n"
     ]
    },
    {
     "name": "stderr",
     "output_type": "stream",
     "text": [
      "Chunks: 100%|██████████| 7/7 [00:02<00:00,  3.26it/s]\n",
      "274it [05:39,  1.52s/it]"
     ]
    },
    {
     "name": "stdout",
     "output_type": "stream",
     "text": [
      "pred: [1, 6, 7], gt: [2, 2, 3, 2, 2, 3]\n"
     ]
    },
    {
     "name": "stderr",
     "output_type": "stream",
     "text": [
      "Chunks: 100%|██████████| 8/8 [00:02<00:00,  3.57it/s]\n",
      "275it [05:41,  1.74s/it]"
     ]
    },
    {
     "name": "stdout",
     "output_type": "stream",
     "text": [
      "pred: [1, 5, 3, 6, 7], gt: [2, 7, 6, 7]\n"
     ]
    },
    {
     "name": "stderr",
     "output_type": "stream",
     "text": [
      "Chunks: 100%|██████████| 6/6 [00:00<00:00,  7.03it/s]\n",
      "276it [05:42,  1.49s/it]"
     ]
    },
    {
     "name": "stdout",
     "output_type": "stream",
     "text": [
      "pred: [9, 2, 1], gt: [1, 2, 4, 3, 2]\n"
     ]
    },
    {
     "name": "stderr",
     "output_type": "stream",
     "text": [
      "Chunks: 100%|██████████| 6/6 [00:00<00:00,  7.78it/s]\n",
      "277it [05:43,  1.28s/it]"
     ]
    },
    {
     "name": "stdout",
     "output_type": "stream",
     "text": [
      "pred: [6], gt: [3, 3]\n"
     ]
    },
    {
     "name": "stderr",
     "output_type": "stream",
     "text": [
      "Chunks: 100%|██████████| 7/7 [00:01<00:00,  6.46it/s]\n",
      "278it [05:44,  1.23s/it]"
     ]
    },
    {
     "name": "stdout",
     "output_type": "stream",
     "text": [
      "pred: [8, 6, 2, 3], gt: [1, 6, 6, 6]\n"
     ]
    },
    {
     "name": "stderr",
     "output_type": "stream",
     "text": [
      "Chunks: 100%|██████████| 5/5 [00:01<00:00,  2.95it/s]\n",
      "279it [05:45,  1.38s/it]"
     ]
    },
    {
     "name": "stdout",
     "output_type": "stream",
     "text": [
      "pred: [6, 4], gt: [5, 3, 2]\n"
     ]
    },
    {
     "name": "stderr",
     "output_type": "stream",
     "text": [
      "Chunks: 100%|██████████| 5/5 [00:00<00:00,  5.47it/s]\n",
      "280it [05:46,  1.25s/it]"
     ]
    },
    {
     "name": "stdout",
     "output_type": "stream",
     "text": [
      "pred: [4, 6], gt: [1, 3, 3, 3]\n"
     ]
    },
    {
     "name": "stderr",
     "output_type": "stream",
     "text": [
      "Chunks: 100%|██████████| 8/8 [00:00<00:00, 12.82it/s]\n",
      "281it [05:47,  1.07s/it]"
     ]
    },
    {
     "name": "stdout",
     "output_type": "stream",
     "text": [
      "pred: [5, 3], gt: [1, 2, 2, 3]\n"
     ]
    },
    {
     "name": "stderr",
     "output_type": "stream",
     "text": [
      "Chunks: 100%|██████████| 2/2 [00:00<00:00,  3.14it/s]\n",
      "282it [05:48,  1.06it/s]"
     ]
    },
    {
     "name": "stdout",
     "output_type": "stream",
     "text": [
      "pred: [2], gt: [1, 1]\n",
      "WD calculation failed at index 281: [<class 'decimal.DivisionUndefined'>]\n",
      "pred: [2], gt: [1, 1]\n"
     ]
    },
    {
     "name": "stderr",
     "output_type": "stream",
     "text": [
      "Chunks: 100%|██████████| 4/4 [00:00<00:00,  4.19it/s]\n",
      "283it [05:49,  1.05it/s]"
     ]
    },
    {
     "name": "stdout",
     "output_type": "stream",
     "text": [
      "pred: [4], gt: [1, 1, 1, 1]\n"
     ]
    },
    {
     "name": "stderr",
     "output_type": "stream",
     "text": [
      "Chunks: 100%|██████████| 6/6 [00:02<00:00,  2.77it/s]\n",
      "284it [05:51,  1.33s/it]"
     ]
    },
    {
     "name": "stdout",
     "output_type": "stream",
     "text": [
      "pred: [6, 4, 2], gt: [1, 3, 4, 4]\n"
     ]
    },
    {
     "name": "stderr",
     "output_type": "stream",
     "text": [
      "Chunks: 100%|██████████| 5/5 [00:00<00:00,  7.79it/s]\n",
      "285it [05:52,  1.13s/it]"
     ]
    },
    {
     "name": "stdout",
     "output_type": "stream",
     "text": [
      "pred: [6, 3], gt: [1, 4, 4]\n"
     ]
    },
    {
     "name": "stderr",
     "output_type": "stream",
     "text": [
      "Chunks: 100%|██████████| 6/6 [00:01<00:00,  4.34it/s]\n",
      "286it [05:53,  1.21s/it]"
     ]
    },
    {
     "name": "stdout",
     "output_type": "stream",
     "text": [
      "pred: [6, 3, 3], gt: [1, 7, 4]\n"
     ]
    },
    {
     "name": "stderr",
     "output_type": "stream",
     "text": [
      "Chunks: 100%|██████████| 7/7 [00:00<00:00,  9.24it/s]\n",
      "287it [05:54,  1.09s/it]"
     ]
    },
    {
     "name": "stdout",
     "output_type": "stream",
     "text": [
      "pred: [5, 2, 6], gt: [1, 3, 6, 3]\n"
     ]
    },
    {
     "name": "stderr",
     "output_type": "stream",
     "text": [
      "Chunks: 100%|██████████| 6/6 [00:00<00:00,  6.87it/s]\n",
      "288it [05:55,  1.03s/it]"
     ]
    },
    {
     "name": "stdout",
     "output_type": "stream",
     "text": [
      "pred: [3, 9, 3, 3], gt: [2, 4, 6, 6]\n"
     ]
    },
    {
     "name": "stderr",
     "output_type": "stream",
     "text": [
      "Chunks: 100%|██████████| 8/8 [00:01<00:00,  4.89it/s]\n",
      "289it [05:56,  1.22s/it]"
     ]
    },
    {
     "name": "stdout",
     "output_type": "stream",
     "text": [
      "pred: [7, 4, 5], gt: [2, 4, 4, 6]\n"
     ]
    },
    {
     "name": "stderr",
     "output_type": "stream",
     "text": [
      "Chunks: 100%|██████████| 5/5 [00:00<00:00, 11.88it/s]\n",
      "290it [05:57,  1.01it/s]"
     ]
    },
    {
     "name": "stdout",
     "output_type": "stream",
     "text": [
      "pred: [5], gt: [1, 2, 2]\n"
     ]
    },
    {
     "name": "stderr",
     "output_type": "stream",
     "text": [
      "Chunks: 100%|██████████| 6/6 [00:02<00:00,  2.43it/s]\n",
      "291it [05:59,  1.44s/it]"
     ]
    },
    {
     "name": "stdout",
     "output_type": "stream",
     "text": [
      "pred: [3, 8], gt: [2, 3, 3, 3]\n"
     ]
    },
    {
     "name": "stderr",
     "output_type": "stream",
     "text": [
      "Chunks: 100%|██████████| 8/8 [00:01<00:00,  4.27it/s]\n",
      "292it [06:01,  1.59s/it]"
     ]
    },
    {
     "name": "stdout",
     "output_type": "stream",
     "text": [
      "pred: [12, 6, 1, 4, 6, 1], gt: [2, 9, 9, 10]\n"
     ]
    },
    {
     "name": "stderr",
     "output_type": "stream",
     "text": [
      "Chunks: 100%|██████████| 7/7 [00:00<00:00,  9.05it/s]\n",
      "293it [06:02,  1.35s/it]"
     ]
    },
    {
     "name": "stdout",
     "output_type": "stream",
     "text": [
      "pred: [12, 1, 4, 2], gt: [4, 9, 6]\n"
     ]
    },
    {
     "name": "stderr",
     "output_type": "stream",
     "text": [
      "Chunks: 100%|██████████| 7/7 [00:01<00:00,  3.56it/s]\n",
      "294it [06:04,  1.55s/it]"
     ]
    },
    {
     "name": "stdout",
     "output_type": "stream",
     "text": [
      "pred: [1, 16, 1, 2, 6], gt: [2, 4, 7, 7, 6]\n"
     ]
    },
    {
     "name": "stderr",
     "output_type": "stream",
     "text": [
      "Chunks: 100%|██████████| 8/8 [00:02<00:00,  3.88it/s]\n",
      "295it [06:06,  1.71s/it]"
     ]
    },
    {
     "name": "stdout",
     "output_type": "stream",
     "text": [
      "pred: [3, 1, 10, 9, 1], gt: [7, 7, 5, 5]\n"
     ]
    },
    {
     "name": "stderr",
     "output_type": "stream",
     "text": [
      "Chunks: 100%|██████████| 6/6 [00:01<00:00,  5.43it/s]\n",
      "296it [06:07,  1.54s/it]"
     ]
    },
    {
     "name": "stdout",
     "output_type": "stream",
     "text": [
      "pred: [3, 2, 8, 5], gt: [1, 7, 4, 6]\n"
     ]
    },
    {
     "name": "stderr",
     "output_type": "stream",
     "text": [
      "Chunks: 100%|██████████| 8/8 [00:01<00:00,  5.62it/s]\n",
      "297it [06:09,  1.52s/it]"
     ]
    },
    {
     "name": "stdout",
     "output_type": "stream",
     "text": [
      "pred: [1, 2, 1, 12, 7, 8, 1], gt: [3, 13, 6, 10]\n"
     ]
    },
    {
     "name": "stderr",
     "output_type": "stream",
     "text": [
      "Chunks: 100%|██████████| 4/4 [00:00<00:00,  5.82it/s]\n",
      "298it [06:09,  1.28s/it]"
     ]
    },
    {
     "name": "stdout",
     "output_type": "stream",
     "text": [
      "pred: [4], gt: [3, 1]\n"
     ]
    },
    {
     "name": "stderr",
     "output_type": "stream",
     "text": [
      "Chunks: 100%|██████████| 7/7 [00:00<00:00,  8.50it/s]\n",
      "299it [06:10,  1.15s/it]"
     ]
    },
    {
     "name": "stdout",
     "output_type": "stream",
     "text": [
      "pred: [6, 2, 5], gt: [3, 3, 4, 3]\n"
     ]
    },
    {
     "name": "stderr",
     "output_type": "stream",
     "text": [
      "Chunks: 100%|██████████| 7/7 [00:02<00:00,  2.51it/s]\n",
      "300it [06:13,  1.66s/it]"
     ]
    },
    {
     "name": "stdout",
     "output_type": "stream",
     "text": [
      "pred: [6, 2, 1, 5, 1, 4, 15], gt: [1, 19, 6, 8]\n"
     ]
    },
    {
     "name": "stderr",
     "output_type": "stream",
     "text": [
      "Chunks: 100%|██████████| 4/4 [00:00<00:00, 11.47it/s]\n",
      "301it [06:13,  1.27s/it]"
     ]
    },
    {
     "name": "stdout",
     "output_type": "stream",
     "text": [
      "pred: [4], gt: [2, 2]\n"
     ]
    },
    {
     "name": "stderr",
     "output_type": "stream",
     "text": [
      "Chunks: 100%|██████████| 2/2 [00:00<00:00,  2.57it/s]\n",
      "302it [06:14,  1.13s/it]"
     ]
    },
    {
     "name": "stdout",
     "output_type": "stream",
     "text": [
      "pred: [2], gt: [1, 1]\n",
      "WD calculation failed at index 301: [<class 'decimal.DivisionUndefined'>]\n",
      "pred: [2], gt: [1, 1]\n"
     ]
    },
    {
     "name": "stderr",
     "output_type": "stream",
     "text": [
      "Chunks: 100%|██████████| 8/8 [00:02<00:00,  3.12it/s]\n",
      "303it [06:17,  1.57s/it]"
     ]
    },
    {
     "name": "stdout",
     "output_type": "stream",
     "text": [
      "pred: [1, 10, 5], gt: [2, 4, 4, 6]\n"
     ]
    },
    {
     "name": "stderr",
     "output_type": "stream",
     "text": [
      "Chunks: 100%|██████████| 7/7 [00:00<00:00,  9.93it/s]\n",
      "304it [06:18,  1.32s/it]"
     ]
    },
    {
     "name": "stdout",
     "output_type": "stream",
     "text": [
      "pred: [5, 14, 2, 3, 1], gt: [2, 8, 8, 7]\n"
     ]
    },
    {
     "name": "stderr",
     "output_type": "stream",
     "text": [
      "Chunks: 100%|██████████| 7/7 [00:00<00:00,  7.91it/s]\n",
      "305it [06:18,  1.20s/it]"
     ]
    },
    {
     "name": "stdout",
     "output_type": "stream",
     "text": [
      "pred: [5, 7, 2], gt: [2, 5, 4, 3]\n"
     ]
    },
    {
     "name": "stderr",
     "output_type": "stream",
     "text": [
      "Chunks: 100%|██████████| 7/7 [00:00<00:00,  8.09it/s]\n",
      "306it [06:19,  1.11s/it]"
     ]
    },
    {
     "name": "stdout",
     "output_type": "stream",
     "text": [
      "pred: [9, 1, 3], gt: [1, 3, 3, 6]\n"
     ]
    },
    {
     "name": "stderr",
     "output_type": "stream",
     "text": [
      "Chunks: 100%|██████████| 8/8 [00:01<00:00,  5.37it/s]\n",
      "307it [06:21,  1.23s/it]"
     ]
    },
    {
     "name": "stdout",
     "output_type": "stream",
     "text": [
      "pred: [6, 3, 7], gt: [1, 5, 2, 5, 3]\n"
     ]
    },
    {
     "name": "stderr",
     "output_type": "stream",
     "text": [
      "Chunks: 100%|██████████| 7/7 [00:01<00:00,  6.14it/s]\n",
      "308it [06:22,  1.21s/it]"
     ]
    },
    {
     "name": "stdout",
     "output_type": "stream",
     "text": [
      "pred: [2, 5, 3, 11], gt: [2, 7, 6, 6]\n"
     ]
    },
    {
     "name": "stderr",
     "output_type": "stream",
     "text": [
      "Chunks: 100%|██████████| 4/4 [00:01<00:00,  2.84it/s]\n",
      "309it [06:24,  1.28s/it]"
     ]
    },
    {
     "name": "stdout",
     "output_type": "stream",
     "text": [
      "pred: [4], gt: [1, 3]\n"
     ]
    },
    {
     "name": "stderr",
     "output_type": "stream",
     "text": [
      "Chunks: 100%|██████████| 7/7 [00:00<00:00, 14.97it/s]\n",
      "310it [06:24,  1.04s/it]"
     ]
    },
    {
     "name": "stdout",
     "output_type": "stream",
     "text": [
      "pred: [8, 2, 4], gt: [5, 5, 4]\n"
     ]
    },
    {
     "name": "stderr",
     "output_type": "stream",
     "text": [
      "Chunks: 100%|██████████| 7/7 [00:02<00:00,  3.25it/s]\n",
      "311it [06:26,  1.39s/it]"
     ]
    },
    {
     "name": "stdout",
     "output_type": "stream",
     "text": [
      "pred: [7, 5, 1], gt: [1, 5, 4, 3]\n"
     ]
    },
    {
     "name": "stderr",
     "output_type": "stream",
     "text": [
      "Chunks: 100%|██████████| 6/6 [00:01<00:00,  4.18it/s]\n",
      "312it [06:28,  1.41s/it]"
     ]
    },
    {
     "name": "stdout",
     "output_type": "stream",
     "text": [
      "pred: [2, 8, 2], gt: [1, 5, 3, 3]\n"
     ]
    },
    {
     "name": "stderr",
     "output_type": "stream",
     "text": [
      "Chunks: 100%|██████████| 7/7 [00:02<00:00,  2.91it/s]\n",
      "313it [06:30,  1.72s/it]"
     ]
    },
    {
     "name": "stdout",
     "output_type": "stream",
     "text": [
      "pred: [9, 2, 1, 2, 11], gt: [1, 7, 9, 8]\n"
     ]
    },
    {
     "name": "stderr",
     "output_type": "stream",
     "text": [
      "Chunks: 100%|██████████| 6/6 [00:00<00:00,  8.81it/s]\n",
      "314it [06:31,  1.42s/it]"
     ]
    },
    {
     "name": "stdout",
     "output_type": "stream",
     "text": [
      "pred: [5, 5, 2], gt: [4, 4, 4]\n"
     ]
    },
    {
     "name": "stderr",
     "output_type": "stream",
     "text": [
      "Chunks: 100%|██████████| 6/6 [00:01<00:00,  5.98it/s]\n",
      "315it [06:32,  1.30s/it]"
     ]
    },
    {
     "name": "stdout",
     "output_type": "stream",
     "text": [
      "pred: [3, 4, 5], gt: [1, 5, 3, 3]\n"
     ]
    },
    {
     "name": "stderr",
     "output_type": "stream",
     "text": [
      "Chunks: 100%|██████████| 6/6 [00:00<00:00,  8.59it/s]\n",
      "316it [06:33,  1.13s/it]"
     ]
    },
    {
     "name": "stdout",
     "output_type": "stream",
     "text": [
      "pred: [7, 2, 3], gt: [7, 5]\n"
     ]
    },
    {
     "name": "stderr",
     "output_type": "stream",
     "text": [
      "Chunks: 100%|██████████| 7/7 [00:02<00:00,  2.74it/s]\n",
      "317it [06:35,  1.57s/it]"
     ]
    },
    {
     "name": "stdout",
     "output_type": "stream",
     "text": [
      "pred: [7, 4, 2], gt: [2, 4, 4, 3]\n"
     ]
    },
    {
     "name": "stderr",
     "output_type": "stream",
     "text": [
      "Chunks: 100%|██████████| 7/7 [00:00<00:00, 14.10it/s]\n",
      "318it [06:36,  1.26s/it]"
     ]
    },
    {
     "name": "stdout",
     "output_type": "stream",
     "text": [
      "pred: [3, 9, 8, 1, 5, 1], gt: [2, 5, 5, 8, 7]\n"
     ]
    },
    {
     "name": "stderr",
     "output_type": "stream",
     "text": [
      "Chunks: 100%|██████████| 8/8 [00:00<00:00,  8.40it/s]\n",
      "319it [06:37,  1.17s/it]"
     ]
    },
    {
     "name": "stdout",
     "output_type": "stream",
     "text": [
      "pred: [7, 2, 6], gt: [2, 5, 5, 3]\n"
     ]
    },
    {
     "name": "stderr",
     "output_type": "stream",
     "text": [
      "Chunks: 100%|██████████| 6/6 [00:00<00:00, 12.37it/s]\n",
      "320it [06:37,  1.03it/s]"
     ]
    },
    {
     "name": "stdout",
     "output_type": "stream",
     "text": [
      "pred: [5, 6], gt: [1, 3, 4, 1, 2]\n"
     ]
    },
    {
     "name": "stderr",
     "output_type": "stream",
     "text": [
      "Chunks: 100%|██████████| 8/8 [00:01<00:00,  5.04it/s]\n",
      "321it [06:39,  1.17s/it]"
     ]
    },
    {
     "name": "stdout",
     "output_type": "stream",
     "text": [
      "pred: [1, 3, 11], gt: [2, 7, 6]\n"
     ]
    },
    {
     "name": "stderr",
     "output_type": "stream",
     "text": [
      "Chunks: 100%|██████████| 8/8 [00:01<00:00,  6.22it/s]\n",
      "322it [06:40,  1.22s/it]"
     ]
    },
    {
     "name": "stdout",
     "output_type": "stream",
     "text": [
      "pred: [1, 5, 6, 9, 1, 4, 5, 9], gt: [3, 14, 12, 11]\n"
     ]
    },
    {
     "name": "stderr",
     "output_type": "stream",
     "text": [
      "Chunks: 100%|██████████| 5/5 [00:00<00:00,  5.97it/s]\n",
      "323it [06:41,  1.11s/it]"
     ]
    },
    {
     "name": "stdout",
     "output_type": "stream",
     "text": [
      "pred: [2, 7], gt: [2, 2, 3, 2]\n"
     ]
    },
    {
     "name": "stderr",
     "output_type": "stream",
     "text": [
      "Chunks: 100%|██████████| 8/8 [00:01<00:00,  5.62it/s]\n",
      "324it [06:42,  1.21s/it]"
     ]
    },
    {
     "name": "stdout",
     "output_type": "stream",
     "text": [
      "pred: [13, 3], gt: [1, 6, 5, 4]\n"
     ]
    },
    {
     "name": "stderr",
     "output_type": "stream",
     "text": [
      "Chunks: 100%|██████████| 7/7 [00:01<00:00,  4.83it/s]\n",
      "325it [06:44,  1.30s/it]"
     ]
    },
    {
     "name": "stdout",
     "output_type": "stream",
     "text": [
      "pred: [7, 1, 2, 9, 5, 3], gt: [1, 9, 8, 9]\n"
     ]
    },
    {
     "name": "stderr",
     "output_type": "stream",
     "text": [
      "Chunks: 100%|██████████| 7/7 [00:00<00:00,  9.09it/s]\n",
      "326it [06:45,  1.15s/it]"
     ]
    },
    {
     "name": "stdout",
     "output_type": "stream",
     "text": [
      "pred: [1, 3, 9, 6], gt: [4, 4, 5, 6]\n"
     ]
    },
    {
     "name": "stderr",
     "output_type": "stream",
     "text": [
      "Chunks: 100%|██████████| 8/8 [00:01<00:00,  5.35it/s]\n",
      "327it [06:46,  1.27s/it]"
     ]
    },
    {
     "name": "stdout",
     "output_type": "stream",
     "text": [
      "pred: [1, 5, 10], gt: [1, 4, 5, 6]\n"
     ]
    },
    {
     "name": "stderr",
     "output_type": "stream",
     "text": [
      "Chunks: 100%|██████████| 7/7 [00:00<00:00, 12.53it/s]\n",
      "328it [06:47,  1.06s/it]"
     ]
    },
    {
     "name": "stdout",
     "output_type": "stream",
     "text": [
      "pred: [3, 5, 2, 11], gt: [1, 7, 6, 7]\n"
     ]
    },
    {
     "name": "stderr",
     "output_type": "stream",
     "text": [
      "Chunks: 100%|██████████| 8/8 [00:00<00:00, 11.91it/s]\n",
      "329it [06:48,  1.05it/s]"
     ]
    },
    {
     "name": "stdout",
     "output_type": "stream",
     "text": [
      "pred: [1, 2, 9, 1, 10], gt: [4, 7, 7, 5]\n"
     ]
    },
    {
     "name": "stderr",
     "output_type": "stream",
     "text": [
      "Chunks: 100%|██████████| 4/4 [00:00<00:00, 11.00it/s]\n",
      "330it [06:48,  1.28it/s]"
     ]
    },
    {
     "name": "stdout",
     "output_type": "stream",
     "text": [
      "pred: [4], gt: [1, 1, 1, 1]\n"
     ]
    },
    {
     "name": "stderr",
     "output_type": "stream",
     "text": [
      "Chunks: 100%|██████████| 7/7 [00:01<00:00,  4.95it/s]\n",
      "331it [06:49,  1.02it/s]"
     ]
    },
    {
     "name": "stdout",
     "output_type": "stream",
     "text": [
      "pred: [6, 3, 4], gt: [1, 2, 5, 5]\n"
     ]
    },
    {
     "name": "stderr",
     "output_type": "stream",
     "text": [
      "Chunks: 100%|██████████| 7/7 [00:00<00:00, 14.85it/s]\n",
      "332it [06:50,  1.19it/s]"
     ]
    },
    {
     "name": "stdout",
     "output_type": "stream",
     "text": [
      "pred: [2, 8, 3], gt: [5, 5, 3]\n"
     ]
    },
    {
     "name": "stderr",
     "output_type": "stream",
     "text": [
      "Chunks: 100%|██████████| 5/5 [00:01<00:00,  4.43it/s]\n",
      "333it [06:51,  1.07it/s]"
     ]
    },
    {
     "name": "stdout",
     "output_type": "stream",
     "text": [
      "pred: [1, 9], gt: [1, 2, 3, 2, 2]\n"
     ]
    },
    {
     "name": "stderr",
     "output_type": "stream",
     "text": [
      "Chunks: 100%|██████████| 7/7 [00:01<00:00,  5.95it/s]\n",
      "334it [06:52,  1.01s/it]"
     ]
    },
    {
     "name": "stdout",
     "output_type": "stream",
     "text": [
      "pred: [6, 4, 4], gt: [1, 5, 4, 4]\n"
     ]
    },
    {
     "name": "stderr",
     "output_type": "stream",
     "text": [
      "Chunks: 100%|██████████| 6/6 [00:01<00:00,  4.71it/s]\n",
      "335it [06:54,  1.10s/it]"
     ]
    },
    {
     "name": "stdout",
     "output_type": "stream",
     "text": [
      "pred: [4, 7], gt: [1, 2, 5, 3]\n"
     ]
    },
    {
     "name": "stderr",
     "output_type": "stream",
     "text": [
      "Chunks: 100%|██████████| 6/6 [00:01<00:00,  4.22it/s]\n",
      "336it [06:55,  1.20s/it]"
     ]
    },
    {
     "name": "stdout",
     "output_type": "stream",
     "text": [
      "pred: [6, 3, 3], gt: [1, 2, 3, 2, 4]\n"
     ]
    },
    {
     "name": "stderr",
     "output_type": "stream",
     "text": [
      "Chunks: 100%|██████████| 7/7 [00:00<00:00,  7.97it/s]\n",
      "337it [06:56,  1.11s/it]"
     ]
    },
    {
     "name": "stdout",
     "output_type": "stream",
     "text": [
      "pred: [2, 13, 4, 2], gt: [3, 3, 3, 4, 8]\n"
     ]
    },
    {
     "name": "stderr",
     "output_type": "stream",
     "text": [
      "Chunks: 100%|██████████| 7/7 [00:00<00:00,  7.17it/s]\n",
      "338it [06:57,  1.08s/it]"
     ]
    },
    {
     "name": "stdout",
     "output_type": "stream",
     "text": [
      "pred: [1, 5, 8], gt: [1, 5, 4, 4]\n"
     ]
    },
    {
     "name": "stderr",
     "output_type": "stream",
     "text": [
      "Chunks: 100%|██████████| 7/7 [00:01<00:00,  3.77it/s]\n",
      "339it [06:59,  1.32s/it]"
     ]
    },
    {
     "name": "stdout",
     "output_type": "stream",
     "text": [
      "pred: [6, 4, 4], gt: [1, 5, 4, 4]\n"
     ]
    },
    {
     "name": "stderr",
     "output_type": "stream",
     "text": [
      "Chunks: 100%|██████████| 6/6 [00:00<00:00,  7.25it/s]\n",
      "340it [07:00,  1.18s/it]"
     ]
    },
    {
     "name": "stdout",
     "output_type": "stream",
     "text": [
      "pred: [8, 3], gt: [1, 3, 3, 4]\n"
     ]
    },
    {
     "name": "stderr",
     "output_type": "stream",
     "text": [
      "Chunks: 100%|██████████| 5/5 [00:02<00:00,  2.31it/s]\n",
      "341it [07:02,  1.48s/it]"
     ]
    },
    {
     "name": "stdout",
     "output_type": "stream",
     "text": [
      "pred: [6, 4], gt: [1, 3, 4, 2]\n"
     ]
    },
    {
     "name": "stderr",
     "output_type": "stream",
     "text": [
      "Chunks: 100%|██████████| 8/8 [00:01<00:00,  4.69it/s]\n",
      "342it [07:04,  1.56s/it]"
     ]
    },
    {
     "name": "stdout",
     "output_type": "stream",
     "text": [
      "pred: [4, 6, 4, 5, 4], gt: [2, 11, 4, 6]\n"
     ]
    },
    {
     "name": "stderr",
     "output_type": "stream",
     "text": [
      "Chunks: 100%|██████████| 5/5 [00:00<00:00,  5.66it/s]\n",
      "343it [07:04,  1.36s/it]"
     ]
    },
    {
     "name": "stdout",
     "output_type": "stream",
     "text": [
      "pred: [9, 1], gt: [1, 2, 3, 2, 2]\n"
     ]
    },
    {
     "name": "stderr",
     "output_type": "stream",
     "text": [
      "Chunks: 100%|██████████| 7/7 [00:01<00:00,  5.26it/s]\n",
      "344it [07:06,  1.36s/it]"
     ]
    },
    {
     "name": "stdout",
     "output_type": "stream",
     "text": [
      "pred: [6, 2, 5], gt: [1, 4, 2, 6]\n"
     ]
    },
    {
     "name": "stderr",
     "output_type": "stream",
     "text": [
      "Chunks: 100%|██████████| 7/7 [00:00<00:00,  7.45it/s]\n",
      "345it [07:07,  1.24s/it]"
     ]
    },
    {
     "name": "stdout",
     "output_type": "stream",
     "text": [
      "pred: [5, 5, 5, 2, 8], gt: [1, 9, 7, 8]\n"
     ]
    },
    {
     "name": "stderr",
     "output_type": "stream",
     "text": [
      "Chunks: 100%|██████████| 6/6 [00:00<00:00, 15.61it/s]\n",
      "346it [07:07,  1.01it/s]"
     ]
    },
    {
     "name": "stdout",
     "output_type": "stream",
     "text": [
      "pred: [6], gt: [2, 2, 2]\n"
     ]
    },
    {
     "name": "stderr",
     "output_type": "stream",
     "text": [
      "Chunks: 100%|██████████| 7/7 [00:01<00:00,  3.53it/s]\n",
      "347it [07:09,  1.30s/it]"
     ]
    },
    {
     "name": "stdout",
     "output_type": "stream",
     "text": [
      "pred: [1, 3, 10], gt: [3, 3, 3, 5]\n"
     ]
    },
    {
     "name": "stderr",
     "output_type": "stream",
     "text": [
      "Chunks: 100%|██████████| 6/6 [00:01<00:00,  4.22it/s]\n",
      "348it [07:11,  1.35s/it]"
     ]
    },
    {
     "name": "stdout",
     "output_type": "stream",
     "text": [
      "pred: [6, 5], gt: [2, 4, 2, 3]\n"
     ]
    },
    {
     "name": "stderr",
     "output_type": "stream",
     "text": [
      "Chunks: 100%|██████████| 6/6 [00:00<00:00,  6.06it/s]\n",
      "349it [07:12,  1.25s/it]"
     ]
    },
    {
     "name": "stdout",
     "output_type": "stream",
     "text": [
      "pred: [5, 1, 6], gt: [1, 5, 3, 3]\n"
     ]
    },
    {
     "name": "stderr",
     "output_type": "stream",
     "text": [
      "Chunks: 100%|██████████| 6/6 [00:00<00:00, 10.21it/s]\n",
      "350it [07:12,  1.06s/it]"
     ]
    },
    {
     "name": "stdout",
     "output_type": "stream",
     "text": [
      "pred: [1, 2, 11, 4], gt: [2, 7, 4, 5]\n"
     ]
    },
    {
     "name": "stderr",
     "output_type": "stream",
     "text": [
      "Chunks: 100%|██████████| 8/8 [00:01<00:00,  7.40it/s]\n",
      "351it [07:13,  1.08s/it]"
     ]
    },
    {
     "name": "stdout",
     "output_type": "stream",
     "text": [
      "pred: [4, 4, 8], gt: [2, 5, 5, 4]\n"
     ]
    },
    {
     "name": "stderr",
     "output_type": "stream",
     "text": [
      "Chunks: 100%|██████████| 6/6 [00:00<00:00,  8.10it/s]\n",
      "352it [07:14,  1.02it/s]"
     ]
    },
    {
     "name": "stdout",
     "output_type": "stream",
     "text": [
      "pred: [1, 7, 4, 5], gt: [2, 4, 5, 6]\n"
     ]
    },
    {
     "name": "stderr",
     "output_type": "stream",
     "text": [
      "Chunks: 100%|██████████| 8/8 [00:01<00:00,  7.66it/s]\n",
      "353it [07:15,  1.01s/it]"
     ]
    },
    {
     "name": "stdout",
     "output_type": "stream",
     "text": [
      "pred: [7, 1], gt: [3, 1, 1, 2, 1]\n"
     ]
    },
    {
     "name": "stderr",
     "output_type": "stream",
     "text": [
      "Chunks: 100%|██████████| 6/6 [00:00<00:00,  6.16it/s]\n",
      "354it [07:16,  1.01s/it]"
     ]
    },
    {
     "name": "stdout",
     "output_type": "stream",
     "text": [
      "pred: [5, 5, 2], gt: [1, 4, 4, 3]\n"
     ]
    },
    {
     "name": "stderr",
     "output_type": "stream",
     "text": [
      "Chunks: 100%|██████████| 5/5 [00:01<00:00,  3.18it/s]\n",
      "355it [07:18,  1.18s/it]"
     ]
    },
    {
     "name": "stdout",
     "output_type": "stream",
     "text": [
      "pred: [6, 4], gt: [1, 4, 3, 2]\n"
     ]
    },
    {
     "name": "stderr",
     "output_type": "stream",
     "text": [
      "Chunks: 100%|██████████| 5/5 [00:01<00:00,  3.48it/s]\n",
      "356it [07:19,  1.27s/it]"
     ]
    },
    {
     "name": "stdout",
     "output_type": "stream",
     "text": [
      "pred: [7, 2], gt: [1, 3, 2, 3]\n"
     ]
    },
    {
     "name": "stderr",
     "output_type": "stream",
     "text": [
      "Chunks: 100%|██████████| 6/6 [00:01<00:00,  5.22it/s]\n",
      "357it [07:21,  1.24s/it]"
     ]
    },
    {
     "name": "stdout",
     "output_type": "stream",
     "text": [
      "pred: [2, 9], gt: [3, 8]\n"
     ]
    },
    {
     "name": "stderr",
     "output_type": "stream",
     "text": [
      "Chunks: 100%|██████████| 6/6 [00:00<00:00, 13.00it/s]\n",
      "358it [07:21,  1.01s/it]"
     ]
    },
    {
     "name": "stdout",
     "output_type": "stream",
     "text": [
      "pred: [2, 8, 2], gt: [2, 3, 4, 3]\n"
     ]
    },
    {
     "name": "stderr",
     "output_type": "stream",
     "text": [
      "Chunks: 100%|██████████| 8/8 [00:02<00:00,  3.13it/s]\n",
      "359it [07:24,  1.49s/it]"
     ]
    },
    {
     "name": "stdout",
     "output_type": "stream",
     "text": [
      "pred: [3, 5, 7], gt: [1, 4, 6, 4]\n"
     ]
    },
    {
     "name": "stderr",
     "output_type": "stream",
     "text": [
      "Chunks: 100%|██████████| 7/7 [00:00<00:00, 10.59it/s]\n",
      "360it [07:24,  1.25s/it]"
     ]
    },
    {
     "name": "stdout",
     "output_type": "stream",
     "text": [
      "pred: [3, 4, 6, 1, 11], gt: [3, 8, 8, 6]\n"
     ]
    },
    {
     "name": "stderr",
     "output_type": "stream",
     "text": [
      "Chunks: 100%|██████████| 7/7 [00:02<00:00,  3.31it/s]\n",
      "361it [07:26,  1.52s/it]"
     ]
    },
    {
     "name": "stdout",
     "output_type": "stream",
     "text": [
      "pred: [1, 13, 5], gt: [2, 5, 6, 6]\n"
     ]
    },
    {
     "name": "stderr",
     "output_type": "stream",
     "text": [
      "Chunks: 100%|██████████| 7/7 [00:00<00:00, 10.44it/s]\n",
      "362it [07:27,  1.27s/it]"
     ]
    },
    {
     "name": "stdout",
     "output_type": "stream",
     "text": [
      "pred: [11, 2, 2, 5, 5, 8, 1], gt: [6, 9, 11, 8]\n"
     ]
    },
    {
     "name": "stderr",
     "output_type": "stream",
     "text": [
      "Chunks: 100%|██████████| 6/6 [00:00<00:00,  6.64it/s]\n",
      "363it [07:28,  1.17s/it]"
     ]
    },
    {
     "name": "stdout",
     "output_type": "stream",
     "text": [
      "pred: [3, 8], gt: [1, 4, 2, 4]\n"
     ]
    },
    {
     "name": "stderr",
     "output_type": "stream",
     "text": [
      "Chunks: 100%|██████████| 8/8 [00:02<00:00,  3.07it/s]\n",
      "364it [07:31,  1.61s/it]"
     ]
    },
    {
     "name": "stdout",
     "output_type": "stream",
     "text": [
      "pred: [1, 8, 7], gt: [2, 6, 5, 3]\n"
     ]
    },
    {
     "name": "stderr",
     "output_type": "stream",
     "text": [
      "Chunks: 100%|██████████| 4/4 [00:00<00:00,  5.84it/s]\n",
      "365it [07:31,  1.34s/it]"
     ]
    },
    {
     "name": "stdout",
     "output_type": "stream",
     "text": [
      "pred: [4], gt: [1, 1, 1, 1]\n"
     ]
    },
    {
     "name": "stderr",
     "output_type": "stream",
     "text": [
      "Chunks: 100%|██████████| 5/5 [00:00<00:00,  9.83it/s]\n",
      "366it [07:32,  1.09s/it]"
     ]
    },
    {
     "name": "stdout",
     "output_type": "stream",
     "text": [
      "pred: [5], gt: [3, 2]\n"
     ]
    },
    {
     "name": "stderr",
     "output_type": "stream",
     "text": [
      "Chunks: 100%|██████████| 6/6 [00:01<00:00,  4.18it/s]\n",
      "367it [07:33,  1.21s/it]"
     ]
    },
    {
     "name": "stdout",
     "output_type": "stream",
     "text": [
      "pred: [10, 1], gt: [1, 4, 2, 4]\n"
     ]
    },
    {
     "name": "stderr",
     "output_type": "stream",
     "text": [
      "Chunks: 100%|██████████| 8/8 [00:00<00:00,  8.26it/s]\n",
      "368it [07:34,  1.15s/it]"
     ]
    },
    {
     "name": "stdout",
     "output_type": "stream",
     "text": [
      "pred: [2, 3, 2, 8, 7], gt: [2, 6, 7, 7]\n"
     ]
    },
    {
     "name": "stderr",
     "output_type": "stream",
     "text": [
      "Chunks: 100%|██████████| 6/6 [00:00<00:00,  9.60it/s]\n",
      "369it [07:35,  1.00it/s]"
     ]
    },
    {
     "name": "stdout",
     "output_type": "stream",
     "text": [
      "pred: [6, 5, 2, 4], gt: [2, 5, 7, 3]\n"
     ]
    },
    {
     "name": "stderr",
     "output_type": "stream",
     "text": [
      "Chunks: 100%|██████████| 8/8 [00:01<00:00,  4.31it/s]\n",
      "370it [07:37,  1.26s/it]"
     ]
    },
    {
     "name": "stdout",
     "output_type": "stream",
     "text": [
      "pred: [8, 3, 4], gt: [1, 3, 3, 2, 3, 2, 1]\n"
     ]
    },
    {
     "name": "stderr",
     "output_type": "stream",
     "text": [
      "Chunks: 100%|██████████| 7/7 [00:00<00:00, 12.45it/s]\n",
      "371it [07:38,  1.06s/it]"
     ]
    },
    {
     "name": "stdout",
     "output_type": "stream",
     "text": [
      "pred: [4, 3], gt: [4, 3]\n"
     ]
    },
    {
     "name": "stderr",
     "output_type": "stream",
     "text": [
      "Chunks: 100%|██████████| 7/7 [00:01<00:00,  4.80it/s]\n",
      "372it [07:39,  1.19s/it]"
     ]
    },
    {
     "name": "stdout",
     "output_type": "stream",
     "text": [
      "pred: [6, 2, 11, 2], gt: [1, 6, 8, 6]\n"
     ]
    },
    {
     "name": "stderr",
     "output_type": "stream",
     "text": [
      "Chunks: 100%|██████████| 7/7 [00:01<00:00,  4.94it/s]\n",
      "373it [07:40,  1.27s/it]"
     ]
    },
    {
     "name": "stdout",
     "output_type": "stream",
     "text": [
      "pred: [1, 6], gt: [1, 1, 4, 1]\n"
     ]
    },
    {
     "name": "stderr",
     "output_type": "stream",
     "text": [
      "Chunks: 100%|██████████| 6/6 [00:00<00:00,  6.91it/s]\n",
      "374it [07:41,  1.16s/it]"
     ]
    },
    {
     "name": "stdout",
     "output_type": "stream",
     "text": [
      "pred: [4, 7, 5, 2], gt: [1, 4, 5, 8]\n"
     ]
    },
    {
     "name": "stderr",
     "output_type": "stream",
     "text": [
      "Chunks: 100%|██████████| 6/6 [00:00<00:00,  9.66it/s]\n",
      "375it [07:42,  1.00s/it]"
     ]
    },
    {
     "name": "stdout",
     "output_type": "stream",
     "text": [
      "pred: [2, 9], gt: [1, 3, 3, 4]\n"
     ]
    },
    {
     "name": "stderr",
     "output_type": "stream",
     "text": [
      "Chunks: 100%|██████████| 6/6 [00:01<00:00,  5.36it/s]\n",
      "376it [07:43,  1.05s/it]"
     ]
    },
    {
     "name": "stdout",
     "output_type": "stream",
     "text": [
      "pred: [4, 7], gt: [1, 4, 3, 3]\n"
     ]
    },
    {
     "name": "stderr",
     "output_type": "stream",
     "text": [
      "Chunks: 100%|██████████| 5/5 [00:00<00:00,  9.59it/s]\n",
      "377it [07:44,  1.12it/s]"
     ]
    },
    {
     "name": "stdout",
     "output_type": "stream",
     "text": [
      "pred: [5], gt: [2, 1, 2]\n"
     ]
    },
    {
     "name": "stderr",
     "output_type": "stream",
     "text": [
      "Chunks: 100%|██████████| 7/7 [00:01<00:00,  5.74it/s]\n",
      "378it [07:45,  1.01s/it]"
     ]
    },
    {
     "name": "stdout",
     "output_type": "stream",
     "text": [
      "pred: [4, 7, 5, 1, 7, 4], gt: [2, 7, 6, 7, 6]\n"
     ]
    },
    {
     "name": "stderr",
     "output_type": "stream",
     "text": [
      "Chunks: 100%|██████████| 6/6 [00:00<00:00,  6.15it/s]\n",
      "379it [07:46,  1.01s/it]"
     ]
    },
    {
     "name": "stdout",
     "output_type": "stream",
     "text": [
      "pred: [6, 2, 8, 1], gt: [1, 4, 7, 5]\n"
     ]
    },
    {
     "name": "stderr",
     "output_type": "stream",
     "text": [
      "Chunks: 100%|██████████| 4/4 [00:03<00:00,  1.24it/s]\n",
      "380it [07:49,  1.68s/it]"
     ]
    },
    {
     "name": "stdout",
     "output_type": "stream",
     "text": [
      "pred: [4], gt: [1, 1, 1, 1]\n"
     ]
    },
    {
     "name": "stderr",
     "output_type": "stream",
     "text": [
      "Chunks: 100%|██████████| 8/8 [00:01<00:00,  5.58it/s]\n",
      "381it [07:51,  1.62s/it]"
     ]
    },
    {
     "name": "stdout",
     "output_type": "stream",
     "text": [
      "pred: [8, 4, 5, 3, 4], gt: [3, 7, 8, 6]\n"
     ]
    },
    {
     "name": "stderr",
     "output_type": "stream",
     "text": [
      "Chunks: 100%|██████████| 8/8 [00:01<00:00,  6.15it/s]\n",
      "382it [07:52,  1.54s/it]"
     ]
    },
    {
     "name": "stdout",
     "output_type": "stream",
     "text": [
      "pred: [4, 2, 5, 11, 1], gt: [1, 22]\n"
     ]
    },
    {
     "name": "stderr",
     "output_type": "stream",
     "text": [
      "Chunks: 100%|██████████| 7/7 [00:01<00:00,  4.93it/s]\n",
      "383it [07:54,  1.51s/it]"
     ]
    },
    {
     "name": "stdout",
     "output_type": "stream",
     "text": [
      "pred: [8, 1, 4], gt: [1, 7, 5]\n"
     ]
    },
    {
     "name": "stderr",
     "output_type": "stream",
     "text": [
      "Chunks: 100%|██████████| 4/4 [00:00<00:00, 14.08it/s]\n",
      "384it [07:54,  1.15s/it]"
     ]
    },
    {
     "name": "stdout",
     "output_type": "stream",
     "text": [
      "pred: [4], gt: [2, 2]\n"
     ]
    },
    {
     "name": "stderr",
     "output_type": "stream",
     "text": [
      "Chunks: 100%|██████████| 6/6 [00:01<00:00,  4.16it/s]\n",
      "385it [07:55,  1.25s/it]"
     ]
    },
    {
     "name": "stdout",
     "output_type": "stream",
     "text": [
      "pred: [4, 7], gt: [1, 2, 4, 4]\n"
     ]
    },
    {
     "name": "stderr",
     "output_type": "stream",
     "text": [
      "Chunks: 100%|██████████| 6/6 [00:01<00:00,  4.84it/s]\n",
      "386it [07:57,  1.26s/it]"
     ]
    },
    {
     "name": "stdout",
     "output_type": "stream",
     "text": [
      "pred: [8, 4, 1, 4], gt: [3, 4, 4, 6]\n"
     ]
    },
    {
     "name": "stderr",
     "output_type": "stream",
     "text": [
      "Chunks: 100%|██████████| 8/8 [00:01<00:00,  5.88it/s]\n",
      "387it [07:58,  1.30s/it]"
     ]
    },
    {
     "name": "stdout",
     "output_type": "stream",
     "text": [
      "pred: [6, 2], gt: [1, 2, 2, 3]\n"
     ]
    },
    {
     "name": "stderr",
     "output_type": "stream",
     "text": [
      "Chunks: 100%|██████████| 6/6 [00:01<00:00,  5.29it/s]\n",
      "388it [07:59,  1.26s/it]"
     ]
    },
    {
     "name": "stdout",
     "output_type": "stream",
     "text": [
      "pred: [1, 6, 7, 3], gt: [2, 4, 4, 3, 4]\n"
     ]
    },
    {
     "name": "stderr",
     "output_type": "stream",
     "text": [
      "Chunks: 100%|██████████| 3/3 [00:01<00:00,  2.07it/s]\n",
      "389it [08:01,  1.32s/it]"
     ]
    },
    {
     "name": "stdout",
     "output_type": "stream",
     "text": [
      "pred: [3], gt: [1, 1, 1]\n"
     ]
    },
    {
     "name": "stderr",
     "output_type": "stream",
     "text": [
      "Chunks: 100%|██████████| 7/7 [00:00<00:00,  8.04it/s]\n",
      "390it [08:02,  1.19s/it]"
     ]
    },
    {
     "name": "stdout",
     "output_type": "stream",
     "text": [
      "pred: [6, 4, 4], gt: [1, 5, 3, 2, 3]\n"
     ]
    },
    {
     "name": "stderr",
     "output_type": "stream",
     "text": [
      "Chunks: 100%|██████████| 8/8 [00:02<00:00,  3.14it/s]\n",
      "391it [08:04,  1.61s/it]"
     ]
    },
    {
     "name": "stdout",
     "output_type": "stream",
     "text": [
      "pred: [6, 4, 7, 3, 4], gt: [1, 5, 4, 9, 5]\n"
     ]
    },
    {
     "name": "stderr",
     "output_type": "stream",
     "text": [
      "Chunks: 100%|██████████| 8/8 [00:01<00:00,  5.13it/s]\n",
      "392it [08:06,  1.61s/it]"
     ]
    },
    {
     "name": "stdout",
     "output_type": "stream",
     "text": [
      "pred: [3, 9, 5, 7, 5, 1], gt: [1, 11, 6, 5, 7]\n"
     ]
    },
    {
     "name": "stderr",
     "output_type": "stream",
     "text": [
      "Chunks: 100%|██████████| 8/8 [00:03<00:00,  2.44it/s]\n",
      "393it [08:09,  2.12s/it]"
     ]
    },
    {
     "name": "stdout",
     "output_type": "stream",
     "text": [
      "pred: [10, 3, 2], gt: [3, 4, 2, 3, 3]\n"
     ]
    },
    {
     "name": "stderr",
     "output_type": "stream",
     "text": [
      "Chunks: 100%|██████████| 8/8 [00:00<00:00,  9.43it/s]\n",
      "394it [08:10,  1.74s/it]"
     ]
    },
    {
     "name": "stdout",
     "output_type": "stream",
     "text": [
      "pred: [10, 4, 11, 1, 1, 2], gt: [10, 19]\n"
     ]
    },
    {
     "name": "stderr",
     "output_type": "stream",
     "text": [
      "Chunks: 100%|██████████| 3/3 [00:01<00:00,  2.06it/s]\n",
      "395it [08:11,  1.67s/it]"
     ]
    },
    {
     "name": "stdout",
     "output_type": "stream",
     "text": [
      "pred: [3], gt: [1, 1, 1]\n"
     ]
    },
    {
     "name": "stderr",
     "output_type": "stream",
     "text": [
      "Chunks: 100%|██████████| 5/5 [00:01<00:00,  3.49it/s]\n",
      "396it [08:13,  1.61s/it]"
     ]
    },
    {
     "name": "stdout",
     "output_type": "stream",
     "text": [
      "pred: [7, 2], gt: [4, 2, 3]\n"
     ]
    },
    {
     "name": "stderr",
     "output_type": "stream",
     "text": [
      "Chunks: 100%|██████████| 6/6 [00:01<00:00,  5.74it/s]\n",
      "397it [08:14,  1.44s/it]"
     ]
    },
    {
     "name": "stdout",
     "output_type": "stream",
     "text": [
      "pred: [6], gt: [1, 1, 1, 1, 1, 1]\n"
     ]
    },
    {
     "name": "stderr",
     "output_type": "stream",
     "text": [
      "Chunks: 100%|██████████| 5/5 [00:01<00:00,  3.98it/s]\n",
      "398it [08:15,  1.39s/it]"
     ]
    },
    {
     "name": "stdout",
     "output_type": "stream",
     "text": [
      "pred: [4, 6], gt: [1, 2, 4, 3]\n"
     ]
    },
    {
     "name": "stderr",
     "output_type": "stream",
     "text": [
      "Chunks: 100%|██████████| 5/5 [00:00<00:00,  7.78it/s]\n",
      "399it [08:16,  1.17s/it]"
     ]
    },
    {
     "name": "stdout",
     "output_type": "stream",
     "text": [
      "pred: [5], gt: [1, 1, 1, 1, 1]\n"
     ]
    },
    {
     "name": "stderr",
     "output_type": "stream",
     "text": [
      "Chunks: 100%|██████████| 5/5 [00:00<00:00,  8.43it/s]\n",
      "400it [08:16,  1.01s/it]"
     ]
    },
    {
     "name": "stdout",
     "output_type": "stream",
     "text": [
      "pred: [5, 5], gt: [1, 3, 2, 1, 1, 2]\n"
     ]
    },
    {
     "name": "stderr",
     "output_type": "stream",
     "text": [
      "Chunks: 100%|██████████| 6/6 [00:01<00:00,  4.94it/s]\n",
      "401it [08:18,  1.08s/it]"
     ]
    },
    {
     "name": "stdout",
     "output_type": "stream",
     "text": [
      "pred: [6], gt: [2, 1, 1, 2]\n"
     ]
    },
    {
     "name": "stderr",
     "output_type": "stream",
     "text": [
      "Chunks: 100%|██████████| 8/8 [00:02<00:00,  3.03it/s]\n",
      "402it [08:20,  1.55s/it]"
     ]
    },
    {
     "name": "stdout",
     "output_type": "stream",
     "text": [
      "pred: [7, 1], gt: [1, 3, 2, 2]\n"
     ]
    },
    {
     "name": "stderr",
     "output_type": "stream",
     "text": [
      "Chunks: 100%|██████████| 5/5 [00:00<00:00,  5.37it/s]\n",
      "403it [08:21,  1.38s/it]"
     ]
    },
    {
     "name": "stdout",
     "output_type": "stream",
     "text": [
      "pred: [4, 6], gt: [3, 3, 4]\n"
     ]
    },
    {
     "name": "stderr",
     "output_type": "stream",
     "text": [
      "Chunks: 100%|██████████| 7/7 [00:02<00:00,  3.21it/s]\n",
      "404it [08:24,  1.62s/it]"
     ]
    },
    {
     "name": "stdout",
     "output_type": "stream",
     "text": [
      "pred: [5, 2], gt: [1, 1, 2, 3]\n"
     ]
    },
    {
     "name": "stderr",
     "output_type": "stream",
     "text": [
      "Chunks: 100%|██████████| 8/8 [00:03<00:00,  2.53it/s]\n",
      "405it [08:27,  2.10s/it]"
     ]
    },
    {
     "name": "stdout",
     "output_type": "stream",
     "text": [
      "pred: [3, 1, 12], gt: [5, 3, 3, 5]\n"
     ]
    },
    {
     "name": "stderr",
     "output_type": "stream",
     "text": [
      "Chunks: 100%|██████████| 7/7 [00:00<00:00,  7.75it/s]\n",
      "406it [08:28,  1.75s/it]"
     ]
    },
    {
     "name": "stdout",
     "output_type": "stream",
     "text": [
      "pred: [10, 2, 6, 2, 5], gt: [3, 4, 6, 6, 6]\n"
     ]
    },
    {
     "name": "stderr",
     "output_type": "stream",
     "text": [
      "Chunks: 100%|██████████| 6/6 [00:00<00:00, 18.41it/s]\n",
      "407it [08:28,  1.33s/it]"
     ]
    },
    {
     "name": "stdout",
     "output_type": "stream",
     "text": [
      "pred: [6], gt: [2, 2, 2]\n"
     ]
    },
    {
     "name": "stderr",
     "output_type": "stream",
     "text": [
      "Chunks: 100%|██████████| 6/6 [00:00<00:00, 12.61it/s]\n",
      "408it [08:28,  1.08s/it]"
     ]
    },
    {
     "name": "stdout",
     "output_type": "stream",
     "text": [
      "pred: [10, 1], gt: [6, 4, 1]\n"
     ]
    },
    {
     "name": "stderr",
     "output_type": "stream",
     "text": [
      "Chunks: 100%|██████████| 7/7 [00:01<00:00,  6.73it/s]\n",
      "409it [08:30,  1.08s/it]"
     ]
    },
    {
     "name": "stdout",
     "output_type": "stream",
     "text": [
      "pred: [15, 1, 2, 3], gt: [2, 5, 6, 8]\n"
     ]
    },
    {
     "name": "stderr",
     "output_type": "stream",
     "text": [
      "Chunks: 100%|██████████| 5/5 [00:00<00:00, 11.66it/s]\n",
      "410it [08:30,  1.13it/s]"
     ]
    },
    {
     "name": "stdout",
     "output_type": "stream",
     "text": [
      "pred: [3, 7], gt: [2, 3, 3, 2]\n"
     ]
    },
    {
     "name": "stderr",
     "output_type": "stream",
     "text": [
      "Chunks: 100%|██████████| 8/8 [00:02<00:00,  2.97it/s]\n",
      "411it [08:33,  1.44s/it]"
     ]
    },
    {
     "name": "stdout",
     "output_type": "stream",
     "text": [
      "pred: [8, 1, 6], gt: [3, 4, 4, 4]\n"
     ]
    },
    {
     "name": "stderr",
     "output_type": "stream",
     "text": [
      "Chunks: 100%|██████████| 8/8 [00:01<00:00,  5.47it/s]\n",
      "412it [08:34,  1.45s/it]"
     ]
    },
    {
     "name": "stdout",
     "output_type": "stream",
     "text": [
      "pred: [5, 3, 8], gt: [2, 2, 5, 7]\n"
     ]
    },
    {
     "name": "stderr",
     "output_type": "stream",
     "text": [
      "Chunks: 100%|██████████| 5/5 [00:00<00:00,  8.61it/s]\n",
      "413it [08:35,  1.20s/it]"
     ]
    },
    {
     "name": "stdout",
     "output_type": "stream",
     "text": [
      "pred: [5], gt: [1, 1, 1, 1, 1]\n"
     ]
    },
    {
     "name": "stderr",
     "output_type": "stream",
     "text": [
      "Chunks: 100%|██████████| 6/6 [00:00<00:00,  8.76it/s]\n",
      "414it [08:36,  1.05s/it]"
     ]
    },
    {
     "name": "stdout",
     "output_type": "stream",
     "text": [
      "pred: [6], gt: [3, 3]\n"
     ]
    },
    {
     "name": "stderr",
     "output_type": "stream",
     "text": [
      "Chunks: 100%|██████████| 6/6 [00:00<00:00,  6.95it/s]\n",
      "415it [08:36,  1.00s/it]"
     ]
    },
    {
     "name": "stdout",
     "output_type": "stream",
     "text": [
      "pred: [5, 1, 6], gt: [1, 4, 4, 3]\n"
     ]
    },
    {
     "name": "stderr",
     "output_type": "stream",
     "text": [
      "Chunks: 100%|██████████| 8/8 [00:01<00:00,  6.96it/s]\n",
      "416it [08:38,  1.06s/it]"
     ]
    },
    {
     "name": "stdout",
     "output_type": "stream",
     "text": [
      "pred: [2, 2, 11, 4, 1, 3, 9], gt: [3, 6, 5, 10, 8]\n"
     ]
    },
    {
     "name": "stderr",
     "output_type": "stream",
     "text": [
      "Chunks: 100%|██████████| 7/7 [00:00<00:00,  7.32it/s]\n",
      "417it [08:39,  1.03s/it]"
     ]
    },
    {
     "name": "stdout",
     "output_type": "stream",
     "text": [
      "pred: [5, 2, 6], gt: [2, 4, 4, 3]\n"
     ]
    },
    {
     "name": "stderr",
     "output_type": "stream",
     "text": [
      "Chunks: 100%|██████████| 7/7 [00:01<00:00,  4.91it/s]\n",
      "418it [08:40,  1.16s/it]"
     ]
    },
    {
     "name": "stdout",
     "output_type": "stream",
     "text": [
      "pred: [3, 14, 2, 1], gt: [3, 9, 8]\n"
     ]
    },
    {
     "name": "stderr",
     "output_type": "stream",
     "text": [
      "Chunks: 100%|██████████| 5/5 [00:00<00:00,  7.59it/s]\n",
      "419it [08:41,  1.02s/it]"
     ]
    },
    {
     "name": "stdout",
     "output_type": "stream",
     "text": [
      "pred: [5], gt: [2, 2, 1]\n"
     ]
    },
    {
     "name": "stderr",
     "output_type": "stream",
     "text": [
      "Chunks: 100%|██████████| 6/6 [00:01<00:00,  5.70it/s]\n",
      "420it [08:42,  1.04s/it]"
     ]
    },
    {
     "name": "stdout",
     "output_type": "stream",
     "text": [
      "pred: [10, 1], gt: [1, 3, 4, 3]\n"
     ]
    },
    {
     "name": "stderr",
     "output_type": "stream",
     "text": [
      "Chunks: 100%|██████████| 7/7 [00:02<00:00,  3.43it/s]\n",
      "421it [08:44,  1.35s/it]"
     ]
    },
    {
     "name": "stdout",
     "output_type": "stream",
     "text": [
      "pred: [3, 7, 4, 7], gt: [2, 6, 7, 6]\n"
     ]
    },
    {
     "name": "stderr",
     "output_type": "stream",
     "text": [
      "Chunks: 100%|██████████| 2/2 [00:00<00:00,  4.34it/s]\n",
      "422it [08:44,  1.09s/it]"
     ]
    },
    {
     "name": "stdout",
     "output_type": "stream",
     "text": [
      "pred: [2], gt: [1, 1]\n",
      "WD calculation failed at index 421: [<class 'decimal.DivisionUndefined'>]\n",
      "pred: [2], gt: [1, 1]\n"
     ]
    },
    {
     "name": "stderr",
     "output_type": "stream",
     "text": [
      "Chunks: 100%|██████████| 6/6 [00:02<00:00,  2.46it/s]\n",
      "423it [08:47,  1.50s/it]"
     ]
    },
    {
     "name": "stdout",
     "output_type": "stream",
     "text": [
      "pred: [5, 6], gt: [1, 3, 4, 3]\n"
     ]
    },
    {
     "name": "stderr",
     "output_type": "stream",
     "text": [
      "Chunks: 100%|██████████| 7/7 [00:01<00:00,  6.80it/s]\n",
      "424it [08:48,  1.37s/it]"
     ]
    },
    {
     "name": "stdout",
     "output_type": "stream",
     "text": [
      "pred: [2, 2, 12, 5], gt: [4, 6, 7, 4]\n"
     ]
    },
    {
     "name": "stderr",
     "output_type": "stream",
     "text": [
      "Chunks: 100%|██████████| 8/8 [00:01<00:00,  5.63it/s]\n",
      "425it [08:49,  1.39s/it]"
     ]
    },
    {
     "name": "stdout",
     "output_type": "stream",
     "text": [
      "pred: [1, 7], gt: [1, 4, 3]\n"
     ]
    },
    {
     "name": "stderr",
     "output_type": "stream",
     "text": [
      "Chunks: 100%|██████████| 8/8 [00:01<00:00,  5.42it/s]\n",
      "426it [08:51,  1.43s/it]"
     ]
    },
    {
     "name": "stdout",
     "output_type": "stream",
     "text": [
      "pred: [6, 2], gt: [2, 1, 3, 2]\n"
     ]
    },
    {
     "name": "stderr",
     "output_type": "stream",
     "text": [
      "Chunks: 100%|██████████| 8/8 [00:02<00:00,  3.39it/s]\n",
      "427it [08:53,  1.72s/it]"
     ]
    },
    {
     "name": "stdout",
     "output_type": "stream",
     "text": [
      "pred: [1, 4, 5, 8, 4], gt: [3, 7, 1, 6, 5]\n"
     ]
    },
    {
     "name": "stderr",
     "output_type": "stream",
     "text": [
      "Chunks: 100%|██████████| 6/6 [00:00<00:00,  6.53it/s]\n",
      "428it [08:54,  1.48s/it]"
     ]
    },
    {
     "name": "stdout",
     "output_type": "stream",
     "text": [
      "pred: [6], gt: [3, 3]\n"
     ]
    },
    {
     "name": "stderr",
     "output_type": "stream",
     "text": [
      "Chunks: 100%|██████████| 7/7 [00:03<00:00,  2.09it/s]\n",
      "429it [08:58,  2.06s/it]"
     ]
    },
    {
     "name": "stdout",
     "output_type": "stream",
     "text": [
      "pred: [13, 3, 4, 1], gt: [1, 9, 1, 10]\n"
     ]
    },
    {
     "name": "stderr",
     "output_type": "stream",
     "text": [
      "Chunks: 100%|██████████| 8/8 [00:03<00:00,  2.10it/s]\n",
      "430it [09:01,  2.59s/it]"
     ]
    },
    {
     "name": "stdout",
     "output_type": "stream",
     "text": [
      "pred: [3, 10, 3], gt: [2, 8, 6]\n"
     ]
    },
    {
     "name": "stderr",
     "output_type": "stream",
     "text": [
      "Chunks: 100%|██████████| 8/8 [00:02<00:00,  3.82it/s]\n",
      "431it [09:04,  2.45s/it]"
     ]
    },
    {
     "name": "stdout",
     "output_type": "stream",
     "text": [
      "pred: [10, 2, 4], gt: [2, 4, 6, 4]\n"
     ]
    },
    {
     "name": "stderr",
     "output_type": "stream",
     "text": [
      "Chunks: 100%|██████████| 4/4 [00:00<00:00,  9.83it/s]\n",
      "432it [09:04,  1.84s/it]"
     ]
    },
    {
     "name": "stdout",
     "output_type": "stream",
     "text": [
      "pred: [4], gt: [1, 2, 1]\n"
     ]
    },
    {
     "name": "stderr",
     "output_type": "stream",
     "text": [
      "Chunks: 100%|██████████| 6/6 [00:01<00:00,  3.06it/s]\n",
      "433it [09:06,  1.88s/it]"
     ]
    },
    {
     "name": "stdout",
     "output_type": "stream",
     "text": [
      "pred: [4, 7], gt: [1, 2, 5, 3]\n"
     ]
    },
    {
     "name": "stderr",
     "output_type": "stream",
     "text": [
      "Chunks: 100%|██████████| 7/7 [00:00<00:00, 12.30it/s]\n",
      "434it [09:07,  1.50s/it]"
     ]
    },
    {
     "name": "stdout",
     "output_type": "stream",
     "text": [
      "pred: [7, 1, 4, 7], gt: [4, 4, 6, 5]\n"
     ]
    },
    {
     "name": "stderr",
     "output_type": "stream",
     "text": [
      "Chunks: 100%|██████████| 7/7 [00:01<00:00,  3.57it/s]\n",
      "435it [09:09,  1.65s/it]"
     ]
    },
    {
     "name": "stdout",
     "output_type": "stream",
     "text": [
      "pred: [8, 5, 4, 2], gt: [1, 7, 5, 6]\n"
     ]
    },
    {
     "name": "stderr",
     "output_type": "stream",
     "text": [
      "Chunks: 100%|██████████| 6/6 [00:01<00:00,  5.79it/s]\n",
      "436it [09:10,  1.47s/it]"
     ]
    },
    {
     "name": "stdout",
     "output_type": "stream",
     "text": [
      "pred: [8, 3], gt: [1, 2, 4, 4]\n"
     ]
    },
    {
     "name": "stderr",
     "output_type": "stream",
     "text": [
      "Chunks: 100%|██████████| 7/7 [00:01<00:00,  4.24it/s]\n",
      "437it [09:11,  1.54s/it]"
     ]
    },
    {
     "name": "stdout",
     "output_type": "stream",
     "text": [
      "pred: [4, 1, 5, 13, 2, 2], gt: [2, 7, 6, 8, 4]\n"
     ]
    },
    {
     "name": "stderr",
     "output_type": "stream",
     "text": [
      "Chunks: 100%|██████████| 7/7 [00:00<00:00,  8.74it/s]\n",
      "438it [09:12,  1.33s/it]"
     ]
    },
    {
     "name": "stdout",
     "output_type": "stream",
     "text": [
      "pred: [2, 13, 1, 5], gt: [3, 5, 6, 7]\n"
     ]
    },
    {
     "name": "stderr",
     "output_type": "stream",
     "text": [
      "Chunks: 100%|██████████| 7/7 [00:00<00:00,  7.48it/s]\n",
      "439it [09:13,  1.22s/it]"
     ]
    },
    {
     "name": "stdout",
     "output_type": "stream",
     "text": [
      "pred: [1, 11, 1, 6], gt: [3, 6, 6, 4]\n"
     ]
    },
    {
     "name": "stderr",
     "output_type": "stream",
     "text": [
      "Chunks: 100%|██████████| 5/5 [00:00<00:00,  6.19it/s]\n",
      "440it [09:14,  1.10s/it]"
     ]
    },
    {
     "name": "stdout",
     "output_type": "stream",
     "text": [
      "pred: [7, 2], gt: [1, 2, 3, 3]\n"
     ]
    },
    {
     "name": "stderr",
     "output_type": "stream",
     "text": [
      "Chunks: 100%|██████████| 8/8 [00:01<00:00,  4.03it/s]\n",
      "441it [09:16,  1.38s/it]"
     ]
    },
    {
     "name": "stdout",
     "output_type": "stream",
     "text": [
      "pred: [7, 2, 6], gt: [2, 5, 4, 4]\n"
     ]
    },
    {
     "name": "stderr",
     "output_type": "stream",
     "text": [
      "Chunks: 100%|██████████| 6/6 [00:01<00:00,  4.83it/s]\n",
      "442it [09:17,  1.35s/it]"
     ]
    },
    {
     "name": "stdout",
     "output_type": "stream",
     "text": [
      "pred: [1, 8, 3], gt: [2, 3, 3, 4]\n"
     ]
    },
    {
     "name": "stderr",
     "output_type": "stream",
     "text": [
      "Chunks: 100%|██████████| 7/7 [00:00<00:00,  8.55it/s]\n",
      "443it [09:18,  1.19s/it]"
     ]
    },
    {
     "name": "stdout",
     "output_type": "stream",
     "text": [
      "pred: [1, 6], gt: [4, 2, 1]\n"
     ]
    },
    {
     "name": "stderr",
     "output_type": "stream",
     "text": [
      "Chunks: 100%|██████████| 5/5 [00:00<00:00,  6.50it/s]\n",
      "444it [09:19,  1.07s/it]"
     ]
    },
    {
     "name": "stdout",
     "output_type": "stream",
     "text": [
      "pred: [8, 2], gt: [1, 2, 4, 3]\n"
     ]
    },
    {
     "name": "stderr",
     "output_type": "stream",
     "text": [
      "Chunks: 100%|██████████| 3/3 [00:02<00:00,  1.37it/s]\n",
      "445it [09:21,  1.42s/it]"
     ]
    },
    {
     "name": "stdout",
     "output_type": "stream",
     "text": [
      "pred: [3], gt: [1, 1, 1]\n"
     ]
    },
    {
     "name": "stderr",
     "output_type": "stream",
     "text": [
      "Chunks: 100%|██████████| 4/4 [00:01<00:00,  3.49it/s]\n",
      "446it [09:22,  1.34s/it]"
     ]
    },
    {
     "name": "stdout",
     "output_type": "stream",
     "text": [
      "pred: [4], gt: [1, 1, 1, 1]\n"
     ]
    },
    {
     "name": "stderr",
     "output_type": "stream",
     "text": [
      "Chunks: 100%|██████████| 6/6 [00:00<00:00,  6.83it/s]\n",
      "447it [09:23,  1.21s/it]"
     ]
    },
    {
     "name": "stdout",
     "output_type": "stream",
     "text": [
      "pred: [6, 4, 2], gt: [2, 4, 3, 3]\n"
     ]
    },
    {
     "name": "stderr",
     "output_type": "stream",
     "text": [
      "Chunks: 100%|██████████| 8/8 [00:04<00:00,  1.98it/s]\n",
      "448it [09:27,  2.07s/it]"
     ]
    },
    {
     "name": "stdout",
     "output_type": "stream",
     "text": [
      "pred: [1, 2, 1, 15, 7, 4], gt: [4, 9, 9, 8]\n"
     ]
    },
    {
     "name": "stderr",
     "output_type": "stream",
     "text": [
      "Chunks: 100%|██████████| 6/6 [00:01<00:00,  4.57it/s]\n",
      "449it [09:29,  1.85s/it]"
     ]
    },
    {
     "name": "stdout",
     "output_type": "stream",
     "text": [
      "pred: [6], gt: [2, 2, 1, 1]\n"
     ]
    },
    {
     "name": "stderr",
     "output_type": "stream",
     "text": [
      "Chunks: 100%|██████████| 7/7 [00:00<00:00,  8.03it/s]\n",
      "450it [09:29,  1.56s/it]"
     ]
    },
    {
     "name": "stdout",
     "output_type": "stream",
     "text": [
      "pred: [10, 2, 1], gt: [2, 3, 4, 4]\n"
     ]
    },
    {
     "name": "stderr",
     "output_type": "stream",
     "text": [
      "Chunks: 100%|██████████| 7/7 [00:01<00:00,  4.96it/s]\n",
      "451it [09:31,  1.52s/it]"
     ]
    },
    {
     "name": "stdout",
     "output_type": "stream",
     "text": [
      "pred: [5, 2], gt: [1, 2, 1, 1, 2]\n"
     ]
    },
    {
     "name": "stderr",
     "output_type": "stream",
     "text": [
      "Chunks: 100%|██████████| 6/6 [00:01<00:00,  5.55it/s]\n",
      "452it [09:32,  1.40s/it]"
     ]
    },
    {
     "name": "stdout",
     "output_type": "stream",
     "text": [
      "pred: [5, 3, 4], gt: [8, 4]\n"
     ]
    },
    {
     "name": "stderr",
     "output_type": "stream",
     "text": [
      "Chunks: 100%|██████████| 6/6 [00:01<00:00,  4.20it/s]\n",
      "453it [09:33,  1.41s/it]"
     ]
    },
    {
     "name": "stdout",
     "output_type": "stream",
     "text": [
      "pred: [4, 1, 7], gt: [1, 3, 4, 4]\n"
     ]
    },
    {
     "name": "stderr",
     "output_type": "stream",
     "text": [
      "Chunks: 100%|██████████| 7/7 [00:02<00:00,  2.60it/s]\n",
      "454it [09:36,  1.81s/it]"
     ]
    },
    {
     "name": "stdout",
     "output_type": "stream",
     "text": [
      "pred: [10, 1, 2], gt: [2, 4, 4, 3]\n"
     ]
    },
    {
     "name": "stderr",
     "output_type": "stream",
     "text": [
      "Chunks: 100%|██████████| 7/7 [00:01<00:00,  6.70it/s]\n",
      "455it [09:37,  1.58s/it]"
     ]
    },
    {
     "name": "stdout",
     "output_type": "stream",
     "text": [
      "pred: [4, 2, 8], gt: [2, 4, 4, 4]\n"
     ]
    },
    {
     "name": "stderr",
     "output_type": "stream",
     "text": [
      "Chunks: 100%|██████████| 6/6 [00:00<00:00,  7.39it/s]\n",
      "456it [09:38,  1.36s/it]"
     ]
    },
    {
     "name": "stdout",
     "output_type": "stream",
     "text": [
      "pred: [6], gt: [1, 1, 3, 1]\n"
     ]
    },
    {
     "name": "stderr",
     "output_type": "stream",
     "text": [
      "Chunks: 100%|██████████| 6/6 [00:01<00:00,  5.35it/s]\n",
      "457it [09:39,  1.30s/it]"
     ]
    },
    {
     "name": "stdout",
     "output_type": "stream",
     "text": [
      "pred: [10, 1, 1, 5], gt: [1, 3, 6, 7]\n"
     ]
    },
    {
     "name": "stderr",
     "output_type": "stream",
     "text": [
      "Chunks: 100%|██████████| 5/5 [00:01<00:00,  3.59it/s]\n",
      "458it [09:41,  1.33s/it]"
     ]
    },
    {
     "name": "stdout",
     "output_type": "stream",
     "text": [
      "pred: [5], gt: [2, 2, 1]\n"
     ]
    },
    {
     "name": "stderr",
     "output_type": "stream",
     "text": [
      "Chunks: 100%|██████████| 6/6 [00:00<00:00,  8.80it/s]\n",
      "459it [09:41,  1.15s/it]"
     ]
    },
    {
     "name": "stdout",
     "output_type": "stream",
     "text": [
      "pred: [1, 2, 8, 7], gt: [3, 4, 4, 7]\n"
     ]
    },
    {
     "name": "stderr",
     "output_type": "stream",
     "text": [
      "Chunks: 100%|██████████| 6/6 [00:01<00:00,  4.10it/s]\n",
      "460it [09:43,  1.25s/it]"
     ]
    },
    {
     "name": "stdout",
     "output_type": "stream",
     "text": [
      "pred: [3, 8], gt: [1, 4, 2, 4]\n"
     ]
    },
    {
     "name": "stderr",
     "output_type": "stream",
     "text": [
      "Chunks: 100%|██████████| 8/8 [00:01<00:00,  5.51it/s]\n",
      "461it [09:44,  1.32s/it]"
     ]
    },
    {
     "name": "stdout",
     "output_type": "stream",
     "text": [
      "pred: [6, 5, 4], gt: [1, 4, 5, 5]\n"
     ]
    },
    {
     "name": "stderr",
     "output_type": "stream",
     "text": [
      "Chunks: 100%|██████████| 8/8 [00:03<00:00,  2.16it/s]\n",
      "462it [09:48,  2.04s/it]"
     ]
    },
    {
     "name": "stdout",
     "output_type": "stream",
     "text": [
      "pred: [4, 4], gt: [3, 1, 1, 1, 1, 1]\n"
     ]
    },
    {
     "name": "stderr",
     "output_type": "stream",
     "text": [
      "Chunks: 100%|██████████| 7/7 [00:01<00:00,  5.89it/s]\n",
      "463it [09:49,  1.80s/it]"
     ]
    },
    {
     "name": "stdout",
     "output_type": "stream",
     "text": [
      "pred: [1, 10, 6, 1, 3, 6], gt: [3, 8, 5, 5, 6]\n"
     ]
    },
    {
     "name": "stderr",
     "output_type": "stream",
     "text": [
      "Chunks: 100%|██████████| 5/5 [00:00<00:00,  5.20it/s]\n",
      "464it [09:50,  1.56s/it]"
     ]
    },
    {
     "name": "stdout",
     "output_type": "stream",
     "text": [
      "pred: [5, 4], gt: [1, 4, 2, 2]\n"
     ]
    },
    {
     "name": "stderr",
     "output_type": "stream",
     "text": [
      "Chunks: 100%|██████████| 6/6 [00:01<00:00,  4.54it/s]\n",
      "465it [09:52,  1.50s/it]"
     ]
    },
    {
     "name": "stdout",
     "output_type": "stream",
     "text": [
      "pred: [5, 1, 6], gt: [2, 3, 4, 3]\n"
     ]
    },
    {
     "name": "stderr",
     "output_type": "stream",
     "text": [
      "Chunks: 100%|██████████| 7/7 [00:01<00:00,  5.92it/s]\n",
      "466it [09:53,  1.42s/it]"
     ]
    },
    {
     "name": "stdout",
     "output_type": "stream",
     "text": [
      "pred: [2, 4, 16, 1, 3, 2], gt: [2, 8, 7, 11]\n"
     ]
    },
    {
     "name": "stderr",
     "output_type": "stream",
     "text": [
      "Chunks: 100%|██████████| 5/5 [00:00<00:00, 17.22it/s]\n",
      "467it [09:53,  1.09s/it]"
     ]
    },
    {
     "name": "stdout",
     "output_type": "stream",
     "text": [
      "pred: [3, 6], gt: [2, 3, 2, 2]\n"
     ]
    },
    {
     "name": "stderr",
     "output_type": "stream",
     "text": [
      "Chunks: 100%|██████████| 7/7 [00:03<00:00,  2.28it/s]\n",
      "468it [09:56,  1.69s/it]"
     ]
    },
    {
     "name": "stdout",
     "output_type": "stream",
     "text": [
      "pred: [7, 4, 3], gt: [1, 5, 4, 4]\n"
     ]
    },
    {
     "name": "stderr",
     "output_type": "stream",
     "text": [
      "Chunks: 100%|██████████| 6/6 [00:01<00:00,  5.75it/s]\n",
      "469it [09:57,  1.50s/it]"
     ]
    },
    {
     "name": "stdout",
     "output_type": "stream",
     "text": [
      "pred: [2, 11, 4], gt: [2, 6, 4, 5]\n"
     ]
    },
    {
     "name": "stderr",
     "output_type": "stream",
     "text": [
      "Chunks: 100%|██████████| 7/7 [00:01<00:00,  3.79it/s]\n",
      "470it [09:59,  1.61s/it]"
     ]
    },
    {
     "name": "stdout",
     "output_type": "stream",
     "text": [
      "pred: [7, 5, 2], gt: [1, 5, 5, 3]\n"
     ]
    },
    {
     "name": "stderr",
     "output_type": "stream",
     "text": [
      "Chunks: 100%|██████████| 7/7 [00:01<00:00,  4.93it/s]\n",
      "471it [10:01,  1.56s/it]"
     ]
    },
    {
     "name": "stdout",
     "output_type": "stream",
     "text": [
      "pred: [1, 3, 10], gt: [3, 5, 3, 3]\n"
     ]
    },
    {
     "name": "stderr",
     "output_type": "stream",
     "text": [
      "Chunks: 100%|██████████| 6/6 [00:00<00:00,  6.77it/s]\n",
      "472it [10:02,  1.37s/it]"
     ]
    },
    {
     "name": "stdout",
     "output_type": "stream",
     "text": [
      "pred: [11, 1], gt: [1, 3, 4, 4]\n"
     ]
    },
    {
     "name": "stderr",
     "output_type": "stream",
     "text": [
      "Chunks: 100%|██████████| 6/6 [00:00<00:00,  6.32it/s]\n",
      "473it [10:03,  1.26s/it]"
     ]
    },
    {
     "name": "stdout",
     "output_type": "stream",
     "text": [
      "pred: [7, 6, 1, 4], gt: [1, 6, 7, 4]\n"
     ]
    },
    {
     "name": "stderr",
     "output_type": "stream",
     "text": [
      "Chunks: 100%|██████████| 8/8 [00:00<00:00,  9.52it/s]\n",
      "474it [10:03,  1.14s/it]"
     ]
    },
    {
     "name": "stdout",
     "output_type": "stream",
     "text": [
      "pred: [5, 3], gt: [2, 2, 2, 2]\n"
     ]
    },
    {
     "name": "stderr",
     "output_type": "stream",
     "text": [
      "Chunks: 100%|██████████| 7/7 [00:00<00:00,  9.33it/s]\n",
      "475it [10:04,  1.03s/it]"
     ]
    },
    {
     "name": "stdout",
     "output_type": "stream",
     "text": [
      "pred: [5, 2], gt: [1, 2, 2, 2]\n"
     ]
    },
    {
     "name": "stderr",
     "output_type": "stream",
     "text": [
      "Chunks: 100%|██████████| 7/7 [00:00<00:00, 10.98it/s]\n",
      "476it [10:05,  1.09it/s]"
     ]
    },
    {
     "name": "stdout",
     "output_type": "stream",
     "text": [
      "pred: [3, 4], gt: [3, 2, 2]\n"
     ]
    },
    {
     "name": "stderr",
     "output_type": "stream",
     "text": [
      "Chunks: 100%|██████████| 6/6 [00:01<00:00,  3.97it/s]\n",
      "477it [10:06,  1.10s/it]"
     ]
    },
    {
     "name": "stdout",
     "output_type": "stream",
     "text": [
      "pred: [2, 2, 8], gt: [1, 3, 2, 3, 3]\n"
     ]
    },
    {
     "name": "stderr",
     "output_type": "stream",
     "text": [
      "Chunks: 100%|██████████| 6/6 [00:00<00:00,  7.23it/s]\n",
      "478it [10:07,  1.03s/it]"
     ]
    },
    {
     "name": "stdout",
     "output_type": "stream",
     "text": [
      "pred: [3, 8], gt: [1, 3, 4, 3]\n"
     ]
    },
    {
     "name": "stderr",
     "output_type": "stream",
     "text": [
      "Chunks: 100%|██████████| 5/5 [00:00<00:00,  5.71it/s]\n",
      "479it [10:08,  1.01it/s]"
     ]
    },
    {
     "name": "stdout",
     "output_type": "stream",
     "text": [
      "pred: [1, 9], gt: [1, 3, 2, 4]\n"
     ]
    },
    {
     "name": "stderr",
     "output_type": "stream",
     "text": [
      "Chunks: 100%|██████████| 7/7 [00:00<00:00,  7.80it/s]\n",
      "480it [10:09,  1.03it/s]"
     ]
    },
    {
     "name": "stdout",
     "output_type": "stream",
     "text": [
      "pred: [1, 5, 8], gt: [4, 5, 2, 3]\n"
     ]
    },
    {
     "name": "stderr",
     "output_type": "stream",
     "text": [
      "Chunks: 100%|██████████| 5/5 [00:00<00:00,  6.06it/s]\n",
      "481it [10:10,  1.07it/s]"
     ]
    },
    {
     "name": "stdout",
     "output_type": "stream",
     "text": [
      "pred: [6, 4], gt: [5, 5]\n"
     ]
    },
    {
     "name": "stderr",
     "output_type": "stream",
     "text": [
      "Chunks: 100%|██████████| 7/7 [00:01<00:00,  3.87it/s]\n",
      "482it [10:12,  1.21s/it]"
     ]
    },
    {
     "name": "stdout",
     "output_type": "stream",
     "text": [
      "pred: [1, 2, 2, 2, 4, 16], gt: [4, 10, 7, 6]\n"
     ]
    },
    {
     "name": "stderr",
     "output_type": "stream",
     "text": [
      "Chunks: 100%|██████████| 7/7 [00:01<00:00,  6.64it/s]\n",
      "483it [10:13,  1.17s/it]"
     ]
    },
    {
     "name": "stdout",
     "output_type": "stream",
     "text": [
      "pred: [1, 1, 12, 6], gt: [3, 5, 5, 7]\n"
     ]
    },
    {
     "name": "stderr",
     "output_type": "stream",
     "text": [
      "Chunks: 100%|██████████| 8/8 [00:00<00:00,  9.72it/s]\n",
      "484it [10:14,  1.08s/it]"
     ]
    },
    {
     "name": "stdout",
     "output_type": "stream",
     "text": [
      "pred: [1, 9, 3, 3, 8, 2, 2, 10], gt: [5, 11, 12, 10]\n"
     ]
    },
    {
     "name": "stderr",
     "output_type": "stream",
     "text": [
      "Chunks: 100%|██████████| 7/7 [00:01<00:00,  6.74it/s]\n",
      "485it [10:15,  1.08s/it]"
     ]
    },
    {
     "name": "stdout",
     "output_type": "stream",
     "text": [
      "pred: [5, 5, 1, 9], gt: [2, 8, 4, 6]\n"
     ]
    },
    {
     "name": "stderr",
     "output_type": "stream",
     "text": [
      "Chunks: 100%|██████████| 5/5 [00:00<00:00,  7.16it/s]\n",
      "486it [10:15,  1.03it/s]"
     ]
    },
    {
     "name": "stdout",
     "output_type": "stream",
     "text": [
      "pred: [3, 6], gt: [1, 4, 4]\n"
     ]
    },
    {
     "name": "stderr",
     "output_type": "stream",
     "text": [
      "Chunks: 100%|██████████| 6/6 [00:01<00:00,  5.98it/s]\n",
      "487it [10:17,  1.01it/s]"
     ]
    },
    {
     "name": "stdout",
     "output_type": "stream",
     "text": [
      "pred: [10, 1, 3, 3], gt: [2, 4, 3, 5, 3]\n"
     ]
    },
    {
     "name": "stderr",
     "output_type": "stream",
     "text": [
      "Chunks: 100%|██████████| 6/6 [00:01<00:00,  4.23it/s]\n",
      "488it [10:18,  1.13s/it]"
     ]
    },
    {
     "name": "stdout",
     "output_type": "stream",
     "text": [
      "pred: [9, 1, 2], gt: [1, 2, 5, 4]\n"
     ]
    },
    {
     "name": "stderr",
     "output_type": "stream",
     "text": [
      "Chunks: 100%|██████████| 8/8 [00:00<00:00, 13.03it/s]\n",
      "489it [10:19,  1.01it/s]"
     ]
    },
    {
     "name": "stdout",
     "output_type": "stream",
     "text": [
      "pred: [3, 1, 4, 9, 13, 1], gt: [3, 11, 8, 9]\n"
     ]
    },
    {
     "name": "stderr",
     "output_type": "stream",
     "text": [
      "Chunks: 100%|██████████| 8/8 [00:01<00:00,  6.33it/s]\n",
      "490it [10:20,  1.08s/it]"
     ]
    },
    {
     "name": "stdout",
     "output_type": "stream",
     "text": [
      "pred: [2, 4, 4, 5, 7], gt: [4, 3, 7, 8]\n"
     ]
    },
    {
     "name": "stderr",
     "output_type": "stream",
     "text": [
      "Chunks: 100%|██████████| 8/8 [00:01<00:00,  4.72it/s]\n",
      "491it [10:22,  1.28s/it]"
     ]
    },
    {
     "name": "stdout",
     "output_type": "stream",
     "text": [
      "pred: [10, 1, 2, 4, 6], gt: [1, 4, 5, 3, 3, 5, 2]\n"
     ]
    },
    {
     "name": "stderr",
     "output_type": "stream",
     "text": [
      "Chunks: 100%|██████████| 5/5 [00:00<00:00, 13.73it/s]\n",
      "492it [10:22,  1.01s/it]"
     ]
    },
    {
     "name": "stdout",
     "output_type": "stream",
     "text": [
      "pred: [3, 6], gt: [5, 4]\n"
     ]
    },
    {
     "name": "stderr",
     "output_type": "stream",
     "text": [
      "Chunks: 100%|██████████| 8/8 [00:01<00:00,  6.10it/s]\n",
      "493it [10:23,  1.11s/it]"
     ]
    },
    {
     "name": "stdout",
     "output_type": "stream",
     "text": [
      "pred: [8, 5, 2], gt: [2, 6, 3, 4]\n"
     ]
    },
    {
     "name": "stderr",
     "output_type": "stream",
     "text": [
      "Chunks: 100%|██████████| 7/7 [00:01<00:00,  3.93it/s]\n",
      "494it [10:25,  1.32s/it]"
     ]
    },
    {
     "name": "stdout",
     "output_type": "stream",
     "text": [
      "pred: [1, 15, 2, 7, 2, 4, 2], gt: [3, 6, 7, 9, 8]\n"
     ]
    },
    {
     "name": "stderr",
     "output_type": "stream",
     "text": [
      "Chunks: 100%|██████████| 6/6 [00:01<00:00,  5.33it/s]\n",
      "495it [10:26,  1.28s/it]"
     ]
    },
    {
     "name": "stdout",
     "output_type": "stream",
     "text": [
      "pred: [2, 6, 6, 3], gt: [2, 5, 6, 4]\n"
     ]
    },
    {
     "name": "stderr",
     "output_type": "stream",
     "text": [
      "Chunks: 100%|██████████| 7/7 [00:00<00:00,  7.77it/s]\n",
      "496it [10:27,  1.17s/it]"
     ]
    },
    {
     "name": "stdout",
     "output_type": "stream",
     "text": [
      "pred: [2, 1, 2, 16], gt: [5, 5, 5, 6]\n"
     ]
    },
    {
     "name": "stderr",
     "output_type": "stream",
     "text": [
      "Chunks: 100%|██████████| 6/6 [00:01<00:00,  3.81it/s]\n",
      "497it [10:29,  1.31s/it]"
     ]
    },
    {
     "name": "stdout",
     "output_type": "stream",
     "text": [
      "pred: [2, 2, 5, 9], gt: [3, 6, 4, 5]\n"
     ]
    },
    {
     "name": "stderr",
     "output_type": "stream",
     "text": [
      "Chunks: 100%|██████████| 3/3 [00:01<00:00,  2.61it/s]\n",
      "498it [10:30,  1.27s/it]"
     ]
    },
    {
     "name": "stdout",
     "output_type": "stream",
     "text": [
      "pred: [3], gt: [1, 1, 1]\n"
     ]
    },
    {
     "name": "stderr",
     "output_type": "stream",
     "text": [
      "Chunks: 100%|██████████| 8/8 [00:01<00:00,  7.50it/s]\n",
      "499it [10:31,  1.21s/it]"
     ]
    },
    {
     "name": "stdout",
     "output_type": "stream",
     "text": [
      "pred: [2, 17, 2, 1, 1], gt: [3, 5, 5, 10]\n"
     ]
    },
    {
     "name": "stderr",
     "output_type": "stream",
     "text": [
      "Chunks: 100%|██████████| 5/5 [00:00<00:00,  7.51it/s]\n",
      "500it [10:32,  1.06s/it]"
     ]
    },
    {
     "name": "stdout",
     "output_type": "stream",
     "text": [
      "pred: [5], gt: [2, 1, 2]\n"
     ]
    },
    {
     "name": "stderr",
     "output_type": "stream",
     "text": [
      "Chunks: 100%|██████████| 3/3 [00:00<00:00,  3.13it/s]\n",
      "501it [10:33,  1.03s/it]"
     ]
    },
    {
     "name": "stdout",
     "output_type": "stream",
     "text": [
      "pred: [3], gt: [1, 1, 1]\n"
     ]
    },
    {
     "name": "stderr",
     "output_type": "stream",
     "text": [
      "Chunks: 100%|██████████| 7/7 [00:01<00:00,  4.94it/s]\n",
      "502it [10:34,  1.16s/it]"
     ]
    },
    {
     "name": "stdout",
     "output_type": "stream",
     "text": [
      "pred: [1, 6], gt: [1, 1, 1, 1, 1, 1, 1]\n"
     ]
    },
    {
     "name": "stderr",
     "output_type": "stream",
     "text": [
      "Chunks: 100%|██████████| 6/6 [00:00<00:00,  9.31it/s]\n",
      "503it [10:35,  1.01s/it]"
     ]
    },
    {
     "name": "stdout",
     "output_type": "stream",
     "text": [
      "pred: [1, 10], gt: [2, 4, 3, 2]\n"
     ]
    },
    {
     "name": "stderr",
     "output_type": "stream",
     "text": [
      "Chunks: 100%|██████████| 7/7 [00:01<00:00,  3.92it/s]\n",
      "504it [10:37,  1.25s/it]"
     ]
    },
    {
     "name": "stdout",
     "output_type": "stream",
     "text": [
      "pred: [1, 3, 10], gt: [1, 3, 3, 3, 2, 2]\n"
     ]
    },
    {
     "name": "stderr",
     "output_type": "stream",
     "text": [
      "Chunks: 100%|██████████| 7/7 [00:00<00:00, 11.23it/s]\n",
      "505it [10:37,  1.07s/it]"
     ]
    },
    {
     "name": "stdout",
     "output_type": "stream",
     "text": [
      "pred: [6, 4, 8, 2], gt: [1, 4, 8, 7]\n"
     ]
    },
    {
     "name": "stderr",
     "output_type": "stream",
     "text": [
      "Chunks: 100%|██████████| 6/6 [00:01<00:00,  3.61it/s]\n",
      "506it [10:39,  1.26s/it]"
     ]
    },
    {
     "name": "stdout",
     "output_type": "stream",
     "text": [
      "pred: [5, 5, 6, 1], gt: [1, 5, 5, 6]\n"
     ]
    },
    {
     "name": "stderr",
     "output_type": "stream",
     "text": [
      "Chunks: 100%|██████████| 7/7 [00:01<00:00,  5.99it/s]\n",
      "507it [10:40,  1.24s/it]"
     ]
    },
    {
     "name": "stdout",
     "output_type": "stream",
     "text": [
      "pred: [2, 1, 1, 17], gt: [3, 7, 7, 4]\n"
     ]
    },
    {
     "name": "stderr",
     "output_type": "stream",
     "text": [
      "Chunks: 100%|██████████| 6/6 [00:01<00:00,  4.74it/s]\n",
      "508it [10:42,  1.26s/it]"
     ]
    },
    {
     "name": "stdout",
     "output_type": "stream",
     "text": [
      "pred: [2, 9, 2, 4], gt: [1, 7, 7, 2]\n"
     ]
    },
    {
     "name": "stderr",
     "output_type": "stream",
     "text": [
      "Chunks: 100%|██████████| 7/7 [00:00<00:00, 10.39it/s]\n",
      "509it [10:42,  1.09s/it]"
     ]
    },
    {
     "name": "stdout",
     "output_type": "stream",
     "text": [
      "pred: [9, 3, 1, 6], gt: [1, 4, 4, 3, 4, 3]\n"
     ]
    },
    {
     "name": "stderr",
     "output_type": "stream",
     "text": [
      "Chunks: 100%|██████████| 5/5 [00:00<00:00,  9.67it/s]\n",
      "510it [10:43,  1.08it/s]"
     ]
    },
    {
     "name": "stdout",
     "output_type": "stream",
     "text": [
      "pred: [5], gt: [1, 1, 1, 1, 1]\n"
     ]
    },
    {
     "name": "stderr",
     "output_type": "stream",
     "text": [
      "Chunks: 100%|██████████| 6/6 [00:00<00:00,  7.03it/s]\n",
      "511it [10:44,  1.09it/s]"
     ]
    },
    {
     "name": "stdout",
     "output_type": "stream",
     "text": [
      "pred: [1, 3, 5, 8], gt: [6, 7, 4]\n"
     ]
    },
    {
     "name": "stderr",
     "output_type": "stream",
     "text": [
      "Chunks: 100%|██████████| 8/8 [00:01<00:00,  5.97it/s]\n",
      "512it [10:45,  1.05s/it]"
     ]
    },
    {
     "name": "stdout",
     "output_type": "stream",
     "text": [
      "pred: [7, 1], gt: [1, 1, 4, 2]\n"
     ]
    },
    {
     "name": "stderr",
     "output_type": "stream",
     "text": [
      "Chunks: 100%|██████████| 6/6 [00:00<00:00,  8.79it/s]\n",
      "513it [10:46,  1.06it/s]"
     ]
    },
    {
     "name": "stdout",
     "output_type": "stream",
     "text": [
      "pred: [1, 3, 8], gt: [2, 3, 3, 2, 2]\n"
     ]
    },
    {
     "name": "stderr",
     "output_type": "stream",
     "text": [
      "Chunks: 100%|██████████| 8/8 [00:01<00:00,  4.94it/s]\n",
      "514it [10:48,  1.16s/it]"
     ]
    },
    {
     "name": "stdout",
     "output_type": "stream",
     "text": [
      "pred: [10, 4, 2], gt: [2, 7, 4, 3]\n"
     ]
    },
    {
     "name": "stderr",
     "output_type": "stream",
     "text": [
      "Chunks: 100%|██████████| 7/7 [00:00<00:00,  9.40it/s]\n",
      "515it [10:48,  1.04s/it]"
     ]
    },
    {
     "name": "stdout",
     "output_type": "stream",
     "text": [
      "pred: [10, 5, 2, 4], gt: [4, 6, 8, 3]\n"
     ]
    },
    {
     "name": "stderr",
     "output_type": "stream",
     "text": [
      "Chunks: 100%|██████████| 8/8 [00:01<00:00,  7.72it/s]\n",
      "516it [10:49,  1.05s/it]"
     ]
    },
    {
     "name": "stdout",
     "output_type": "stream",
     "text": [
      "pred: [5, 5, 5, 3, 6], gt: [2, 6, 7, 9]\n"
     ]
    },
    {
     "name": "stderr",
     "output_type": "stream",
     "text": [
      "Chunks: 100%|██████████| 5/5 [00:01<00:00,  4.85it/s]\n",
      "517it [10:50,  1.05s/it]"
     ]
    },
    {
     "name": "stdout",
     "output_type": "stream",
     "text": [
      "pred: [5, 5], gt: [1, 3, 6]\n"
     ]
    },
    {
     "name": "stderr",
     "output_type": "stream",
     "text": [
      "Chunks: 100%|██████████| 6/6 [00:01<00:00,  4.87it/s]\n",
      "518it [10:52,  1.11s/it]"
     ]
    },
    {
     "name": "stdout",
     "output_type": "stream",
     "text": [
      "pred: [1, 5, 6], gt: [1, 4, 7]\n"
     ]
    },
    {
     "name": "stderr",
     "output_type": "stream",
     "text": [
      "Chunks: 100%|██████████| 7/7 [00:02<00:00,  3.34it/s]\n",
      "519it [10:54,  1.42s/it]"
     ]
    },
    {
     "name": "stdout",
     "output_type": "stream",
     "text": [
      "pred: [4, 3, 7], gt: [4, 3, 4, 3]\n"
     ]
    },
    {
     "name": "stderr",
     "output_type": "stream",
     "text": [
      "Chunks: 100%|██████████| 7/7 [00:01<00:00,  6.91it/s]\n",
      "520it [10:55,  1.31s/it]"
     ]
    },
    {
     "name": "stdout",
     "output_type": "stream",
     "text": [
      "pred: [6, 13, 1, 1], gt: [3, 4, 5, 9]\n"
     ]
    },
    {
     "name": "stderr",
     "output_type": "stream",
     "text": [
      "Chunks: 100%|██████████| 5/5 [00:01<00:00,  3.47it/s]\n",
      "521it [10:56,  1.36s/it]"
     ]
    },
    {
     "name": "stdout",
     "output_type": "stream",
     "text": [
      "pred: [5], gt: [1, 1, 1, 2]\n"
     ]
    },
    {
     "name": "stderr",
     "output_type": "stream",
     "text": [
      "Chunks: 100%|██████████| 7/7 [00:01<00:00,  4.12it/s]\n",
      "522it [10:58,  1.47s/it]"
     ]
    },
    {
     "name": "stdout",
     "output_type": "stream",
     "text": [
      "pred: [6, 1, 7], gt: [2, 5, 7]\n"
     ]
    },
    {
     "name": "stderr",
     "output_type": "stream",
     "text": [
      "Chunks: 100%|██████████| 6/6 [00:00<00:00,  6.60it/s]\n",
      "523it [10:59,  1.31s/it]"
     ]
    },
    {
     "name": "stdout",
     "output_type": "stream",
     "text": [
      "pred: [9, 2, 1], gt: [1, 3, 2, 3, 3]\n"
     ]
    },
    {
     "name": "stderr",
     "output_type": "stream",
     "text": [
      "Chunks: 100%|██████████| 6/6 [00:01<00:00,  3.66it/s]\n",
      "524it [11:01,  1.42s/it]"
     ]
    },
    {
     "name": "stdout",
     "output_type": "stream",
     "text": [
      "pred: [1, 10], gt: [1, 3, 3, 4]\n"
     ]
    },
    {
     "name": "stderr",
     "output_type": "stream",
     "text": [
      "Chunks: 100%|██████████| 6/6 [00:01<00:00,  5.87it/s]\n",
      "525it [11:02,  1.31s/it]"
     ]
    },
    {
     "name": "stdout",
     "output_type": "stream",
     "text": [
      "pred: [1, 6, 8, 3], gt: [1, 6, 5, 6]\n"
     ]
    },
    {
     "name": "stderr",
     "output_type": "stream",
     "text": [
      "Chunks: 100%|██████████| 6/6 [00:01<00:00,  3.93it/s]\n",
      "526it [11:03,  1.38s/it]"
     ]
    },
    {
     "name": "stdout",
     "output_type": "stream",
     "text": [
      "pred: [3, 8], gt: [1, 3, 3, 4]\n"
     ]
    },
    {
     "name": "stderr",
     "output_type": "stream",
     "text": [
      "Chunks: 100%|██████████| 7/7 [00:01<00:00,  6.11it/s]\n",
      "527it [11:04,  1.32s/it]"
     ]
    },
    {
     "name": "stdout",
     "output_type": "stream",
     "text": [
      "pred: [6, 5, 2], gt: [1, 4, 5, 3]\n"
     ]
    },
    {
     "name": "stderr",
     "output_type": "stream",
     "text": [
      "Chunks: 100%|██████████| 6/6 [00:00<00:00, 10.96it/s]\n",
      "528it [11:05,  1.10s/it]"
     ]
    },
    {
     "name": "stdout",
     "output_type": "stream",
     "text": [
      "pred: [8, 1, 5, 3], gt: [2, 5, 7, 3]\n"
     ]
    },
    {
     "name": "stderr",
     "output_type": "stream",
     "text": [
      "Chunks: 100%|██████████| 6/6 [00:00<00:00,  8.77it/s]\n",
      "529it [11:06,  1.02it/s]"
     ]
    },
    {
     "name": "stdout",
     "output_type": "stream",
     "text": [
      "pred: [6], gt: [2, 1, 1, 2]\n"
     ]
    },
    {
     "name": "stderr",
     "output_type": "stream",
     "text": [
      "Chunks: 100%|██████████| 8/8 [00:01<00:00,  7.59it/s]\n",
      "530it [11:07,  1.01s/it]"
     ]
    },
    {
     "name": "stdout",
     "output_type": "stream",
     "text": [
      "pred: [3, 2, 11], gt: [1, 4, 4, 3, 4]\n"
     ]
    },
    {
     "name": "stderr",
     "output_type": "stream",
     "text": [
      "Chunks: 100%|██████████| 6/6 [00:01<00:00,  4.22it/s]\n",
      "531it [11:08,  1.14s/it]"
     ]
    },
    {
     "name": "stdout",
     "output_type": "stream",
     "text": [
      "pred: [1, 7, 4, 5], gt: [3, 5, 2, 3, 2, 2]\n"
     ]
    },
    {
     "name": "stderr",
     "output_type": "stream",
     "text": [
      "Chunks: 100%|██████████| 7/7 [00:01<00:00,  3.82it/s]\n",
      "532it [11:10,  1.36s/it]"
     ]
    },
    {
     "name": "stdout",
     "output_type": "stream",
     "text": [
      "pred: [1, 13, 1, 4], gt: [3, 3, 4, 3, 6]\n"
     ]
    },
    {
     "name": "stderr",
     "output_type": "stream",
     "text": [
      "Chunks: 100%|██████████| 6/6 [00:01<00:00,  5.33it/s]\n",
      "533it [11:11,  1.30s/it]"
     ]
    },
    {
     "name": "stdout",
     "output_type": "stream",
     "text": [
      "pred: [6, 1, 3, 8], gt: [1, 4, 4, 9]\n"
     ]
    },
    {
     "name": "stderr",
     "output_type": "stream",
     "text": [
      "Chunks: 100%|██████████| 6/6 [00:00<00:00,  8.69it/s]\n",
      "534it [11:12,  1.12s/it]"
     ]
    },
    {
     "name": "stdout",
     "output_type": "stream",
     "text": [
      "pred: [8, 4], gt: [1, 5, 5, 1]\n"
     ]
    },
    {
     "name": "stderr",
     "output_type": "stream",
     "text": [
      "Chunks: 100%|██████████| 7/7 [00:00<00:00,  8.20it/s]\n",
      "535it [11:13,  1.05s/it]"
     ]
    },
    {
     "name": "stdout",
     "output_type": "stream",
     "text": [
      "pred: [4, 3, 5, 7], gt: [2, 6, 4, 7]\n"
     ]
    },
    {
     "name": "stderr",
     "output_type": "stream",
     "text": [
      "Chunks: 100%|██████████| 5/5 [00:01<00:00,  2.97it/s]\n",
      "536it [11:15,  1.25s/it]"
     ]
    },
    {
     "name": "stdout",
     "output_type": "stream",
     "text": [
      "pred: [3, 6], gt: [3, 4, 2]\n"
     ]
    },
    {
     "name": "stderr",
     "output_type": "stream",
     "text": [
      "Chunks: 100%|██████████| 8/8 [00:02<00:00,  3.39it/s]\n",
      "537it [11:17,  1.60s/it]"
     ]
    },
    {
     "name": "stdout",
     "output_type": "stream",
     "text": [
      "pred: [2, 5, 9], gt: [2, 5, 5, 4]\n"
     ]
    },
    {
     "name": "stderr",
     "output_type": "stream",
     "text": [
      "Chunks: 100%|██████████| 8/8 [00:03<00:00,  2.57it/s]\n",
      "538it [11:20,  2.06s/it]"
     ]
    },
    {
     "name": "stdout",
     "output_type": "stream",
     "text": [
      "pred: [1, 7], gt: [2, 2, 2, 2]\n"
     ]
    },
    {
     "name": "stderr",
     "output_type": "stream",
     "text": [
      "Chunks: 100%|██████████| 6/6 [00:00<00:00,  8.93it/s]\n",
      "539it [11:21,  1.65s/it]"
     ]
    },
    {
     "name": "stdout",
     "output_type": "stream",
     "text": [
      "pred: [4, 7, 1], gt: [1, 3, 3, 5]\n"
     ]
    },
    {
     "name": "stderr",
     "output_type": "stream",
     "text": [
      "Chunks: 100%|██████████| 8/8 [00:01<00:00,  4.99it/s]\n",
      "540it [11:22,  1.65s/it]"
     ]
    },
    {
     "name": "stdout",
     "output_type": "stream",
     "text": [
      "pred: [4, 3, 3, 4, 1, 13, 4, 6], gt: [2, 8, 10, 8, 10]\n"
     ]
    },
    {
     "name": "stderr",
     "output_type": "stream",
     "text": [
      "Chunks: 100%|██████████| 8/8 [00:03<00:00,  2.59it/s]\n",
      "541it [11:26,  2.09s/it]"
     ]
    },
    {
     "name": "stdout",
     "output_type": "stream",
     "text": [
      "pred: [2, 6, 8], gt: [1, 5, 4, 6]\n"
     ]
    },
    {
     "name": "stderr",
     "output_type": "stream",
     "text": [
      "Chunks: 100%|██████████| 8/8 [00:02<00:00,  3.51it/s]\n",
      "542it [11:28,  2.16s/it]"
     ]
    },
    {
     "name": "stdout",
     "output_type": "stream",
     "text": [
      "pred: [4, 1, 10, 3, 5], gt: [1, 7, 6, 5, 4]\n"
     ]
    },
    {
     "name": "stderr",
     "output_type": "stream",
     "text": [
      "Chunks: 100%|██████████| 3/3 [00:00<00:00,  7.53it/s]\n",
      "543it [11:28,  1.64s/it]"
     ]
    },
    {
     "name": "stdout",
     "output_type": "stream",
     "text": [
      "pred: [3], gt: [1, 1, 1]\n"
     ]
    },
    {
     "name": "stderr",
     "output_type": "stream",
     "text": [
      "Chunks: 100%|██████████| 8/8 [00:02<00:00,  3.47it/s]\n",
      "544it [11:31,  1.85s/it]"
     ]
    },
    {
     "name": "stdout",
     "output_type": "stream",
     "text": [
      "pred: [8, 4, 2, 2, 8], gt: [1, 6, 7, 10]\n"
     ]
    },
    {
     "name": "stderr",
     "output_type": "stream",
     "text": [
      "Chunks: 100%|██████████| 7/7 [00:01<00:00,  5.65it/s]\n",
      "545it [11:32,  1.68s/it]"
     ]
    },
    {
     "name": "stdout",
     "output_type": "stream",
     "text": [
      "pred: [13, 2, 4, 2], gt: [3, 5, 6, 7]\n"
     ]
    },
    {
     "name": "stderr",
     "output_type": "stream",
     "text": [
      "Chunks: 100%|██████████| 5/5 [00:00<00:00,  5.61it/s]\n",
      "546it [11:33,  1.45s/it]"
     ]
    },
    {
     "name": "stdout",
     "output_type": "stream",
     "text": [
      "pred: [2, 8], gt: [2, 3, 3, 2]\n"
     ]
    },
    {
     "name": "stderr",
     "output_type": "stream",
     "text": [
      "Chunks: 100%|██████████| 8/8 [00:02<00:00,  3.23it/s]\n",
      "547it [11:35,  1.77s/it]"
     ]
    },
    {
     "name": "stdout",
     "output_type": "stream",
     "text": [
      "pred: [12, 4], gt: [1, 5, 5, 5]\n"
     ]
    },
    {
     "name": "stderr",
     "output_type": "stream",
     "text": [
      "Chunks: 100%|██████████| 4/4 [00:00<00:00,  5.83it/s]\n",
      "548it [11:36,  1.45s/it]"
     ]
    },
    {
     "name": "stdout",
     "output_type": "stream",
     "text": [
      "pred: [4], gt: [1, 1, 1, 1]\n"
     ]
    },
    {
     "name": "stderr",
     "output_type": "stream",
     "text": [
      "Chunks: 100%|██████████| 6/6 [00:03<00:00,  1.93it/s]\n",
      "549it [11:39,  1.96s/it]"
     ]
    },
    {
     "name": "stdout",
     "output_type": "stream",
     "text": [
      "pred: [6, 5, 1], gt: [1, 4, 3, 4]\n"
     ]
    },
    {
     "name": "stderr",
     "output_type": "stream",
     "text": [
      "Chunks: 100%|██████████| 7/7 [00:00<00:00,  8.66it/s]\n",
      "550it [11:40,  1.62s/it]"
     ]
    },
    {
     "name": "stdout",
     "output_type": "stream",
     "text": [
      "pred: [9, 2, 3], gt: [1, 4, 6, 3]\n"
     ]
    },
    {
     "name": "stderr",
     "output_type": "stream",
     "text": [
      "Chunks: 100%|██████████| 5/5 [00:00<00:00,  6.13it/s]\n",
      "551it [11:41,  1.39s/it]"
     ]
    },
    {
     "name": "stdout",
     "output_type": "stream",
     "text": [
      "pred: [7, 3], gt: [3, 7]\n"
     ]
    },
    {
     "name": "stderr",
     "output_type": "stream",
     "text": [
      "Chunks: 100%|██████████| 7/7 [00:00<00:00, 10.56it/s]\n",
      "552it [11:42,  1.18s/it]"
     ]
    },
    {
     "name": "stdout",
     "output_type": "stream",
     "text": [
      "pred: [11, 2, 2, 5], gt: [3, 4, 7, 6]\n"
     ]
    },
    {
     "name": "stderr",
     "output_type": "stream",
     "text": [
      "Chunks: 100%|██████████| 7/7 [00:01<00:00,  3.58it/s]\n",
      "553it [11:44,  1.43s/it]"
     ]
    },
    {
     "name": "stdout",
     "output_type": "stream",
     "text": [
      "pred: [6, 4, 3], gt: [1, 5, 3, 4]\n"
     ]
    },
    {
     "name": "stderr",
     "output_type": "stream",
     "text": [
      "Chunks: 100%|██████████| 3/3 [00:00<00:00,  6.80it/s]\n",
      "554it [11:44,  1.14s/it]"
     ]
    },
    {
     "name": "stdout",
     "output_type": "stream",
     "text": [
      "pred: [3], gt: [2, 1]\n"
     ]
    },
    {
     "name": "stderr",
     "output_type": "stream",
     "text": [
      "Chunks: 100%|██████████| 7/7 [00:00<00:00,  7.96it/s]\n",
      "555it [11:45,  1.07s/it]"
     ]
    },
    {
     "name": "stdout",
     "output_type": "stream",
     "text": [
      "pred: [3, 4], gt: [3, 2, 2]\n"
     ]
    },
    {
     "name": "stderr",
     "output_type": "stream",
     "text": [
      "Chunks: 100%|██████████| 4/4 [00:00<00:00,  9.53it/s]\n",
      "556it [11:45,  1.14it/s]"
     ]
    },
    {
     "name": "stdout",
     "output_type": "stream",
     "text": [
      "pred: [4], gt: [2, 2]\n"
     ]
    },
    {
     "name": "stderr",
     "output_type": "stream",
     "text": [
      "Chunks: 100%|██████████| 6/6 [00:03<00:00,  1.78it/s]\n",
      "557it [11:49,  1.64s/it]"
     ]
    },
    {
     "name": "stdout",
     "output_type": "stream",
     "text": [
      "pred: [1, 10], gt: [1, 4, 3, 3]\n"
     ]
    },
    {
     "name": "stderr",
     "output_type": "stream",
     "text": [
      "Chunks: 100%|██████████| 7/7 [00:00<00:00,  7.40it/s]\n",
      "558it [11:50,  1.44s/it]"
     ]
    },
    {
     "name": "stdout",
     "output_type": "stream",
     "text": [
      "pred: [1, 3, 10], gt: [1, 6, 3, 4]\n"
     ]
    },
    {
     "name": "stderr",
     "output_type": "stream",
     "text": [
      "Chunks: 100%|██████████| 6/6 [00:00<00:00,  6.26it/s]\n",
      "559it [11:51,  1.30s/it]"
     ]
    },
    {
     "name": "stdout",
     "output_type": "stream",
     "text": [
      "pred: [6, 4, 3, 4], gt: [1, 4, 4, 4, 4]\n"
     ]
    },
    {
     "name": "stderr",
     "output_type": "stream",
     "text": [
      "Chunks: 100%|██████████| 8/8 [00:03<00:00,  2.06it/s]\n",
      "560it [11:55,  2.09s/it]"
     ]
    },
    {
     "name": "stdout",
     "output_type": "stream",
     "text": [
      "pred: [1, 4, 2, 2, 3, 18], gt: [5, 13, 12]\n"
     ]
    },
    {
     "name": "stderr",
     "output_type": "stream",
     "text": [
      "Chunks: 100%|██████████| 8/8 [00:02<00:00,  3.93it/s]\n",
      "561it [11:57,  2.09s/it]"
     ]
    },
    {
     "name": "stdout",
     "output_type": "stream",
     "text": [
      "pred: [1, 7, 4, 2, 8], gt: [2, 5, 6, 4, 5]\n"
     ]
    },
    {
     "name": "stderr",
     "output_type": "stream",
     "text": [
      "Chunks: 100%|██████████| 6/6 [00:00<00:00,  6.39it/s]\n",
      "562it [11:58,  1.75s/it]"
     ]
    },
    {
     "name": "stdout",
     "output_type": "stream",
     "text": [
      "pred: [10, 1], gt: [1, 3, 3, 4]\n"
     ]
    },
    {
     "name": "stderr",
     "output_type": "stream",
     "text": [
      "Chunks: 100%|██████████| 7/7 [00:00<00:00,  8.17it/s]\n",
      "563it [11:59,  1.49s/it]"
     ]
    },
    {
     "name": "stdout",
     "output_type": "stream",
     "text": [
      "pred: [10, 3, 5, 2], gt: [2, 6, 7, 5]\n"
     ]
    },
    {
     "name": "stderr",
     "output_type": "stream",
     "text": [
      "Chunks: 100%|██████████| 8/8 [00:01<00:00,  7.91it/s]\n",
      "564it [12:00,  1.36s/it]"
     ]
    },
    {
     "name": "stdout",
     "output_type": "stream",
     "text": [
      "pred: [7, 2, 2, 2, 10], gt: [3, 9, 6, 5]\n"
     ]
    },
    {
     "name": "stderr",
     "output_type": "stream",
     "text": [
      "Chunks: 100%|██████████| 6/6 [00:01<00:00,  5.95it/s]\n",
      "565it [12:01,  1.26s/it]"
     ]
    },
    {
     "name": "stdout",
     "output_type": "stream",
     "text": [
      "pred: [10, 1], gt: [1, 2, 2, 4, 2]\n"
     ]
    },
    {
     "name": "stderr",
     "output_type": "stream",
     "text": [
      "Chunks: 100%|██████████| 7/7 [00:00<00:00,  7.44it/s]\n",
      "566it [12:02,  1.17s/it]"
     ]
    },
    {
     "name": "stdout",
     "output_type": "stream",
     "text": [
      "pred: [3, 8, 3], gt: [2, 4, 4, 4]\n"
     ]
    },
    {
     "name": "stderr",
     "output_type": "stream",
     "text": [
      "Chunks: 100%|██████████| 7/7 [00:01<00:00,  3.86it/s]\n",
      "567it [12:04,  1.38s/it]"
     ]
    },
    {
     "name": "stdout",
     "output_type": "stream",
     "text": [
      "pred: [5, 1, 7], gt: [1, 4, 4, 4]\n"
     ]
    },
    {
     "name": "stderr",
     "output_type": "stream",
     "text": [
      "Chunks: 100%|██████████| 7/7 [00:01<00:00,  4.91it/s]\n",
      "568it [12:05,  1.40s/it]"
     ]
    },
    {
     "name": "stdout",
     "output_type": "stream",
     "text": [
      "pred: [4, 4, 7, 4], gt: [2, 2, 3, 2, 3, 3, 4]\n"
     ]
    },
    {
     "name": "stderr",
     "output_type": "stream",
     "text": [
      "Chunks: 100%|██████████| 7/7 [00:00<00:00,  7.36it/s]\n",
      "569it [12:06,  1.28s/it]"
     ]
    },
    {
     "name": "stdout",
     "output_type": "stream",
     "text": [
      "pred: [1, 2, 11], gt: [3, 4, 3, 4]\n"
     ]
    },
    {
     "name": "stderr",
     "output_type": "stream",
     "text": [
      "Chunks: 100%|██████████| 7/7 [00:01<00:00,  4.29it/s]\n",
      "570it [12:08,  1.39s/it]"
     ]
    },
    {
     "name": "stdout",
     "output_type": "stream",
     "text": [
      "pred: [1, 2, 12, 2, 9], gt: [2, 11, 4, 9]\n"
     ]
    },
    {
     "name": "stderr",
     "output_type": "stream",
     "text": [
      "Chunks: 100%|██████████| 7/7 [00:01<00:00,  4.95it/s]\n",
      "571it [12:09,  1.41s/it]"
     ]
    },
    {
     "name": "stdout",
     "output_type": "stream",
     "text": [
      "pred: [1, 8, 4], gt: [1, 3, 4, 5]\n"
     ]
    },
    {
     "name": "stderr",
     "output_type": "stream",
     "text": [
      "Chunks: 100%|██████████| 6/6 [00:00<00:00, 11.06it/s]\n",
      "572it [12:10,  1.16s/it]"
     ]
    },
    {
     "name": "stdout",
     "output_type": "stream",
     "text": [
      "pred: [6], gt: [3, 2, 1]\n"
     ]
    },
    {
     "name": "stderr",
     "output_type": "stream",
     "text": [
      "Chunks: 100%|██████████| 6/6 [00:00<00:00,  8.61it/s]\n",
      "573it [12:10,  1.03s/it]"
     ]
    },
    {
     "name": "stdout",
     "output_type": "stream",
     "text": [
      "pred: [5, 6], gt: [6, 2, 3]\n"
     ]
    },
    {
     "name": "stderr",
     "output_type": "stream",
     "text": [
      "Chunks: 100%|██████████| 5/5 [00:02<00:00,  2.24it/s]\n",
      "574it [12:13,  1.40s/it]"
     ]
    },
    {
     "name": "stdout",
     "output_type": "stream",
     "text": [
      "pred: [9, 1], gt: [2, 3, 3, 2]\n"
     ]
    },
    {
     "name": "stderr",
     "output_type": "stream",
     "text": [
      "Chunks: 100%|██████████| 8/8 [00:01<00:00,  6.85it/s]\n",
      "575it [12:14,  1.34s/it]"
     ]
    },
    {
     "name": "stdout",
     "output_type": "stream",
     "text": [
      "pred: [7, 1, 1, 7, 6], gt: [1, 7, 7, 7]\n"
     ]
    },
    {
     "name": "stderr",
     "output_type": "stream",
     "text": [
      "Chunks: 100%|██████████| 6/6 [00:00<00:00,  8.06it/s]\n",
      "576it [12:15,  1.17s/it]"
     ]
    },
    {
     "name": "stdout",
     "output_type": "stream",
     "text": [
      "pred: [2, 7, 3, 6], gt: [1, 7, 4, 6]\n"
     ]
    },
    {
     "name": "stderr",
     "output_type": "stream",
     "text": [
      "Chunks: 100%|██████████| 7/7 [00:01<00:00,  4.07it/s]\n",
      "577it [12:16,  1.35s/it]"
     ]
    },
    {
     "name": "stdout",
     "output_type": "stream",
     "text": [
      "pred: [2, 1, 11], gt: [2, 4, 3, 5]\n"
     ]
    },
    {
     "name": "stderr",
     "output_type": "stream",
     "text": [
      "Chunks: 100%|██████████| 7/7 [00:01<00:00,  5.02it/s]\n",
      "578it [12:18,  1.37s/it]"
     ]
    },
    {
     "name": "stdout",
     "output_type": "stream",
     "text": [
      "pred: [8, 1, 5], gt: [1, 6, 7]\n"
     ]
    },
    {
     "name": "stderr",
     "output_type": "stream",
     "text": [
      "Chunks: 100%|██████████| 7/7 [00:00<00:00,  7.36it/s]\n",
      "579it [12:19,  1.26s/it]"
     ]
    },
    {
     "name": "stdout",
     "output_type": "stream",
     "text": [
      "pred: [1, 4, 8, 5, 6, 4], gt: [2, 7, 10, 9]\n"
     ]
    },
    {
     "name": "stderr",
     "output_type": "stream",
     "text": [
      "Chunks: 100%|██████████| 8/8 [00:01<00:00,  6.03it/s]\n",
      "580it [12:20,  1.29s/it]"
     ]
    },
    {
     "name": "stdout",
     "output_type": "stream",
     "text": [
      "pred: [5, 2, 9], gt: [1, 4, 5, 6]\n"
     ]
    },
    {
     "name": "stderr",
     "output_type": "stream",
     "text": [
      "Chunks: 100%|██████████| 7/7 [00:01<00:00,  6.95it/s]\n",
      "581it [12:21,  1.22s/it]"
     ]
    },
    {
     "name": "stdout",
     "output_type": "stream",
     "text": [
      "pred: [2, 13, 3, 1], gt: [1, 5, 5, 8]\n"
     ]
    },
    {
     "name": "stderr",
     "output_type": "stream",
     "text": [
      "Chunks: 100%|██████████| 7/7 [00:00<00:00,  7.75it/s]\n",
      "582it [12:22,  1.13s/it]"
     ]
    },
    {
     "name": "stdout",
     "output_type": "stream",
     "text": [
      "pred: [4, 3, 4, 2, 5, 10, 7], gt: [2, 11, 11, 11]\n"
     ]
    },
    {
     "name": "stderr",
     "output_type": "stream",
     "text": [
      "Chunks: 100%|██████████| 8/8 [00:01<00:00,  5.09it/s]\n",
      "583it [12:24,  1.28s/it]"
     ]
    },
    {
     "name": "stdout",
     "output_type": "stream",
     "text": [
      "pred: [7, 5, 3, 6, 2, 1, 12], gt: [2, 17, 17]\n"
     ]
    },
    {
     "name": "stderr",
     "output_type": "stream",
     "text": [
      "Chunks: 100%|██████████| 6/6 [00:00<00:00,  6.24it/s]\n",
      "584it [12:25,  1.19s/it]"
     ]
    },
    {
     "name": "stdout",
     "output_type": "stream",
     "text": [
      "pred: [14, 1, 1, 2], gt: [3, 7, 4, 4]\n"
     ]
    },
    {
     "name": "stderr",
     "output_type": "stream",
     "text": [
      "Chunks: 100%|██████████| 6/6 [00:02<00:00,  2.51it/s]\n",
      "585it [12:27,  1.57s/it]"
     ]
    },
    {
     "name": "stdout",
     "output_type": "stream",
     "text": [
      "pred: [1, 12, 1, 4], gt: [3, 5, 5, 5]\n"
     ]
    },
    {
     "name": "stderr",
     "output_type": "stream",
     "text": [
      "Chunks: 100%|██████████| 5/5 [00:01<00:00,  4.20it/s]\n",
      "586it [12:28,  1.46s/it]"
     ]
    },
    {
     "name": "stdout",
     "output_type": "stream",
     "text": [
      "pred: [5, 5], gt: [1, 3, 3, 3]\n"
     ]
    },
    {
     "name": "stderr",
     "output_type": "stream",
     "text": [
      "Chunks: 100%|██████████| 7/7 [00:01<00:00,  4.07it/s]\n",
      "587it [12:30,  1.55s/it]"
     ]
    },
    {
     "name": "stdout",
     "output_type": "stream",
     "text": [
      "pred: [1, 4, 9], gt: [1, 3, 4, 6]\n"
     ]
    },
    {
     "name": "stderr",
     "output_type": "stream",
     "text": [
      "Chunks: 100%|██████████| 6/6 [00:00<00:00,  7.84it/s]\n",
      "588it [12:31,  1.32s/it]"
     ]
    },
    {
     "name": "stdout",
     "output_type": "stream",
     "text": [
      "pred: [1, 10, 1], gt: [2, 7, 3]\n"
     ]
    },
    {
     "name": "stderr",
     "output_type": "stream",
     "text": [
      "Chunks: 100%|██████████| 7/7 [00:02<00:00,  2.64it/s]\n",
      "589it [12:34,  1.73s/it]"
     ]
    },
    {
     "name": "stdout",
     "output_type": "stream",
     "text": [
      "pred: [5, 2], gt: [1, 2, 2, 2]\n"
     ]
    },
    {
     "name": "stderr",
     "output_type": "stream",
     "text": [
      "Chunks: 100%|██████████| 6/6 [00:00<00:00,  6.55it/s]\n",
      "590it [12:35,  1.50s/it]"
     ]
    },
    {
     "name": "stdout",
     "output_type": "stream",
     "text": [
      "pred: [2, 4, 3, 8], gt: [1, 4, 4, 4, 4]\n"
     ]
    },
    {
     "name": "stderr",
     "output_type": "stream",
     "text": [
      "Chunks: 100%|██████████| 6/6 [00:01<00:00,  3.74it/s]\n",
      "591it [12:36,  1.54s/it]"
     ]
    },
    {
     "name": "stdout",
     "output_type": "stream",
     "text": [
      "pred: [4, 6, 7], gt: [1, 4, 4, 4, 4]\n"
     ]
    },
    {
     "name": "stderr",
     "output_type": "stream",
     "text": [
      "Chunks: 100%|██████████| 6/6 [00:00<00:00, 15.10it/s]\n",
      "592it [12:37,  1.20s/it]"
     ]
    },
    {
     "name": "stdout",
     "output_type": "stream",
     "text": [
      "pred: [6], gt: [4, 2]\n"
     ]
    },
    {
     "name": "stderr",
     "output_type": "stream",
     "text": [
      "Chunks: 100%|██████████| 8/8 [00:01<00:00,  7.08it/s]\n",
      "593it [12:38,  1.19s/it]"
     ]
    },
    {
     "name": "stdout",
     "output_type": "stream",
     "text": [
      "pred: [3, 10, 2], gt: [1, 7, 4, 3]\n"
     ]
    },
    {
     "name": "stderr",
     "output_type": "stream",
     "text": [
      "Chunks: 100%|██████████| 5/5 [00:01<00:00,  3.54it/s]\n",
      "594it [12:39,  1.27s/it]"
     ]
    },
    {
     "name": "stdout",
     "output_type": "stream",
     "text": [
      "pred: [2, 7], gt: [2, 2, 2, 2, 1]\n"
     ]
    },
    {
     "name": "stderr",
     "output_type": "stream",
     "text": [
      "Chunks: 100%|██████████| 6/6 [00:02<00:00,  2.68it/s]\n",
      "595it [12:42,  1.57s/it]"
     ]
    },
    {
     "name": "stdout",
     "output_type": "stream",
     "text": [
      "pred: [4, 1, 6, 6], gt: [1, 5, 6, 5]\n"
     ]
    },
    {
     "name": "stderr",
     "output_type": "stream",
     "text": [
      "Chunks: 100%|██████████| 6/6 [00:00<00:00,  6.98it/s]\n",
      "596it [12:42,  1.37s/it]"
     ]
    },
    {
     "name": "stdout",
     "output_type": "stream",
     "text": [
      "pred: [2, 9, 2, 5], gt: [2, 6, 4, 6]\n"
     ]
    },
    {
     "name": "stderr",
     "output_type": "stream",
     "text": [
      "Chunks: 100%|██████████| 4/4 [00:00<00:00,  6.52it/s]\n",
      "597it [12:43,  1.15s/it]"
     ]
    },
    {
     "name": "stdout",
     "output_type": "stream",
     "text": [
      "pred: [4], gt: [2, 2]\n"
     ]
    },
    {
     "name": "stderr",
     "output_type": "stream",
     "text": [
      "Chunks: 100%|██████████| 8/8 [00:01<00:00,  5.74it/s]\n",
      "598it [12:45,  1.23s/it]"
     ]
    },
    {
     "name": "stdout",
     "output_type": "stream",
     "text": [
      "pred: [3, 6, 7], gt: [1, 6, 4, 5]\n"
     ]
    },
    {
     "name": "stderr",
     "output_type": "stream",
     "text": [
      "Chunks: 100%|██████████| 8/8 [00:03<00:00,  2.23it/s]\n",
      "599it [12:48,  1.95s/it]"
     ]
    },
    {
     "name": "stdout",
     "output_type": "stream",
     "text": [
      "pred: [7, 5, 2, 1, 4, 5, 8], gt: [5, 9, 9, 9]\n"
     ]
    },
    {
     "name": "stderr",
     "output_type": "stream",
     "text": [
      "Chunks: 100%|██████████| 8/8 [00:01<00:00,  5.52it/s]\n",
      "600it [12:50,  1.81s/it]"
     ]
    },
    {
     "name": "stdout",
     "output_type": "stream",
     "text": [
      "pred: [1, 12, 8, 1, 1], gt: [2, 7, 4, 4, 6]\n"
     ]
    },
    {
     "name": "stderr",
     "output_type": "stream",
     "text": [
      "Chunks: 100%|██████████| 5/5 [00:01<00:00,  4.88it/s]\n",
      "601it [12:51,  1.58s/it]"
     ]
    },
    {
     "name": "stdout",
     "output_type": "stream",
     "text": [
      "pred: [5], gt: [1, 1, 3]\n"
     ]
    },
    {
     "name": "stderr",
     "output_type": "stream",
     "text": [
      "Chunks: 100%|██████████| 7/7 [00:00<00:00,  8.44it/s]\n",
      "602it [12:52,  1.37s/it]"
     ]
    },
    {
     "name": "stdout",
     "output_type": "stream",
     "text": [
      "pred: [8, 3, 2], gt: [3, 3, 4, 3]\n"
     ]
    },
    {
     "name": "stderr",
     "output_type": "stream",
     "text": [
      "Chunks: 100%|██████████| 6/6 [00:00<00:00,  7.15it/s]\n",
      "603it [12:52,  1.22s/it]"
     ]
    },
    {
     "name": "stdout",
     "output_type": "stream",
     "text": [
      "pred: [4, 2, 2, 10], gt: [3, 4, 5, 6]\n"
     ]
    },
    {
     "name": "stderr",
     "output_type": "stream",
     "text": [
      "Chunks: 100%|██████████| 8/8 [00:02<00:00,  3.82it/s]\n",
      "604it [12:55,  1.49s/it]"
     ]
    },
    {
     "name": "stdout",
     "output_type": "stream",
     "text": [
      "pred: [2, 1, 12], gt: [1, 7, 7]\n"
     ]
    },
    {
     "name": "stderr",
     "output_type": "stream",
     "text": [
      "Chunks: 100%|██████████| 7/7 [00:01<00:00,  5.47it/s]\n",
      "605it [12:56,  1.44s/it]"
     ]
    },
    {
     "name": "stdout",
     "output_type": "stream",
     "text": [
      "pred: [1, 2, 7, 9], gt: [4, 6, 4, 5]\n"
     ]
    },
    {
     "name": "stderr",
     "output_type": "stream",
     "text": [
      "Chunks: 100%|██████████| 7/7 [00:00<00:00,  7.29it/s]\n",
      "606it [12:57,  1.31s/it]"
     ]
    },
    {
     "name": "stdout",
     "output_type": "stream",
     "text": [
      "pred: [1, 7, 11, 1], gt: [2, 6, 5, 7]\n"
     ]
    },
    {
     "name": "stderr",
     "output_type": "stream",
     "text": [
      "Chunks: 100%|██████████| 8/8 [00:01<00:00,  5.40it/s]\n",
      "607it [12:58,  1.37s/it]"
     ]
    },
    {
     "name": "stdout",
     "output_type": "stream",
     "text": [
      "pred: [3, 2, 11], gt: [3, 13]\n"
     ]
    },
    {
     "name": "stderr",
     "output_type": "stream",
     "text": [
      "Chunks: 100%|██████████| 4/4 [00:00<00:00,  5.85it/s]\n",
      "608it [12:59,  1.17s/it]"
     ]
    },
    {
     "name": "stdout",
     "output_type": "stream",
     "text": [
      "pred: [4], gt: [1, 1, 1, 1]\n"
     ]
    },
    {
     "name": "stderr",
     "output_type": "stream",
     "text": [
      "Chunks: 100%|██████████| 7/7 [00:01<00:00,  6.48it/s]\n",
      "609it [13:00,  1.16s/it]"
     ]
    },
    {
     "name": "stdout",
     "output_type": "stream",
     "text": [
      "pred: [1, 4, 1, 10, 10, 3, 5], gt: [3, 14, 6, 5, 6]\n"
     ]
    },
    {
     "name": "stderr",
     "output_type": "stream",
     "text": [
      "Chunks: 100%|██████████| 5/5 [00:01<00:00,  4.46it/s]\n",
      "610it [13:01,  1.15s/it]"
     ]
    },
    {
     "name": "stdout",
     "output_type": "stream",
     "text": [
      "pred: [4, 5], gt: [1, 2, 3, 3]\n"
     ]
    },
    {
     "name": "stderr",
     "output_type": "stream",
     "text": [
      "Chunks: 100%|██████████| 5/5 [00:01<00:00,  3.17it/s]\n",
      "611it [13:03,  1.29s/it]"
     ]
    },
    {
     "name": "stdout",
     "output_type": "stream",
     "text": [
      "pred: [4, 6], gt: [2, 1, 2, 1, 1, 1, 1, 1]\n"
     ]
    },
    {
     "name": "stderr",
     "output_type": "stream",
     "text": [
      "Chunks: 100%|██████████| 7/7 [00:01<00:00,  5.08it/s]\n",
      "612it [13:04,  1.33s/it]"
     ]
    },
    {
     "name": "stdout",
     "output_type": "stream",
     "text": [
      "pred: [2, 1, 12, 10, 1], gt: [4, 6, 7, 4, 5]\n"
     ]
    },
    {
     "name": "stderr",
     "output_type": "stream",
     "text": [
      "Chunks: 100%|██████████| 5/5 [00:00<00:00,  5.25it/s]\n",
      "613it [13:05,  1.22s/it]"
     ]
    },
    {
     "name": "stdout",
     "output_type": "stream",
     "text": [
      "pred: [5], gt: [1, 1, 2, 1]\n"
     ]
    },
    {
     "name": "stderr",
     "output_type": "stream",
     "text": [
      "Chunks: 100%|██████████| 7/7 [00:00<00:00,  9.67it/s]\n",
      "614it [13:06,  1.08s/it]"
     ]
    },
    {
     "name": "stdout",
     "output_type": "stream",
     "text": [
      "pred: [5, 1, 7], gt: [1, 4, 4, 4]\n"
     ]
    },
    {
     "name": "stderr",
     "output_type": "stream",
     "text": [
      "Chunks: 100%|██████████| 6/6 [00:00<00:00,  7.46it/s]\n",
      "615it [13:07,  1.01s/it]"
     ]
    },
    {
     "name": "stdout",
     "output_type": "stream",
     "text": [
      "pred: [3, 4, 8, 3], gt: [2, 5, 6, 5]\n"
     ]
    },
    {
     "name": "stderr",
     "output_type": "stream",
     "text": [
      "Chunks: 100%|██████████| 6/6 [00:00<00:00,  7.49it/s]\n",
      "616it [13:08,  1.05it/s]"
     ]
    },
    {
     "name": "stdout",
     "output_type": "stream",
     "text": [
      "pred: [2, 7, 3], gt: [2, 4, 2, 4]\n"
     ]
    },
    {
     "name": "stderr",
     "output_type": "stream",
     "text": [
      "Chunks: 100%|██████████| 6/6 [00:00<00:00,  6.83it/s]\n",
      "617it [13:09,  1.06it/s]"
     ]
    },
    {
     "name": "stdout",
     "output_type": "stream",
     "text": [
      "pred: [2, 4, 6], gt: [1, 4, 3, 4]\n"
     ]
    },
    {
     "name": "stderr",
     "output_type": "stream",
     "text": [
      "Chunks: 100%|██████████| 5/5 [00:01<00:00,  3.11it/s]\n",
      "618it [13:10,  1.15s/it]"
     ]
    },
    {
     "name": "stdout",
     "output_type": "stream",
     "text": [
      "pred: [5, 5], gt: [1, 3, 4, 2]\n"
     ]
    },
    {
     "name": "stderr",
     "output_type": "stream",
     "text": [
      "Chunks: 100%|██████████| 8/8 [00:01<00:00,  4.89it/s]\n",
      "619it [13:12,  1.30s/it]"
     ]
    },
    {
     "name": "stdout",
     "output_type": "stream",
     "text": [
      "pred: [1, 7], gt: [1, 1, 3, 3]\n"
     ]
    },
    {
     "name": "stderr",
     "output_type": "stream",
     "text": [
      "Chunks: 100%|██████████| 8/8 [00:02<00:00,  3.80it/s]\n",
      "620it [13:14,  1.55s/it]"
     ]
    },
    {
     "name": "stdout",
     "output_type": "stream",
     "text": [
      "pred: [2, 10, 4], gt: [1, 5, 5, 5]\n"
     ]
    },
    {
     "name": "stderr",
     "output_type": "stream",
     "text": [
      "Chunks: 100%|██████████| 6/6 [00:01<00:00,  4.48it/s]\n",
      "621it [13:16,  1.50s/it]"
     ]
    },
    {
     "name": "stdout",
     "output_type": "stream",
     "text": [
      "pred: [3, 1, 2, 11], gt: [1, 5, 3, 2, 3, 3]\n"
     ]
    },
    {
     "name": "stderr",
     "output_type": "stream",
     "text": [
      "Chunks: 100%|██████████| 8/8 [00:01<00:00,  6.68it/s]\n",
      "622it [13:17,  1.42s/it]"
     ]
    },
    {
     "name": "stdout",
     "output_type": "stream",
     "text": [
      "pred: [3, 9, 5, 3, 2], gt: [3, 5, 5, 9]\n"
     ]
    },
    {
     "name": "stderr",
     "output_type": "stream",
     "text": [
      "Chunks: 100%|██████████| 5/5 [00:00<00:00, 13.97it/s]\n",
      "623it [13:17,  1.11s/it]"
     ]
    },
    {
     "name": "stdout",
     "output_type": "stream",
     "text": [
      "pred: [5], gt: [2, 3]\n"
     ]
    },
    {
     "name": "stderr",
     "output_type": "stream",
     "text": [
      "Chunks: 100%|██████████| 3/3 [00:01<00:00,  2.70it/s]\n",
      "624it [13:18,  1.11s/it]"
     ]
    },
    {
     "name": "stdout",
     "output_type": "stream",
     "text": [
      "pred: [3], gt: [1, 1, 1]\n"
     ]
    },
    {
     "name": "stderr",
     "output_type": "stream",
     "text": [
      "Chunks: 100%|██████████| 8/8 [00:00<00:00, 10.57it/s]\n",
      "625it [13:19,  1.02s/it]"
     ]
    },
    {
     "name": "stdout",
     "output_type": "stream",
     "text": [
      "pred: [3, 5, 7, 6, 4, 7, 4], gt: [4, 10, 6, 9, 7]\n"
     ]
    },
    {
     "name": "stderr",
     "output_type": "stream",
     "text": [
      "Chunks: 100%|██████████| 5/5 [00:01<00:00,  3.45it/s]\n",
      "626it [13:21,  1.16s/it]"
     ]
    },
    {
     "name": "stdout",
     "output_type": "stream",
     "text": [
      "pred: [1, 9], gt: [2, 3, 3, 2]\n"
     ]
    },
    {
     "name": "stderr",
     "output_type": "stream",
     "text": [
      "Chunks: 100%|██████████| 6/6 [00:00<00:00,  7.53it/s]\n",
      "627it [13:21,  1.06s/it]"
     ]
    },
    {
     "name": "stdout",
     "output_type": "stream",
     "text": [
      "pred: [9, 1, 2], gt: [1, 2, 4, 3, 2]\n"
     ]
    },
    {
     "name": "stderr",
     "output_type": "stream",
     "text": [
      "Chunks: 100%|██████████| 8/8 [00:00<00:00, 16.50it/s]\n",
      "628it [13:22,  1.12it/s]"
     ]
    },
    {
     "name": "stdout",
     "output_type": "stream",
     "text": [
      "pred: [6, 11, 1, 1, 4], gt: [1, 5, 5, 12]\n"
     ]
    },
    {
     "name": "stderr",
     "output_type": "stream",
     "text": [
      "Chunks: 100%|██████████| 6/6 [00:00<00:00,  7.38it/s]\n",
      "629it [13:23,  1.14it/s]"
     ]
    },
    {
     "name": "stdout",
     "output_type": "stream",
     "text": [
      "pred: [3, 8], gt: [1, 4, 6]\n"
     ]
    },
    {
     "name": "stderr",
     "output_type": "stream",
     "text": [
      "Chunks: 100%|██████████| 5/5 [00:00<00:00,  8.25it/s]\n",
      "630it [13:23,  1.25it/s]"
     ]
    },
    {
     "name": "stdout",
     "output_type": "stream",
     "text": [
      "pred: [5], gt: [3, 1, 1]\n"
     ]
    },
    {
     "name": "stderr",
     "output_type": "stream",
     "text": [
      "Chunks: 100%|██████████| 7/7 [00:01<00:00,  4.84it/s]\n",
      "631it [13:25,  1.01s/it]"
     ]
    },
    {
     "name": "stdout",
     "output_type": "stream",
     "text": [
      "pred: [6, 3, 4], gt: [2, 9, 2]\n"
     ]
    },
    {
     "name": "stderr",
     "output_type": "stream",
     "text": [
      "Chunks: 100%|██████████| 6/6 [00:00<00:00,  6.54it/s]\n",
      "632it [13:26,  1.01it/s]"
     ]
    },
    {
     "name": "stdout",
     "output_type": "stream",
     "text": [
      "pred: [8, 3], gt: [1, 4, 3, 3]\n"
     ]
    },
    {
     "name": "stderr",
     "output_type": "stream",
     "text": [
      "Chunks: 100%|██████████| 7/7 [00:01<00:00,  4.92it/s]\n",
      "633it [13:27,  1.13s/it]"
     ]
    },
    {
     "name": "stdout",
     "output_type": "stream",
     "text": [
      "pred: [6, 6, 2], gt: [3, 3, 5, 3]\n"
     ]
    },
    {
     "name": "stderr",
     "output_type": "stream",
     "text": [
      "Chunks: 100%|██████████| 7/7 [00:00<00:00,  9.99it/s]\n",
      "634it [13:28,  1.00s/it]"
     ]
    },
    {
     "name": "stdout",
     "output_type": "stream",
     "text": [
      "pred: [1, 9, 3], gt: [1, 5, 3, 4]\n"
     ]
    },
    {
     "name": "stderr",
     "output_type": "stream",
     "text": [
      "Chunks: 100%|██████████| 6/6 [00:01<00:00,  3.75it/s]\n",
      "635it [13:30,  1.19s/it]"
     ]
    },
    {
     "name": "stdout",
     "output_type": "stream",
     "text": [
      "pred: [5, 4, 3], gt: [1, 4, 3, 4]\n"
     ]
    },
    {
     "name": "stderr",
     "output_type": "stream",
     "text": [
      "Chunks: 100%|██████████| 5/5 [00:00<00:00,  9.32it/s]\n",
      "636it [13:30,  1.00s/it]"
     ]
    },
    {
     "name": "stdout",
     "output_type": "stream",
     "text": [
      "pred: [4, 5], gt: [1, 3, 3, 2]\n"
     ]
    },
    {
     "name": "stderr",
     "output_type": "stream",
     "text": [
      "Chunks: 100%|██████████| 5/5 [00:01<00:00,  4.27it/s]\n",
      "637it [13:31,  1.06s/it]"
     ]
    },
    {
     "name": "stdout",
     "output_type": "stream",
     "text": [
      "pred: [5], gt: [2, 3]\n"
     ]
    },
    {
     "name": "stderr",
     "output_type": "stream",
     "text": [
      "Chunks: 100%|██████████| 7/7 [00:01<00:00,  4.90it/s]\n",
      "638it [13:33,  1.18s/it]"
     ]
    },
    {
     "name": "stdout",
     "output_type": "stream",
     "text": [
      "pred: [3, 8, 3, 5], gt: [3, 3, 7, 6]\n"
     ]
    },
    {
     "name": "stderr",
     "output_type": "stream",
     "text": [
      "Chunks: 100%|██████████| 8/8 [00:01<00:00,  5.95it/s]\n",
      "639it [13:34,  1.25s/it]"
     ]
    },
    {
     "name": "stdout",
     "output_type": "stream",
     "text": [
      "pred: [4, 1, 2, 5, 3, 15], gt: [3, 13, 6, 8]\n"
     ]
    },
    {
     "name": "stderr",
     "output_type": "stream",
     "text": [
      "Chunks: 100%|██████████| 7/7 [00:01<00:00,  4.97it/s]\n",
      "640it [13:36,  1.30s/it]"
     ]
    },
    {
     "name": "stdout",
     "output_type": "stream",
     "text": [
      "pred: [2, 1, 12, 5], gt: [3, 4, 4, 4, 5]\n"
     ]
    },
    {
     "name": "stderr",
     "output_type": "stream",
     "text": [
      "Chunks: 100%|██████████| 7/7 [00:00<00:00,  8.73it/s]\n",
      "641it [13:36,  1.16s/it]"
     ]
    },
    {
     "name": "stdout",
     "output_type": "stream",
     "text": [
      "pred: [5, 2, 1, 1, 9, 10], gt: [1, 13, 9, 5]\n"
     ]
    },
    {
     "name": "stderr",
     "output_type": "stream",
     "text": [
      "Chunks: 100%|██████████| 7/7 [00:00<00:00,  8.05it/s]\n",
      "642it [13:37,  1.08s/it]"
     ]
    },
    {
     "name": "stdout",
     "output_type": "stream",
     "text": [
      "pred: [5, 5, 3], gt: [1, 5, 3, 4]\n"
     ]
    },
    {
     "name": "stderr",
     "output_type": "stream",
     "text": [
      "Chunks: 100%|██████████| 6/6 [00:00<00:00, 10.60it/s]\n",
      "643it [13:38,  1.07it/s]"
     ]
    },
    {
     "name": "stdout",
     "output_type": "stream",
     "text": [
      "pred: [9, 2, 1, 5], gt: [2, 5, 6, 4]\n"
     ]
    },
    {
     "name": "stderr",
     "output_type": "stream",
     "text": [
      "Chunks: 100%|██████████| 2/2 [00:01<00:00,  1.74it/s]\n",
      "644it [13:39,  1.01s/it]"
     ]
    },
    {
     "name": "stdout",
     "output_type": "stream",
     "text": [
      "pred: [2], gt: [1, 1]\n",
      "WD calculation failed at index 643: [<class 'decimal.DivisionUndefined'>]\n",
      "pred: [2], gt: [1, 1]\n"
     ]
    },
    {
     "name": "stderr",
     "output_type": "stream",
     "text": [
      "Chunks: 100%|██████████| 6/6 [00:00<00:00, 13.84it/s]\n",
      "645it [13:40,  1.19it/s]"
     ]
    },
    {
     "name": "stdout",
     "output_type": "stream",
     "text": [
      "pred: [3, 4, 6, 4], gt: [4, 3, 6, 4]\n"
     ]
    },
    {
     "name": "stderr",
     "output_type": "stream",
     "text": [
      "Chunks: 100%|██████████| 7/7 [00:01<00:00,  5.70it/s]\n",
      "646it [13:41,  1.03it/s]"
     ]
    },
    {
     "name": "stdout",
     "output_type": "stream",
     "text": [
      "pred: [6, 3, 4], gt: [1, 5, 4, 3]\n"
     ]
    },
    {
     "name": "stderr",
     "output_type": "stream",
     "text": [
      "Chunks: 100%|██████████| 6/6 [00:00<00:00, 13.05it/s]\n",
      "647it [13:41,  1.22it/s]"
     ]
    },
    {
     "name": "stdout",
     "output_type": "stream",
     "text": [
      "pred: [10, 1], gt: [1, 3, 3, 4]\n"
     ]
    },
    {
     "name": "stderr",
     "output_type": "stream",
     "text": [
      "Chunks: 100%|██████████| 4/4 [00:00<00:00,  6.09it/s]\n",
      "648it [13:42,  1.29it/s]"
     ]
    },
    {
     "name": "stdout",
     "output_type": "stream",
     "text": [
      "pred: [4], gt: [1, 2, 1]\n"
     ]
    },
    {
     "name": "stderr",
     "output_type": "stream",
     "text": [
      "Chunks: 100%|██████████| 7/7 [00:01<00:00,  6.10it/s]\n",
      "649it [13:43,  1.11it/s]"
     ]
    },
    {
     "name": "stdout",
     "output_type": "stream",
     "text": [
      "pred: [10, 2, 1], gt: [2, 3, 4, 4]\n"
     ]
    },
    {
     "name": "stderr",
     "output_type": "stream",
     "text": [
      "Chunks: 100%|██████████| 6/6 [00:00<00:00,  9.09it/s]\n",
      "650it [13:44,  1.20it/s]"
     ]
    },
    {
     "name": "stdout",
     "output_type": "stream",
     "text": [
      "pred: [8, 3], gt: [2, 3, 3, 3]\n"
     ]
    },
    {
     "name": "stderr",
     "output_type": "stream",
     "text": [
      "Chunks: 100%|██████████| 7/7 [00:01<00:00,  6.82it/s]\n",
      "651it [13:45,  1.11it/s]"
     ]
    },
    {
     "name": "stdout",
     "output_type": "stream",
     "text": [
      "pred: [2, 9, 2], gt: [1, 2, 3, 2, 5]\n"
     ]
    },
    {
     "name": "stderr",
     "output_type": "stream",
     "text": [
      "Chunks: 100%|██████████| 7/7 [00:00<00:00,  9.86it/s]\n",
      "652it [13:46,  1.17it/s]"
     ]
    },
    {
     "name": "stdout",
     "output_type": "stream",
     "text": [
      "pred: [10, 1, 2], gt: [2, 3, 2, 3, 3]\n"
     ]
    },
    {
     "name": "stderr",
     "output_type": "stream",
     "text": [
      "Chunks: 100%|██████████| 6/6 [00:00<00:00,  7.63it/s]\n",
      "653it [13:46,  1.19it/s]"
     ]
    },
    {
     "name": "stdout",
     "output_type": "stream",
     "text": [
      "pred: [2, 5, 5], gt: [2, 3, 4, 3]\n"
     ]
    },
    {
     "name": "stderr",
     "output_type": "stream",
     "text": [
      "Chunks: 100%|██████████| 6/6 [00:02<00:00,  2.79it/s]\n",
      "654it [13:49,  1.25s/it]"
     ]
    },
    {
     "name": "stdout",
     "output_type": "stream",
     "text": [
      "pred: [1, 7, 3, 7], gt: [4, 14]\n"
     ]
    },
    {
     "name": "stderr",
     "output_type": "stream",
     "text": [
      "Chunks: 100%|██████████| 7/7 [00:00<00:00,  9.98it/s]\n",
      "655it [13:49,  1.09s/it]"
     ]
    },
    {
     "name": "stdout",
     "output_type": "stream",
     "text": [
      "pred: [5, 1, 8], gt: [1, 6, 7]\n"
     ]
    },
    {
     "name": "stderr",
     "output_type": "stream",
     "text": [
      "Chunks: 100%|██████████| 8/8 [00:01<00:00,  5.49it/s]\n",
      "656it [13:51,  1.21s/it]"
     ]
    },
    {
     "name": "stdout",
     "output_type": "stream",
     "text": [
      "pred: [2, 3, 9, 2, 8], gt: [5, 6, 9, 4]\n"
     ]
    },
    {
     "name": "stderr",
     "output_type": "stream",
     "text": [
      "Chunks: 100%|██████████| 7/7 [00:03<00:00,  2.30it/s]\n",
      "657it [13:54,  1.78s/it]"
     ]
    },
    {
     "name": "stdout",
     "output_type": "stream",
     "text": [
      "pred: [2, 9, 5, 3], gt: [2, 5, 5, 7]\n"
     ]
    },
    {
     "name": "stderr",
     "output_type": "stream",
     "text": [
      "Chunks: 100%|██████████| 8/8 [00:01<00:00,  6.83it/s]\n",
      "658it [13:55,  1.61s/it]"
     ]
    },
    {
     "name": "stdout",
     "output_type": "stream",
     "text": [
      "pred: [1, 2, 2, 2, 5, 18], gt: [3, 10, 5, 12]\n"
     ]
    },
    {
     "name": "stderr",
     "output_type": "stream",
     "text": [
      "Chunks: 100%|██████████| 8/8 [00:02<00:00,  3.15it/s]\n",
      "659it [13:58,  1.90s/it]"
     ]
    },
    {
     "name": "stdout",
     "output_type": "stream",
     "text": [
      "pred: [3, 3, 4, 9, 5], gt: [2, 10, 6, 6]\n"
     ]
    },
    {
     "name": "stderr",
     "output_type": "stream",
     "text": [
      "Chunks: 100%|██████████| 7/7 [00:00<00:00,  8.76it/s]\n",
      "660it [13:59,  1.58s/it]"
     ]
    },
    {
     "name": "stdout",
     "output_type": "stream",
     "text": [
      "pred: [7, 3, 3], gt: [2, 3, 4, 4]\n"
     ]
    },
    {
     "name": "stderr",
     "output_type": "stream",
     "text": [
      "Chunks: 100%|██████████| 8/8 [00:00<00:00,  9.48it/s]\n",
      "661it [13:59,  1.37s/it]"
     ]
    },
    {
     "name": "stdout",
     "output_type": "stream",
     "text": [
      "pred: [2, 2, 5, 10, 4], gt: [1, 7, 7, 8]\n"
     ]
    },
    {
     "name": "stderr",
     "output_type": "stream",
     "text": [
      "Chunks: 100%|██████████| 8/8 [00:01<00:00,  6.46it/s]\n",
      "662it [14:01,  1.34s/it]"
     ]
    },
    {
     "name": "stdout",
     "output_type": "stream",
     "text": [
      "pred: [7, 3, 3, 1, 2, 13], gt: [4, 13, 4, 8]\n"
     ]
    },
    {
     "name": "stderr",
     "output_type": "stream",
     "text": [
      "Chunks: 100%|██████████| 6/6 [00:00<00:00, 10.74it/s]\n",
      "663it [14:01,  1.11s/it]"
     ]
    },
    {
     "name": "stdout",
     "output_type": "stream",
     "text": [
      "pred: [6], gt: [3, 3]\n"
     ]
    },
    {
     "name": "stderr",
     "output_type": "stream",
     "text": [
      "Chunks: 100%|██████████| 7/7 [00:01<00:00,  4.71it/s]\n",
      "664it [14:03,  1.23s/it]"
     ]
    },
    {
     "name": "stdout",
     "output_type": "stream",
     "text": [
      "pred: [6, 2, 5], gt: [1, 4, 3, 5]\n"
     ]
    },
    {
     "name": "stderr",
     "output_type": "stream",
     "text": [
      "Chunks: 100%|██████████| 6/6 [00:01<00:00,  4.96it/s]\n",
      "665it [14:04,  1.24s/it]"
     ]
    },
    {
     "name": "stdout",
     "output_type": "stream",
     "text": [
      "pred: [7, 3, 2], gt: [2, 2, 2, 2, 2, 2]\n"
     ]
    },
    {
     "name": "stderr",
     "output_type": "stream",
     "text": [
      "Chunks: 100%|██████████| 5/5 [00:01<00:00,  4.36it/s]\n",
      "666it [14:05,  1.22s/it]"
     ]
    },
    {
     "name": "stdout",
     "output_type": "stream",
     "text": [
      "pred: [5], gt: [2, 1, 1, 1]\n"
     ]
    },
    {
     "name": "stderr",
     "output_type": "stream",
     "text": [
      "Chunks: 100%|██████████| 7/7 [00:00<00:00,  7.50it/s]\n",
      "667it [14:06,  1.14s/it]"
     ]
    },
    {
     "name": "stdout",
     "output_type": "stream",
     "text": [
      "pred: [2, 2, 4, 12, 5], gt: [1, 7, 10, 7]\n"
     ]
    },
    {
     "name": "stderr",
     "output_type": "stream",
     "text": [
      "Chunks: 100%|██████████| 5/5 [00:00<00:00,  7.31it/s]\n",
      "668it [14:07,  1.01s/it]"
     ]
    },
    {
     "name": "stdout",
     "output_type": "stream",
     "text": [
      "pred: [5], gt: [1, 1, 2, 1]\n"
     ]
    },
    {
     "name": "stderr",
     "output_type": "stream",
     "text": [
      "Chunks: 100%|██████████| 7/7 [00:00<00:00, 10.93it/s]\n",
      "669it [14:08,  1.10it/s]"
     ]
    },
    {
     "name": "stdout",
     "output_type": "stream",
     "text": [
      "pred: [4, 3], gt: [3, 2, 1, 1]\n"
     ]
    },
    {
     "name": "stderr",
     "output_type": "stream",
     "text": [
      "Chunks: 100%|██████████| 8/8 [00:01<00:00,  4.93it/s]\n",
      "670it [14:09,  1.13s/it]"
     ]
    },
    {
     "name": "stdout",
     "output_type": "stream",
     "text": [
      "pred: [7, 2, 2, 2, 9], gt: [2, 6, 10, 4]\n"
     ]
    },
    {
     "name": "stderr",
     "output_type": "stream",
     "text": [
      "Chunks: 100%|██████████| 8/8 [00:01<00:00,  4.47it/s]\n",
      "671it [14:11,  1.34s/it]"
     ]
    },
    {
     "name": "stdout",
     "output_type": "stream",
     "text": [
      "pred: [1, 7, 7], gt: [1, 3, 3, 5, 3]\n"
     ]
    },
    {
     "name": "stderr",
     "output_type": "stream",
     "text": [
      "Chunks: 100%|██████████| 7/7 [00:00<00:00, 11.47it/s]\n",
      "672it [14:12,  1.13s/it]"
     ]
    },
    {
     "name": "stdout",
     "output_type": "stream",
     "text": [
      "pred: [2, 7, 5], gt: [1, 4, 4, 5]\n"
     ]
    },
    {
     "name": "stderr",
     "output_type": "stream",
     "text": [
      "Chunks: 100%|██████████| 8/8 [00:01<00:00,  7.69it/s]\n",
      "673it [14:13,  1.11s/it]"
     ]
    },
    {
     "name": "stdout",
     "output_type": "stream",
     "text": [
      "pred: [9, 2, 4], gt: [4, 2, 3, 6]\n"
     ]
    },
    {
     "name": "stderr",
     "output_type": "stream",
     "text": [
      "Chunks: 100%|██████████| 7/7 [00:00<00:00, 15.54it/s]\n",
      "674it [14:13,  1.09it/s]"
     ]
    },
    {
     "name": "stdout",
     "output_type": "stream",
     "text": [
      "pred: [5, 2], gt: [2, 2, 3]\n"
     ]
    },
    {
     "name": "stderr",
     "output_type": "stream",
     "text": [
      "Chunks: 100%|██████████| 7/7 [00:02<00:00,  3.48it/s]\n",
      "675it [14:15,  1.26s/it]"
     ]
    },
    {
     "name": "stdout",
     "output_type": "stream",
     "text": [
      "pred: [8, 5, 1, 12], gt: [2, 3, 4, 4, 4, 4, 5]\n"
     ]
    },
    {
     "name": "stderr",
     "output_type": "stream",
     "text": [
      "Chunks: 100%|██████████| 5/5 [00:00<00:00,  8.28it/s]\n",
      "676it [14:16,  1.07s/it]"
     ]
    },
    {
     "name": "stdout",
     "output_type": "stream",
     "text": [
      "pred: [6, 3], gt: [1, 3, 5]\n"
     ]
    },
    {
     "name": "stderr",
     "output_type": "stream",
     "text": [
      "Chunks: 100%|██████████| 7/7 [00:01<00:00,  4.75it/s]\n",
      "677it [14:17,  1.20s/it]"
     ]
    },
    {
     "name": "stdout",
     "output_type": "stream",
     "text": [
      "pred: [3, 3, 8], gt: [1, 4, 3, 6]\n"
     ]
    },
    {
     "name": "stderr",
     "output_type": "stream",
     "text": [
      "Chunks: 100%|██████████| 2/2 [00:00<00:00,  3.38it/s]\n",
      "678it [14:18,  1.02s/it]"
     ]
    },
    {
     "name": "stdout",
     "output_type": "stream",
     "text": [
      "pred: [2], gt: [1, 1]\n",
      "WD calculation failed at index 677: [<class 'decimal.DivisionUndefined'>]\n",
      "pred: [2], gt: [1, 1]\n"
     ]
    },
    {
     "name": "stderr",
     "output_type": "stream",
     "text": [
      "Chunks: 100%|██████████| 7/7 [00:01<00:00,  4.69it/s]\n",
      "679it [14:20,  1.18s/it]"
     ]
    },
    {
     "name": "stdout",
     "output_type": "stream",
     "text": [
      "pred: [1, 6, 5, 15, 2, 3, 1], gt: [4, 6, 7, 5, 7, 4]\n"
     ]
    },
    {
     "name": "stderr",
     "output_type": "stream",
     "text": [
      "Chunks: 100%|██████████| 7/7 [00:00<00:00, 10.10it/s]\n",
      "680it [14:20,  1.04s/it]"
     ]
    },
    {
     "name": "stdout",
     "output_type": "stream",
     "text": [
      "pred: [2, 8, 4], gt: [1, 4, 4, 5]\n"
     ]
    },
    {
     "name": "stderr",
     "output_type": "stream",
     "text": [
      "Chunks: 100%|██████████| 4/4 [00:00<00:00,  8.59it/s]\n",
      "681it [14:21,  1.14it/s]"
     ]
    },
    {
     "name": "stdout",
     "output_type": "stream",
     "text": [
      "pred: [4], gt: [1, 1, 1, 1]\n"
     ]
    },
    {
     "name": "stderr",
     "output_type": "stream",
     "text": [
      "Chunks: 100%|██████████| 6/6 [00:01<00:00,  5.32it/s]\n",
      "682it [14:22,  1.04it/s]"
     ]
    },
    {
     "name": "stdout",
     "output_type": "stream",
     "text": [
      "pred: [5, 4, 3], gt: [1, 3, 3, 5]\n"
     ]
    },
    {
     "name": "stderr",
     "output_type": "stream",
     "text": [
      "Chunks: 100%|██████████| 7/7 [00:00<00:00, 13.03it/s]\n",
      "683it [14:23,  1.19it/s]"
     ]
    },
    {
     "name": "stdout",
     "output_type": "stream",
     "text": [
      "pred: [8, 2, 4], gt: [3, 2, 3, 3, 3]\n"
     ]
    },
    {
     "name": "stderr",
     "output_type": "stream",
     "text": [
      "Chunks: 100%|██████████| 8/8 [00:01<00:00,  5.74it/s]\n",
      "684it [14:24,  1.02s/it]"
     ]
    },
    {
     "name": "stdout",
     "output_type": "stream",
     "text": [
      "pred: [3, 1, 2, 9, 3, 13], gt: [3, 14, 14]\n"
     ]
    },
    {
     "name": "stderr",
     "output_type": "stream",
     "text": [
      "Chunks: 100%|██████████| 8/8 [00:01<00:00,  5.04it/s]\n",
      "685it [14:26,  1.20s/it]"
     ]
    },
    {
     "name": "stdout",
     "output_type": "stream",
     "text": [
      "pred: [3, 3, 9], gt: [1, 5, 4, 5]\n"
     ]
    },
    {
     "name": "stderr",
     "output_type": "stream",
     "text": [
      "Chunks: 100%|██████████| 8/8 [00:01<00:00,  4.03it/s]\n",
      "686it [14:28,  1.45s/it]"
     ]
    },
    {
     "name": "stdout",
     "output_type": "stream",
     "text": [
      "pred: [1, 4, 10], gt: [1, 3, 5, 6]\n"
     ]
    },
    {
     "name": "stderr",
     "output_type": "stream",
     "text": [
      "Chunks: 100%|██████████| 7/7 [00:01<00:00,  5.56it/s]\n",
      "687it [14:29,  1.40s/it]"
     ]
    },
    {
     "name": "stdout",
     "output_type": "stream",
     "text": [
      "pred: [5, 5, 6, 3], gt: [1, 9, 5, 4]\n"
     ]
    },
    {
     "name": "stderr",
     "output_type": "stream",
     "text": [
      "Chunks: 100%|██████████| 7/7 [00:00<00:00,  8.95it/s]\n",
      "688it [14:30,  1.22s/it]"
     ]
    },
    {
     "name": "stdout",
     "output_type": "stream",
     "text": [
      "pred: [11, 2, 1], gt: [2, 3, 4, 5]\n"
     ]
    },
    {
     "name": "stderr",
     "output_type": "stream",
     "text": [
      "Chunks: 100%|██████████| 5/5 [00:00<00:00,  6.53it/s]\n",
      "689it [14:31,  1.09s/it]"
     ]
    },
    {
     "name": "stdout",
     "output_type": "stream",
     "text": [
      "pred: [1, 9], gt: [1, 3, 3, 3]\n"
     ]
    },
    {
     "name": "stderr",
     "output_type": "stream",
     "text": [
      "Chunks: 100%|██████████| 7/7 [00:02<00:00,  2.96it/s]\n",
      "690it [14:33,  1.49s/it]"
     ]
    },
    {
     "name": "stdout",
     "output_type": "stream",
     "text": [
      "pred: [4, 2, 7], gt: [1, 2, 2, 2, 2, 2, 2]\n"
     ]
    },
    {
     "name": "stderr",
     "output_type": "stream",
     "text": [
      "Chunks: 100%|██████████| 5/5 [00:00<00:00,  5.22it/s]\n",
      "691it [14:34,  1.34s/it]"
     ]
    },
    {
     "name": "stdout",
     "output_type": "stream",
     "text": [
      "pred: [2, 7], gt: [2, 2, 2, 3]\n"
     ]
    },
    {
     "name": "stderr",
     "output_type": "stream",
     "text": [
      "Chunks: 100%|██████████| 8/8 [00:02<00:00,  3.78it/s]\n",
      "692it [14:36,  1.58s/it]"
     ]
    },
    {
     "name": "stdout",
     "output_type": "stream",
     "text": [
      "pred: [8, 2, 5], gt: [1, 5, 5, 4]\n"
     ]
    },
    {
     "name": "stderr",
     "output_type": "stream",
     "text": [
      "Chunks: 100%|██████████| 6/6 [00:00<00:00, 11.76it/s]\n",
      "693it [14:37,  1.27s/it]"
     ]
    },
    {
     "name": "stdout",
     "output_type": "stream",
     "text": [
      "pred: [4, 4, 4], gt: [1, 3, 5, 3]\n"
     ]
    },
    {
     "name": "stderr",
     "output_type": "stream",
     "text": [
      "Chunks: 100%|██████████| 7/7 [00:01<00:00,  3.72it/s]\n",
      "694it [14:39,  1.46s/it]"
     ]
    },
    {
     "name": "stdout",
     "output_type": "stream",
     "text": [
      "pred: [10, 1, 3], gt: [1, 4, 5, 4]\n"
     ]
    },
    {
     "name": "stderr",
     "output_type": "stream",
     "text": [
      "Chunks: 100%|██████████| 6/6 [00:00<00:00,  9.33it/s]\n",
      "695it [14:39,  1.22s/it]"
     ]
    },
    {
     "name": "stdout",
     "output_type": "stream",
     "text": [
      "pred: [10, 1], gt: [1, 3, 4, 3]\n"
     ]
    },
    {
     "name": "stderr",
     "output_type": "stream",
     "text": [
      "Chunks: 100%|██████████| 7/7 [00:01<00:00,  5.09it/s]\n",
      "696it [14:41,  1.28s/it]"
     ]
    },
    {
     "name": "stdout",
     "output_type": "stream",
     "text": [
      "pred: [8, 4, 3, 2, 2, 8], gt: [3, 8, 8, 8]\n"
     ]
    },
    {
     "name": "stderr",
     "output_type": "stream",
     "text": [
      "Chunks: 100%|██████████| 7/7 [00:01<00:00,  5.40it/s]\n",
      "697it [14:42,  1.30s/it]"
     ]
    },
    {
     "name": "stdout",
     "output_type": "stream",
     "text": [
      "pred: [2, 3, 3, 12], gt: [2, 8, 5, 5]\n"
     ]
    },
    {
     "name": "stderr",
     "output_type": "stream",
     "text": [
      "Chunks: 100%|██████████| 8/8 [00:01<00:00,  7.02it/s]\n",
      "698it [14:43,  1.26s/it]"
     ]
    },
    {
     "name": "stdout",
     "output_type": "stream",
     "text": [
      "pred: [4, 1, 2, 14, 2], gt: [5, 4, 9, 5]\n"
     ]
    },
    {
     "name": "stderr",
     "output_type": "stream",
     "text": [
      "Chunks: 100%|██████████| 7/7 [00:00<00:00, 10.26it/s]\n",
      "699it [14:44,  1.10s/it]"
     ]
    },
    {
     "name": "stdout",
     "output_type": "stream",
     "text": [
      "pred: [5, 3, 5], gt: [1, 4, 4, 4]\n"
     ]
    },
    {
     "name": "stderr",
     "output_type": "stream",
     "text": [
      "Chunks: 100%|██████████| 8/8 [00:01<00:00,  7.18it/s]\n",
      "700it [14:45,  1.11s/it]"
     ]
    },
    {
     "name": "stdout",
     "output_type": "stream",
     "text": [
      "pred: [5, 4, 1, 6, 8], gt: [9, 15]\n"
     ]
    },
    {
     "name": "stderr",
     "output_type": "stream",
     "text": [
      "Chunks: 100%|██████████| 7/7 [00:01<00:00,  4.73it/s]\n",
      "701it [14:46,  1.24s/it]"
     ]
    },
    {
     "name": "stdout",
     "output_type": "stream",
     "text": [
      "pred: [3, 1, 12, 5], gt: [2, 8, 7, 4]\n"
     ]
    },
    {
     "name": "stderr",
     "output_type": "stream",
     "text": [
      "Chunks: 100%|██████████| 5/5 [00:01<00:00,  3.44it/s]\n",
      "702it [14:48,  1.31s/it]"
     ]
    },
    {
     "name": "stdout",
     "output_type": "stream",
     "text": [
      "pred: [3, 7], gt: [2, 3, 3, 2]\n"
     ]
    },
    {
     "name": "stderr",
     "output_type": "stream",
     "text": [
      "Chunks: 100%|██████████| 3/3 [00:00<00:00,  3.85it/s]\n",
      "703it [14:49,  1.16s/it]"
     ]
    },
    {
     "name": "stdout",
     "output_type": "stream",
     "text": [
      "pred: [3], gt: [2, 1]\n"
     ]
    },
    {
     "name": "stderr",
     "output_type": "stream",
     "text": [
      "Chunks: 100%|██████████| 7/7 [00:01<00:00,  4.47it/s]\n",
      "704it [14:50,  1.29s/it]"
     ]
    },
    {
     "name": "stdout",
     "output_type": "stream",
     "text": [
      "pred: [5, 4, 4], gt: [1, 3, 4, 5]\n"
     ]
    },
    {
     "name": "stderr",
     "output_type": "stream",
     "text": [
      "Chunks: 100%|██████████| 8/8 [00:04<00:00,  1.84it/s]\n",
      "705it [14:55,  2.22s/it]"
     ]
    },
    {
     "name": "stdout",
     "output_type": "stream",
     "text": [
      "pred: [8, 2, 6], gt: [2, 3, 7, 4]\n"
     ]
    },
    {
     "name": "stderr",
     "output_type": "stream",
     "text": [
      "Chunks: 100%|██████████| 3/3 [00:00<00:00,  9.63it/s]\n",
      "706it [14:55,  1.65s/it]"
     ]
    },
    {
     "name": "stdout",
     "output_type": "stream",
     "text": [
      "pred: [3], gt: [1, 1, 1]\n"
     ]
    },
    {
     "name": "stderr",
     "output_type": "stream",
     "text": [
      "Chunks: 100%|██████████| 7/7 [00:02<00:00,  2.97it/s]\n",
      "707it [14:57,  1.87s/it]"
     ]
    },
    {
     "name": "stdout",
     "output_type": "stream",
     "text": [
      "pred: [2, 8, 3], gt: [2, 3, 4, 4]\n"
     ]
    },
    {
     "name": "stderr",
     "output_type": "stream",
     "text": [
      "Chunks: 100%|██████████| 6/6 [00:00<00:00,  6.79it/s]\n",
      "708it [14:58,  1.59s/it]"
     ]
    },
    {
     "name": "stdout",
     "output_type": "stream",
     "text": [
      "pred: [3, 8], gt: [3, 3, 5]\n"
     ]
    },
    {
     "name": "stderr",
     "output_type": "stream",
     "text": [
      "Chunks: 100%|██████████| 5/5 [00:00<00:00,  5.93it/s]\n",
      "709it [14:59,  1.37s/it]"
     ]
    },
    {
     "name": "stdout",
     "output_type": "stream",
     "text": [
      "pred: [2, 8], gt: [3, 2, 2, 3]\n"
     ]
    },
    {
     "name": "stderr",
     "output_type": "stream",
     "text": [
      "Chunks: 100%|██████████| 5/5 [00:00<00:00,  5.88it/s]\n",
      "710it [15:00,  1.22s/it]"
     ]
    },
    {
     "name": "stdout",
     "output_type": "stream",
     "text": [
      "pred: [5, 4], gt: [1, 3, 3, 2]\n"
     ]
    },
    {
     "name": "stderr",
     "output_type": "stream",
     "text": [
      "Chunks: 100%|██████████| 7/7 [00:01<00:00,  6.19it/s]\n",
      "711it [15:01,  1.20s/it]"
     ]
    },
    {
     "name": "stdout",
     "output_type": "stream",
     "text": [
      "pred: [8, 3, 3], gt: [1, 5, 4, 4]\n"
     ]
    },
    {
     "name": "stderr",
     "output_type": "stream",
     "text": [
      "Chunks: 100%|██████████| 8/8 [00:00<00:00,  8.47it/s]\n",
      "712it [15:02,  1.13s/it]"
     ]
    },
    {
     "name": "stdout",
     "output_type": "stream",
     "text": [
      "pred: [3, 5], gt: [3, 2, 3]\n"
     ]
    },
    {
     "name": "stderr",
     "output_type": "stream",
     "text": [
      "Chunks: 100%|██████████| 8/8 [00:01<00:00,  4.16it/s]\n",
      "713it [15:04,  1.38s/it]"
     ]
    },
    {
     "name": "stdout",
     "output_type": "stream",
     "text": [
      "pred: [2, 6], gt: [2, 3, 3]\n"
     ]
    },
    {
     "name": "stderr",
     "output_type": "stream",
     "text": [
      "Chunks: 100%|██████████| 6/6 [00:01<00:00,  5.20it/s]\n",
      "714it [15:05,  1.32s/it]"
     ]
    },
    {
     "name": "stdout",
     "output_type": "stream",
     "text": [
      "pred: [1, 6, 5], gt: [4, 3, 2, 3]\n"
     ]
    },
    {
     "name": "stderr",
     "output_type": "stream",
     "text": [
      "Chunks: 100%|██████████| 5/5 [00:02<00:00,  2.41it/s]\n",
      "715it [15:08,  1.56s/it]"
     ]
    },
    {
     "name": "stdout",
     "output_type": "stream",
     "text": [
      "pred: [6, 3], gt: [1, 5, 3]\n"
     ]
    },
    {
     "name": "stderr",
     "output_type": "stream",
     "text": [
      "Chunks: 100%|██████████| 8/8 [00:00<00:00,  9.21it/s]\n",
      "716it [15:08,  1.36s/it]"
     ]
    },
    {
     "name": "stdout",
     "output_type": "stream",
     "text": [
      "pred: [7, 1], gt: [2, 2, 2, 2]\n"
     ]
    },
    {
     "name": "stderr",
     "output_type": "stream",
     "text": [
      "Chunks: 100%|██████████| 8/8 [00:00<00:00,  8.07it/s]\n",
      "717it [15:09,  1.26s/it]"
     ]
    },
    {
     "name": "stdout",
     "output_type": "stream",
     "text": [
      "pred: [1, 1, 9, 4, 4, 12], gt: [1, 5, 4, 4, 4, 4, 4, 5]\n"
     ]
    },
    {
     "name": "stderr",
     "output_type": "stream",
     "text": [
      "Chunks: 100%|██████████| 6/6 [00:00<00:00,  8.68it/s]\n",
      "718it [15:10,  1.10s/it]"
     ]
    },
    {
     "name": "stdout",
     "output_type": "stream",
     "text": [
      "pred: [6], gt: [1, 2, 1, 2]\n"
     ]
    },
    {
     "name": "stderr",
     "output_type": "stream",
     "text": [
      "Chunks: 100%|██████████| 7/7 [00:01<00:00,  4.90it/s]\n",
      "719it [15:12,  1.21s/it]"
     ]
    },
    {
     "name": "stdout",
     "output_type": "stream",
     "text": [
      "pred: [8, 7, 2, 4], gt: [1, 6, 9, 5]\n"
     ]
    },
    {
     "name": "stderr",
     "output_type": "stream",
     "text": [
      "Chunks: 100%|██████████| 6/6 [00:00<00:00,  8.63it/s]\n",
      "720it [15:12,  1.06s/it]"
     ]
    },
    {
     "name": "stdout",
     "output_type": "stream",
     "text": [
      "pred: [6], gt: [2, 2, 2]\n"
     ]
    },
    {
     "name": "stderr",
     "output_type": "stream",
     "text": [
      "Chunks: 100%|██████████| 5/5 [00:01<00:00,  3.08it/s]\n",
      "721it [15:14,  1.24s/it]"
     ]
    },
    {
     "name": "stdout",
     "output_type": "stream",
     "text": [
      "pred: [8, 1], gt: [1, 2, 3, 3]\n"
     ]
    },
    {
     "name": "stderr",
     "output_type": "stream",
     "text": [
      "Chunks: 100%|██████████| 7/7 [00:00<00:00,  8.71it/s]\n",
      "722it [15:15,  1.12s/it]"
     ]
    },
    {
     "name": "stdout",
     "output_type": "stream",
     "text": [
      "pred: [2, 1, 16, 4, 2, 3], gt: [1, 8, 8, 11]\n"
     ]
    },
    {
     "name": "stderr",
     "output_type": "stream",
     "text": [
      "Chunks: 100%|██████████| 6/6 [00:01<00:00,  5.54it/s]\n",
      "723it [15:16,  1.12s/it]"
     ]
    },
    {
     "name": "stdout",
     "output_type": "stream",
     "text": [
      "pred: [3, 2, 7], gt: [1, 4, 4, 3]\n"
     ]
    },
    {
     "name": "stderr",
     "output_type": "stream",
     "text": [
      "Chunks: 100%|██████████| 5/5 [00:00<00:00,  7.56it/s]\n",
      "724it [15:17,  1.01it/s]"
     ]
    },
    {
     "name": "stdout",
     "output_type": "stream",
     "text": [
      "pred: [5], gt: [2, 2, 1]\n"
     ]
    },
    {
     "name": "stderr",
     "output_type": "stream",
     "text": [
      "Chunks: 100%|██████████| 8/8 [00:01<00:00,  6.59it/s]\n",
      "725it [15:18,  1.07s/it]"
     ]
    },
    {
     "name": "stdout",
     "output_type": "stream",
     "text": [
      "pred: [2, 2, 4, 12, 4, 1, 1, 13], gt: [4, 7, 8, 13, 7]\n"
     ]
    },
    {
     "name": "stderr",
     "output_type": "stream",
     "text": [
      "Chunks: 100%|██████████| 6/6 [00:00<00:00,  7.14it/s]\n",
      "726it [15:19,  1.01s/it]"
     ]
    },
    {
     "name": "stdout",
     "output_type": "stream",
     "text": [
      "pred: [4, 2, 6], gt: [1, 4, 4, 3]\n"
     ]
    },
    {
     "name": "stderr",
     "output_type": "stream",
     "text": [
      "Chunks: 100%|██████████| 7/7 [00:01<00:00,  3.63it/s]\n",
      "727it [15:21,  1.29s/it]"
     ]
    },
    {
     "name": "stdout",
     "output_type": "stream",
     "text": [
      "pred: [3, 4], gt: [3, 2, 2]\n"
     ]
    },
    {
     "name": "stderr",
     "output_type": "stream",
     "text": [
      "Chunks: 100%|██████████| 5/5 [00:00<00:00,  5.49it/s]\n",
      "728it [15:22,  1.19s/it]"
     ]
    },
    {
     "name": "stdout",
     "output_type": "stream",
     "text": [
      "pred: [3, 6], gt: [3, 2, 2, 2]\n"
     ]
    },
    {
     "name": "stderr",
     "output_type": "stream",
     "text": [
      "Chunks: 100%|██████████| 7/7 [00:02<00:00,  3.04it/s]\n",
      "729it [15:24,  1.53s/it]"
     ]
    },
    {
     "name": "stdout",
     "output_type": "stream",
     "text": [
      "pred: [4, 3, 6], gt: [1, 3, 4, 2, 3]\n"
     ]
    },
    {
     "name": "stderr",
     "output_type": "stream",
     "text": [
      "Chunks: 100%|██████████| 6/6 [00:01<00:00,  4.71it/s]\n",
      "730it [15:25,  1.46s/it]"
     ]
    },
    {
     "name": "stdout",
     "output_type": "stream",
     "text": [
      "pred: [6, 4, 2], gt: [1, 4, 3, 4]\n"
     ]
    },
    {
     "name": "stderr",
     "output_type": "stream",
     "text": [
      "Chunks: 100%|██████████| 7/7 [00:01<00:00,  3.58it/s]\n",
      "731it [15:27,  1.62s/it]"
     ]
    },
    {
     "name": "stdout",
     "output_type": "stream",
     "text": [
      "pred: [10, 2, 5, 1, 8], gt: [2, 6, 9, 9]\n"
     ]
    },
    {
     "name": "stderr",
     "output_type": "stream",
     "text": [
      "Chunks: 100%|██████████| 6/6 [00:00<00:00,  7.72it/s]\n",
      "732it [15:28,  1.38s/it]"
     ]
    },
    {
     "name": "stdout",
     "output_type": "stream",
     "text": [
      "pred: [8, 2, 2, 6], gt: [3, 5, 5, 5]\n"
     ]
    },
    {
     "name": "stderr",
     "output_type": "stream",
     "text": [
      "Chunks: 100%|██████████| 6/6 [00:01<00:00,  3.62it/s]\n",
      "733it [15:30,  1.47s/it]"
     ]
    },
    {
     "name": "stdout",
     "output_type": "stream",
     "text": [
      "pred: [10, 1], gt: [1, 3, 3, 4]\n"
     ]
    },
    {
     "name": "stderr",
     "output_type": "stream",
     "text": [
      "Chunks: 100%|██████████| 5/5 [00:01<00:00,  3.84it/s]\n",
      "734it [15:31,  1.43s/it]"
     ]
    },
    {
     "name": "stdout",
     "output_type": "stream",
     "text": [
      "pred: [2, 8], gt: [1, 3, 3, 3]\n"
     ]
    },
    {
     "name": "stderr",
     "output_type": "stream",
     "text": [
      "Chunks: 100%|██████████| 5/5 [00:00<00:00,  8.93it/s]\n",
      "735it [15:32,  1.18s/it]"
     ]
    },
    {
     "name": "stdout",
     "output_type": "stream",
     "text": [
      "pred: [5, 5], gt: [1, 3, 2, 1, 3]\n"
     ]
    },
    {
     "name": "stderr",
     "output_type": "stream",
     "text": [
      "Chunks: 100%|██████████| 7/7 [00:00<00:00,  8.19it/s]\n",
      "736it [15:33,  1.09s/it]"
     ]
    },
    {
     "name": "stdout",
     "output_type": "stream",
     "text": [
      "pred: [4, 3], gt: [2, 2, 3]\n"
     ]
    },
    {
     "name": "stderr",
     "output_type": "stream",
     "text": [
      "Chunks: 100%|██████████| 8/8 [00:00<00:00, 12.71it/s]\n",
      "737it [15:33,  1.04it/s]"
     ]
    },
    {
     "name": "stdout",
     "output_type": "stream",
     "text": [
      "pred: [2, 2, 7, 1, 15, 1, 4], gt: [4, 7, 7, 14]\n"
     ]
    },
    {
     "name": "stderr",
     "output_type": "stream",
     "text": [
      "Chunks: 100%|██████████| 6/6 [00:00<00:00, 11.20it/s]\n",
      "738it [15:34,  1.19it/s]"
     ]
    },
    {
     "name": "stdout",
     "output_type": "stream",
     "text": [
      "pred: [2, 1, 11, 3], gt: [3, 6, 8]\n"
     ]
    },
    {
     "name": "stderr",
     "output_type": "stream",
     "text": [
      "Chunks: 100%|██████████| 8/8 [00:00<00:00, 10.43it/s]\n",
      "739it [15:35,  1.21it/s]"
     ]
    },
    {
     "name": "stdout",
     "output_type": "stream",
     "text": [
      "pred: [2, 6], gt: [2, 2, 2, 2]\n"
     ]
    },
    {
     "name": "stderr",
     "output_type": "stream",
     "text": [
      "Chunks: 100%|██████████| 7/7 [00:00<00:00, 10.16it/s]\n",
      "740it [15:35,  1.25it/s]"
     ]
    },
    {
     "name": "stdout",
     "output_type": "stream",
     "text": [
      "pred: [2, 1, 9, 2, 1, 6, 12], gt: [4, 9, 8, 12]\n"
     ]
    },
    {
     "name": "stderr",
     "output_type": "stream",
     "text": [
      "Chunks: 100%|██████████| 5/5 [00:02<00:00,  1.75it/s]\n",
      "741it [15:38,  1.42s/it]"
     ]
    },
    {
     "name": "stdout",
     "output_type": "stream",
     "text": [
      "pred: [3, 7], gt: [2, 3, 3, 2]\n"
     ]
    },
    {
     "name": "stderr",
     "output_type": "stream",
     "text": [
      "Chunks: 100%|██████████| 8/8 [00:02<00:00,  2.95it/s]\n",
      "742it [15:41,  1.82s/it]"
     ]
    },
    {
     "name": "stdout",
     "output_type": "stream",
     "text": [
      "pred: [3, 5, 10, 2, 5, 5], gt: [2, 10, 8, 10]\n"
     ]
    },
    {
     "name": "stderr",
     "output_type": "stream",
     "text": [
      "Chunks: 100%|██████████| 5/5 [00:00<00:00,  9.95it/s]\n",
      "743it [15:41,  1.43s/it]"
     ]
    },
    {
     "name": "stdout",
     "output_type": "stream",
     "text": [
      "pred: [5], gt: [2, 3]\n"
     ]
    },
    {
     "name": "stderr",
     "output_type": "stream",
     "text": [
      "Chunks: 100%|██████████| 6/6 [00:02<00:00,  2.57it/s]\n",
      "744it [15:44,  1.71s/it]"
     ]
    },
    {
     "name": "stdout",
     "output_type": "stream",
     "text": [
      "pred: [10, 1], gt: [3, 1, 4, 3]\n"
     ]
    },
    {
     "name": "stderr",
     "output_type": "stream",
     "text": [
      "Chunks: 100%|██████████| 7/7 [00:01<00:00,  6.07it/s]\n",
      "745it [15:45,  1.55s/it]"
     ]
    },
    {
     "name": "stdout",
     "output_type": "stream",
     "text": [
      "pred: [6, 2, 1, 11], gt: [1, 7, 6, 6]\n"
     ]
    },
    {
     "name": "stderr",
     "output_type": "stream",
     "text": [
      "Chunks: 100%|██████████| 7/7 [00:01<00:00,  5.57it/s]\n",
      "746it [15:46,  1.47s/it]"
     ]
    },
    {
     "name": "stdout",
     "output_type": "stream",
     "text": [
      "pred: [3, 10, 2, 4], gt: [3, 16]\n"
     ]
    },
    {
     "name": "stderr",
     "output_type": "stream",
     "text": [
      "Chunks: 100%|██████████| 8/8 [00:00<00:00,  9.39it/s]\n",
      "747it [15:47,  1.29s/it]"
     ]
    },
    {
     "name": "stdout",
     "output_type": "stream",
     "text": [
      "pred: [7, 1], gt: [2, 2, 2, 2]\n"
     ]
    },
    {
     "name": "stderr",
     "output_type": "stream",
     "text": [
      "Chunks: 100%|██████████| 7/7 [00:01<00:00,  6.89it/s]\n",
      "748it [15:48,  1.22s/it]"
     ]
    },
    {
     "name": "stdout",
     "output_type": "stream",
     "text": [
      "pred: [9, 1, 4, 5], gt: [3, 5, 5, 6]\n"
     ]
    },
    {
     "name": "stderr",
     "output_type": "stream",
     "text": [
      "Chunks: 100%|██████████| 8/8 [00:00<00:00,  9.78it/s]\n",
      "749it [15:49,  1.11s/it]"
     ]
    },
    {
     "name": "stdout",
     "output_type": "stream",
     "text": [
      "pred: [5, 9, 5, 2, 2], gt: [1, 10, 8, 4]\n"
     ]
    },
    {
     "name": "stderr",
     "output_type": "stream",
     "text": [
      "Chunks: 100%|██████████| 7/7 [00:01<00:00,  4.95it/s]\n",
      "750it [15:51,  1.21s/it]"
     ]
    },
    {
     "name": "stdout",
     "output_type": "stream",
     "text": [
      "pred: [2, 6, 5], gt: [2, 3, 3, 5]\n"
     ]
    },
    {
     "name": "stderr",
     "output_type": "stream",
     "text": [
      "Chunks: 100%|██████████| 5/5 [00:00<00:00,  8.29it/s]\n",
      "751it [15:51,  1.04s/it]"
     ]
    },
    {
     "name": "stdout",
     "output_type": "stream",
     "text": [
      "pred: [2, 8], gt: [1, 4, 2, 3]\n"
     ]
    },
    {
     "name": "stderr",
     "output_type": "stream",
     "text": [
      "Chunks: 100%|██████████| 8/8 [00:01<00:00,  6.12it/s]\n",
      "752it [15:52,  1.13s/it]"
     ]
    },
    {
     "name": "stdout",
     "output_type": "stream",
     "text": [
      "pred: [10, 6, 1, 2, 4], gt: [1, 6, 8, 8]\n"
     ]
    },
    {
     "name": "stderr",
     "output_type": "stream",
     "text": [
      "Chunks: 100%|██████████| 2/2 [00:00<00:00,  4.15it/s]\n",
      "753it [15:53,  1.06it/s]"
     ]
    },
    {
     "name": "stdout",
     "output_type": "stream",
     "text": [
      "pred: [2], gt: [1, 1]\n",
      "WD calculation failed at index 752: [<class 'decimal.DivisionUndefined'>]\n",
      "pred: [2], gt: [1, 1]\n"
     ]
    },
    {
     "name": "stderr",
     "output_type": "stream",
     "text": [
      "Chunks: 100%|██████████| 5/5 [00:00<00:00,  6.73it/s]\n",
      "754it [15:54,  1.13it/s]"
     ]
    },
    {
     "name": "stdout",
     "output_type": "stream",
     "text": [
      "pred: [5], gt: [1, 1, 2, 1]\n"
     ]
    },
    {
     "name": "stderr",
     "output_type": "stream",
     "text": [
      "Chunks: 100%|██████████| 7/7 [00:01<00:00,  5.78it/s]\n",
      "755it [15:55,  1.01it/s]"
     ]
    },
    {
     "name": "stdout",
     "output_type": "stream",
     "text": [
      "pred: [2, 11, 1], gt: [2, 7, 5]\n"
     ]
    },
    {
     "name": "stderr",
     "output_type": "stream",
     "text": [
      "Chunks: 100%|██████████| 7/7 [00:00<00:00,  7.66it/s]\n",
      "756it [15:56,  1.02it/s]"
     ]
    },
    {
     "name": "stdout",
     "output_type": "stream",
     "text": [
      "pred: [13, 14, 1, 2, 1, 1, 1], gt: [1, 5, 10, 6, 11]\n"
     ]
    },
    {
     "name": "stderr",
     "output_type": "stream",
     "text": [
      "Chunks: 100%|██████████| 7/7 [00:01<00:00,  3.95it/s]\n",
      "757it [15:58,  1.23s/it]"
     ]
    },
    {
     "name": "stdout",
     "output_type": "stream",
     "text": [
      "pred: [2, 6, 5], gt: [2, 3, 2, 3, 3]\n"
     ]
    },
    {
     "name": "stderr",
     "output_type": "stream",
     "text": [
      "Chunks: 100%|██████████| 7/7 [00:00<00:00, 12.51it/s]\n",
      "758it [15:58,  1.03s/it]"
     ]
    },
    {
     "name": "stdout",
     "output_type": "stream",
     "text": [
      "pred: [5, 2], gt: [2, 2, 3]\n"
     ]
    },
    {
     "name": "stderr",
     "output_type": "stream",
     "text": [
      "Chunks: 100%|██████████| 8/8 [00:01<00:00,  5.94it/s]\n",
      "759it [16:00,  1.14s/it]"
     ]
    },
    {
     "name": "stdout",
     "output_type": "stream",
     "text": [
      "pred: [2, 2, 16, 1, 1], gt: [1, 3, 3, 4, 4, 4, 3]\n"
     ]
    },
    {
     "name": "stderr",
     "output_type": "stream",
     "text": [
      "Chunks: 100%|██████████| 7/7 [00:01<00:00,  4.91it/s]\n",
      "760it [16:01,  1.23s/it]"
     ]
    },
    {
     "name": "stdout",
     "output_type": "stream",
     "text": [
      "pred: [2, 5], gt: [1, 2, 2, 2]\n"
     ]
    },
    {
     "name": "stderr",
     "output_type": "stream",
     "text": [
      "Chunks: 100%|██████████| 6/6 [00:00<00:00, 12.41it/s]\n",
      "761it [16:02,  1.01s/it]"
     ]
    },
    {
     "name": "stdout",
     "output_type": "stream",
     "text": [
      "pred: [6], gt: [2, 2, 2]\n"
     ]
    },
    {
     "name": "stderr",
     "output_type": "stream",
     "text": [
      "Chunks: 100%|██████████| 6/6 [00:01<00:00,  3.87it/s]\n",
      "762it [16:03,  1.18s/it]"
     ]
    },
    {
     "name": "stdout",
     "output_type": "stream",
     "text": [
      "pred: [1, 2, 9], gt: [1, 4, 4, 3]\n"
     ]
    },
    {
     "name": "stderr",
     "output_type": "stream",
     "text": [
      "Chunks: 100%|██████████| 7/7 [00:01<00:00,  6.03it/s]\n",
      "763it [16:04,  1.19s/it]"
     ]
    },
    {
     "name": "stdout",
     "output_type": "stream",
     "text": [
      "pred: [1, 5, 8], gt: [2, 1, 1, 1, 5, 2, 2]\n"
     ]
    },
    {
     "name": "stderr",
     "output_type": "stream",
     "text": [
      "Chunks: 100%|██████████| 5/5 [00:02<00:00,  1.83it/s]\n",
      "764it [16:07,  1.66s/it]"
     ]
    },
    {
     "name": "stdout",
     "output_type": "stream",
     "text": [
      "pred: [1, 9], gt: [1, 3, 3, 3]\n"
     ]
    },
    {
     "name": "stderr",
     "output_type": "stream",
     "text": [
      "Chunks: 100%|██████████| 7/7 [00:01<00:00,  6.00it/s]\n",
      "765it [16:08,  1.52s/it]"
     ]
    },
    {
     "name": "stdout",
     "output_type": "stream",
     "text": [
      "pred: [11, 1, 2, 10, 2], gt: [2, 8, 7, 9]\n"
     ]
    },
    {
     "name": "stderr",
     "output_type": "stream",
     "text": [
      "Chunks: 100%|██████████| 2/2 [00:00<00:00,  2.86it/s]\n",
      "766it [16:09,  1.28s/it]"
     ]
    },
    {
     "name": "stdout",
     "output_type": "stream",
     "text": [
      "pred: [2], gt: [1, 1]\n",
      "WD calculation failed at index 765: [<class 'decimal.DivisionUndefined'>]\n",
      "pred: [2], gt: [1, 1]\n"
     ]
    },
    {
     "name": "stderr",
     "output_type": "stream",
     "text": [
      "Chunks: 100%|██████████| 7/7 [00:00<00:00,  7.76it/s]\n",
      "767it [16:10,  1.17s/it]"
     ]
    },
    {
     "name": "stdout",
     "output_type": "stream",
     "text": [
      "pred: [5, 2], gt: [2, 5]\n"
     ]
    },
    {
     "name": "stderr",
     "output_type": "stream",
     "text": [
      "Chunks: 100%|██████████| 5/5 [00:00<00:00,  5.25it/s]\n",
      "768it [16:11,  1.11s/it]"
     ]
    },
    {
     "name": "stdout",
     "output_type": "stream",
     "text": [
      "pred: [4, 6], gt: [1, 2, 4, 3]\n"
     ]
    },
    {
     "name": "stderr",
     "output_type": "stream",
     "text": [
      "Chunks: 100%|██████████| 5/5 [00:01<00:00,  4.17it/s]\n",
      "769it [16:12,  1.15s/it]"
     ]
    },
    {
     "name": "stdout",
     "output_type": "stream",
     "text": [
      "pred: [8, 2], gt: [1, 3, 3, 3]\n"
     ]
    },
    {
     "name": "stderr",
     "output_type": "stream",
     "text": [
      "Chunks: 100%|██████████| 7/7 [00:00<00:00,  8.71it/s]\n",
      "770it [16:13,  1.05s/it]"
     ]
    },
    {
     "name": "stdout",
     "output_type": "stream",
     "text": [
      "pred: [7, 6, 1], gt: [1, 6, 7]\n"
     ]
    },
    {
     "name": "stderr",
     "output_type": "stream",
     "text": [
      "Chunks: 100%|██████████| 7/7 [00:00<00:00,  7.35it/s]\n",
      "771it [16:14,  1.03s/it]"
     ]
    },
    {
     "name": "stdout",
     "output_type": "stream",
     "text": [
      "pred: [7, 1, 5], gt: [1, 3, 3, 3, 2, 1]\n"
     ]
    },
    {
     "name": "stderr",
     "output_type": "stream",
     "text": [
      "Chunks: 100%|██████████| 7/7 [00:01<00:00,  4.22it/s]\n",
      "772it [16:16,  1.22s/it]"
     ]
    },
    {
     "name": "stdout",
     "output_type": "stream",
     "text": [
      "pred: [12, 2, 4, 1], gt: [1, 5, 6, 7]\n"
     ]
    },
    {
     "name": "stderr",
     "output_type": "stream",
     "text": [
      "Chunks: 100%|██████████| 8/8 [00:01<00:00,  4.13it/s]\n",
      "773it [16:18,  1.45s/it]"
     ]
    },
    {
     "name": "stdout",
     "output_type": "stream",
     "text": [
      "pred: [1, 12, 2], gt: [1, 3, 3, 3, 2, 3]\n"
     ]
    },
    {
     "name": "stderr",
     "output_type": "stream",
     "text": [
      "Chunks: 100%|██████████| 4/4 [00:00<00:00,  5.86it/s]\n",
      "774it [16:18,  1.22s/it]"
     ]
    },
    {
     "name": "stdout",
     "output_type": "stream",
     "text": [
      "pred: [4], gt: [1, 1, 1, 1]\n"
     ]
    },
    {
     "name": "stderr",
     "output_type": "stream",
     "text": [
      "Chunks: 100%|██████████| 5/5 [00:02<00:00,  1.73it/s]\n",
      "775it [16:21,  1.73s/it]"
     ]
    },
    {
     "name": "stdout",
     "output_type": "stream",
     "text": [
      "pred: [5, 5], gt: [1, 2, 3, 4]\n"
     ]
    },
    {
     "name": "stderr",
     "output_type": "stream",
     "text": [
      "Chunks: 100%|██████████| 8/8 [00:03<00:00,  2.03it/s]\n",
      "776it [16:25,  2.41s/it]"
     ]
    },
    {
     "name": "stdout",
     "output_type": "stream",
     "text": [
      "pred: [9, 4, 1, 5, 5], gt: [2, 5, 12, 5]\n"
     ]
    },
    {
     "name": "stderr",
     "output_type": "stream",
     "text": [
      "Chunks: 100%|██████████| 8/8 [00:01<00:00,  5.88it/s]\n",
      "777it [16:27,  2.10s/it]"
     ]
    },
    {
     "name": "stdout",
     "output_type": "stream",
     "text": [
      "pred: [1, 7], gt: [3, 1, 1, 3]\n"
     ]
    },
    {
     "name": "stderr",
     "output_type": "stream",
     "text": [
      "Chunks: 100%|██████████| 7/7 [00:04<00:00,  1.72it/s]\n",
      "778it [16:31,  2.70s/it]"
     ]
    },
    {
     "name": "stdout",
     "output_type": "stream",
     "text": [
      "pred: [4, 5, 1, 10], gt: [3, 9, 8]\n"
     ]
    },
    {
     "name": "stderr",
     "output_type": "stream",
     "text": [
      "Chunks: 100%|██████████| 5/5 [00:00<00:00, 12.73it/s]\n",
      "779it [16:31,  2.02s/it]"
     ]
    },
    {
     "name": "stdout",
     "output_type": "stream",
     "text": [
      "pred: [6, 3], gt: [2, 1, 3, 1, 2]\n"
     ]
    },
    {
     "name": "stderr",
     "output_type": "stream",
     "text": [
      "Chunks: 100%|██████████| 6/6 [00:01<00:00,  4.05it/s]\n",
      "780it [16:33,  1.86s/it]"
     ]
    },
    {
     "name": "stdout",
     "output_type": "stream",
     "text": [
      "pred: [8, 3], gt: [1, 4, 3, 3]\n"
     ]
    },
    {
     "name": "stderr",
     "output_type": "stream",
     "text": [
      "Chunks: 100%|██████████| 7/7 [00:00<00:00, 12.35it/s]\n",
      "781it [16:33,  1.48s/it]"
     ]
    },
    {
     "name": "stdout",
     "output_type": "stream",
     "text": [
      "pred: [4, 3, 1, 13], gt: [2, 5, 5, 6, 3]\n"
     ]
    },
    {
     "name": "stderr",
     "output_type": "stream",
     "text": [
      "Chunks: 100%|██████████| 8/8 [00:00<00:00, 10.11it/s]\n",
      "782it [16:34,  1.28s/it]"
     ]
    },
    {
     "name": "stdout",
     "output_type": "stream",
     "text": [
      "pred: [11, 3, 2], gt: [4, 12]\n"
     ]
    },
    {
     "name": "stderr",
     "output_type": "stream",
     "text": [
      "Chunks: 100%|██████████| 7/7 [00:00<00:00,  9.05it/s]\n",
      "783it [16:35,  1.14s/it]"
     ]
    },
    {
     "name": "stdout",
     "output_type": "stream",
     "text": [
      "pred: [5, 4, 4], gt: [1, 5, 2, 5]\n"
     ]
    },
    {
     "name": "stderr",
     "output_type": "stream",
     "text": [
      "Chunks: 100%|██████████| 6/6 [00:00<00:00,  7.22it/s]\n",
      "784it [16:36,  1.05s/it]"
     ]
    },
    {
     "name": "stdout",
     "output_type": "stream",
     "text": [
      "pred: [2, 9], gt: [4, 3, 4]\n"
     ]
    },
    {
     "name": "stderr",
     "output_type": "stream",
     "text": [
      "Chunks: 100%|██████████| 6/6 [00:00<00:00, 10.44it/s]\n",
      "785it [16:36,  1.09it/s]"
     ]
    },
    {
     "name": "stdout",
     "output_type": "stream",
     "text": [
      "pred: [7, 4], gt: [1, 3, 4, 3]\n"
     ]
    },
    {
     "name": "stderr",
     "output_type": "stream",
     "text": [
      "Chunks: 100%|██████████| 3/3 [00:00<00:00,  4.48it/s]\n",
      "786it [16:37,  1.18it/s]"
     ]
    },
    {
     "name": "stdout",
     "output_type": "stream",
     "text": [
      "pred: [3], gt: [2, 1]\n"
     ]
    },
    {
     "name": "stderr",
     "output_type": "stream",
     "text": [
      "Chunks: 100%|██████████| 7/7 [00:01<00:00,  5.15it/s]\n",
      "787it [16:38,  1.02s/it]"
     ]
    },
    {
     "name": "stdout",
     "output_type": "stream",
     "text": [
      "pred: [11, 5, 3, 1], gt: [1, 15, 4]\n"
     ]
    },
    {
     "name": "stderr",
     "output_type": "stream",
     "text": [
      "Chunks: 100%|██████████| 8/8 [00:00<00:00,  8.00it/s]\n",
      "788it [16:40,  1.02s/it]"
     ]
    },
    {
     "name": "stdout",
     "output_type": "stream",
     "text": [
      "pred: [6, 3, 1, 5, 10, 5], gt: [5, 9, 7, 9]\n"
     ]
    },
    {
     "name": "stderr",
     "output_type": "stream",
     "text": [
      "Chunks: 100%|██████████| 8/8 [00:01<00:00,  5.11it/s]\n",
      "789it [16:41,  1.20s/it]"
     ]
    },
    {
     "name": "stdout",
     "output_type": "stream",
     "text": [
      "pred: [3, 6, 7], gt: [1, 5, 5, 5]\n"
     ]
    },
    {
     "name": "stderr",
     "output_type": "stream",
     "text": [
      "Chunks: 100%|██████████| 5/5 [00:00<00:00,  7.40it/s]\n",
      "790it [16:42,  1.05s/it]"
     ]
    },
    {
     "name": "stdout",
     "output_type": "stream",
     "text": [
      "pred: [5], gt: [1, 1, 1, 2]\n"
     ]
    },
    {
     "name": "stderr",
     "output_type": "stream",
     "text": [
      "Chunks: 100%|██████████| 8/8 [00:01<00:00,  5.23it/s]\n",
      "791it [16:43,  1.20s/it]"
     ]
    },
    {
     "name": "stdout",
     "output_type": "stream",
     "text": [
      "pred: [7, 2, 4, 2, 7], gt: [2, 4, 11, 5]\n"
     ]
    },
    {
     "name": "stderr",
     "output_type": "stream",
     "text": [
      "Chunks: 100%|██████████| 7/7 [00:01<00:00,  5.49it/s]\n",
      "792it [16:45,  1.24s/it]"
     ]
    },
    {
     "name": "stdout",
     "output_type": "stream",
     "text": [
      "pred: [15, 1, 2, 2], gt: [2, 5, 4, 7, 2]\n"
     ]
    },
    {
     "name": "stderr",
     "output_type": "stream",
     "text": [
      "Chunks: 100%|██████████| 8/8 [00:01<00:00,  6.74it/s]\n",
      "793it [16:46,  1.23s/it]"
     ]
    },
    {
     "name": "stdout",
     "output_type": "stream",
     "text": [
      "pred: [11, 3, 1], gt: [1, 5, 3, 6]\n"
     ]
    },
    {
     "name": "stderr",
     "output_type": "stream",
     "text": [
      "Chunks: 100%|██████████| 6/6 [00:00<00:00,  8.16it/s]\n",
      "794it [16:47,  1.09s/it]"
     ]
    },
    {
     "name": "stdout",
     "output_type": "stream",
     "text": [
      "pred: [7, 2, 3, 5], gt: [3, 5, 9]\n"
     ]
    },
    {
     "name": "stderr",
     "output_type": "stream",
     "text": [
      "Chunks: 100%|██████████| 6/6 [00:03<00:00,  1.82it/s]\n",
      "795it [16:50,  1.77s/it]"
     ]
    },
    {
     "name": "stdout",
     "output_type": "stream",
     "text": [
      "pred: [5, 6], gt: [4, 7]\n"
     ]
    },
    {
     "name": "stderr",
     "output_type": "stream",
     "text": [
      "Chunks: 100%|██████████| 6/6 [00:00<00:00,  6.41it/s]\n",
      "796it [16:51,  1.53s/it]"
     ]
    },
    {
     "name": "stdout",
     "output_type": "stream",
     "text": [
      "pred: [5, 5, 2], gt: [1, 3, 4, 4]\n"
     ]
    },
    {
     "name": "stderr",
     "output_type": "stream",
     "text": [
      "Chunks: 100%|██████████| 6/6 [00:00<00:00,  6.68it/s]\n",
      "797it [16:52,  1.35s/it]"
     ]
    },
    {
     "name": "stdout",
     "output_type": "stream",
     "text": [
      "pred: [4, 5, 6, 2], gt: [3, 6, 3, 5]\n"
     ]
    },
    {
     "name": "stderr",
     "output_type": "stream",
     "text": [
      "Chunks: 100%|██████████| 6/6 [00:01<00:00,  4.17it/s]\n",
      "798it [16:53,  1.38s/it]"
     ]
    },
    {
     "name": "stdout",
     "output_type": "stream",
     "text": [
      "pred: [6], gt: [1, 3, 1, 1]\n"
     ]
    },
    {
     "name": "stderr",
     "output_type": "stream",
     "text": [
      "Chunks: 100%|██████████| 5/5 [00:00<00:00,  5.95it/s]\n",
      "799it [16:54,  1.23s/it]"
     ]
    },
    {
     "name": "stdout",
     "output_type": "stream",
     "text": [
      "pred: [5], gt: [1, 1, 1, 1, 1]\n"
     ]
    },
    {
     "name": "stderr",
     "output_type": "stream",
     "text": [
      "Chunks: 100%|██████████| 5/5 [00:00<00:00,  5.54it/s]\n",
      "800it [16:55,  1.14s/it]"
     ]
    },
    {
     "name": "stdout",
     "output_type": "stream",
     "text": [
      "pred: [8, 1], gt: [2, 1, 2, 2, 2]\n"
     ]
    },
    {
     "name": "stderr",
     "output_type": "stream",
     "text": [
      "Chunks: 100%|██████████| 8/8 [00:01<00:00,  5.58it/s]\n",
      "801it [16:57,  1.23s/it]"
     ]
    },
    {
     "name": "stdout",
     "output_type": "stream",
     "text": [
      "pred: [3, 10, 3], gt: [1, 4, 5, 6]\n"
     ]
    },
    {
     "name": "stderr",
     "output_type": "stream",
     "text": [
      "Chunks: 100%|██████████| 6/6 [00:01<00:00,  5.18it/s]\n",
      "802it [16:58,  1.22s/it]"
     ]
    },
    {
     "name": "stdout",
     "output_type": "stream",
     "text": [
      "pred: [7, 4], gt: [1, 2, 4, 4]\n"
     ]
    },
    {
     "name": "stderr",
     "output_type": "stream",
     "text": [
      "Chunks: 100%|██████████| 6/6 [00:03<00:00,  1.84it/s]\n",
      "803it [17:01,  1.84s/it]"
     ]
    },
    {
     "name": "stdout",
     "output_type": "stream",
     "text": [
      "pred: [2, 6, 4], gt: [2, 1, 2, 1, 1, 5]\n"
     ]
    },
    {
     "name": "stderr",
     "output_type": "stream",
     "text": [
      "Chunks: 100%|██████████| 8/8 [00:03<00:00,  2.40it/s]\n",
      "804it [17:04,  2.30s/it]"
     ]
    },
    {
     "name": "stdout",
     "output_type": "stream",
     "text": [
      "pred: [10, 2, 4], gt: [1, 6, 5, 4]\n"
     ]
    },
    {
     "name": "stderr",
     "output_type": "stream",
     "text": [
      "Chunks: 100%|██████████| 6/6 [00:01<00:00,  5.64it/s]\n",
      "805it [17:06,  1.94s/it]"
     ]
    },
    {
     "name": "stdout",
     "output_type": "stream",
     "text": [
      "pred: [1, 10, 5, 1], gt: [1, 5, 4, 7]\n"
     ]
    },
    {
     "name": "stderr",
     "output_type": "stream",
     "text": [
      "Chunks: 100%|██████████| 7/7 [00:01<00:00,  5.98it/s]\n",
      "806it [17:07,  1.72s/it]"
     ]
    },
    {
     "name": "stdout",
     "output_type": "stream",
     "text": [
      "pred: [1, 4, 9], gt: [1, 2, 2, 2, 1, 2, 2, 2]\n"
     ]
    },
    {
     "name": "stderr",
     "output_type": "stream",
     "text": [
      "Chunks: 100%|██████████| 7/7 [00:00<00:00, 11.34it/s]\n",
      "807it [17:07,  1.40s/it]"
     ]
    },
    {
     "name": "stdout",
     "output_type": "stream",
     "text": [
      "pred: [4, 2, 7], gt: [1, 2, 4, 2, 4]\n"
     ]
    },
    {
     "name": "stderr",
     "output_type": "stream",
     "text": [
      "Chunks: 100%|██████████| 8/8 [00:00<00:00,  9.31it/s]\n",
      "808it [17:08,  1.25s/it]"
     ]
    },
    {
     "name": "stdout",
     "output_type": "stream",
     "text": [
      "pred: [1, 4, 2, 11, 4], gt: [2, 8, 5, 7]\n"
     ]
    },
    {
     "name": "stderr",
     "output_type": "stream",
     "text": [
      "Chunks: 100%|██████████| 8/8 [00:01<00:00,  4.31it/s]\n",
      "809it [17:10,  1.44s/it]"
     ]
    },
    {
     "name": "stdout",
     "output_type": "stream",
     "text": [
      "pred: [7, 11, 1, 5, 1, 1, 10, 1], gt: [13, 24]\n"
     ]
    },
    {
     "name": "stderr",
     "output_type": "stream",
     "text": [
      "Chunks: 100%|██████████| 6/6 [00:00<00:00, 11.16it/s]\n",
      "810it [17:11,  1.18s/it]"
     ]
    },
    {
     "name": "stdout",
     "output_type": "stream",
     "text": [
      "pred: [3, 8, 3, 4], gt: [1, 4, 5, 4, 4]\n"
     ]
    },
    {
     "name": "stderr",
     "output_type": "stream",
     "text": [
      "Chunks: 100%|██████████| 7/7 [00:01<00:00,  5.77it/s]\n",
      "811it [17:12,  1.20s/it]"
     ]
    },
    {
     "name": "stdout",
     "output_type": "stream",
     "text": [
      "pred: [6, 1], gt: [4, 3]\n"
     ]
    },
    {
     "name": "stderr",
     "output_type": "stream",
     "text": [
      "Chunks: 100%|██████████| 6/6 [00:01<00:00,  4.97it/s]\n",
      "812it [17:13,  1.21s/it]"
     ]
    },
    {
     "name": "stdout",
     "output_type": "stream",
     "text": [
      "pred: [4, 1, 7], gt: [2, 3, 3, 4]\n"
     ]
    },
    {
     "name": "stderr",
     "output_type": "stream",
     "text": [
      "Chunks: 100%|██████████| 6/6 [00:01<00:00,  4.42it/s]\n",
      "813it [17:15,  1.26s/it]"
     ]
    },
    {
     "name": "stdout",
     "output_type": "stream",
     "text": [
      "pred: [6, 5, 1], gt: [2, 3, 4, 3]\n"
     ]
    },
    {
     "name": "stderr",
     "output_type": "stream",
     "text": [
      "Chunks: 100%|██████████| 8/8 [00:02<00:00,  3.38it/s]\n",
      "814it [17:17,  1.60s/it]"
     ]
    },
    {
     "name": "stdout",
     "output_type": "stream",
     "text": [
      "pred: [4, 12, 1, 2, 1, 9], gt: [4, 10, 6, 9]\n"
     ]
    },
    {
     "name": "stderr",
     "output_type": "stream",
     "text": [
      "Chunks: 100%|██████████| 7/7 [00:00<00:00,  9.01it/s]\n",
      "815it [17:18,  1.37s/it]"
     ]
    },
    {
     "name": "stdout",
     "output_type": "stream",
     "text": [
      "pred: [2, 3, 13, 4, 4], gt: [4, 6, 9, 7]\n"
     ]
    },
    {
     "name": "stderr",
     "output_type": "stream",
     "text": [
      "Chunks: 100%|██████████| 8/8 [00:02<00:00,  3.99it/s]\n",
      "816it [17:20,  1.57s/it]"
     ]
    },
    {
     "name": "stdout",
     "output_type": "stream",
     "text": [
      "pred: [3, 2, 5, 3, 10], gt: [1, 12, 7, 3]\n"
     ]
    },
    {
     "name": "stderr",
     "output_type": "stream",
     "text": [
      "Chunks: 100%|██████████| 8/8 [00:04<00:00,  1.84it/s]\n",
      "817it [17:24,  2.42s/it]"
     ]
    },
    {
     "name": "stdout",
     "output_type": "stream",
     "text": [
      "pred: [1, 7], gt: [3, 1, 1, 1, 1, 1]\n"
     ]
    },
    {
     "name": "stderr",
     "output_type": "stream",
     "text": [
      "Chunks: 100%|██████████| 7/7 [00:00<00:00,  7.57it/s]\n",
      "818it [17:25,  1.98s/it]"
     ]
    },
    {
     "name": "stdout",
     "output_type": "stream",
     "text": [
      "pred: [2, 14, 3, 2, 5, 1], gt: [4, 5, 3, 9, 6]\n"
     ]
    },
    {
     "name": "stderr",
     "output_type": "stream",
     "text": [
      "Chunks: 100%|██████████| 6/6 [00:00<00:00,  7.70it/s]\n",
      "819it [17:26,  1.63s/it]"
     ]
    },
    {
     "name": "stdout",
     "output_type": "stream",
     "text": [
      "pred: [8, 6, 1, 2], gt: [2, 3, 4, 5, 3]\n"
     ]
    },
    {
     "name": "stderr",
     "output_type": "stream",
     "text": [
      "Chunks: 100%|██████████| 3/3 [00:00<00:00,  5.33it/s]\n",
      "820it [17:27,  1.32s/it]"
     ]
    },
    {
     "name": "stdout",
     "output_type": "stream",
     "text": [
      "pred: [3], gt: [1, 2]\n"
     ]
    },
    {
     "name": "stderr",
     "output_type": "stream",
     "text": [
      "Chunks: 100%|██████████| 7/7 [00:02<00:00,  3.19it/s]\n",
      "821it [17:29,  1.59s/it]"
     ]
    },
    {
     "name": "stdout",
     "output_type": "stream",
     "text": [
      "pred: [2, 6, 6, 5], gt: [3, 4, 6, 6]\n"
     ]
    },
    {
     "name": "stderr",
     "output_type": "stream",
     "text": [
      "Chunks: 100%|██████████| 8/8 [00:01<00:00,  4.24it/s]\n",
      "822it [17:31,  1.69s/it]"
     ]
    },
    {
     "name": "stdout",
     "output_type": "stream",
     "text": [
      "pred: [7, 7, 1], gt: [2, 4, 4, 5]\n"
     ]
    },
    {
     "name": "stderr",
     "output_type": "stream",
     "text": [
      "Chunks: 100%|██████████| 7/7 [00:00<00:00,  7.34it/s]\n",
      "823it [17:32,  1.48s/it]"
     ]
    },
    {
     "name": "stdout",
     "output_type": "stream",
     "text": [
      "pred: [3, 6, 3, 8], gt: [1, 7, 7, 5]\n"
     ]
    },
    {
     "name": "stderr",
     "output_type": "stream",
     "text": [
      "Chunks: 100%|██████████| 8/8 [00:00<00:00, 10.15it/s]\n",
      "824it [17:33,  1.29s/it]"
     ]
    },
    {
     "name": "stdout",
     "output_type": "stream",
     "text": [
      "pred: [5, 1, 1, 7, 12, 3], gt: [3, 10, 16]\n"
     ]
    },
    {
     "name": "stderr",
     "output_type": "stream",
     "text": [
      "Chunks: 100%|██████████| 6/6 [00:00<00:00, 11.05it/s]\n",
      "825it [17:33,  1.07s/it]"
     ]
    },
    {
     "name": "stdout",
     "output_type": "stream",
     "text": [
      "pred: [1, 10], gt: [1, 4, 3, 3]\n"
     ]
    },
    {
     "name": "stderr",
     "output_type": "stream",
     "text": [
      "Chunks: 100%|██████████| 7/7 [00:00<00:00, 10.31it/s]\n",
      "826it [17:34,  1.04it/s]"
     ]
    },
    {
     "name": "stdout",
     "output_type": "stream",
     "text": [
      "pred: [5, 2], gt: [2, 3, 2]\n"
     ]
    },
    {
     "name": "stderr",
     "output_type": "stream",
     "text": [
      "Chunks: 100%|██████████| 6/6 [00:00<00:00,  8.65it/s]\n",
      "827it [17:35,  1.13it/s]"
     ]
    },
    {
     "name": "stdout",
     "output_type": "stream",
     "text": [
      "pred: [7, 4, 2, 5], gt: [2, 7, 4, 5]\n"
     ]
    },
    {
     "name": "stderr",
     "output_type": "stream",
     "text": [
      "Chunks: 100%|██████████| 6/6 [00:01<00:00,  3.60it/s]\n",
      "828it [17:36,  1.13s/it]"
     ]
    },
    {
     "name": "stdout",
     "output_type": "stream",
     "text": [
      "pred: [3, 10, 3, 1], gt: [1, 7, 4, 5]\n"
     ]
    },
    {
     "name": "stderr",
     "output_type": "stream",
     "text": [
      "Chunks: 100%|██████████| 6/6 [00:01<00:00,  5.91it/s]\n",
      "829it [17:37,  1.10s/it]"
     ]
    },
    {
     "name": "stdout",
     "output_type": "stream",
     "text": [
      "pred: [6, 5], gt: [2, 3, 3, 3]\n"
     ]
    },
    {
     "name": "stderr",
     "output_type": "stream",
     "text": [
      "Chunks: 100%|██████████| 5/5 [00:03<00:00,  1.31it/s]\n",
      "830it [17:41,  1.92s/it]"
     ]
    },
    {
     "name": "stdout",
     "output_type": "stream",
     "text": [
      "pred: [2, 8], gt: [2, 3, 3, 2]\n"
     ]
    },
    {
     "name": "stderr",
     "output_type": "stream",
     "text": [
      "Chunks: 100%|██████████| 8/8 [00:01<00:00,  5.60it/s]\n",
      "831it [17:43,  1.78s/it]"
     ]
    },
    {
     "name": "stdout",
     "output_type": "stream",
     "text": [
      "pred: [2, 7, 6], gt: [2, 4, 9]\n"
     ]
    },
    {
     "name": "stderr",
     "output_type": "stream",
     "text": [
      "Chunks: 100%|██████████| 3/3 [00:00<00:00,  8.11it/s]\n",
      "832it [17:43,  1.37s/it]"
     ]
    },
    {
     "name": "stdout",
     "output_type": "stream",
     "text": [
      "pred: [3], gt: [1, 1, 1]\n"
     ]
    },
    {
     "name": "stderr",
     "output_type": "stream",
     "text": [
      "Chunks: 100%|██████████| 7/7 [00:02<00:00,  2.49it/s]\n",
      "833it [17:46,  1.81s/it]"
     ]
    },
    {
     "name": "stdout",
     "output_type": "stream",
     "text": [
      "pred: [1, 6], gt: [3, 2, 1, 1]\n"
     ]
    },
    {
     "name": "stderr",
     "output_type": "stream",
     "text": [
      "Chunks: 100%|██████████| 8/8 [00:00<00:00,  8.09it/s]\n",
      "834it [17:47,  1.57s/it]"
     ]
    },
    {
     "name": "stdout",
     "output_type": "stream",
     "text": [
      "pred: [7, 1, 7], gt: [1, 6, 3, 5]\n"
     ]
    },
    {
     "name": "stderr",
     "output_type": "stream",
     "text": [
      "Chunks: 100%|██████████| 7/7 [00:00<00:00, 11.82it/s]\n",
      "835it [17:48,  1.29s/it]"
     ]
    },
    {
     "name": "stdout",
     "output_type": "stream",
     "text": [
      "pred: [5, 6, 6, 3], gt: [4, 6, 10]\n"
     ]
    },
    {
     "name": "stderr",
     "output_type": "stream",
     "text": [
      "Chunks: 100%|██████████| 5/5 [00:00<00:00, 12.06it/s]\n",
      "836it [17:48,  1.03s/it]"
     ]
    },
    {
     "name": "stdout",
     "output_type": "stream",
     "text": [
      "pred: [5], gt: [3, 2]\n"
     ]
    },
    {
     "name": "stderr",
     "output_type": "stream",
     "text": [
      "Chunks: 100%|██████████| 8/8 [00:03<00:00,  2.28it/s]\n",
      "837it [17:51,  1.78s/it]"
     ]
    },
    {
     "name": "stdout",
     "output_type": "stream",
     "text": [
      "pred: [8, 1, 7], gt: [2, 7, 4, 1, 2]\n"
     ]
    },
    {
     "name": "stderr",
     "output_type": "stream",
     "text": [
      "Chunks: 100%|██████████| 7/7 [00:00<00:00,  7.08it/s]\n",
      "838it [17:53,  1.55s/it]"
     ]
    },
    {
     "name": "stdout",
     "output_type": "stream",
     "text": [
      "pred: [2, 6, 5], gt: [1, 3, 3, 3, 3]\n"
     ]
    },
    {
     "name": "stderr",
     "output_type": "stream",
     "text": [
      "Chunks: 100%|██████████| 7/7 [00:01<00:00,  5.36it/s]\n",
      "839it [17:54,  1.49s/it]"
     ]
    },
    {
     "name": "stdout",
     "output_type": "stream",
     "text": [
      "pred: [8, 3, 3], gt: [8, 6]\n"
     ]
    },
    {
     "name": "stderr",
     "output_type": "stream",
     "text": [
      "Chunks: 100%|██████████| 7/7 [00:00<00:00,  9.40it/s]\n",
      "840it [17:55,  1.28s/it]"
     ]
    },
    {
     "name": "stdout",
     "output_type": "stream",
     "text": [
      "pred: [12, 3, 2, 2, 1, 6, 9], gt: [3, 19, 8, 5]\n"
     ]
    },
    {
     "name": "stderr",
     "output_type": "stream",
     "text": [
      "Chunks: 100%|██████████| 8/8 [00:01<00:00,  6.07it/s]\n",
      "841it [17:56,  1.30s/it]"
     ]
    },
    {
     "name": "stdout",
     "output_type": "stream",
     "text": [
      "pred: [3, 8, 4], gt: [1, 4, 4, 6]\n"
     ]
    },
    {
     "name": "stderr",
     "output_type": "stream",
     "text": [
      "Chunks: 100%|██████████| 5/5 [00:00<00:00,  6.17it/s]\n",
      "842it [17:57,  1.16s/it]"
     ]
    },
    {
     "name": "stdout",
     "output_type": "stream",
     "text": [
      "pred: [8, 2], gt: [1, 3, 3, 3]\n"
     ]
    },
    {
     "name": "stderr",
     "output_type": "stream",
     "text": [
      "Chunks: 100%|██████████| 8/8 [00:03<00:00,  2.39it/s]\n",
      "843it [18:00,  1.82s/it]"
     ]
    },
    {
     "name": "stdout",
     "output_type": "stream",
     "text": [
      "pred: [6, 7, 3], gt: [1, 4, 6, 5]\n"
     ]
    },
    {
     "name": "stderr",
     "output_type": "stream",
     "text": [
      "Chunks: 100%|██████████| 8/8 [00:00<00:00, 20.91it/s]\n",
      "844it [18:01,  1.40s/it]"
     ]
    },
    {
     "name": "stdout",
     "output_type": "stream",
     "text": [
      "pred: [12, 1, 2], gt: [4, 11]\n"
     ]
    },
    {
     "name": "stderr",
     "output_type": "stream",
     "text": [
      "Chunks: 100%|██████████| 6/6 [00:00<00:00,  9.66it/s]\n",
      "845it [18:01,  1.17s/it]"
     ]
    },
    {
     "name": "stdout",
     "output_type": "stream",
     "text": [
      "pred: [6, 4, 2, 6], gt: [1, 7, 7, 3]\n"
     ]
    },
    {
     "name": "stderr",
     "output_type": "stream",
     "text": [
      "Chunks: 100%|██████████| 7/7 [00:01<00:00,  5.11it/s]\n",
      "846it [18:03,  1.24s/it]"
     ]
    },
    {
     "name": "stdout",
     "output_type": "stream",
     "text": [
      "pred: [7, 1, 5], gt: [1, 4, 3, 5]\n"
     ]
    },
    {
     "name": "stderr",
     "output_type": "stream",
     "text": [
      "Chunks: 100%|██████████| 7/7 [00:00<00:00, 11.66it/s]\n",
      "847it [18:03,  1.06s/it]"
     ]
    },
    {
     "name": "stdout",
     "output_type": "stream",
     "text": [
      "pred: [7, 4, 3], gt: [2, 3, 3, 3, 3]\n"
     ]
    },
    {
     "name": "stderr",
     "output_type": "stream",
     "text": [
      "Chunks: 100%|██████████| 7/7 [00:01<00:00,  5.67it/s]\n",
      "848it [18:05,  1.12s/it]"
     ]
    },
    {
     "name": "stdout",
     "output_type": "stream",
     "text": [
      "pred: [7, 3, 3], gt: [2, 4, 3, 4]\n"
     ]
    },
    {
     "name": "stderr",
     "output_type": "stream",
     "text": [
      "Chunks: 100%|██████████| 7/7 [00:01<00:00,  3.51it/s]\n",
      "849it [18:07,  1.40s/it]"
     ]
    },
    {
     "name": "stdout",
     "output_type": "stream",
     "text": [
      "pred: [1, 16, 2, 4, 2], gt: [5, 4, 10, 6]\n"
     ]
    },
    {
     "name": "stderr",
     "output_type": "stream",
     "text": [
      "Chunks: 100%|██████████| 8/8 [00:03<00:00,  2.22it/s]\n",
      "850it [18:10,  2.07s/it]"
     ]
    },
    {
     "name": "stdout",
     "output_type": "stream",
     "text": [
      "pred: [1, 15, 1, 2, 2, 10], gt: [4, 5, 6, 10, 6]\n"
     ]
    },
    {
     "name": "stderr",
     "output_type": "stream",
     "text": [
      "Chunks: 100%|██████████| 5/5 [00:00<00:00,  8.43it/s]\n",
      "851it [18:11,  1.64s/it]"
     ]
    },
    {
     "name": "stdout",
     "output_type": "stream",
     "text": [
      "pred: [8, 2], gt: [1, 2, 2, 2, 3]\n"
     ]
    },
    {
     "name": "stderr",
     "output_type": "stream",
     "text": [
      "Chunks: 100%|██████████| 7/7 [00:02<00:00,  2.48it/s]\n",
      "852it [18:14,  2.00s/it]"
     ]
    },
    {
     "name": "stdout",
     "output_type": "stream",
     "text": [
      "pred: [3, 1, 10, 7], gt: [1, 5, 4, 9, 2]\n"
     ]
    },
    {
     "name": "stderr",
     "output_type": "stream",
     "text": [
      "Chunks: 100%|██████████| 7/7 [00:00<00:00, 11.71it/s]\n",
      "853it [18:14,  1.59s/it]"
     ]
    },
    {
     "name": "stdout",
     "output_type": "stream",
     "text": [
      "pred: [7, 3, 3], gt: [1, 4, 4, 4]\n"
     ]
    },
    {
     "name": "stderr",
     "output_type": "stream",
     "text": [
      "Chunks: 100%|██████████| 6/6 [00:00<00:00,  8.48it/s]\n",
      "854it [18:15,  1.33s/it]"
     ]
    },
    {
     "name": "stdout",
     "output_type": "stream",
     "text": [
      "pred: [1, 10], gt: [1, 3, 3, 4]\n"
     ]
    },
    {
     "name": "stderr",
     "output_type": "stream",
     "text": [
      "Chunks: 100%|██████████| 8/8 [00:04<00:00,  1.90it/s]\n",
      "855it [18:19,  2.21s/it]"
     ]
    },
    {
     "name": "stdout",
     "output_type": "stream",
     "text": [
      "pred: [1, 3, 11, 4, 5], gt: [3, 11, 10]\n"
     ]
    },
    {
     "name": "stderr",
     "output_type": "stream",
     "text": [
      "Chunks: 100%|██████████| 6/6 [00:00<00:00,  7.55it/s]\n",
      "856it [18:20,  1.80s/it]"
     ]
    },
    {
     "name": "stdout",
     "output_type": "stream",
     "text": [
      "pred: [1, 5, 4, 8], gt: [3, 6, 6, 3]\n"
     ]
    },
    {
     "name": "stderr",
     "output_type": "stream",
     "text": [
      "Chunks: 100%|██████████| 4/4 [00:02<00:00,  1.96it/s]\n",
      "857it [18:22,  1.88s/it]"
     ]
    },
    {
     "name": "stdout",
     "output_type": "stream",
     "text": [
      "pred: [4], gt: [1, 1, 1, 1]\n"
     ]
    },
    {
     "name": "stderr",
     "output_type": "stream",
     "text": [
      "Chunks: 100%|██████████| 5/5 [00:01<00:00,  4.32it/s]\n",
      "858it [18:23,  1.67s/it]"
     ]
    },
    {
     "name": "stdout",
     "output_type": "stream",
     "text": [
      "pred: [5], gt: [3, 2]\n"
     ]
    },
    {
     "name": "stderr",
     "output_type": "stream",
     "text": [
      "Chunks: 100%|██████████| 6/6 [00:00<00:00,  7.04it/s]\n",
      "859it [18:24,  1.43s/it]"
     ]
    },
    {
     "name": "stdout",
     "output_type": "stream",
     "text": [
      "pred: [4, 7], gt: [1, 2, 3, 2, 3]\n"
     ]
    },
    {
     "name": "stderr",
     "output_type": "stream",
     "text": [
      "Chunks: 100%|██████████| 8/8 [00:01<00:00,  5.13it/s]\n",
      "860it [18:26,  1.48s/it]"
     ]
    },
    {
     "name": "stdout",
     "output_type": "stream",
     "text": [
      "pred: [8, 4, 3], gt: [2, 3, 3, 7]\n"
     ]
    },
    {
     "name": "stderr",
     "output_type": "stream",
     "text": [
      "Chunks: 100%|██████████| 8/8 [00:03<00:00,  2.53it/s]\n",
      "861it [18:29,  1.99s/it]"
     ]
    },
    {
     "name": "stdout",
     "output_type": "stream",
     "text": [
      "pred: [4, 2, 3, 9, 5], gt: [2, 9, 7, 5]\n"
     ]
    },
    {
     "name": "stderr",
     "output_type": "stream",
     "text": [
      "Chunks: 100%|██████████| 6/6 [00:00<00:00,  8.83it/s]\n",
      "862it [18:30,  1.61s/it]"
     ]
    },
    {
     "name": "stdout",
     "output_type": "stream",
     "text": [
      "pred: [8, 3, 4, 2], gt: [2, 3, 3, 3, 3, 3]\n"
     ]
    },
    {
     "name": "stderr",
     "output_type": "stream",
     "text": [
      "Chunks: 100%|██████████| 8/8 [00:02<00:00,  3.61it/s]\n",
      "863it [18:32,  1.80s/it]"
     ]
    },
    {
     "name": "stdout",
     "output_type": "stream",
     "text": [
      "pred: [6, 5, 1, 4, 3, 10], gt: [4, 8, 17]\n"
     ]
    },
    {
     "name": "stderr",
     "output_type": "stream",
     "text": [
      "Chunks: 100%|██████████| 7/7 [00:00<00:00, 11.38it/s]\n",
      "864it [18:33,  1.45s/it]"
     ]
    },
    {
     "name": "stdout",
     "output_type": "stream",
     "text": [
      "pred: [2, 5], gt: [1, 3, 3]\n"
     ]
    },
    {
     "name": "stderr",
     "output_type": "stream",
     "text": [
      "Chunks: 100%|██████████| 5/5 [00:01<00:00,  4.25it/s]\n",
      "865it [18:34,  1.38s/it]"
     ]
    },
    {
     "name": "stdout",
     "output_type": "stream",
     "text": [
      "pred: [6, 4], gt: [6, 4]\n"
     ]
    },
    {
     "name": "stderr",
     "output_type": "stream",
     "text": [
      "Chunks: 100%|██████████| 7/7 [00:02<00:00,  2.84it/s]\n",
      "866it [18:36,  1.72s/it]"
     ]
    },
    {
     "name": "stdout",
     "output_type": "stream",
     "text": [
      "pred: [2, 5, 10, 8, 1], gt: [4, 12, 10]\n"
     ]
    },
    {
     "name": "stderr",
     "output_type": "stream",
     "text": [
      "Chunks: 100%|██████████| 7/7 [00:01<00:00,  6.19it/s]\n",
      "867it [18:38,  1.55s/it]"
     ]
    },
    {
     "name": "stdout",
     "output_type": "stream",
     "text": [
      "pred: [14, 2, 2, 2], gt: [2, 6, 5, 7]\n"
     ]
    },
    {
     "name": "stderr",
     "output_type": "stream",
     "text": [
      "Chunks: 100%|██████████| 7/7 [00:01<00:00,  5.14it/s]\n",
      "868it [18:39,  1.51s/it]"
     ]
    },
    {
     "name": "stdout",
     "output_type": "stream",
     "text": [
      "pred: [3, 3, 8], gt: [1, 4, 5, 4]\n"
     ]
    },
    {
     "name": "stderr",
     "output_type": "stream",
     "text": [
      "Chunks: 100%|██████████| 5/5 [00:00<00:00,  8.01it/s]\n",
      "869it [18:40,  1.25s/it]"
     ]
    },
    {
     "name": "stdout",
     "output_type": "stream",
     "text": [
      "pred: [5], gt: [1, 1, 1, 1, 1]\n"
     ]
    },
    {
     "name": "stderr",
     "output_type": "stream",
     "text": [
      "Chunks: 100%|██████████| 8/8 [00:01<00:00,  4.27it/s]\n",
      "870it [18:42,  1.45s/it]"
     ]
    },
    {
     "name": "stdout",
     "output_type": "stream",
     "text": [
      "pred: [3, 7, 3, 5, 5], gt: [1, 8, 8, 6]\n"
     ]
    },
    {
     "name": "stderr",
     "output_type": "stream",
     "text": [
      "Chunks: 100%|██████████| 7/7 [00:00<00:00,  8.09it/s]\n",
      "871it [18:42,  1.28s/it]"
     ]
    },
    {
     "name": "stdout",
     "output_type": "stream",
     "text": [
      "pred: [1, 4, 8], gt: [1, 5, 3, 4]\n"
     ]
    },
    {
     "name": "stderr",
     "output_type": "stream",
     "text": [
      "Chunks: 100%|██████████| 6/6 [00:01<00:00,  4.75it/s]\n",
      "872it [18:44,  1.28s/it]"
     ]
    },
    {
     "name": "stdout",
     "output_type": "stream",
     "text": [
      "pred: [6], gt: [1, 2, 1, 2]\n"
     ]
    },
    {
     "name": "stderr",
     "output_type": "stream",
     "text": [
      "Chunks: 100%|██████████| 7/7 [00:00<00:00,  8.36it/s]\n",
      "873it [18:45,  1.16s/it]"
     ]
    },
    {
     "name": "stdout",
     "output_type": "stream",
     "text": [
      "pred: [4, 9], gt: [1, 5, 4, 3]\n"
     ]
    },
    {
     "name": "stderr",
     "output_type": "stream",
     "text": [
      "Chunks: 100%|██████████| 8/8 [00:00<00:00,  9.38it/s]\n",
      "874it [18:45,  1.07s/it]"
     ]
    },
    {
     "name": "stdout",
     "output_type": "stream",
     "text": [
      "pred: [2, 3, 11], gt: [6, 10]\n"
     ]
    },
    {
     "name": "stderr",
     "output_type": "stream",
     "text": [
      "Chunks: 100%|██████████| 7/7 [00:01<00:00,  4.22it/s]\n",
      "875it [18:47,  1.26s/it]"
     ]
    },
    {
     "name": "stdout",
     "output_type": "stream",
     "text": [
      "pred: [6, 2, 2, 9, 7], gt: [1, 7, 9, 9]\n"
     ]
    },
    {
     "name": "stderr",
     "output_type": "stream",
     "text": [
      "Chunks: 100%|██████████| 8/8 [00:01<00:00,  4.68it/s]\n",
      "876it [18:49,  1.40s/it]"
     ]
    },
    {
     "name": "stdout",
     "output_type": "stream",
     "text": [
      "pred: [2, 1, 13], gt: [3, 6, 7]\n"
     ]
    },
    {
     "name": "stderr",
     "output_type": "stream",
     "text": [
      "Chunks: 100%|██████████| 6/6 [00:01<00:00,  5.19it/s]\n",
      "877it [18:50,  1.34s/it]"
     ]
    },
    {
     "name": "stdout",
     "output_type": "stream",
     "text": [
      "pred: [12, 1, 3, 1], gt: [2, 4, 5, 6]\n"
     ]
    },
    {
     "name": "stderr",
     "output_type": "stream",
     "text": [
      "Chunks: 100%|██████████| 7/7 [00:02<00:00,  3.30it/s]\n",
      "878it [18:52,  1.58s/it]"
     ]
    },
    {
     "name": "stdout",
     "output_type": "stream",
     "text": [
      "pred: [5, 6, 3], gt: [1, 2, 6, 5]\n"
     ]
    },
    {
     "name": "stderr",
     "output_type": "stream",
     "text": [
      "Chunks: 100%|██████████| 7/7 [00:00<00:00,  9.39it/s]\n",
      "879it [18:53,  1.34s/it]"
     ]
    },
    {
     "name": "stdout",
     "output_type": "stream",
     "text": [
      "pred: [1, 2, 6, 5, 5, 8], gt: [2, 7, 9, 9]\n"
     ]
    },
    {
     "name": "stderr",
     "output_type": "stream",
     "text": [
      "Chunks: 100%|██████████| 5/5 [00:00<00:00, 11.20it/s]\n",
      "880it [18:53,  1.08s/it]"
     ]
    },
    {
     "name": "stdout",
     "output_type": "stream",
     "text": [
      "pred: [5], gt: [1, 1, 1, 1, 1]\n"
     ]
    },
    {
     "name": "stderr",
     "output_type": "stream",
     "text": [
      "Chunks: 100%|██████████| 4/4 [00:00<00:00,  6.20it/s]\n",
      "881it [18:54,  1.05it/s]"
     ]
    },
    {
     "name": "stdout",
     "output_type": "stream",
     "text": [
      "pred: [4], gt: [1, 1, 1, 1]\n"
     ]
    },
    {
     "name": "stderr",
     "output_type": "stream",
     "text": [
      "Chunks: 100%|██████████| 6/6 [00:01<00:00,  3.64it/s]\n",
      "882it [18:56,  1.17s/it]"
     ]
    },
    {
     "name": "stdout",
     "output_type": "stream",
     "text": [
      "pred: [5, 6], gt: [1, 3, 2, 5]\n"
     ]
    },
    {
     "name": "stderr",
     "output_type": "stream",
     "text": [
      "Chunks: 100%|██████████| 5/5 [00:00<00:00,  6.68it/s]\n",
      "883it [18:57,  1.05s/it]"
     ]
    },
    {
     "name": "stdout",
     "output_type": "stream",
     "text": [
      "pred: [8, 2], gt: [1, 2, 4, 3]\n"
     ]
    },
    {
     "name": "stderr",
     "output_type": "stream",
     "text": [
      "Chunks: 100%|██████████| 6/6 [00:02<00:00,  2.67it/s]\n",
      "884it [18:59,  1.42s/it]"
     ]
    },
    {
     "name": "stdout",
     "output_type": "stream",
     "text": [
      "pred: [9, 2], gt: [5, 6]\n"
     ]
    },
    {
     "name": "stderr",
     "output_type": "stream",
     "text": [
      "Chunks: 100%|██████████| 7/7 [00:00<00:00,  8.64it/s]\n",
      "885it [19:00,  1.25s/it]"
     ]
    },
    {
     "name": "stdout",
     "output_type": "stream",
     "text": [
      "pred: [1, 3, 9], gt: [1, 2, 3, 3, 4]\n"
     ]
    },
    {
     "name": "stderr",
     "output_type": "stream",
     "text": [
      "Chunks: 100%|██████████| 8/8 [00:00<00:00,  9.42it/s]\n",
      "886it [19:01,  1.14s/it]"
     ]
    },
    {
     "name": "stdout",
     "output_type": "stream",
     "text": [
      "pred: [12, 3, 1], gt: [2, 6, 4, 4]\n"
     ]
    },
    {
     "name": "stderr",
     "output_type": "stream",
     "text": [
      "Chunks: 100%|██████████| 7/7 [00:01<00:00,  5.08it/s]\n",
      "887it [19:02,  1.22s/it]"
     ]
    },
    {
     "name": "stdout",
     "output_type": "stream",
     "text": [
      "pred: [2, 3, 10, 5], gt: [3, 5, 7, 5]\n"
     ]
    },
    {
     "name": "stderr",
     "output_type": "stream",
     "text": [
      "Chunks: 100%|██████████| 5/5 [00:00<00:00, 10.78it/s]\n",
      "888it [19:02,  1.00it/s]"
     ]
    },
    {
     "name": "stdout",
     "output_type": "stream",
     "text": [
      "pred: [5, 5], gt: [1, 3, 3, 3]\n"
     ]
    },
    {
     "name": "stderr",
     "output_type": "stream",
     "text": [
      "Chunks: 100%|██████████| 8/8 [00:01<00:00,  6.43it/s]\n",
      "889it [19:04,  1.08s/it]"
     ]
    },
    {
     "name": "stdout",
     "output_type": "stream",
     "text": [
      "pred: [2, 3, 9, 3, 5], gt: [2, 7, 5, 8]\n"
     ]
    },
    {
     "name": "stderr",
     "output_type": "stream",
     "text": [
      "Chunks: 100%|██████████| 6/6 [00:00<00:00, 11.78it/s]\n",
      "890it [19:04,  1.09it/s]"
     ]
    },
    {
     "name": "stdout",
     "output_type": "stream",
     "text": [
      "pred: [6], gt: [2, 3, 1]\n"
     ]
    },
    {
     "name": "stderr",
     "output_type": "stream",
     "text": [
      "Chunks: 100%|██████████| 7/7 [00:01<00:00,  4.14it/s]\n",
      "891it [19:06,  1.16s/it]"
     ]
    },
    {
     "name": "stdout",
     "output_type": "stream",
     "text": [
      "pred: [10, 2, 2], gt: [1, 4, 3, 3, 3]\n"
     ]
    },
    {
     "name": "stderr",
     "output_type": "stream",
     "text": [
      "Chunks: 100%|██████████| 7/7 [00:00<00:00,  8.46it/s]\n",
      "892it [19:07,  1.07s/it]"
     ]
    },
    {
     "name": "stdout",
     "output_type": "stream",
     "text": [
      "pred: [1, 1, 11], gt: [2, 5, 6]\n"
     ]
    },
    {
     "name": "stderr",
     "output_type": "stream",
     "text": [
      "Chunks: 100%|██████████| 7/7 [00:01<00:00,  6.67it/s]\n",
      "893it [19:08,  1.07s/it]"
     ]
    },
    {
     "name": "stdout",
     "output_type": "stream",
     "text": [
      "pred: [11, 2, 1, 6], gt: [1, 4, 4, 4, 3, 4]\n"
     ]
    },
    {
     "name": "stderr",
     "output_type": "stream",
     "text": [
      "Chunks: 100%|██████████| 6/6 [00:00<00:00,  7.57it/s]\n",
      "894it [19:09,  1.00it/s]"
     ]
    },
    {
     "name": "stdout",
     "output_type": "stream",
     "text": [
      "pred: [7, 4, 2, 5], gt: [1, 7, 5, 5]\n"
     ]
    },
    {
     "name": "stderr",
     "output_type": "stream",
     "text": [
      "Chunks: 100%|██████████| 7/7 [00:00<00:00,  8.24it/s]\n",
      "895it [19:10,  1.04it/s]"
     ]
    },
    {
     "name": "stdout",
     "output_type": "stream",
     "text": [
      "pred: [3, 20, 3, 4, 1, 1, 3], gt: [4, 9, 9, 13]\n"
     ]
    },
    {
     "name": "stderr",
     "output_type": "stream",
     "text": [
      "Chunks: 100%|██████████| 8/8 [00:01<00:00,  4.57it/s]\n",
      "896it [19:11,  1.21s/it]"
     ]
    },
    {
     "name": "stdout",
     "output_type": "stream",
     "text": [
      "pred: [8, 3, 5], gt: [2, 5, 4, 5]\n"
     ]
    },
    {
     "name": "stderr",
     "output_type": "stream",
     "text": [
      "Chunks: 100%|██████████| 6/6 [00:01<00:00,  4.13it/s]\n",
      "897it [19:13,  1.29s/it]"
     ]
    },
    {
     "name": "stdout",
     "output_type": "stream",
     "text": [
      "pred: [1, 10], gt: [1, 1, 2, 1, 2, 1, 1, 2]\n"
     ]
    },
    {
     "name": "stderr",
     "output_type": "stream",
     "text": [
      "Chunks: 100%|██████████| 6/6 [00:01<00:00,  4.18it/s]\n",
      "898it [19:14,  1.34s/it]"
     ]
    },
    {
     "name": "stdout",
     "output_type": "stream",
     "text": [
      "pred: [6], gt: [1, 2, 3]\n"
     ]
    },
    {
     "name": "stderr",
     "output_type": "stream",
     "text": [
      "Chunks: 100%|██████████| 8/8 [00:01<00:00,  6.53it/s]\n",
      "899it [19:16,  1.31s/it]"
     ]
    },
    {
     "name": "stdout",
     "output_type": "stream",
     "text": [
      "pred: [10, 2, 4], gt: [4, 3, 3, 3, 3]\n"
     ]
    },
    {
     "name": "stderr",
     "output_type": "stream",
     "text": [
      "Chunks: 100%|██████████| 6/6 [00:01<00:00,  4.48it/s]\n",
      "900it [19:17,  1.33s/it]"
     ]
    },
    {
     "name": "stdout",
     "output_type": "stream",
     "text": [
      "pred: [6, 5], gt: [2, 9]\n"
     ]
    },
    {
     "name": "stderr",
     "output_type": "stream",
     "text": [
      "Chunks: 100%|██████████| 6/6 [00:01<00:00,  4.76it/s]\n",
      "901it [19:18,  1.32s/it]"
     ]
    },
    {
     "name": "stdout",
     "output_type": "stream",
     "text": [
      "pred: [10, 3, 1, 4], gt: [1, 6, 5, 6]\n"
     ]
    },
    {
     "name": "stderr",
     "output_type": "stream",
     "text": [
      "Chunks: 100%|██████████| 6/6 [00:00<00:00,  7.06it/s]\n",
      "902it [19:19,  1.19s/it]"
     ]
    },
    {
     "name": "stdout",
     "output_type": "stream",
     "text": [
      "pred: [8, 6, 2, 2], gt: [2, 5, 3, 3, 3, 2]\n"
     ]
    },
    {
     "name": "stderr",
     "output_type": "stream",
     "text": [
      "Chunks: 100%|██████████| 5/5 [00:03<00:00,  1.45it/s]\n",
      "903it [19:23,  1.87s/it]"
     ]
    },
    {
     "name": "stdout",
     "output_type": "stream",
     "text": [
      "pred: [1, 9], gt: [1, 3, 3, 3]\n"
     ]
    },
    {
     "name": "stderr",
     "output_type": "stream",
     "text": [
      "Chunks: 100%|██████████| 7/7 [00:01<00:00,  5.70it/s]\n",
      "904it [19:24,  1.69s/it]"
     ]
    },
    {
     "name": "stdout",
     "output_type": "stream",
     "text": [
      "pred: [2, 9, 3, 5], gt: [2, 3, 3, 2, 4, 5]\n"
     ]
    },
    {
     "name": "stderr",
     "output_type": "stream",
     "text": [
      "Chunks: 100%|██████████| 7/7 [00:01<00:00,  4.52it/s]\n",
      "905it [19:25,  1.66s/it]"
     ]
    },
    {
     "name": "stdout",
     "output_type": "stream",
     "text": [
      "pred: [4, 1, 9], gt: [4, 10]\n"
     ]
    },
    {
     "name": "stderr",
     "output_type": "stream",
     "text": [
      "Chunks: 100%|██████████| 5/5 [00:00<00:00,  5.36it/s]\n",
      "906it [19:26,  1.45s/it]"
     ]
    },
    {
     "name": "stdout",
     "output_type": "stream",
     "text": [
      "pred: [7, 2], gt: [1, 2, 3, 3]\n"
     ]
    },
    {
     "name": "stderr",
     "output_type": "stream",
     "text": [
      "Chunks: 100%|██████████| 8/8 [00:00<00:00, 14.91it/s]\n",
      "907it [19:27,  1.18s/it]"
     ]
    },
    {
     "name": "stdout",
     "output_type": "stream",
     "text": [
      "pred: [7, 1], gt: [2, 2, 2, 2]\n"
     ]
    },
    {
     "name": "stderr",
     "output_type": "stream",
     "text": [
      "Chunks: 100%|██████████| 6/6 [00:00<00:00,  6.26it/s]\n",
      "908it [19:28,  1.12s/it]"
     ]
    },
    {
     "name": "stdout",
     "output_type": "stream",
     "text": [
      "pred: [2, 5, 10, 1], gt: [1, 7, 5, 5]\n"
     ]
    },
    {
     "name": "stderr",
     "output_type": "stream",
     "text": [
      "Chunks: 100%|██████████| 7/7 [00:02<00:00,  2.64it/s]\n",
      "909it [19:31,  1.59s/it]"
     ]
    },
    {
     "name": "stdout",
     "output_type": "stream",
     "text": [
      "pred: [5, 5, 3], gt: [1, 4, 4, 4]\n"
     ]
    },
    {
     "name": "stderr",
     "output_type": "stream",
     "text": [
      "Chunks: 100%|██████████| 6/6 [00:00<00:00,  7.42it/s]\n",
      "910it [19:32,  1.36s/it]"
     ]
    },
    {
     "name": "stdout",
     "output_type": "stream",
     "text": [
      "pred: [6], gt: [2, 2, 2]\n"
     ]
    },
    {
     "name": "stderr",
     "output_type": "stream",
     "text": [
      "Chunks: 100%|██████████| 4/4 [00:01<00:00,  3.52it/s]\n",
      "911it [19:33,  1.30s/it]"
     ]
    },
    {
     "name": "stdout",
     "output_type": "stream",
     "text": [
      "pred: [4], gt: [2, 2]\n"
     ]
    },
    {
     "name": "stderr",
     "output_type": "stream",
     "text": [
      "Chunks: 100%|██████████| 5/5 [00:00<00:00,  9.82it/s]\n",
      "912it [19:33,  1.07s/it]"
     ]
    },
    {
     "name": "stdout",
     "output_type": "stream",
     "text": [
      "pred: [1, 9], gt: [4, 3, 3]\n"
     ]
    },
    {
     "name": "stderr",
     "output_type": "stream",
     "text": [
      "Chunks: 100%|██████████| 8/8 [00:01<00:00,  4.60it/s]\n",
      "913it [19:35,  1.28s/it]"
     ]
    },
    {
     "name": "stdout",
     "output_type": "stream",
     "text": [
      "pred: [2, 17, 7, 1, 3, 1, 6, 1], gt: [6, 13, 19]\n"
     ]
    },
    {
     "name": "stderr",
     "output_type": "stream",
     "text": [
      "Chunks: 100%|██████████| 6/6 [00:01<00:00,  5.69it/s]\n",
      "914it [19:36,  1.23s/it]"
     ]
    },
    {
     "name": "stdout",
     "output_type": "stream",
     "text": [
      "pred: [10, 2, 1, 5], gt: [2, 4, 7, 5]\n"
     ]
    },
    {
     "name": "stderr",
     "output_type": "stream",
     "text": [
      "Chunks: 100%|██████████| 5/5 [00:01<00:00,  3.53it/s]\n",
      "915it [19:38,  1.29s/it]"
     ]
    },
    {
     "name": "stdout",
     "output_type": "stream",
     "text": [
      "pred: [6, 4], gt: [2, 2, 4, 2]\n"
     ]
    },
    {
     "name": "stderr",
     "output_type": "stream",
     "text": [
      "Chunks: 100%|██████████| 7/7 [00:01<00:00,  6.98it/s]\n",
      "916it [19:39,  1.21s/it]"
     ]
    },
    {
     "name": "stdout",
     "output_type": "stream",
     "text": [
      "pred: [9, 4, 1], gt: [2, 7, 5]\n"
     ]
    },
    {
     "name": "stderr",
     "output_type": "stream",
     "text": [
      "Chunks: 100%|██████████| 5/5 [00:02<00:00,  1.90it/s]\n",
      "917it [19:41,  1.64s/it]"
     ]
    },
    {
     "name": "stdout",
     "output_type": "stream",
     "text": [
      "pred: [3, 6], gt: [1, 2, 1, 2, 3]\n"
     ]
    },
    {
     "name": "stderr",
     "output_type": "stream",
     "text": [
      "Chunks: 100%|██████████| 8/8 [00:01<00:00,  4.98it/s]\n",
      "918it [19:43,  1.64s/it]"
     ]
    },
    {
     "name": "stdout",
     "output_type": "stream",
     "text": [
      "pred: [9, 1, 5], gt: [3, 4, 5, 3]\n"
     ]
    },
    {
     "name": "stderr",
     "output_type": "stream",
     "text": [
      "Chunks: 100%|██████████| 8/8 [00:01<00:00,  4.62it/s]\n",
      "919it [19:45,  1.67s/it]"
     ]
    },
    {
     "name": "stdout",
     "output_type": "stream",
     "text": [
      "pred: [5, 3], gt: [1, 2, 3, 2]\n"
     ]
    },
    {
     "name": "stderr",
     "output_type": "stream",
     "text": [
      "Chunks: 100%|██████████| 8/8 [00:01<00:00,  5.95it/s]\n",
      "920it [19:46,  1.58s/it]"
     ]
    },
    {
     "name": "stdout",
     "output_type": "stream",
     "text": [
      "pred: [1, 9, 6], gt: [2, 3, 4, 3, 4]\n"
     ]
    },
    {
     "name": "stderr",
     "output_type": "stream",
     "text": [
      "Chunks: 100%|██████████| 6/6 [00:01<00:00,  4.25it/s]\n",
      "921it [19:47,  1.54s/it]"
     ]
    },
    {
     "name": "stdout",
     "output_type": "stream",
     "text": [
      "pred: [9, 2], gt: [1, 3, 4, 3]\n"
     ]
    },
    {
     "name": "stderr",
     "output_type": "stream",
     "text": [
      "Chunks: 100%|██████████| 8/8 [00:01<00:00,  5.43it/s]\n",
      "922it [19:49,  1.53s/it]"
     ]
    },
    {
     "name": "stdout",
     "output_type": "stream",
     "text": [
      "pred: [1, 9, 1, 5, 6], gt: [1, 8, 6, 7]\n"
     ]
    },
    {
     "name": "stderr",
     "output_type": "stream",
     "text": [
      "Chunks: 100%|██████████| 5/5 [00:00<00:00,  9.23it/s]\n",
      "923it [19:49,  1.24s/it]"
     ]
    },
    {
     "name": "stdout",
     "output_type": "stream",
     "text": [
      "pred: [8, 2], gt: [1, 3, 6]\n"
     ]
    },
    {
     "name": "stderr",
     "output_type": "stream",
     "text": [
      "Chunks: 100%|██████████| 8/8 [00:01<00:00,  7.42it/s]\n",
      "924it [19:51,  1.20s/it]"
     ]
    },
    {
     "name": "stdout",
     "output_type": "stream",
     "text": [
      "pred: [7, 1], gt: [3, 2, 2, 1]\n"
     ]
    },
    {
     "name": "stderr",
     "output_type": "stream",
     "text": [
      "Chunks: 100%|██████████| 6/6 [00:00<00:00, 13.02it/s]\n",
      "925it [19:51,  1.01it/s]"
     ]
    },
    {
     "name": "stdout",
     "output_type": "stream",
     "text": [
      "pred: [3, 7, 2], gt: [8, 4]\n"
     ]
    },
    {
     "name": "stderr",
     "output_type": "stream",
     "text": [
      "Chunks: 100%|██████████| 6/6 [00:02<00:00,  2.07it/s]\n",
      "926it [19:54,  1.57s/it]"
     ]
    },
    {
     "name": "stdout",
     "output_type": "stream",
     "text": [
      "pred: [6, 1, 5], gt: [1, 2, 3, 3, 3]\n"
     ]
    },
    {
     "name": "stderr",
     "output_type": "stream",
     "text": [
      "Chunks: 100%|██████████| 8/8 [00:00<00:00,  9.86it/s]\n",
      "927it [19:55,  1.35s/it]"
     ]
    },
    {
     "name": "stdout",
     "output_type": "stream",
     "text": [
      "pred: [17, 7, 2, 2, 2, 5, 1], gt: [16, 20]\n"
     ]
    },
    {
     "name": "stderr",
     "output_type": "stream",
     "text": [
      "Chunks: 100%|██████████| 8/8 [00:01<00:00,  6.09it/s]\n",
      "928it [19:56,  1.35s/it]"
     ]
    },
    {
     "name": "stdout",
     "output_type": "stream",
     "text": [
      "pred: [5, 8, 7, 5, 2, 3], gt: [3, 9, 9, 9]\n"
     ]
    },
    {
     "name": "stderr",
     "output_type": "stream",
     "text": [
      "Chunks: 100%|██████████| 7/7 [00:00<00:00, 11.62it/s]\n",
      "929it [19:57,  1.13s/it]"
     ]
    },
    {
     "name": "stdout",
     "output_type": "stream",
     "text": [
      "pred: [12, 7, 2, 2, 2], gt: [2, 9, 7, 7]\n"
     ]
    },
    {
     "name": "stderr",
     "output_type": "stream",
     "text": [
      "Chunks: 100%|██████████| 7/7 [00:01<00:00,  6.25it/s]\n",
      "930it [19:58,  1.14s/it]"
     ]
    },
    {
     "name": "stdout",
     "output_type": "stream",
     "text": [
      "pred: [2, 16, 1, 2], gt: [2, 8, 5, 6]\n"
     ]
    },
    {
     "name": "stderr",
     "output_type": "stream",
     "text": [
      "Chunks: 100%|██████████| 8/8 [00:01<00:00,  5.32it/s]\n",
      "931it [19:59,  1.26s/it]"
     ]
    },
    {
     "name": "stdout",
     "output_type": "stream",
     "text": [
      "pred: [13, 1, 9, 1, 4, 4], gt: [16, 16]\n"
     ]
    },
    {
     "name": "stderr",
     "output_type": "stream",
     "text": [
      "Chunks: 100%|██████████| 7/7 [00:01<00:00,  4.84it/s]\n",
      "932it [20:01,  1.33s/it]"
     ]
    },
    {
     "name": "stdout",
     "output_type": "stream",
     "text": [
      "pred: [1, 6, 8, 4], gt: [2, 6, 6, 5]\n"
     ]
    },
    {
     "name": "stderr",
     "output_type": "stream",
     "text": [
      "Chunks: 100%|██████████| 3/3 [00:00<00:00,  8.97it/s]\n",
      "933it [20:01,  1.03s/it]"
     ]
    },
    {
     "name": "stdout",
     "output_type": "stream",
     "text": [
      "pred: [3], gt: [1, 1, 1]\n"
     ]
    },
    {
     "name": "stderr",
     "output_type": "stream",
     "text": [
      "Chunks: 100%|██████████| 8/8 [00:01<00:00,  4.58it/s]\n",
      "934it [20:03,  1.26s/it]"
     ]
    },
    {
     "name": "stdout",
     "output_type": "stream",
     "text": [
      "pred: [7, 5, 3], gt: [4, 5, 6]\n"
     ]
    },
    {
     "name": "stderr",
     "output_type": "stream",
     "text": [
      "Chunks: 100%|██████████| 8/8 [00:03<00:00,  2.13it/s]\n",
      "935it [20:07,  2.02s/it]"
     ]
    },
    {
     "name": "stdout",
     "output_type": "stream",
     "text": [
      "pred: [1, 1, 14], gt: [3, 5, 8]\n"
     ]
    },
    {
     "name": "stderr",
     "output_type": "stream",
     "text": [
      "Chunks: 100%|██████████| 8/8 [00:02<00:00,  3.81it/s]\n",
      "936it [20:09,  2.05s/it]"
     ]
    },
    {
     "name": "stdout",
     "output_type": "stream",
     "text": [
      "pred: [10, 1, 6, 3, 4], gt: [2, 9, 5, 8]\n"
     ]
    },
    {
     "name": "stderr",
     "output_type": "stream",
     "text": [
      "Chunks: 100%|██████████| 7/7 [00:00<00:00, 12.90it/s]\n",
      "937it [20:10,  1.61s/it]"
     ]
    },
    {
     "name": "stdout",
     "output_type": "stream",
     "text": [
      "pred: [17, 1, 2, 4, 2], gt: [1, 5, 20]\n"
     ]
    },
    {
     "name": "stderr",
     "output_type": "stream",
     "text": [
      "Chunks: 100%|██████████| 8/8 [00:02<00:00,  3.72it/s]\n",
      "938it [20:12,  1.78s/it]"
     ]
    },
    {
     "name": "stdout",
     "output_type": "stream",
     "text": [
      "pred: [2, 5, 7, 4, 2, 9], gt: [2, 5, 12, 10]\n"
     ]
    },
    {
     "name": "stderr",
     "output_type": "stream",
     "text": [
      "Chunks: 100%|██████████| 7/7 [00:00<00:00,  7.02it/s]\n",
      "939it [20:13,  1.56s/it]"
     ]
    },
    {
     "name": "stdout",
     "output_type": "stream",
     "text": [
      "pred: [6, 4, 3], gt: [1, 4, 5, 3]\n"
     ]
    },
    {
     "name": "stderr",
     "output_type": "stream",
     "text": [
      "Chunks: 100%|██████████| 5/5 [00:00<00:00,  5.82it/s]\n",
      "940it [20:14,  1.36s/it]"
     ]
    },
    {
     "name": "stdout",
     "output_type": "stream",
     "text": [
      "pred: [6, 4], gt: [3, 5, 2]\n"
     ]
    },
    {
     "name": "stderr",
     "output_type": "stream",
     "text": [
      "Chunks: 100%|██████████| 8/8 [00:01<00:00,  6.07it/s]\n",
      "941it [20:15,  1.35s/it]"
     ]
    },
    {
     "name": "stdout",
     "output_type": "stream",
     "text": [
      "pred: [3, 3, 9], gt: [1, 5, 5, 4]\n"
     ]
    },
    {
     "name": "stderr",
     "output_type": "stream",
     "text": [
      "Chunks: 100%|██████████| 8/8 [00:01<00:00,  5.05it/s]\n",
      "942it [20:17,  1.43s/it]"
     ]
    },
    {
     "name": "stdout",
     "output_type": "stream",
     "text": [
      "pred: [4, 4, 7], gt: [2, 6, 7]\n"
     ]
    },
    {
     "name": "stderr",
     "output_type": "stream",
     "text": [
      "Chunks: 100%|██████████| 6/6 [00:01<00:00,  4.61it/s]\n",
      "943it [20:18,  1.40s/it]"
     ]
    },
    {
     "name": "stdout",
     "output_type": "stream",
     "text": [
      "pred: [8, 3], gt: [1, 2, 4, 4]\n"
     ]
    },
    {
     "name": "stderr",
     "output_type": "stream",
     "text": [
      "Chunks: 100%|██████████| 8/8 [00:01<00:00,  5.51it/s]\n",
      "944it [20:19,  1.43s/it]"
     ]
    },
    {
     "name": "stdout",
     "output_type": "stream",
     "text": [
      "pred: [7, 2, 6], gt: [2, 6, 7]\n"
     ]
    },
    {
     "name": "stderr",
     "output_type": "stream",
     "text": [
      "Chunks: 100%|██████████| 6/6 [00:00<00:00, 11.88it/s]\n",
      "945it [20:20,  1.16s/it]"
     ]
    },
    {
     "name": "stdout",
     "output_type": "stream",
     "text": [
      "pred: [1, 10], gt: [2, 5, 4]\n"
     ]
    },
    {
     "name": "stderr",
     "output_type": "stream",
     "text": [
      "Chunks: 100%|██████████| 7/7 [00:01<00:00,  3.89it/s]\n",
      "946it [20:22,  1.36s/it]"
     ]
    },
    {
     "name": "stdout",
     "output_type": "stream",
     "text": [
      "pred: [5, 3, 6, 6, 5], gt: [1, 3, 4, 5, 4, 3, 5]\n"
     ]
    },
    {
     "name": "stderr",
     "output_type": "stream",
     "text": [
      "Chunks: 100%|██████████| 7/7 [00:00<00:00, 11.02it/s]\n",
      "947it [20:23,  1.16s/it]"
     ]
    },
    {
     "name": "stdout",
     "output_type": "stream",
     "text": [
      "pred: [3, 8, 3, 5, 2, 10, 3], gt: [2, 11, 14, 7]\n"
     ]
    },
    {
     "name": "stderr",
     "output_type": "stream",
     "text": [
      "Chunks: 100%|██████████| 6/6 [00:02<00:00,  2.44it/s]\n",
      "948it [20:25,  1.56s/it]"
     ]
    },
    {
     "name": "stdout",
     "output_type": "stream",
     "text": [
      "pred: [9, 2, 1], gt: [1, 3, 1, 5, 2]\n"
     ]
    },
    {
     "name": "stderr",
     "output_type": "stream",
     "text": [
      "Chunks: 100%|██████████| 5/5 [00:00<00:00, 10.70it/s]\n",
      "949it [20:26,  1.24s/it]"
     ]
    },
    {
     "name": "stdout",
     "output_type": "stream",
     "text": [
      "pred: [8, 1], gt: [4, 2, 3]\n"
     ]
    },
    {
     "name": "stderr",
     "output_type": "stream",
     "text": [
      "Chunks: 100%|██████████| 7/7 [00:01<00:00,  3.63it/s]\n",
      "950it [20:27,  1.45s/it]"
     ]
    },
    {
     "name": "stdout",
     "output_type": "stream",
     "text": [
      "pred: [6, 1], gt: [3, 4]\n"
     ]
    },
    {
     "name": "stderr",
     "output_type": "stream",
     "text": [
      "Chunks: 100%|██████████| 7/7 [00:00<00:00, 12.45it/s]\n",
      "951it [20:28,  1.19s/it]"
     ]
    },
    {
     "name": "stdout",
     "output_type": "stream",
     "text": [
      "pred: [6, 2, 6], gt: [2, 5, 7]\n"
     ]
    },
    {
     "name": "stderr",
     "output_type": "stream",
     "text": [
      "Chunks: 100%|██████████| 7/7 [00:02<00:00,  2.87it/s]\n",
      "952it [20:31,  1.58s/it]"
     ]
    },
    {
     "name": "stdout",
     "output_type": "stream",
     "text": [
      "pred: [11, 1, 3, 5], gt: [1, 4, 10, 5]\n"
     ]
    },
    {
     "name": "stderr",
     "output_type": "stream",
     "text": [
      "Chunks: 100%|██████████| 6/6 [00:00<00:00,  6.55it/s]\n",
      "953it [20:31,  1.39s/it]"
     ]
    },
    {
     "name": "stdout",
     "output_type": "stream",
     "text": [
      "pred: [2, 9], gt: [2, 3, 3, 3]\n"
     ]
    },
    {
     "name": "stderr",
     "output_type": "stream",
     "text": [
      "Chunks: 100%|██████████| 6/6 [00:01<00:00,  3.17it/s]\n",
      "954it [20:33,  1.55s/it]"
     ]
    },
    {
     "name": "stdout",
     "output_type": "stream",
     "text": [
      "pred: [2, 4, 2, 10], gt: [2, 4, 7, 5]\n"
     ]
    },
    {
     "name": "stderr",
     "output_type": "stream",
     "text": [
      "Chunks: 100%|██████████| 4/4 [00:00<00:00,  5.41it/s]\n",
      "955it [20:34,  1.31s/it]"
     ]
    },
    {
     "name": "stdout",
     "output_type": "stream",
     "text": [
      "pred: [4], gt: [1, 2, 1]\n"
     ]
    },
    {
     "name": "stderr",
     "output_type": "stream",
     "text": [
      "Chunks: 100%|██████████| 7/7 [00:02<00:00,  2.73it/s]\n",
      "956it [20:37,  1.69s/it]"
     ]
    },
    {
     "name": "stdout",
     "output_type": "stream",
     "text": [
      "pred: [9, 1, 3], gt: [1, 1, 1, 1, 1, 1, 1, 1, 2, 1, 2]\n"
     ]
    },
    {
     "name": "stderr",
     "output_type": "stream",
     "text": [
      "Chunks: 100%|██████████| 7/7 [00:00<00:00,  8.86it/s]\n",
      "957it [20:38,  1.43s/it]"
     ]
    },
    {
     "name": "stdout",
     "output_type": "stream",
     "text": [
      "pred: [2, 8, 4], gt: [2, 3, 5, 4]\n"
     ]
    },
    {
     "name": "stderr",
     "output_type": "stream",
     "text": [
      "Chunks: 100%|██████████| 7/7 [00:01<00:00,  4.83it/s]\n",
      "958it [20:39,  1.44s/it]"
     ]
    },
    {
     "name": "stdout",
     "output_type": "stream",
     "text": [
      "pred: [1, 1, 17, 2], gt: [3, 5, 7, 6]\n"
     ]
    },
    {
     "name": "stderr",
     "output_type": "stream",
     "text": [
      "Chunks: 100%|██████████| 8/8 [00:01<00:00,  4.48it/s]\n",
      "959it [20:41,  1.56s/it]"
     ]
    },
    {
     "name": "stdout",
     "output_type": "stream",
     "text": [
      "pred: [9, 2, 4], gt: [2, 4, 4, 5]\n"
     ]
    },
    {
     "name": "stderr",
     "output_type": "stream",
     "text": [
      "Chunks: 100%|██████████| 8/8 [00:01<00:00,  4.43it/s]\n",
      "960it [20:43,  1.64s/it]"
     ]
    },
    {
     "name": "stdout",
     "output_type": "stream",
     "text": [
      "pred: [2, 7, 6], gt: [2, 2, 1, 2, 2, 1, 1, 1, 3]\n"
     ]
    },
    {
     "name": "stderr",
     "output_type": "stream",
     "text": [
      "Chunks: 100%|██████████| 7/7 [00:00<00:00,  7.31it/s]\n",
      "961it [20:44,  1.44s/it]"
     ]
    },
    {
     "name": "stdout",
     "output_type": "stream",
     "text": [
      "pred: [4, 3, 6], gt: [1, 3, 2, 3, 4]\n"
     ]
    },
    {
     "name": "stderr",
     "output_type": "stream",
     "text": [
      "Chunks: 100%|██████████| 7/7 [00:01<00:00,  5.80it/s]\n",
      "962it [20:45,  1.38s/it]"
     ]
    },
    {
     "name": "stdout",
     "output_type": "stream",
     "text": [
      "pred: [5, 10, 1, 2, 7], gt: [3, 6, 7, 9]\n"
     ]
    },
    {
     "name": "stderr",
     "output_type": "stream",
     "text": [
      "Chunks: 100%|██████████| 6/6 [00:00<00:00,  8.58it/s]\n",
      "963it [20:46,  1.18s/it]"
     ]
    },
    {
     "name": "stdout",
     "output_type": "stream",
     "text": [
      "pred: [5, 5, 2], gt: [1, 3, 5, 3]\n"
     ]
    },
    {
     "name": "stderr",
     "output_type": "stream",
     "text": [
      "Chunks: 100%|██████████| 3/3 [00:01<00:00,  2.36it/s]\n",
      "964it [20:47,  1.22s/it]"
     ]
    },
    {
     "name": "stdout",
     "output_type": "stream",
     "text": [
      "pred: [3], gt: [1, 2]\n"
     ]
    },
    {
     "name": "stderr",
     "output_type": "stream",
     "text": [
      "Chunks: 100%|██████████| 6/6 [00:00<00:00,  6.29it/s]\n",
      "965it [20:48,  1.14s/it]"
     ]
    },
    {
     "name": "stdout",
     "output_type": "stream",
     "text": [
      "pred: [7, 2, 3], gt: [1, 3, 4, 4]\n"
     ]
    },
    {
     "name": "stderr",
     "output_type": "stream",
     "text": [
      "Chunks: 100%|██████████| 6/6 [00:01<00:00,  3.72it/s]\n",
      "966it [20:50,  1.29s/it]"
     ]
    },
    {
     "name": "stdout",
     "output_type": "stream",
     "text": [
      "pred: [6, 4, 2], gt: [5, 7]\n"
     ]
    },
    {
     "name": "stderr",
     "output_type": "stream",
     "text": [
      "Chunks: 100%|██████████| 7/7 [00:00<00:00,  7.32it/s]\n",
      "967it [20:51,  1.20s/it]"
     ]
    },
    {
     "name": "stdout",
     "output_type": "stream",
     "text": [
      "pred: [9, 1, 5, 2, 4, 6], gt: [1, 10, 9, 7]\n"
     ]
    },
    {
     "name": "stderr",
     "output_type": "stream",
     "text": [
      "Chunks: 100%|██████████| 8/8 [00:01<00:00,  5.55it/s]\n",
      "968it [20:52,  1.29s/it]"
     ]
    },
    {
     "name": "stdout",
     "output_type": "stream",
     "text": [
      "pred: [15, 2, 5, 1, 2, 6], gt: [1, 6, 8, 6, 10]\n"
     ]
    },
    {
     "name": "stderr",
     "output_type": "stream",
     "text": [
      "Chunks: 100%|██████████| 6/6 [00:00<00:00,  8.02it/s]\n",
      "969it [20:53,  1.14s/it]"
     ]
    },
    {
     "name": "stdout",
     "output_type": "stream",
     "text": [
      "pred: [2, 7, 3], gt: [2, 4, 3, 3]\n"
     ]
    },
    {
     "name": "stderr",
     "output_type": "stream",
     "text": [
      "Chunks: 100%|██████████| 5/5 [00:00<00:00,  5.31it/s]\n",
      "970it [20:54,  1.08s/it]"
     ]
    },
    {
     "name": "stdout",
     "output_type": "stream",
     "text": [
      "pred: [3, 7], gt: [3, 2, 2, 3]\n"
     ]
    },
    {
     "name": "stderr",
     "output_type": "stream",
     "text": [
      "Chunks: 100%|██████████| 6/6 [00:00<00:00, 11.78it/s]\n",
      "971it [20:54,  1.09it/s]"
     ]
    },
    {
     "name": "stdout",
     "output_type": "stream",
     "text": [
      "pred: [8, 3], gt: [5, 3, 3]\n"
     ]
    },
    {
     "name": "stderr",
     "output_type": "stream",
     "text": [
      "Chunks: 100%|██████████| 7/7 [00:01<00:00,  6.12it/s]\n",
      "972it [20:55,  1.00it/s]"
     ]
    },
    {
     "name": "stdout",
     "output_type": "stream",
     "text": [
      "pred: [1, 3, 9], gt: [2, 5, 3, 3]\n"
     ]
    },
    {
     "name": "stderr",
     "output_type": "stream",
     "text": [
      "Chunks: 100%|██████████| 6/6 [00:00<00:00,  6.06it/s]\n",
      "973it [20:56,  1.00s/it]"
     ]
    },
    {
     "name": "stdout",
     "output_type": "stream",
     "text": [
      "pred: [1, 8, 4, 4], gt: [2, 6, 5, 4]\n"
     ]
    },
    {
     "name": "stderr",
     "output_type": "stream",
     "text": [
      "Chunks: 100%|██████████| 6/6 [00:01<00:00,  3.70it/s]\n",
      "974it [20:58,  1.20s/it]"
     ]
    },
    {
     "name": "stdout",
     "output_type": "stream",
     "text": [
      "pred: [6], gt: [1, 1, 1, 1, 1, 1]\n"
     ]
    },
    {
     "name": "stderr",
     "output_type": "stream",
     "text": [
      "Chunks: 100%|██████████| 6/6 [00:00<00:00,  7.29it/s]\n",
      "975it [20:59,  1.10s/it]"
     ]
    },
    {
     "name": "stdout",
     "output_type": "stream",
     "text": [
      "pred: [3, 5, 7, 2], gt: [3, 4, 4, 6]\n"
     ]
    },
    {
     "name": "stderr",
     "output_type": "stream",
     "text": [
      "Chunks: 100%|██████████| 7/7 [00:02<00:00,  2.71it/s]\n",
      "976it [21:02,  1.55s/it]"
     ]
    },
    {
     "name": "stdout",
     "output_type": "stream",
     "text": [
      "pred: [6, 4, 10, 2, 3, 2], gt: [2, 3, 4, 7, 3, 3, 3, 2]\n"
     ]
    },
    {
     "name": "stderr",
     "output_type": "stream",
     "text": [
      "Chunks: 100%|██████████| 8/8 [00:02<00:00,  2.79it/s]\n",
      "977it [21:05,  1.96s/it]"
     ]
    },
    {
     "name": "stdout",
     "output_type": "stream",
     "text": [
      "pred: [8, 1, 7], gt: [1, 6, 5, 4]\n"
     ]
    },
    {
     "name": "stderr",
     "output_type": "stream",
     "text": [
      "Chunks: 100%|██████████| 5/5 [00:00<00:00,  8.55it/s]\n",
      "978it [21:05,  1.56s/it]"
     ]
    },
    {
     "name": "stdout",
     "output_type": "stream",
     "text": [
      "pred: [8, 1], gt: [3, 2, 2, 2]\n"
     ]
    },
    {
     "name": "stderr",
     "output_type": "stream",
     "text": [
      "Chunks: 100%|██████████| 6/6 [00:03<00:00,  1.62it/s]\n",
      "979it [21:09,  2.21s/it]"
     ]
    },
    {
     "name": "stdout",
     "output_type": "stream",
     "text": [
      "pred: [3, 8], gt: [2, 2, 4, 3]\n"
     ]
    },
    {
     "name": "stderr",
     "output_type": "stream",
     "text": [
      "Chunks: 100%|██████████| 8/8 [00:00<00:00,  8.93it/s]\n",
      "980it [21:10,  1.83s/it]"
     ]
    },
    {
     "name": "stdout",
     "output_type": "stream",
     "text": [
      "pred: [1, 9, 5], gt: [3, 3, 3, 6]\n"
     ]
    },
    {
     "name": "stderr",
     "output_type": "stream",
     "text": [
      "Chunks: 100%|██████████| 7/7 [00:01<00:00,  6.26it/s]\n",
      "981it [21:11,  1.62s/it]"
     ]
    },
    {
     "name": "stdout",
     "output_type": "stream",
     "text": [
      "pred: [6, 2, 6], gt: [2, 6, 3, 3]\n"
     ]
    },
    {
     "name": "stderr",
     "output_type": "stream",
     "text": [
      "Chunks: 100%|██████████| 3/3 [00:01<00:00,  2.62it/s]\n",
      "982it [21:12,  1.49s/it]"
     ]
    },
    {
     "name": "stdout",
     "output_type": "stream",
     "text": [
      "pred: [3], gt: [1, 1, 1]\n"
     ]
    },
    {
     "name": "stderr",
     "output_type": "stream",
     "text": [
      "Chunks: 100%|██████████| 5/5 [00:00<00:00, 10.08it/s]\n",
      "983it [21:13,  1.20s/it]"
     ]
    },
    {
     "name": "stdout",
     "output_type": "stream",
     "text": [
      "pred: [6, 3], gt: [2, 4, 3]\n"
     ]
    },
    {
     "name": "stderr",
     "output_type": "stream",
     "text": [
      "Chunks: 100%|██████████| 3/3 [00:03<00:00,  1.15s/it]\n",
      "984it [21:16,  1.88s/it]"
     ]
    },
    {
     "name": "stdout",
     "output_type": "stream",
     "text": [
      "pred: [3], gt: [2, 1]\n"
     ]
    },
    {
     "name": "stderr",
     "output_type": "stream",
     "text": [
      "Chunks: 100%|██████████| 6/6 [00:00<00:00,  8.88it/s]\n",
      "985it [21:17,  1.52s/it]"
     ]
    },
    {
     "name": "stdout",
     "output_type": "stream",
     "text": [
      "pred: [6], gt: [1, 1, 1, 1, 1, 1]\n"
     ]
    },
    {
     "name": "stderr",
     "output_type": "stream",
     "text": [
      "Chunks: 100%|██████████| 8/8 [00:02<00:00,  3.88it/s]\n",
      "986it [21:19,  1.69s/it]"
     ]
    },
    {
     "name": "stdout",
     "output_type": "stream",
     "text": [
      "pred: [3, 5], gt: [3, 3, 2]\n"
     ]
    },
    {
     "name": "stderr",
     "output_type": "stream",
     "text": [
      "Chunks: 100%|██████████| 6/6 [00:00<00:00,  8.19it/s]\n",
      "987it [21:20,  1.41s/it]"
     ]
    },
    {
     "name": "stdout",
     "output_type": "stream",
     "text": [
      "pred: [2, 12, 2, 1], gt: [1, 5, 7, 4]\n"
     ]
    },
    {
     "name": "stderr",
     "output_type": "stream",
     "text": [
      "Chunks: 100%|██████████| 3/3 [00:02<00:00,  1.35it/s]\n",
      "988it [21:22,  1.66s/it]"
     ]
    },
    {
     "name": "stdout",
     "output_type": "stream",
     "text": [
      "pred: [3], gt: [1, 1, 1]\n"
     ]
    },
    {
     "name": "stderr",
     "output_type": "stream",
     "text": [
      "Chunks: 100%|██████████| 8/8 [00:03<00:00,  2.09it/s]\n",
      "989it [21:26,  2.33s/it]"
     ]
    },
    {
     "name": "stdout",
     "output_type": "stream",
     "text": [
      "pred: [10, 4, 2, 1, 6], gt: [3, 6, 7, 7]\n"
     ]
    },
    {
     "name": "stderr",
     "output_type": "stream",
     "text": [
      "Chunks: 100%|██████████| 7/7 [00:00<00:00, 11.57it/s]\n",
      "990it [21:26,  1.82s/it]"
     ]
    },
    {
     "name": "stdout",
     "output_type": "stream",
     "text": [
      "pred: [11, 4, 3, 10, 1, 2, 2], gt: [1, 5, 5, 7, 6, 5, 4]\n"
     ]
    },
    {
     "name": "stderr",
     "output_type": "stream",
     "text": [
      "Chunks: 100%|██████████| 6/6 [00:01<00:00,  4.96it/s]\n",
      "991it [21:28,  1.65s/it]"
     ]
    },
    {
     "name": "stdout",
     "output_type": "stream",
     "text": [
      "pred: [1, 9, 2], gt: [2, 4, 4, 2]\n"
     ]
    },
    {
     "name": "stderr",
     "output_type": "stream",
     "text": [
      "Chunks: 100%|██████████| 8/8 [00:00<00:00, 11.90it/s]\n",
      "992it [21:28,  1.37s/it]"
     ]
    },
    {
     "name": "stdout",
     "output_type": "stream",
     "text": [
      "pred: [7, 2, 2, 11, 1], gt: [2, 7, 7, 7]\n"
     ]
    },
    {
     "name": "stderr",
     "output_type": "stream",
     "text": [
      "Chunks: 100%|██████████| 8/8 [00:02<00:00,  3.20it/s]\n",
      "993it [21:31,  1.72s/it]"
     ]
    },
    {
     "name": "stdout",
     "output_type": "stream",
     "text": [
      "pred: [1, 10, 4], gt: [1, 3, 2, 4, 5]\n"
     ]
    },
    {
     "name": "stderr",
     "output_type": "stream",
     "text": [
      "Chunks: 100%|██████████| 7/7 [00:01<00:00,  5.15it/s]\n",
      "994it [21:32,  1.62s/it]"
     ]
    },
    {
     "name": "stdout",
     "output_type": "stream",
     "text": [
      "pred: [2, 14, 2, 3, 6, 1], gt: [1, 9, 11, 7]\n"
     ]
    },
    {
     "name": "stderr",
     "output_type": "stream",
     "text": [
      "Chunks: 100%|██████████| 6/6 [00:00<00:00,  6.72it/s]\n",
      "995it [21:33,  1.41s/it]"
     ]
    },
    {
     "name": "stdout",
     "output_type": "stream",
     "text": [
      "pred: [6, 5], gt: [1, 4, 6]\n"
     ]
    },
    {
     "name": "stderr",
     "output_type": "stream",
     "text": [
      "Chunks: 100%|██████████| 8/8 [00:01<00:00,  5.94it/s]\n",
      "996it [21:35,  1.40s/it]"
     ]
    },
    {
     "name": "stdout",
     "output_type": "stream",
     "text": [
      "pred: [7, 6, 2], gt: [1, 4, 5, 5]\n"
     ]
    },
    {
     "name": "stderr",
     "output_type": "stream",
     "text": [
      "Chunks: 100%|██████████| 7/7 [00:00<00:00,  9.14it/s]\n",
      "997it [21:35,  1.22s/it]"
     ]
    },
    {
     "name": "stdout",
     "output_type": "stream",
     "text": [
      "pred: [1, 9, 4], gt: [1, 5, 4, 4]\n"
     ]
    },
    {
     "name": "stderr",
     "output_type": "stream",
     "text": [
      "Chunks: 100%|██████████| 8/8 [00:00<00:00, 14.43it/s]\n",
      "998it [21:36,  1.03s/it]"
     ]
    },
    {
     "name": "stdout",
     "output_type": "stream",
     "text": [
      "pred: [1, 1, 8, 7, 5], gt: [3, 6, 5, 8]\n"
     ]
    },
    {
     "name": "stderr",
     "output_type": "stream",
     "text": [
      "Chunks: 100%|██████████| 5/5 [00:01<00:00,  4.76it/s]\n",
      "999it [21:37,  1.04s/it]"
     ]
    },
    {
     "name": "stdout",
     "output_type": "stream",
     "text": [
      "pred: [2, 7], gt: [1, 2, 3, 3]\n"
     ]
    },
    {
     "name": "stderr",
     "output_type": "stream",
     "text": [
      "Chunks: 100%|██████████| 7/7 [00:00<00:00,  7.16it/s]\n",
      "1000it [21:38,  1.03s/it]"
     ]
    },
    {
     "name": "stdout",
     "output_type": "stream",
     "text": [
      "pred: [5, 2, 9, 4], gt: [2, 10, 3, 5]\n"
     ]
    },
    {
     "name": "stderr",
     "output_type": "stream",
     "text": [
      "Chunks: 100%|██████████| 5/5 [00:00<00:00,  5.56it/s]\n",
      "1001it [21:39,  1.00it/s]"
     ]
    },
    {
     "name": "stdout",
     "output_type": "stream",
     "text": [
      "pred: [8, 2], gt: [1, 2, 2, 5]\n"
     ]
    },
    {
     "name": "stderr",
     "output_type": "stream",
     "text": [
      "Chunks: 100%|██████████| 8/8 [00:01<00:00,  7.75it/s]\n",
      "1002it [21:40,  1.01s/it]"
     ]
    },
    {
     "name": "stdout",
     "output_type": "stream",
     "text": [
      "pred: [6, 6, 3], gt: [1, 5, 5, 4]\n"
     ]
    },
    {
     "name": "stderr",
     "output_type": "stream",
     "text": [
      "Chunks: 100%|██████████| 6/6 [00:00<00:00, 12.45it/s]\n",
      "1003it [21:41,  1.16it/s]"
     ]
    },
    {
     "name": "stdout",
     "output_type": "stream",
     "text": [
      "pred: [6], gt: [4, 2]\n"
     ]
    },
    {
     "name": "stderr",
     "output_type": "stream",
     "text": [
      "Chunks: 100%|██████████| 8/8 [00:01<00:00,  6.07it/s]\n",
      "1004it [21:42,  1.00s/it]"
     ]
    },
    {
     "name": "stdout",
     "output_type": "stream",
     "text": [
      "pred: [1, 3, 11], gt: [7, 8]\n"
     ]
    },
    {
     "name": "stderr",
     "output_type": "stream",
     "text": [
      "Chunks: 100%|██████████| 8/8 [00:02<00:00,  3.09it/s]\n",
      "1005it [21:45,  1.49s/it]"
     ]
    },
    {
     "name": "stdout",
     "output_type": "stream",
     "text": [
      "pred: [3, 3, 6, 4, 10, 4], gt: [3, 9, 8, 10]\n"
     ]
    },
    {
     "name": "stderr",
     "output_type": "stream",
     "text": [
      "Chunks: 100%|██████████| 8/8 [00:01<00:00,  4.52it/s]\n",
      "1006it [21:46,  1.58s/it]"
     ]
    },
    {
     "name": "stdout",
     "output_type": "stream",
     "text": [
      "pred: [1, 7], gt: [1, 3, 2, 2]\n"
     ]
    },
    {
     "name": "stderr",
     "output_type": "stream",
     "text": [
      "Chunks: 100%|██████████| 8/8 [00:03<00:00,  2.36it/s]\n",
      "1007it [21:50,  2.14s/it]"
     ]
    },
    {
     "name": "stdout",
     "output_type": "stream",
     "text": [
      "pred: [6, 6, 4], gt: [2, 4, 5, 5]\n"
     ]
    },
    {
     "name": "stderr",
     "output_type": "stream",
     "text": [
      "Chunks: 100%|██████████| 7/7 [00:00<00:00,  7.16it/s]\n",
      "1008it [21:51,  1.80s/it]"
     ]
    },
    {
     "name": "stdout",
     "output_type": "stream",
     "text": [
      "pred: [3, 10, 6, 3, 3], gt: [2, 5, 4, 6, 8]\n"
     ]
    },
    {
     "name": "stderr",
     "output_type": "stream",
     "text": [
      "Chunks: 100%|██████████| 6/6 [00:00<00:00,  6.25it/s]\n",
      "1009it [21:52,  1.56s/it]"
     ]
    },
    {
     "name": "stdout",
     "output_type": "stream",
     "text": [
      "pred: [6, 5, 1], gt: [1, 4, 3, 4]\n"
     ]
    },
    {
     "name": "stderr",
     "output_type": "stream",
     "text": [
      "Chunks: 100%|██████████| 3/3 [00:00<00:00,  3.76it/s]\n",
      "1010it [21:53,  1.34s/it]"
     ]
    },
    {
     "name": "stdout",
     "output_type": "stream",
     "text": [
      "pred: [3], gt: [1, 1, 1]\n"
     ]
    },
    {
     "name": "stderr",
     "output_type": "stream",
     "text": [
      "Chunks: 100%|██████████| 5/5 [00:01<00:00,  4.89it/s]\n",
      "1011it [21:54,  1.25s/it]"
     ]
    },
    {
     "name": "stdout",
     "output_type": "stream",
     "text": [
      "pred: [8, 1], gt: [1, 3, 5]\n"
     ]
    },
    {
     "name": "stderr",
     "output_type": "stream",
     "text": [
      "Chunks: 100%|██████████| 8/8 [00:02<00:00,  3.17it/s]\n",
      "1012it [21:56,  1.64s/it]"
     ]
    },
    {
     "name": "stdout",
     "output_type": "stream",
     "text": [
      "pred: [5, 1, 9], gt: [1, 4, 5, 5]\n"
     ]
    },
    {
     "name": "stderr",
     "output_type": "stream",
     "text": [
      "Chunks: 100%|██████████| 5/5 [00:00<00:00, 11.62it/s]\n",
      "1013it [21:57,  1.29s/it]"
     ]
    },
    {
     "name": "stdout",
     "output_type": "stream",
     "text": [
      "pred: [2, 7], gt: [2, 2, 1, 2, 2]\n"
     ]
    },
    {
     "name": "stderr",
     "output_type": "stream",
     "text": [
      "Chunks: 100%|██████████| 8/8 [00:01<00:00,  5.93it/s]\n",
      "1014it [21:58,  1.32s/it]"
     ]
    },
    {
     "name": "stdout",
     "output_type": "stream",
     "text": [
      "pred: [10, 2, 4], gt: [2, 6, 8]\n"
     ]
    },
    {
     "name": "stderr",
     "output_type": "stream",
     "text": [
      "Chunks: 100%|██████████| 7/7 [00:00<00:00,  9.16it/s]\n",
      "1015it [21:59,  1.16s/it]"
     ]
    },
    {
     "name": "stdout",
     "output_type": "stream",
     "text": [
      "pred: [6, 1, 7], gt: [1, 3, 4, 4, 2]\n"
     ]
    },
    {
     "name": "stderr",
     "output_type": "stream",
     "text": [
      "Chunks: 100%|██████████| 7/7 [00:01<00:00,  4.35it/s]\n",
      "1016it [22:00,  1.31s/it]"
     ]
    },
    {
     "name": "stdout",
     "output_type": "stream",
     "text": [
      "pred: [1, 4, 8, 4, 2, 11, 5], gt: [5, 19, 6, 5]\n"
     ]
    },
    {
     "name": "stderr",
     "output_type": "stream",
     "text": [
      "Chunks: 100%|██████████| 7/7 [00:00<00:00,  9.36it/s]\n",
      "1017it [22:01,  1.15s/it]"
     ]
    },
    {
     "name": "stdout",
     "output_type": "stream",
     "text": [
      "pred: [11, 1, 2], gt: [1, 2, 6, 5]\n"
     ]
    },
    {
     "name": "stderr",
     "output_type": "stream",
     "text": [
      "Chunks: 100%|██████████| 5/5 [00:00<00:00,  7.30it/s]\n",
      "1018it [22:02,  1.02s/it]"
     ]
    },
    {
     "name": "stdout",
     "output_type": "stream",
     "text": [
      "pred: [2, 8], gt: [1, 4, 3, 2]\n"
     ]
    },
    {
     "name": "stderr",
     "output_type": "stream",
     "text": [
      "Chunks: 100%|██████████| 2/2 [00:00<00:00,  2.13it/s]\n",
      "1019it [22:03,  1.00it/s]"
     ]
    },
    {
     "name": "stdout",
     "output_type": "stream",
     "text": [
      "pred: [2], gt: [1, 1]\n",
      "WD calculation failed at index 1018: [<class 'decimal.DivisionUndefined'>]\n",
      "pred: [2], gt: [1, 1]\n"
     ]
    },
    {
     "name": "stderr",
     "output_type": "stream",
     "text": [
      "Chunks: 100%|██████████| 8/8 [00:02<00:00,  3.92it/s]\n",
      "1020it [22:05,  1.32s/it]"
     ]
    },
    {
     "name": "stdout",
     "output_type": "stream",
     "text": [
      "pred: [1, 7], gt: [2, 2, 2, 2]\n"
     ]
    },
    {
     "name": "stderr",
     "output_type": "stream",
     "text": [
      "Chunks: 100%|██████████| 6/6 [00:00<00:00, 10.43it/s]\n",
      "1021it [22:06,  1.10s/it]"
     ]
    },
    {
     "name": "stdout",
     "output_type": "stream",
     "text": [
      "pred: [12, 3, 1, 1], gt: [1, 5, 6, 5]\n"
     ]
    },
    {
     "name": "stderr",
     "output_type": "stream",
     "text": [
      "Chunks: 100%|██████████| 7/7 [00:01<00:00,  4.80it/s]\n",
      "1022it [22:07,  1.21s/it]"
     ]
    },
    {
     "name": "stdout",
     "output_type": "stream",
     "text": [
      "pred: [3, 8, 2], gt: [2, 5, 6]\n"
     ]
    },
    {
     "name": "stderr",
     "output_type": "stream",
     "text": [
      "Chunks: 100%|██████████| 8/8 [00:04<00:00,  1.96it/s]\n",
      "1023it [22:11,  2.08s/it]"
     ]
    },
    {
     "name": "stdout",
     "output_type": "stream",
     "text": [
      "pred: [3, 6, 4, 2, 1, 13], gt: [2, 11, 8, 8]\n"
     ]
    },
    {
     "name": "stderr",
     "output_type": "stream",
     "text": [
      "Chunks: 100%|██████████| 8/8 [00:02<00:00,  3.98it/s]\n",
      "1024it [22:13,  2.07s/it]"
     ]
    },
    {
     "name": "stdout",
     "output_type": "stream",
     "text": [
      "pred: [16, 1, 7, 9, 3, 1, 1, 1], gt: [4, 14, 6, 15]\n"
     ]
    },
    {
     "name": "stderr",
     "output_type": "stream",
     "text": [
      "Chunks: 100%|██████████| 6/6 [00:00<00:00,  6.13it/s]\n",
      "1025it [22:14,  1.75s/it]"
     ]
    },
    {
     "name": "stdout",
     "output_type": "stream",
     "text": [
      "pred: [1, 3, 3, 11], gt: [3, 3, 5, 4, 3]\n"
     ]
    },
    {
     "name": "stderr",
     "output_type": "stream",
     "text": [
      "Chunks: 100%|██████████| 6/6 [00:01<00:00,  4.03it/s]\n",
      "1026it [22:16,  1.68s/it]"
     ]
    },
    {
     "name": "stdout",
     "output_type": "stream",
     "text": [
      "pred: [1, 4, 1, 12], gt: [2, 6, 6, 4]\n"
     ]
    },
    {
     "name": "stderr",
     "output_type": "stream",
     "text": [
      "Chunks: 100%|██████████| 7/7 [00:01<00:00,  5.82it/s]\n",
      "1027it [22:17,  1.54s/it]"
     ]
    },
    {
     "name": "stdout",
     "output_type": "stream",
     "text": [
      "pred: [9, 2, 2], gt: [2, 6, 5]\n"
     ]
    },
    {
     "name": "stderr",
     "output_type": "stream",
     "text": [
      "Chunks: 100%|██████████| 6/6 [00:00<00:00,  7.60it/s]\n",
      "1028it [22:18,  1.32s/it]"
     ]
    },
    {
     "name": "stdout",
     "output_type": "stream",
     "text": [
      "pred: [1, 8, 5, 4], gt: [2, 5, 6, 5]\n"
     ]
    },
    {
     "name": "stderr",
     "output_type": "stream",
     "text": [
      "Chunks: 100%|██████████| 6/6 [00:01<00:00,  5.08it/s]\n",
      "1029it [22:19,  1.29s/it]"
     ]
    },
    {
     "name": "stdout",
     "output_type": "stream",
     "text": [
      "pred: [7, 6, 1, 4], gt: [1, 5, 7, 5]\n"
     ]
    },
    {
     "name": "stderr",
     "output_type": "stream",
     "text": [
      "Chunks: 100%|██████████| 8/8 [00:03<00:00,  2.56it/s]\n",
      "1030it [22:22,  1.85s/it]"
     ]
    },
    {
     "name": "stdout",
     "output_type": "stream",
     "text": [
      "pred: [7, 5, 3], gt: [1, 5, 6, 3]\n"
     ]
    },
    {
     "name": "stderr",
     "output_type": "stream",
     "text": [
      "Chunks: 100%|██████████| 5/5 [00:00<00:00, 10.73it/s]\n",
      "1031it [22:23,  1.44s/it]"
     ]
    },
    {
     "name": "stdout",
     "output_type": "stream",
     "text": [
      "pred: [8, 1], gt: [1, 3, 2, 3]\n"
     ]
    },
    {
     "name": "stderr",
     "output_type": "stream",
     "text": [
      "Chunks: 100%|██████████| 6/6 [00:01<00:00,  3.36it/s]\n",
      "1032it [22:24,  1.55s/it]"
     ]
    },
    {
     "name": "stdout",
     "output_type": "stream",
     "text": [
      "pred: [3, 1, 12, 1], gt: [1, 6, 5, 5]\n"
     ]
    },
    {
     "name": "stderr",
     "output_type": "stream",
     "text": [
      "Chunks: 100%|██████████| 6/6 [00:00<00:00,  9.28it/s]\n",
      "1033it [22:25,  1.29s/it]"
     ]
    },
    {
     "name": "stdout",
     "output_type": "stream",
     "text": [
      "pred: [7, 1, 9, 1], gt: [1, 6, 6, 5]\n"
     ]
    },
    {
     "name": "stderr",
     "output_type": "stream",
     "text": [
      "Chunks: 100%|██████████| 7/7 [00:01<00:00,  6.00it/s]\n",
      "1034it [22:26,  1.26s/it]"
     ]
    },
    {
     "name": "stdout",
     "output_type": "stream",
     "text": [
      "pred: [2, 6, 3, 9], gt: [1, 5, 5, 6, 3]\n"
     ]
    },
    {
     "name": "stderr",
     "output_type": "stream",
     "text": [
      "Chunks: 100%|██████████| 7/7 [00:00<00:00,  8.47it/s]\n",
      "1035it [22:27,  1.13s/it]"
     ]
    },
    {
     "name": "stdout",
     "output_type": "stream",
     "text": [
      "pred: [9, 4, 1], gt: [10, 4]\n"
     ]
    },
    {
     "name": "stderr",
     "output_type": "stream",
     "text": [
      "Chunks: 100%|██████████| 7/7 [00:01<00:00,  4.81it/s]\n",
      "1036it [22:29,  1.24s/it]"
     ]
    },
    {
     "name": "stdout",
     "output_type": "stream",
     "text": [
      "pred: [7, 4, 3], gt: [2, 4, 5, 3]\n"
     ]
    },
    {
     "name": "stderr",
     "output_type": "stream",
     "text": [
      "Chunks: 100%|██████████| 8/8 [00:02<00:00,  3.38it/s]\n",
      "1037it [22:31,  1.58s/it]"
     ]
    },
    {
     "name": "stdout",
     "output_type": "stream",
     "text": [
      "pred: [2, 7, 7], gt: [1, 8, 4, 3]\n"
     ]
    },
    {
     "name": "stderr",
     "output_type": "stream",
     "text": [
      "Chunks: 100%|██████████| 7/7 [00:01<00:00,  5.44it/s]\n",
      "1038it [22:32,  1.50s/it]"
     ]
    },
    {
     "name": "stdout",
     "output_type": "stream",
     "text": [
      "pred: [1, 3, 14, 1], gt: [3, 6, 6, 4]\n"
     ]
    },
    {
     "name": "stderr",
     "output_type": "stream",
     "text": [
      "Chunks: 100%|██████████| 7/7 [00:01<00:00,  5.01it/s]\n",
      "1039it [22:34,  1.48s/it]"
     ]
    },
    {
     "name": "stdout",
     "output_type": "stream",
     "text": [
      "pred: [1, 6], gt: [1, 3, 3]\n"
     ]
    },
    {
     "name": "stderr",
     "output_type": "stream",
     "text": [
      "Chunks: 100%|██████████| 7/7 [00:00<00:00, 12.13it/s]\n",
      "1040it [22:34,  1.21s/it]"
     ]
    },
    {
     "name": "stdout",
     "output_type": "stream",
     "text": [
      "pred: [4, 3, 2, 4, 12], gt: [1, 14, 4, 6]\n"
     ]
    },
    {
     "name": "stderr",
     "output_type": "stream",
     "text": [
      "Chunks: 100%|██████████| 6/6 [00:00<00:00,  6.47it/s]\n",
      "1041it [22:35,  1.13s/it]"
     ]
    },
    {
     "name": "stdout",
     "output_type": "stream",
     "text": [
      "pred: [5, 6], gt: [2, 3, 3, 3]\n"
     ]
    },
    {
     "name": "stderr",
     "output_type": "stream",
     "text": [
      "Chunks: 100%|██████████| 7/7 [00:00<00:00,  8.58it/s]\n",
      "1042it [22:36,  1.05s/it]"
     ]
    },
    {
     "name": "stdout",
     "output_type": "stream",
     "text": [
      "pred: [3, 8, 5, 4], gt: [2, 9, 4, 5]\n"
     ]
    },
    {
     "name": "stderr",
     "output_type": "stream",
     "text": [
      "Chunks: 100%|██████████| 6/6 [00:01<00:00,  5.42it/s]\n",
      "1043it [22:37,  1.07s/it]"
     ]
    },
    {
     "name": "stdout",
     "output_type": "stream",
     "text": [
      "pred: [9, 2], gt: [1, 2, 4, 4]\n"
     ]
    },
    {
     "name": "stderr",
     "output_type": "stream",
     "text": [
      "Chunks: 100%|██████████| 8/8 [00:01<00:00,  4.08it/s]\n",
      "1044it [22:39,  1.35s/it]"
     ]
    },
    {
     "name": "stdout",
     "output_type": "stream",
     "text": [
      "pred: [11, 4, 1, 4, 3], gt: [1, 9, 5, 4, 4]\n"
     ]
    },
    {
     "name": "stderr",
     "output_type": "stream",
     "text": [
      "Chunks: 100%|██████████| 8/8 [00:01<00:00,  7.58it/s]\n",
      "1045it [22:40,  1.27s/it]"
     ]
    },
    {
     "name": "stdout",
     "output_type": "stream",
     "text": [
      "pred: [6, 9], gt: [1, 5, 5, 4]\n"
     ]
    },
    {
     "name": "stderr",
     "output_type": "stream",
     "text": [
      "Chunks: 100%|██████████| 6/6 [00:01<00:00,  4.33it/s]\n",
      "1046it [22:42,  1.31s/it]"
     ]
    },
    {
     "name": "stdout",
     "output_type": "stream",
     "text": [
      "pred: [8, 4, 1, 5], gt: [2, 5, 4, 7]\n"
     ]
    },
    {
     "name": "stderr",
     "output_type": "stream",
     "text": [
      "Chunks: 100%|██████████| 7/7 [00:01<00:00,  5.37it/s]\n",
      "1047it [22:43,  1.32s/it]"
     ]
    },
    {
     "name": "stdout",
     "output_type": "stream",
     "text": [
      "pred: [2, 1, 6, 12], gt: [1, 7, 8, 5]\n"
     ]
    },
    {
     "name": "stderr",
     "output_type": "stream",
     "text": [
      "Chunks: 100%|██████████| 5/5 [00:01<00:00,  4.80it/s]\n",
      "1048it [22:44,  1.24s/it]"
     ]
    },
    {
     "name": "stdout",
     "output_type": "stream",
     "text": [
      "pred: [8, 2], gt: [1, 4, 2, 3]\n"
     ]
    },
    {
     "name": "stderr",
     "output_type": "stream",
     "text": [
      "Chunks: 100%|██████████| 8/8 [00:00<00:00, 12.65it/s]\n",
      "1049it [22:45,  1.06s/it]"
     ]
    },
    {
     "name": "stdout",
     "output_type": "stream",
     "text": [
      "pred: [10, 3, 3], gt: [3, 7, 2, 4]\n"
     ]
    },
    {
     "name": "stderr",
     "output_type": "stream",
     "text": [
      "Chunks: 100%|██████████| 4/4 [00:00<00:00, 12.82it/s]\n",
      "1050it [22:45,  1.19it/s]"
     ]
    },
    {
     "name": "stdout",
     "output_type": "stream",
     "text": [
      "pred: [4], gt: [2, 2]\n"
     ]
    },
    {
     "name": "stderr",
     "output_type": "stream",
     "text": [
      "Chunks: 100%|██████████| 8/8 [00:03<00:00,  2.21it/s]\n",
      "1051it [22:49,  1.69s/it]"
     ]
    },
    {
     "name": "stdout",
     "output_type": "stream",
     "text": [
      "pred: [2, 2, 5, 3, 10], gt: [3, 5, 6, 8]\n"
     ]
    },
    {
     "name": "stderr",
     "output_type": "stream",
     "text": [
      "Chunks: 100%|██████████| 7/7 [00:01<00:00,  4.86it/s]\n",
      "1052it [22:50,  1.62s/it]"
     ]
    },
    {
     "name": "stdout",
     "output_type": "stream",
     "text": [
      "pred: [1, 9, 2, 7], gt: [2, 5, 6, 6]\n"
     ]
    },
    {
     "name": "stderr",
     "output_type": "stream",
     "text": [
      "Chunks: 100%|██████████| 8/8 [00:00<00:00,  9.95it/s]\n",
      "1053it [22:51,  1.38s/it]"
     ]
    },
    {
     "name": "stdout",
     "output_type": "stream",
     "text": [
      "pred: [3, 1, 11, 3, 2, 11], gt: [3, 8, 12, 8]\n"
     ]
    },
    {
     "name": "stderr",
     "output_type": "stream",
     "text": [
      "Chunks: 100%|██████████| 7/7 [00:01<00:00,  3.62it/s]\n",
      "1054it [22:53,  1.56s/it]"
     ]
    },
    {
     "name": "stdout",
     "output_type": "stream",
     "text": [
      "pred: [10, 3, 10, 1, 2, 1], gt: [1, 12, 14]\n"
     ]
    },
    {
     "name": "stderr",
     "output_type": "stream",
     "text": [
      "Chunks: 100%|██████████| 8/8 [00:01<00:00,  5.36it/s]\n",
      "1055it [22:55,  1.54s/it]"
     ]
    },
    {
     "name": "stdout",
     "output_type": "stream",
     "text": [
      "pred: [11, 1, 4], gt: [1, 4, 6, 5]\n"
     ]
    },
    {
     "name": "stderr",
     "output_type": "stream",
     "text": [
      "Chunks: 100%|██████████| 7/7 [00:00<00:00, 14.69it/s]\n",
      "1056it [22:55,  1.23s/it]"
     ]
    },
    {
     "name": "stdout",
     "output_type": "stream",
     "text": [
      "pred: [6, 8, 1, 4], gt: [1, 5, 4, 4, 5]\n"
     ]
    },
    {
     "name": "stderr",
     "output_type": "stream",
     "text": [
      "Chunks: 100%|██████████| 6/6 [00:01<00:00,  4.48it/s]\n",
      "1057it [22:56,  1.27s/it]"
     ]
    },
    {
     "name": "stdout",
     "output_type": "stream",
     "text": [
      "pred: [4, 6, 2], gt: [2, 3, 3, 4]\n"
     ]
    },
    {
     "name": "stderr",
     "output_type": "stream",
     "text": [
      "Chunks: 100%|██████████| 6/6 [00:00<00:00, 13.43it/s]\n",
      "1058it [22:57,  1.03s/it]"
     ]
    },
    {
     "name": "stdout",
     "output_type": "stream",
     "text": [
      "pred: [6, 5], gt: [6, 5]\n"
     ]
    },
    {
     "name": "stderr",
     "output_type": "stream",
     "text": [
      "Chunks: 100%|██████████| 7/7 [00:01<00:00,  5.58it/s]\n",
      "1059it [22:58,  1.11s/it]"
     ]
    },
    {
     "name": "stdout",
     "output_type": "stream",
     "text": [
      "pred: [11, 2, 1], gt: [1, 3, 3, 3, 4]\n"
     ]
    },
    {
     "name": "stderr",
     "output_type": "stream",
     "text": [
      "Chunks: 100%|██████████| 6/6 [00:00<00:00, 14.39it/s]\n",
      "1060it [22:59,  1.11it/s]"
     ]
    },
    {
     "name": "stdout",
     "output_type": "stream",
     "text": [
      "pred: [6], gt: [1, 1, 2, 2]\n"
     ]
    },
    {
     "name": "stderr",
     "output_type": "stream",
     "text": [
      "Chunks: 100%|██████████| 8/8 [00:02<00:00,  3.07it/s]\n",
      "1061it [23:01,  1.42s/it]"
     ]
    },
    {
     "name": "stdout",
     "output_type": "stream",
     "text": [
      "pred: [10, 1, 4], gt: [1, 4, 4, 6]\n"
     ]
    },
    {
     "name": "stderr",
     "output_type": "stream",
     "text": [
      "Chunks: 100%|██████████| 6/6 [00:01<00:00,  4.47it/s]\n",
      "1062it [23:03,  1.40s/it]"
     ]
    },
    {
     "name": "stdout",
     "output_type": "stream",
     "text": [
      "pred: [8, 3], gt: [2, 3, 2, 4]\n"
     ]
    },
    {
     "name": "stderr",
     "output_type": "stream",
     "text": [
      "Chunks: 100%|██████████| 6/6 [00:00<00:00,  8.38it/s]\n",
      "1063it [23:03,  1.21s/it]"
     ]
    },
    {
     "name": "stdout",
     "output_type": "stream",
     "text": [
      "pred: [1, 6, 6, 4], gt: [4, 13]\n"
     ]
    },
    {
     "name": "stderr",
     "output_type": "stream",
     "text": [
      "Chunks: 100%|██████████| 8/8 [00:02<00:00,  3.48it/s]\n",
      "1064it [23:06,  1.54s/it]"
     ]
    },
    {
     "name": "stdout",
     "output_type": "stream",
     "text": [
      "pred: [4, 4, 8], gt: [3, 5, 4, 4]\n"
     ]
    },
    {
     "name": "stderr",
     "output_type": "stream",
     "text": [
      "Chunks: 100%|██████████| 6/6 [00:00<00:00,  7.00it/s]\n",
      "1065it [23:06,  1.34s/it]"
     ]
    },
    {
     "name": "stdout",
     "output_type": "stream",
     "text": [
      "pred: [2, 2, 8], gt: [1, 3, 3, 5]\n"
     ]
    },
    {
     "name": "stderr",
     "output_type": "stream",
     "text": [
      "Chunks: 100%|██████████| 6/6 [00:02<00:00,  2.28it/s]\n",
      "1066it [23:09,  1.74s/it]"
     ]
    },
    {
     "name": "stdout",
     "output_type": "stream",
     "text": [
      "pred: [1, 1, 7, 9], gt: [2, 2, 2, 2, 3, 3, 1, 3]\n"
     ]
    },
    {
     "name": "stderr",
     "output_type": "stream",
     "text": [
      "Chunks: 100%|██████████| 8/8 [00:02<00:00,  2.68it/s]\n",
      "1067it [23:12,  2.12s/it]"
     ]
    },
    {
     "name": "stdout",
     "output_type": "stream",
     "text": [
      "pred: [2, 4, 9], gt: [2, 6, 3, 4]\n"
     ]
    },
    {
     "name": "stderr",
     "output_type": "stream",
     "text": [
      "Chunks: 100%|██████████| 8/8 [00:03<00:00,  2.56it/s]\n",
      "1068it [23:15,  2.43s/it]"
     ]
    },
    {
     "name": "stdout",
     "output_type": "stream",
     "text": [
      "pred: [10, 5, 3, 1, 3], gt: [1, 3, 4, 2, 4, 3, 2, 3]\n"
     ]
    },
    {
     "name": "stderr",
     "output_type": "stream",
     "text": [
      "Chunks: 100%|██████████| 3/3 [00:00<00:00,  5.19it/s]\n",
      "1069it [23:16,  1.88s/it]"
     ]
    },
    {
     "name": "stdout",
     "output_type": "stream",
     "text": [
      "pred: [3], gt: [1, 1, 1]\n"
     ]
    },
    {
     "name": "stderr",
     "output_type": "stream",
     "text": [
      "Chunks: 100%|██████████| 7/7 [00:01<00:00,  4.73it/s]\n",
      "1070it [23:17,  1.77s/it]"
     ]
    },
    {
     "name": "stdout",
     "output_type": "stream",
     "text": [
      "pred: [1, 6, 3, 6, 6, 6], gt: [2, 8, 6, 5, 7]\n"
     ]
    },
    {
     "name": "stderr",
     "output_type": "stream",
     "text": [
      "Chunks: 100%|██████████| 8/8 [00:02<00:00,  2.98it/s]\n",
      "1071it [23:20,  2.05s/it]"
     ]
    },
    {
     "name": "stdout",
     "output_type": "stream",
     "text": [
      "pred: [2, 13, 2, 4, 3], gt: [2, 6, 12, 4]\n"
     ]
    },
    {
     "name": "stderr",
     "output_type": "stream",
     "text": [
      "Chunks: 100%|██████████| 8/8 [00:01<00:00,  4.80it/s]\n",
      "1072it [23:22,  1.94s/it]"
     ]
    },
    {
     "name": "stdout",
     "output_type": "stream",
     "text": [
      "pred: [6, 12, 1, 1, 4], gt: [2, 7, 9, 6]\n"
     ]
    },
    {
     "name": "stderr",
     "output_type": "stream",
     "text": [
      "Chunks: 100%|██████████| 5/5 [00:00<00:00,  5.22it/s]\n",
      "1073it [23:23,  1.65s/it]"
     ]
    },
    {
     "name": "stdout",
     "output_type": "stream",
     "text": [
      "pred: [6, 4], gt: [1, 4, 4, 1]\n"
     ]
    },
    {
     "name": "stderr",
     "output_type": "stream",
     "text": [
      "Chunks: 100%|██████████| 6/6 [00:00<00:00,  7.02it/s]\n",
      "1074it [23:24,  1.42s/it]"
     ]
    },
    {
     "name": "stdout",
     "output_type": "stream",
     "text": [
      "pred: [6], gt: [1, 2, 1, 1, 1]\n"
     ]
    },
    {
     "name": "stderr",
     "output_type": "stream",
     "text": [
      "Chunks: 100%|██████████| 6/6 [00:00<00:00,  9.26it/s]\n",
      "1075it [23:24,  1.19s/it]"
     ]
    },
    {
     "name": "stdout",
     "output_type": "stream",
     "text": [
      "pred: [6], gt: [3, 2, 1]\n"
     ]
    },
    {
     "name": "stderr",
     "output_type": "stream",
     "text": [
      "Chunks: 100%|██████████| 6/6 [00:00<00:00, 12.67it/s]\n",
      "1076it [23:25,  1.02it/s]"
     ]
    },
    {
     "name": "stdout",
     "output_type": "stream",
     "text": [
      "pred: [6], gt: [2, 2, 2]\n"
     ]
    },
    {
     "name": "stderr",
     "output_type": "stream",
     "text": [
      "Chunks: 100%|██████████| 7/7 [00:01<00:00,  4.15it/s]\n",
      "1077it [23:27,  1.20s/it]"
     ]
    },
    {
     "name": "stdout",
     "output_type": "stream",
     "text": [
      "pred: [3, 7, 1, 9], gt: [5, 3, 3, 2, 2, 5]\n"
     ]
    },
    {
     "name": "stderr",
     "output_type": "stream",
     "text": [
      "Chunks: 100%|██████████| 5/5 [00:00<00:00,  8.66it/s]\n",
      "1078it [23:27,  1.02s/it]"
     ]
    },
    {
     "name": "stdout",
     "output_type": "stream",
     "text": [
      "pred: [5, 5], gt: [1, 1, 3, 1, 1, 3]\n"
     ]
    },
    {
     "name": "stderr",
     "output_type": "stream",
     "text": [
      "Chunks: 100%|██████████| 5/5 [00:01<00:00,  3.61it/s]\n",
      "1079it [23:29,  1.14s/it]"
     ]
    },
    {
     "name": "stdout",
     "output_type": "stream",
     "text": [
      "pred: [2, 7], gt: [1, 2, 3, 3]\n"
     ]
    },
    {
     "name": "stderr",
     "output_type": "stream",
     "text": [
      "Chunks: 100%|██████████| 7/7 [00:01<00:00,  5.08it/s]\n",
      "1080it [23:30,  1.22s/it]"
     ]
    },
    {
     "name": "stdout",
     "output_type": "stream",
     "text": [
      "pred: [1, 7, 3, 2, 13], gt: [2, 8, 8, 8]\n"
     ]
    },
    {
     "name": "stderr",
     "output_type": "stream",
     "text": [
      "Chunks: 100%|██████████| 7/7 [00:01<00:00,  5.27it/s]\n",
      "1081it [23:31,  1.26s/it]"
     ]
    },
    {
     "name": "stdout",
     "output_type": "stream",
     "text": [
      "pred: [2, 6, 5], gt: [2, 3, 3, 5]\n"
     ]
    },
    {
     "name": "stderr",
     "output_type": "stream",
     "text": [
      "Chunks: 100%|██████████| 4/4 [00:00<00:00,  6.57it/s]\n",
      "1082it [23:32,  1.07s/it]"
     ]
    },
    {
     "name": "stdout",
     "output_type": "stream",
     "text": [
      "pred: [4], gt: [1, 1, 1, 1]\n"
     ]
    },
    {
     "name": "stderr",
     "output_type": "stream",
     "text": [
      "Chunks: 100%|██████████| 8/8 [00:00<00:00,  9.77it/s]\n",
      "1083it [23:33,  1.00it/s]"
     ]
    },
    {
     "name": "stdout",
     "output_type": "stream",
     "text": [
      "pred: [8, 4, 3], gt: [2, 4, 5, 4]\n"
     ]
    },
    {
     "name": "stderr",
     "output_type": "stream",
     "text": [
      "Chunks: 100%|██████████| 6/6 [00:01<00:00,  5.98it/s]\n",
      "1084it [23:34,  1.01s/it]"
     ]
    },
    {
     "name": "stdout",
     "output_type": "stream",
     "text": [
      "pred: [1, 7, 1, 9], gt: [2, 4, 5, 7]\n"
     ]
    },
    {
     "name": "stderr",
     "output_type": "stream",
     "text": [
      "Chunks: 100%|██████████| 7/7 [00:02<00:00,  2.85it/s]\n",
      "1085it [23:36,  1.45s/it]"
     ]
    },
    {
     "name": "stdout",
     "output_type": "stream",
     "text": [
      "pred: [10, 2, 6, 3], gt: [1, 6, 4, 6, 4]\n"
     ]
    },
    {
     "name": "stderr",
     "output_type": "stream",
     "text": [
      "Chunks: 100%|██████████| 8/8 [00:03<00:00,  2.56it/s]\n",
      "1086it [23:39,  1.96s/it]"
     ]
    },
    {
     "name": "stdout",
     "output_type": "stream",
     "text": [
      "pred: [7, 1, 9, 2, 5], gt: [1, 6, 7, 6, 4]\n"
     ]
    },
    {
     "name": "stderr",
     "output_type": "stream",
     "text": [
      "Chunks: 100%|██████████| 7/7 [00:00<00:00, 10.06it/s]\n",
      "1087it [23:40,  1.59s/it]"
     ]
    },
    {
     "name": "stdout",
     "output_type": "stream",
     "text": [
      "pred: [9, 4, 1, 2, 9], gt: [3, 8, 8, 6]\n"
     ]
    },
    {
     "name": "stderr",
     "output_type": "stream",
     "text": [
      "Chunks: 100%|██████████| 7/7 [00:00<00:00,  7.19it/s]\n",
      "1088it [23:41,  1.41s/it]"
     ]
    },
    {
     "name": "stdout",
     "output_type": "stream",
     "text": [
      "pred: [2, 4, 7], gt: [1, 5, 2, 5]\n"
     ]
    },
    {
     "name": "stderr",
     "output_type": "stream",
     "text": [
      "Chunks: 100%|██████████| 7/7 [00:01<00:00,  6.08it/s]\n",
      "1089it [23:42,  1.34s/it]"
     ]
    },
    {
     "name": "stdout",
     "output_type": "stream",
     "text": [
      "pred: [1, 1, 11], gt: [3, 2, 3, 5]\n"
     ]
    },
    {
     "name": "stderr",
     "output_type": "stream",
     "text": [
      "Chunks: 100%|██████████| 6/6 [00:00<00:00,  6.33it/s]\n",
      "1090it [23:43,  1.23s/it]"
     ]
    },
    {
     "name": "stdout",
     "output_type": "stream",
     "text": [
      "pred: [6, 3, 3, 5], gt: [2, 4, 5, 6]\n"
     ]
    },
    {
     "name": "stderr",
     "output_type": "stream",
     "text": [
      "Chunks: 100%|██████████| 6/6 [00:01<00:00,  4.20it/s]\n",
      "1091it [23:45,  1.30s/it]"
     ]
    },
    {
     "name": "stdout",
     "output_type": "stream",
     "text": [
      "pred: [7, 5, 1, 4], gt: [2, 4, 6, 5]\n"
     ]
    },
    {
     "name": "stderr",
     "output_type": "stream",
     "text": [
      "Chunks: 100%|██████████| 7/7 [00:00<00:00,  7.79it/s]\n",
      "1092it [23:46,  1.18s/it]"
     ]
    },
    {
     "name": "stdout",
     "output_type": "stream",
     "text": [
      "pred: [5, 2], gt: [2, 3, 2]\n"
     ]
    },
    {
     "name": "stderr",
     "output_type": "stream",
     "text": [
      "Chunks: 100%|██████████| 7/7 [00:01<00:00,  4.87it/s]\n",
      "1093it [23:47,  1.27s/it]"
     ]
    },
    {
     "name": "stdout",
     "output_type": "stream",
     "text": [
      "pred: [6, 1], gt: [2, 2, 1, 2]\n"
     ]
    },
    {
     "name": "stderr",
     "output_type": "stream",
     "text": [
      "Chunks: 100%|██████████| 8/8 [00:01<00:00,  7.65it/s]\n",
      "1094it [23:48,  1.21s/it]"
     ]
    },
    {
     "name": "stdout",
     "output_type": "stream",
     "text": [
      "pred: [1, 11, 3], gt: [1, 4, 2, 1, 1, 1, 1, 4]\n"
     ]
    },
    {
     "name": "stderr",
     "output_type": "stream",
     "text": [
      "Chunks: 100%|██████████| 7/7 [00:00<00:00,  7.63it/s]\n",
      "1095it [23:49,  1.13s/it]"
     ]
    },
    {
     "name": "stdout",
     "output_type": "stream",
     "text": [
      "pred: [1, 5, 7], gt: [1, 4, 4, 4]\n"
     ]
    },
    {
     "name": "stderr",
     "output_type": "stream",
     "text": [
      "Chunks: 100%|██████████| 7/7 [00:00<00:00, 14.16it/s]\n",
      "1096it [23:50,  1.06it/s]"
     ]
    },
    {
     "name": "stdout",
     "output_type": "stream",
     "text": [
      "pred: [6, 5, 2], gt: [3, 2, 2, 3, 3]\n"
     ]
    },
    {
     "name": "stderr",
     "output_type": "stream",
     "text": [
      "Chunks: 100%|██████████| 8/8 [00:01<00:00,  7.71it/s]\n",
      "1097it [23:51,  1.02it/s]"
     ]
    },
    {
     "name": "stdout",
     "output_type": "stream",
     "text": [
      "pred: [10, 3, 2], gt: [4, 3, 3, 3, 2]\n"
     ]
    },
    {
     "name": "stderr",
     "output_type": "stream",
     "text": [
      "Chunks: 100%|██████████| 7/7 [00:00<00:00,  8.29it/s]\n",
      "1098it [23:52,  1.05it/s]"
     ]
    },
    {
     "name": "stdout",
     "output_type": "stream",
     "text": [
      "pred: [4, 10, 4, 3], gt: [2, 7, 5, 7]\n"
     ]
    },
    {
     "name": "stderr",
     "output_type": "stream",
     "text": [
      "Chunks: 100%|██████████| 6/6 [00:00<00:00,  7.35it/s]\n",
      "1099it [23:52,  1.09it/s]"
     ]
    },
    {
     "name": "stdout",
     "output_type": "stream",
     "text": [
      "pred: [6], gt: [1, 2, 2, 1]\n"
     ]
    },
    {
     "name": "stderr",
     "output_type": "stream",
     "text": [
      "Chunks: 100%|██████████| 7/7 [00:00<00:00,  8.81it/s]\n",
      "1100it [23:53,  1.12it/s]"
     ]
    },
    {
     "name": "stdout",
     "output_type": "stream",
     "text": [
      "pred: [4, 11, 2, 2], gt: [1, 7, 6, 5]\n"
     ]
    },
    {
     "name": "stderr",
     "output_type": "stream",
     "text": [
      "Chunks: 100%|██████████| 5/5 [00:00<00:00, 10.95it/s]\n",
      "1101it [23:54,  1.30it/s]"
     ]
    },
    {
     "name": "stdout",
     "output_type": "stream",
     "text": [
      "pred: [8, 2], gt: [1, 4, 2, 3]\n"
     ]
    },
    {
     "name": "stderr",
     "output_type": "stream",
     "text": [
      "Chunks: 100%|██████████| 7/7 [00:00<00:00, 15.98it/s]\n",
      "1102it [23:54,  1.48it/s]"
     ]
    },
    {
     "name": "stdout",
     "output_type": "stream",
     "text": [
      "pred: [9, 4], gt: [4, 5, 4]\n"
     ]
    },
    {
     "name": "stderr",
     "output_type": "stream",
     "text": [
      "Chunks: 100%|██████████| 5/5 [00:00<00:00,  5.60it/s]\n",
      "1103it [23:55,  1.34it/s]"
     ]
    },
    {
     "name": "stdout",
     "output_type": "stream",
     "text": [
      "pred: [5], gt: [1, 1, 2, 1]\n"
     ]
    },
    {
     "name": "stderr",
     "output_type": "stream",
     "text": [
      "Chunks: 100%|██████████| 8/8 [00:01<00:00,  7.68it/s]\n",
      "1104it [23:56,  1.19it/s]"
     ]
    },
    {
     "name": "stdout",
     "output_type": "stream",
     "text": [
      "pred: [6, 2, 2, 5, 7], gt: [1, 6, 2, 6, 7]\n"
     ]
    },
    {
     "name": "stderr",
     "output_type": "stream",
     "text": [
      "Chunks: 100%|██████████| 6/6 [00:00<00:00,  7.52it/s]\n",
      "1105it [23:57,  1.19it/s]"
     ]
    },
    {
     "name": "stdout",
     "output_type": "stream",
     "text": [
      "pred: [1, 7, 5, 4], gt: [1, 7, 5, 4]\n"
     ]
    },
    {
     "name": "stderr",
     "output_type": "stream",
     "text": [
      "Chunks: 100%|██████████| 7/7 [00:01<00:00,  5.66it/s]\n",
      "1106it [23:58,  1.03it/s]"
     ]
    },
    {
     "name": "stdout",
     "output_type": "stream",
     "text": [
      "pred: [1, 7, 7, 5], gt: [4, 5, 6, 5]\n"
     ]
    },
    {
     "name": "stderr",
     "output_type": "stream",
     "text": [
      "Chunks: 100%|██████████| 6/6 [00:00<00:00,  6.96it/s]\n",
      "1107it [23:59,  1.06it/s]"
     ]
    },
    {
     "name": "stdout",
     "output_type": "stream",
     "text": [
      "pred: [3, 7, 2], gt: [3, 3, 3, 3]\n"
     ]
    },
    {
     "name": "stderr",
     "output_type": "stream",
     "text": [
      "Chunks: 100%|██████████| 8/8 [00:01<00:00,  5.50it/s]\n",
      "1108it [24:01,  1.11s/it]"
     ]
    },
    {
     "name": "stdout",
     "output_type": "stream",
     "text": [
      "pred: [2, 6], gt: [5, 1, 1, 1]\n"
     ]
    },
    {
     "name": "stderr",
     "output_type": "stream",
     "text": [
      "Chunks: 100%|██████████| 8/8 [00:01<00:00,  5.83it/s]\n",
      "1109it [24:02,  1.19s/it]"
     ]
    },
    {
     "name": "stdout",
     "output_type": "stream",
     "text": [
      "pred: [3, 12], gt: [2, 4, 4, 5]\n"
     ]
    },
    {
     "name": "stderr",
     "output_type": "stream",
     "text": [
      "Chunks: 100%|██████████| 7/7 [00:00<00:00,  9.34it/s]\n",
      "1110it [24:03,  1.07s/it]"
     ]
    },
    {
     "name": "stdout",
     "output_type": "stream",
     "text": [
      "pred: [8, 5, 1], gt: [1, 6, 3, 4]\n"
     ]
    },
    {
     "name": "stderr",
     "output_type": "stream",
     "text": [
      "Chunks: 100%|██████████| 6/6 [00:01<00:00,  5.78it/s]\n",
      "1111it [24:04,  1.07s/it]"
     ]
    },
    {
     "name": "stdout",
     "output_type": "stream",
     "text": [
      "pred: [7, 4, 1], gt: [1, 3, 3, 2, 3]\n"
     ]
    },
    {
     "name": "stderr",
     "output_type": "stream",
     "text": [
      "Chunks: 100%|██████████| 7/7 [00:01<00:00,  3.89it/s]\n",
      "1112it [24:06,  1.30s/it]"
     ]
    },
    {
     "name": "stdout",
     "output_type": "stream",
     "text": [
      "pred: [1, 1, 2, 5, 5, 13], gt: [3, 10, 8, 6]\n"
     ]
    },
    {
     "name": "stderr",
     "output_type": "stream",
     "text": [
      "Chunks: 100%|██████████| 5/5 [00:01<00:00,  4.13it/s]\n",
      "1113it [24:07,  1.28s/it]"
     ]
    },
    {
     "name": "stdout",
     "output_type": "stream",
     "text": [
      "pred: [5, 4], gt: [4, 5]\n"
     ]
    },
    {
     "name": "stderr",
     "output_type": "stream",
     "text": [
      "Chunks: 100%|██████████| 6/6 [00:02<00:00,  2.90it/s]\n",
      "1114it [24:09,  1.53s/it]"
     ]
    },
    {
     "name": "stdout",
     "output_type": "stream",
     "text": [
      "pred: [3, 4, 5], gt: [1, 5, 4, 2]\n"
     ]
    },
    {
     "name": "stderr",
     "output_type": "stream",
     "text": [
      "Chunks: 100%|██████████| 4/4 [00:00<00:00, 11.98it/s]\n",
      "1115it [24:09,  1.17s/it]"
     ]
    },
    {
     "name": "stdout",
     "output_type": "stream",
     "text": [
      "pred: [4], gt: [1, 1, 1, 1]\n"
     ]
    },
    {
     "name": "stderr",
     "output_type": "stream",
     "text": [
      "Chunks: 100%|██████████| 4/4 [00:01<00:00,  2.44it/s]\n",
      "1116it [24:11,  1.32s/it]"
     ]
    },
    {
     "name": "stdout",
     "output_type": "stream",
     "text": [
      "pred: [4], gt: [1, 1, 1, 1]\n"
     ]
    },
    {
     "name": "stderr",
     "output_type": "stream",
     "text": [
      "Chunks: 100%|██████████| 7/7 [00:01<00:00,  4.80it/s]\n",
      "1117it [24:13,  1.36s/it]"
     ]
    },
    {
     "name": "stdout",
     "output_type": "stream",
     "text": [
      "pred: [10, 2, 1], gt: [1, 4, 4, 4]\n"
     ]
    },
    {
     "name": "stderr",
     "output_type": "stream",
     "text": [
      "Chunks: 100%|██████████| 8/8 [00:01<00:00,  6.44it/s]\n",
      "1118it [24:14,  1.34s/it]"
     ]
    },
    {
     "name": "stdout",
     "output_type": "stream",
     "text": [
      "pred: [5, 1, 9, 4, 4, 1, 8], gt: [1, 10, 8, 8, 5]\n"
     ]
    },
    {
     "name": "stderr",
     "output_type": "stream",
     "text": [
      "Chunks: 100%|██████████| 7/7 [00:02<00:00,  3.40it/s]\n",
      "1119it [24:16,  1.56s/it]"
     ]
    },
    {
     "name": "stdout",
     "output_type": "stream",
     "text": [
      "pred: [9, 3, 2], gt: [2, 5, 5, 2]\n"
     ]
    },
    {
     "name": "stderr",
     "output_type": "stream",
     "text": [
      "Chunks: 100%|██████████| 7/7 [00:00<00:00,  7.62it/s]\n",
      "1120it [24:17,  1.38s/it]"
     ]
    },
    {
     "name": "stdout",
     "output_type": "stream",
     "text": [
      "pred: [2, 10, 1], gt: [3, 9, 1]\n"
     ]
    },
    {
     "name": "stderr",
     "output_type": "stream",
     "text": [
      "Chunks: 100%|██████████| 8/8 [00:00<00:00,  8.18it/s]\n",
      "1121it [24:18,  1.27s/it]"
     ]
    },
    {
     "name": "stdout",
     "output_type": "stream",
     "text": [
      "pred: [3, 1, 14, 6, 2, 5], gt: [2, 10, 6, 6, 7]\n"
     ]
    },
    {
     "name": "stderr",
     "output_type": "stream",
     "text": [
      "Chunks: 100%|██████████| 7/7 [00:00<00:00,  7.96it/s]\n",
      "1122it [24:19,  1.16s/it]"
     ]
    },
    {
     "name": "stdout",
     "output_type": "stream",
     "text": [
      "pred: [6, 14, 1, 1, 6, 3, 2], gt: [1, 10, 12, 10]\n"
     ]
    },
    {
     "name": "stderr",
     "output_type": "stream",
     "text": [
      "Chunks: 100%|██████████| 5/5 [00:01<00:00,  4.78it/s]\n",
      "1123it [24:20,  1.13s/it]"
     ]
    },
    {
     "name": "stdout",
     "output_type": "stream",
     "text": [
      "pred: [1, 8], gt: [1, 5, 3]\n"
     ]
    },
    {
     "name": "stderr",
     "output_type": "stream",
     "text": [
      "Chunks: 100%|██████████| 5/5 [00:01<00:00,  2.70it/s]\n",
      "1124it [24:22,  1.36s/it]"
     ]
    },
    {
     "name": "stdout",
     "output_type": "stream",
     "text": [
      "pred: [2, 7], gt: [2, 2, 2, 3]\n"
     ]
    },
    {
     "name": "stderr",
     "output_type": "stream",
     "text": [
      "Chunks: 100%|██████████| 3/3 [00:00<00:00,  3.20it/s]\n",
      "1125it [24:23,  1.24s/it]"
     ]
    },
    {
     "name": "stdout",
     "output_type": "stream",
     "text": [
      "pred: [3], gt: [1, 1, 1]\n"
     ]
    },
    {
     "name": "stderr",
     "output_type": "stream",
     "text": [
      "Chunks: 100%|██████████| 8/8 [00:02<00:00,  3.45it/s]\n",
      "1126it [24:25,  1.57s/it]"
     ]
    },
    {
     "name": "stdout",
     "output_type": "stream",
     "text": [
      "pred: [2, 6, 2, 7, 3, 9], gt: [5, 5, 3, 5, 5, 6]\n"
     ]
    },
    {
     "name": "stderr",
     "output_type": "stream",
     "text": [
      "Chunks: 100%|██████████| 7/7 [00:01<00:00,  5.47it/s]\n",
      "1127it [24:26,  1.49s/it]"
     ]
    },
    {
     "name": "stdout",
     "output_type": "stream",
     "text": [
      "pred: [6, 1, 7], gt: [1, 2, 7, 4]\n"
     ]
    },
    {
     "name": "stderr",
     "output_type": "stream",
     "text": [
      "Chunks: 100%|██████████| 6/6 [00:01<00:00,  5.64it/s]\n",
      "1128it [24:27,  1.37s/it]"
     ]
    },
    {
     "name": "stdout",
     "output_type": "stream",
     "text": [
      "pred: [8, 3], gt: [1, 4, 6]\n"
     ]
    },
    {
     "name": "stderr",
     "output_type": "stream",
     "text": [
      "Chunks: 100%|██████████| 5/5 [00:00<00:00,  7.58it/s]\n",
      "1129it [24:28,  1.16s/it]"
     ]
    },
    {
     "name": "stdout",
     "output_type": "stream",
     "text": [
      "pred: [5, 5], gt: [2, 3, 3, 2]\n"
     ]
    },
    {
     "name": "stderr",
     "output_type": "stream",
     "text": [
      "Chunks: 100%|██████████| 7/7 [00:03<00:00,  1.80it/s]\n",
      "1130it [24:32,  1.99s/it]"
     ]
    },
    {
     "name": "stdout",
     "output_type": "stream",
     "text": [
      "pred: [8, 3, 2, 6], gt: [2, 4, 7, 6]\n"
     ]
    },
    {
     "name": "stderr",
     "output_type": "stream",
     "text": [
      "Chunks: 100%|██████████| 7/7 [00:00<00:00, 10.20it/s]\n",
      "1131it [24:33,  1.60s/it]"
     ]
    },
    {
     "name": "stdout",
     "output_type": "stream",
     "text": [
      "pred: [1, 1, 12], gt: [4, 6, 4]\n"
     ]
    },
    {
     "name": "stderr",
     "output_type": "stream",
     "text": [
      "Chunks: 100%|██████████| 8/8 [00:01<00:00,  7.00it/s]\n",
      "1132it [24:34,  1.47s/it]"
     ]
    },
    {
     "name": "stdout",
     "output_type": "stream",
     "text": [
      "pred: [11, 4, 1], gt: [1, 4, 6, 5]\n"
     ]
    },
    {
     "name": "stderr",
     "output_type": "stream",
     "text": [
      "Chunks: 100%|██████████| 8/8 [00:04<00:00,  1.81it/s]\n",
      "1133it [24:38,  2.36s/it]"
     ]
    },
    {
     "name": "stdout",
     "output_type": "stream",
     "text": [
      "pred: [7, 3, 6], gt: [1, 5, 6, 4]\n"
     ]
    },
    {
     "name": "stderr",
     "output_type": "stream",
     "text": [
      "Chunks: 100%|██████████| 7/7 [00:00<00:00,  9.71it/s]\n",
      "1134it [24:39,  1.88s/it]"
     ]
    },
    {
     "name": "stdout",
     "output_type": "stream",
     "text": [
      "pred: [11, 3, 2, 5], gt: [4, 7, 5, 5]\n"
     ]
    },
    {
     "name": "stderr",
     "output_type": "stream",
     "text": [
      "Chunks: 100%|██████████| 7/7 [00:00<00:00,  9.39it/s]\n",
      "1135it [24:40,  1.55s/it]"
     ]
    },
    {
     "name": "stdout",
     "output_type": "stream",
     "text": [
      "pred: [2, 2, 8, 8], gt: [5, 6, 5, 4]\n"
     ]
    },
    {
     "name": "stderr",
     "output_type": "stream",
     "text": [
      "Chunks: 100%|██████████| 7/7 [00:01<00:00,  4.34it/s]\n",
      "1136it [24:41,  1.57s/it]"
     ]
    },
    {
     "name": "stdout",
     "output_type": "stream",
     "text": [
      "pred: [4, 9, 1], gt: [2, 4, 3, 5]\n"
     ]
    },
    {
     "name": "stderr",
     "output_type": "stream",
     "text": [
      "Chunks: 100%|██████████| 7/7 [00:00<00:00,  7.01it/s]\n",
      "1137it [24:42,  1.41s/it]"
     ]
    },
    {
     "name": "stdout",
     "output_type": "stream",
     "text": [
      "pred: [7, 1, 5], gt: [1, 6, 1, 5]\n"
     ]
    },
    {
     "name": "stderr",
     "output_type": "stream",
     "text": [
      "Chunks: 100%|██████████| 6/6 [00:01<00:00,  3.20it/s]\n",
      "1138it [24:44,  1.55s/it]"
     ]
    },
    {
     "name": "stdout",
     "output_type": "stream",
     "text": [
      "pred: [4, 3, 5], gt: [1, 3, 5, 3]\n"
     ]
    },
    {
     "name": "stderr",
     "output_type": "stream",
     "text": [
      "Chunks: 100%|██████████| 5/5 [00:00<00:00,  6.05it/s]\n",
      "1139it [24:45,  1.34s/it]"
     ]
    },
    {
     "name": "stdout",
     "output_type": "stream",
     "text": [
      "pred: [4, 6], gt: [1, 3, 2, 4]\n"
     ]
    },
    {
     "name": "stderr",
     "output_type": "stream",
     "text": [
      "Chunks: 100%|██████████| 4/4 [00:01<00:00,  3.78it/s]\n",
      "1140it [24:46,  1.26s/it]"
     ]
    },
    {
     "name": "stdout",
     "output_type": "stream",
     "text": [
      "pred: [4], gt: [1, 1, 1, 1]\n"
     ]
    },
    {
     "name": "stderr",
     "output_type": "stream",
     "text": [
      "Chunks: 100%|██████████| 4/4 [00:00<00:00,  4.49it/s]\n",
      "1141it [24:47,  1.15s/it]"
     ]
    },
    {
     "name": "stdout",
     "output_type": "stream",
     "text": [
      "pred: [4], gt: [2, 2]\n"
     ]
    },
    {
     "name": "stderr",
     "output_type": "stream",
     "text": [
      "Chunks: 100%|██████████| 3/3 [00:01<00:00,  2.60it/s]\n",
      "1142it [24:48,  1.16s/it]"
     ]
    },
    {
     "name": "stdout",
     "output_type": "stream",
     "text": [
      "pred: [3], gt: [1, 1, 1]\n"
     ]
    },
    {
     "name": "stderr",
     "output_type": "stream",
     "text": [
      "Chunks: 100%|██████████| 6/6 [00:00<00:00,  6.69it/s]\n",
      "1143it [24:49,  1.08s/it]"
     ]
    },
    {
     "name": "stdout",
     "output_type": "stream",
     "text": [
      "pred: [5, 4, 3], gt: [5, 3, 4]\n"
     ]
    },
    {
     "name": "stderr",
     "output_type": "stream",
     "text": [
      "Chunks: 100%|██████████| 5/5 [00:01<00:00,  3.52it/s]\n",
      "1144it [24:51,  1.19s/it]"
     ]
    },
    {
     "name": "stdout",
     "output_type": "stream",
     "text": [
      "pred: [6, 3], gt: [2, 1, 6]\n"
     ]
    },
    {
     "name": "stderr",
     "output_type": "stream",
     "text": [
      "Chunks: 100%|██████████| 8/8 [00:01<00:00,  6.50it/s]\n",
      "1145it [24:52,  1.21s/it]"
     ]
    },
    {
     "name": "stdout",
     "output_type": "stream",
     "text": [
      "pred: [5, 3], gt: [1, 1, 3, 3]\n"
     ]
    },
    {
     "name": "stderr",
     "output_type": "stream",
     "text": [
      "Chunks: 100%|██████████| 7/7 [00:01<00:00,  5.93it/s]\n",
      "1146it [24:53,  1.21s/it]"
     ]
    },
    {
     "name": "stdout",
     "output_type": "stream",
     "text": [
      "pred: [8, 3, 2], gt: [3, 2, 3, 3, 2]\n"
     ]
    },
    {
     "name": "stderr",
     "output_type": "stream",
     "text": [
      "Chunks: 100%|██████████| 7/7 [00:01<00:00,  5.78it/s]\n",
      "1147it [24:54,  1.21s/it]"
     ]
    },
    {
     "name": "stdout",
     "output_type": "stream",
     "text": [
      "pred: [2, 4, 7, 6], gt: [5, 6, 5, 3]\n"
     ]
    },
    {
     "name": "stderr",
     "output_type": "stream",
     "text": [
      "Chunks: 100%|██████████| 8/8 [00:01<00:00,  4.75it/s]\n",
      "1148it [24:56,  1.36s/it]"
     ]
    },
    {
     "name": "stdout",
     "output_type": "stream",
     "text": [
      "pred: [2, 6], gt: [1, 4, 3]\n"
     ]
    },
    {
     "name": "stderr",
     "output_type": "stream",
     "text": [
      "Chunks: 100%|██████████| 6/6 [00:01<00:00,  5.72it/s]\n",
      "1149it [24:57,  1.27s/it]"
     ]
    },
    {
     "name": "stdout",
     "output_type": "stream",
     "text": [
      "pred: [4, 3, 5], gt: [2, 4, 3, 3]\n"
     ]
    },
    {
     "name": "stderr",
     "output_type": "stream",
     "text": [
      "Chunks: 100%|██████████| 8/8 [00:01<00:00,  6.27it/s]\n",
      "1150it [24:58,  1.28s/it]"
     ]
    },
    {
     "name": "stdout",
     "output_type": "stream",
     "text": [
      "pred: [5, 3, 3, 6, 7], gt: [3, 7, 7, 7]\n"
     ]
    },
    {
     "name": "stderr",
     "output_type": "stream",
     "text": [
      "Chunks: 100%|██████████| 8/8 [00:04<00:00,  1.83it/s]\n",
      "1151it [25:03,  2.21s/it]"
     ]
    },
    {
     "name": "stdout",
     "output_type": "stream",
     "text": [
      "pred: [3, 1, 12], gt: [1, 4, 7, 4]\n"
     ]
    },
    {
     "name": "stderr",
     "output_type": "stream",
     "text": [
      "Chunks: 100%|██████████| 6/6 [00:00<00:00,  7.25it/s]\n",
      "1152it [25:04,  1.80s/it]"
     ]
    },
    {
     "name": "stdout",
     "output_type": "stream",
     "text": [
      "pred: [1, 8, 3], gt: [1, 4, 3, 4]\n"
     ]
    },
    {
     "name": "stderr",
     "output_type": "stream",
     "text": [
      "Chunks: 100%|██████████| 8/8 [00:01<00:00,  6.59it/s]\n",
      "1153it [25:05,  1.63s/it]"
     ]
    },
    {
     "name": "stdout",
     "output_type": "stream",
     "text": [
      "pred: [1, 17, 2, 3, 1], gt: [4, 8, 6, 6]\n"
     ]
    },
    {
     "name": "stderr",
     "output_type": "stream",
     "text": [
      "Chunks: 100%|██████████| 6/6 [00:00<00:00, 11.91it/s]\n",
      "1154it [25:05,  1.30s/it]"
     ]
    },
    {
     "name": "stdout",
     "output_type": "stream",
     "text": [
      "pred: [6], gt: [3, 3]\n"
     ]
    },
    {
     "name": "stderr",
     "output_type": "stream",
     "text": [
      "Chunks: 100%|██████████| 8/8 [00:01<00:00,  7.27it/s]\n",
      "1155it [25:07,  1.25s/it]"
     ]
    },
    {
     "name": "stdout",
     "output_type": "stream",
     "text": [
      "pred: [2, 4, 9], gt: [1, 4, 4, 6]\n"
     ]
    },
    {
     "name": "stderr",
     "output_type": "stream",
     "text": [
      "Chunks: 100%|██████████| 6/6 [00:00<00:00,  9.68it/s]\n",
      "1156it [25:07,  1.07s/it]"
     ]
    },
    {
     "name": "stdout",
     "output_type": "stream",
     "text": [
      "pred: [6, 4, 3, 4], gt: [2, 5, 4, 2, 4]\n"
     ]
    },
    {
     "name": "stderr",
     "output_type": "stream",
     "text": [
      "Chunks: 100%|██████████| 7/7 [00:02<00:00,  3.18it/s]\n",
      "1157it [25:09,  1.41s/it]"
     ]
    },
    {
     "name": "stdout",
     "output_type": "stream",
     "text": [
      "pred: [3, 4], gt: [2, 2, 3]\n"
     ]
    },
    {
     "name": "stderr",
     "output_type": "stream",
     "text": [
      "Chunks: 100%|██████████| 5/5 [00:01<00:00,  4.92it/s]\n",
      "1158it [25:10,  1.30s/it]"
     ]
    },
    {
     "name": "stdout",
     "output_type": "stream",
     "text": [
      "pred: [9, 1], gt: [1, 2, 2, 3, 2]\n"
     ]
    },
    {
     "name": "stderr",
     "output_type": "stream",
     "text": [
      "Chunks: 100%|██████████| 6/6 [00:02<00:00,  2.38it/s]\n",
      "1159it [25:13,  1.68s/it]"
     ]
    },
    {
     "name": "stdout",
     "output_type": "stream",
     "text": [
      "pred: [4, 5, 3], gt: [1, 5, 3, 3]\n"
     ]
    },
    {
     "name": "stderr",
     "output_type": "stream",
     "text": [
      "Chunks: 100%|██████████| 7/7 [00:00<00:00, 13.42it/s]\n",
      "1160it [25:14,  1.33s/it]"
     ]
    },
    {
     "name": "stdout",
     "output_type": "stream",
     "text": [
      "pred: [4, 4, 5], gt: [3, 4, 3, 3]\n"
     ]
    },
    {
     "name": "stderr",
     "output_type": "stream",
     "text": [
      "Chunks: 100%|██████████| 5/5 [00:03<00:00,  1.42it/s]\n",
      "1161it [25:17,  1.99s/it]"
     ]
    },
    {
     "name": "stdout",
     "output_type": "stream",
     "text": [
      "pred: [7, 3], gt: [2, 4, 4]\n"
     ]
    },
    {
     "name": "stderr",
     "output_type": "stream",
     "text": [
      "Chunks: 100%|██████████| 8/8 [00:01<00:00,  5.16it/s]\n",
      "1162it [25:19,  1.87s/it]"
     ]
    },
    {
     "name": "stdout",
     "output_type": "stream",
     "text": [
      "pred: [4, 4], gt: [1, 2, 2, 1, 2]\n"
     ]
    },
    {
     "name": "stderr",
     "output_type": "stream",
     "text": [
      "Chunks: 100%|██████████| 5/5 [00:00<00:00,  8.30it/s]\n",
      "1163it [25:19,  1.49s/it]"
     ]
    },
    {
     "name": "stdout",
     "output_type": "stream",
     "text": [
      "pred: [3, 7], gt: [1, 3, 3, 3]\n"
     ]
    },
    {
     "name": "stderr",
     "output_type": "stream",
     "text": [
      "Chunks: 100%|██████████| 7/7 [00:01<00:00,  4.91it/s]\n",
      "1164it [25:21,  1.48s/it]"
     ]
    },
    {
     "name": "stdout",
     "output_type": "stream",
     "text": [
      "pred: [3, 4], gt: [2, 3, 2]\n"
     ]
    },
    {
     "name": "stderr",
     "output_type": "stream",
     "text": [
      "Chunks: 100%|██████████| 7/7 [00:00<00:00,  8.24it/s]\n",
      "1165it [25:22,  1.30s/it]"
     ]
    },
    {
     "name": "stdout",
     "output_type": "stream",
     "text": [
      "pred: [2, 2, 7, 8], gt: [11, 2, 3, 2, 1]\n"
     ]
    },
    {
     "name": "stderr",
     "output_type": "stream",
     "text": [
      "Chunks: 100%|██████████| 2/2 [00:01<00:00,  1.80it/s]\n",
      "1166it [25:23,  1.25s/it]"
     ]
    },
    {
     "name": "stdout",
     "output_type": "stream",
     "text": [
      "pred: [2], gt: [1, 1]\n",
      "WD calculation failed at index 1165: [<class 'decimal.DivisionUndefined'>]\n",
      "pred: [2], gt: [1, 1]\n"
     ]
    },
    {
     "name": "stderr",
     "output_type": "stream",
     "text": [
      "Chunks: 100%|██████████| 3/3 [00:00<00:00,  6.61it/s]\n",
      "1167it [25:23,  1.01s/it]"
     ]
    },
    {
     "name": "stdout",
     "output_type": "stream",
     "text": [
      "pred: [3], gt: [1, 1, 1]\n"
     ]
    },
    {
     "name": "stderr",
     "output_type": "stream",
     "text": [
      "Chunks: 100%|██████████| 6/6 [00:01<00:00,  3.64it/s]\n",
      "1168it [25:25,  1.21s/it]"
     ]
    },
    {
     "name": "stdout",
     "output_type": "stream",
     "text": [
      "pred: [5, 6], gt: [1, 3, 4, 3]\n"
     ]
    },
    {
     "name": "stderr",
     "output_type": "stream",
     "text": [
      "Chunks: 100%|██████████| 2/2 [00:00<00:00,  2.35it/s]\n",
      "1169it [25:26,  1.11s/it]"
     ]
    },
    {
     "name": "stdout",
     "output_type": "stream",
     "text": [
      "pred: [2], gt: [1, 1]\n",
      "WD calculation failed at index 1168: [<class 'decimal.DivisionUndefined'>]\n",
      "pred: [2], gt: [1, 1]\n"
     ]
    },
    {
     "name": "stderr",
     "output_type": "stream",
     "text": [
      "Chunks: 100%|██████████| 7/7 [00:01<00:00,  3.89it/s]\n",
      "1170it [25:28,  1.32s/it]"
     ]
    },
    {
     "name": "stdout",
     "output_type": "stream",
     "text": [
      "pred: [4, 11, 1, 4, 3, 9, 1], gt: [2, 10, 11, 10]\n"
     ]
    },
    {
     "name": "stderr",
     "output_type": "stream",
     "text": [
      "Chunks: 100%|██████████| 8/8 [00:03<00:00,  2.21it/s]\n",
      "1171it [25:31,  2.02s/it]"
     ]
    },
    {
     "name": "stdout",
     "output_type": "stream",
     "text": [
      "pred: [1, 6, 8], gt: [1, 5, 5, 4]\n"
     ]
    },
    {
     "name": "stderr",
     "output_type": "stream",
     "text": [
      "Chunks: 100%|██████████| 8/8 [00:02<00:00,  3.01it/s]\n",
      "1172it [25:34,  2.21s/it]"
     ]
    },
    {
     "name": "stdout",
     "output_type": "stream",
     "text": [
      "pred: [8, 1, 6], gt: [1, 5, 5, 4]\n"
     ]
    },
    {
     "name": "stderr",
     "output_type": "stream",
     "text": [
      "Chunks: 100%|██████████| 3/3 [00:00<00:00,  8.35it/s]\n",
      "1173it [25:34,  1.66s/it]"
     ]
    },
    {
     "name": "stdout",
     "output_type": "stream",
     "text": [
      "pred: [3], gt: [1, 1, 1]\n"
     ]
    },
    {
     "name": "stderr",
     "output_type": "stream",
     "text": [
      "Chunks: 100%|██████████| 8/8 [00:01<00:00,  5.34it/s]\n",
      "1174it [25:36,  1.62s/it]"
     ]
    },
    {
     "name": "stdout",
     "output_type": "stream",
     "text": [
      "pred: [2, 6], gt: [2, 2, 1, 2, 1]\n"
     ]
    },
    {
     "name": "stderr",
     "output_type": "stream",
     "text": [
      "Chunks: 100%|██████████| 6/6 [00:00<00:00,  8.95it/s]\n",
      "1175it [25:36,  1.34s/it]"
     ]
    },
    {
     "name": "stdout",
     "output_type": "stream",
     "text": [
      "pred: [6], gt: [2, 2, 2]\n"
     ]
    },
    {
     "name": "stderr",
     "output_type": "stream",
     "text": [
      "Chunks: 100%|██████████| 8/8 [00:03<00:00,  2.09it/s]\n",
      "1176it [25:40,  2.10s/it]"
     ]
    },
    {
     "name": "stdout",
     "output_type": "stream",
     "text": [
      "pred: [1, 20, 1, 2, 2, 5, 1], gt: [3, 7, 9, 13]\n"
     ]
    },
    {
     "name": "stderr",
     "output_type": "stream",
     "text": [
      "Chunks: 100%|██████████| 5/5 [00:01<00:00,  4.26it/s]\n",
      "1177it [25:42,  1.83s/it]"
     ]
    },
    {
     "name": "stdout",
     "output_type": "stream",
     "text": [
      "pred: [1, 9], gt: [2, 4, 2, 2]\n"
     ]
    },
    {
     "name": "stderr",
     "output_type": "stream",
     "text": [
      "Chunks: 100%|██████████| 8/8 [00:01<00:00,  6.56it/s]\n",
      "1178it [25:43,  1.65s/it]"
     ]
    },
    {
     "name": "stdout",
     "output_type": "stream",
     "text": [
      "pred: [6, 7, 2], gt: [1, 5, 5, 4]\n"
     ]
    },
    {
     "name": "stderr",
     "output_type": "stream",
     "text": [
      "Chunks: 100%|██████████| 5/5 [00:01<00:00,  4.98it/s]\n",
      "1179it [25:44,  1.46s/it]"
     ]
    },
    {
     "name": "stdout",
     "output_type": "stream",
     "text": [
      "pred: [5], gt: [1, 1, 1, 1, 1]\n"
     ]
    },
    {
     "name": "stderr",
     "output_type": "stream",
     "text": [
      "Chunks: 100%|██████████| 8/8 [00:00<00:00, 10.21it/s]\n",
      "1180it [25:45,  1.27s/it]"
     ]
    },
    {
     "name": "stdout",
     "output_type": "stream",
     "text": [
      "pred: [1, 7, 8, 6, 2], gt: [2, 8, 5, 9]\n"
     ]
    },
    {
     "name": "stderr",
     "output_type": "stream",
     "text": [
      "Chunks: 100%|██████████| 7/7 [00:00<00:00,  7.90it/s]\n",
      "1181it [25:46,  1.16s/it]"
     ]
    },
    {
     "name": "stdout",
     "output_type": "stream",
     "text": [
      "pred: [5, 3, 5], gt: [2, 6, 5]\n"
     ]
    },
    {
     "name": "stderr",
     "output_type": "stream",
     "text": [
      "Chunks: 100%|██████████| 7/7 [00:02<00:00,  2.58it/s]\n",
      "1182it [25:48,  1.63s/it]"
     ]
    },
    {
     "name": "stdout",
     "output_type": "stream",
     "text": [
      "pred: [8, 2, 3], gt: [5, 8]\n"
     ]
    },
    {
     "name": "stderr",
     "output_type": "stream",
     "text": [
      "Chunks: 100%|██████████| 6/6 [00:00<00:00,  8.92it/s]\n",
      "1183it [25:49,  1.35s/it]"
     ]
    },
    {
     "name": "stdout",
     "output_type": "stream",
     "text": [
      "pred: [3, 2, 7, 6], gt: [1, 5, 4, 8]\n"
     ]
    },
    {
     "name": "stderr",
     "output_type": "stream",
     "text": [
      "Chunks: 100%|██████████| 7/7 [00:00<00:00, 12.87it/s]\n",
      "1184it [25:50,  1.12s/it]"
     ]
    },
    {
     "name": "stdout",
     "output_type": "stream",
     "text": [
      "pred: [1, 1, 5, 5, 14, 1], gt: [10, 8, 9]\n"
     ]
    },
    {
     "name": "stderr",
     "output_type": "stream",
     "text": [
      "Chunks: 100%|██████████| 2/2 [00:00<00:00,  4.58it/s]\n",
      "1185it [25:50,  1.09it/s]"
     ]
    },
    {
     "name": "stdout",
     "output_type": "stream",
     "text": [
      "pred: [2], gt: [1, 1]\n",
      "WD calculation failed at index 1184: [<class 'decimal.DivisionUndefined'>]\n",
      "pred: [2], gt: [1, 1]\n"
     ]
    },
    {
     "name": "stderr",
     "output_type": "stream",
     "text": [
      "Chunks: 100%|██████████| 7/7 [00:00<00:00,  7.30it/s]\n",
      "1186it [25:51,  1.07it/s]"
     ]
    },
    {
     "name": "stdout",
     "output_type": "stream",
     "text": [
      "pred: [7, 7, 2, 4], gt: [2, 4, 4, 4, 2, 4]\n"
     ]
    },
    {
     "name": "stderr",
     "output_type": "stream",
     "text": [
      "Chunks: 100%|██████████| 6/6 [00:00<00:00,  6.10it/s]\n",
      "1187it [25:52,  1.04it/s]"
     ]
    },
    {
     "name": "stdout",
     "output_type": "stream",
     "text": [
      "pred: [4, 2, 9, 2], gt: [2, 3, 5, 7]\n"
     ]
    },
    {
     "name": "stderr",
     "output_type": "stream",
     "text": [
      "Chunks: 100%|██████████| 7/7 [00:01<00:00,  5.65it/s]\n",
      "1188it [25:53,  1.05s/it]"
     ]
    },
    {
     "name": "stdout",
     "output_type": "stream",
     "text": [
      "pred: [11, 3, 2, 3], gt: [2, 5, 6, 6]\n"
     ]
    },
    {
     "name": "stderr",
     "output_type": "stream",
     "text": [
      "Chunks: 100%|██████████| 8/8 [00:02<00:00,  2.96it/s]\n",
      "1189it [25:56,  1.56s/it]"
     ]
    },
    {
     "name": "stdout",
     "output_type": "stream",
     "text": [
      "pred: [2, 11, 3], gt: [1, 5, 4, 6]\n"
     ]
    },
    {
     "name": "stderr",
     "output_type": "stream",
     "text": [
      "Chunks: 100%|██████████| 5/5 [00:00<00:00,  6.91it/s]\n",
      "1190it [25:57,  1.32s/it]"
     ]
    },
    {
     "name": "stdout",
     "output_type": "stream",
     "text": [
      "pred: [8, 1], gt: [1, 3, 1, 2, 2]\n"
     ]
    },
    {
     "name": "stderr",
     "output_type": "stream",
     "text": [
      "Chunks: 100%|██████████| 8/8 [00:03<00:00,  2.42it/s]\n",
      "1191it [26:00,  1.93s/it]"
     ]
    },
    {
     "name": "stdout",
     "output_type": "stream",
     "text": [
      "pred: [1, 2, 4, 12, 8, 3, 5, 4], gt: [6, 8, 5, 8, 7, 5]\n"
     ]
    },
    {
     "name": "stderr",
     "output_type": "stream",
     "text": [
      "Chunks: 100%|██████████| 5/5 [00:00<00:00,  7.85it/s]\n",
      "1192it [26:01,  1.54s/it]"
     ]
    },
    {
     "name": "stdout",
     "output_type": "stream",
     "text": [
      "pred: [5], gt: [1, 2, 2]\n"
     ]
    },
    {
     "name": "stderr",
     "output_type": "stream",
     "text": [
      "Chunks: 100%|██████████| 8/8 [00:01<00:00,  6.52it/s]\n",
      "1193it [26:02,  1.46s/it]"
     ]
    },
    {
     "name": "stdout",
     "output_type": "stream",
     "text": [
      "pred: [9, 3, 4], gt: [2, 4, 5, 5]\n"
     ]
    },
    {
     "name": "stderr",
     "output_type": "stream",
     "text": [
      "Chunks: 100%|██████████| 5/5 [00:00<00:00,  6.19it/s]\n",
      "1194it [26:03,  1.27s/it]"
     ]
    },
    {
     "name": "stdout",
     "output_type": "stream",
     "text": [
      "pred: [7, 2], gt: [1, 2, 3, 3]\n"
     ]
    },
    {
     "name": "stderr",
     "output_type": "stream",
     "text": [
      "Chunks: 100%|██████████| 5/5 [00:00<00:00,  5.91it/s]\n",
      "1195it [26:04,  1.15s/it]"
     ]
    },
    {
     "name": "stdout",
     "output_type": "stream",
     "text": [
      "pred: [5], gt: [3, 2]\n"
     ]
    },
    {
     "name": "stderr",
     "output_type": "stream",
     "text": [
      "Chunks: 100%|██████████| 8/8 [00:02<00:00,  3.10it/s]\n",
      "1196it [26:06,  1.59s/it]"
     ]
    },
    {
     "name": "stdout",
     "output_type": "stream",
     "text": [
      "pred: [6, 5, 4], gt: [1, 4, 5, 3, 2]\n"
     ]
    },
    {
     "name": "stderr",
     "output_type": "stream",
     "text": [
      "Chunks: 100%|██████████| 8/8 [00:02<00:00,  2.71it/s]\n",
      "1197it [26:09,  2.01s/it]"
     ]
    },
    {
     "name": "stdout",
     "output_type": "stream",
     "text": [
      "pred: [1, 3, 2, 8, 5, 12], gt: [5, 8, 9, 9]\n"
     ]
    },
    {
     "name": "stderr",
     "output_type": "stream",
     "text": [
      "Chunks: 100%|██████████| 8/8 [00:01<00:00,  6.58it/s]\n",
      "1198it [26:11,  1.78s/it]"
     ]
    },
    {
     "name": "stdout",
     "output_type": "stream",
     "text": [
      "pred: [7, 3, 5], gt: [6, 9]\n"
     ]
    },
    {
     "name": "stderr",
     "output_type": "stream",
     "text": [
      "Chunks: 100%|██████████| 4/4 [00:00<00:00,  8.31it/s]\n",
      "1199it [26:11,  1.40s/it]"
     ]
    },
    {
     "name": "stdout",
     "output_type": "stream",
     "text": [
      "pred: [4], gt: [2, 1, 1]\n"
     ]
    },
    {
     "name": "stderr",
     "output_type": "stream",
     "text": [
      "Chunks: 100%|██████████| 8/8 [00:00<00:00,  8.43it/s]\n",
      "1200it [26:12,  1.27s/it]"
     ]
    },
    {
     "name": "stdout",
     "output_type": "stream",
     "text": [
      "pred: [3, 2, 6, 5, 6], gt: [1, 10, 5, 6]\n"
     ]
    },
    {
     "name": "stderr",
     "output_type": "stream",
     "text": [
      "Chunks: 100%|██████████| 7/7 [00:01<00:00,  5.42it/s]\n",
      "1201it [26:13,  1.29s/it]"
     ]
    },
    {
     "name": "stdout",
     "output_type": "stream",
     "text": [
      "pred: [12, 2, 4, 3], gt: [1, 5, 5, 10]\n"
     ]
    },
    {
     "name": "stderr",
     "output_type": "stream",
     "text": [
      "Chunks: 100%|██████████| 7/7 [00:01<00:00,  3.56it/s]\n",
      "1202it [26:15,  1.50s/it]"
     ]
    },
    {
     "name": "stdout",
     "output_type": "stream",
     "text": [
      "pred: [6, 3, 5], gt: [1, 4, 4, 5]\n"
     ]
    },
    {
     "name": "stderr",
     "output_type": "stream",
     "text": [
      "Chunks: 100%|██████████| 8/8 [00:03<00:00,  2.54it/s]\n",
      "1203it [26:19,  2.01s/it]"
     ]
    },
    {
     "name": "stdout",
     "output_type": "stream",
     "text": [
      "pred: [3, 1, 14, 1, 10, 1], gt: [2, 6, 6, 9, 7]\n"
     ]
    },
    {
     "name": "stderr",
     "output_type": "stream",
     "text": [
      "Chunks: 100%|██████████| 6/6 [00:01<00:00,  5.11it/s]\n",
      "1204it [26:20,  1.77s/it]"
     ]
    },
    {
     "name": "stdout",
     "output_type": "stream",
     "text": [
      "pred: [4, 7], gt: [4, 4, 3]\n"
     ]
    },
    {
     "name": "stderr",
     "output_type": "stream",
     "text": [
      "Chunks: 100%|██████████| 6/6 [00:01<00:00,  5.05it/s]\n",
      "1205it [26:21,  1.60s/it]"
     ]
    },
    {
     "name": "stdout",
     "output_type": "stream",
     "text": [
      "pred: [6, 5], gt: [6, 5]\n"
     ]
    },
    {
     "name": "stderr",
     "output_type": "stream",
     "text": [
      "Chunks: 100%|██████████| 5/5 [00:00<00:00,  7.80it/s]\n",
      "1206it [26:22,  1.32s/it]"
     ]
    },
    {
     "name": "stdout",
     "output_type": "stream",
     "text": [
      "pred: [7, 2], gt: [3, 3, 3]\n"
     ]
    },
    {
     "name": "stderr",
     "output_type": "stream",
     "text": [
      "Chunks: 100%|██████████| 7/7 [00:02<00:00,  2.90it/s]\n",
      "1207it [26:24,  1.66s/it]"
     ]
    },
    {
     "name": "stdout",
     "output_type": "stream",
     "text": [
      "pred: [2, 10, 1], gt: [2, 3, 4, 4]\n"
     ]
    },
    {
     "name": "stderr",
     "output_type": "stream",
     "text": [
      "Chunks: 100%|██████████| 5/5 [00:00<00:00,  6.36it/s]\n",
      "1208it [26:25,  1.41s/it]"
     ]
    },
    {
     "name": "stdout",
     "output_type": "stream",
     "text": [
      "pred: [9, 1], gt: [4, 6]\n"
     ]
    },
    {
     "name": "stderr",
     "output_type": "stream",
     "text": [
      "Chunks: 100%|██████████| 2/2 [00:01<00:00,  1.92it/s]\n",
      "1209it [26:26,  1.30s/it]"
     ]
    },
    {
     "name": "stdout",
     "output_type": "stream",
     "text": [
      "pred: [2], gt: [1, 1]\n",
      "WD calculation failed at index 1208: [<class 'decimal.DivisionUndefined'>]\n",
      "pred: [2], gt: [1, 1]\n"
     ]
    },
    {
     "name": "stderr",
     "output_type": "stream",
     "text": [
      "Chunks: 100%|██████████| 6/6 [00:01<00:00,  4.45it/s]\n",
      "1210it [26:27,  1.32s/it]"
     ]
    },
    {
     "name": "stdout",
     "output_type": "stream",
     "text": [
      "pred: [6], gt: [2, 2, 2]\n"
     ]
    },
    {
     "name": "stderr",
     "output_type": "stream",
     "text": [
      "Chunks: 100%|██████████| 8/8 [00:00<00:00, 10.10it/s]\n",
      "1211it [26:28,  1.17s/it]"
     ]
    },
    {
     "name": "stdout",
     "output_type": "stream",
     "text": [
      "pred: [4, 1, 10], gt: [1, 1, 1, 1, 1, 1, 1, 1, 1, 1, 1, 1, 1, 1, 1]\n"
     ]
    },
    {
     "name": "stderr",
     "output_type": "stream",
     "text": [
      "Chunks: 100%|██████████| 7/7 [00:00<00:00,  7.77it/s]\n",
      "1212it [26:29,  1.10s/it]"
     ]
    },
    {
     "name": "stdout",
     "output_type": "stream",
     "text": [
      "pred: [2, 7, 5], gt: [1, 3, 4, 6]\n"
     ]
    },
    {
     "name": "stderr",
     "output_type": "stream",
     "text": [
      "Chunks: 100%|██████████| 7/7 [00:01<00:00,  6.53it/s]\n",
      "1213it [26:30,  1.10s/it]"
     ]
    },
    {
     "name": "stdout",
     "output_type": "stream",
     "text": [
      "pred: [11, 5, 4, 4, 8, 1, 2], gt: [1, 9, 9, 7, 9]\n"
     ]
    },
    {
     "name": "stderr",
     "output_type": "stream",
     "text": [
      "Chunks: 100%|██████████| 8/8 [00:03<00:00,  2.02it/s]\n",
      "1214it [26:34,  1.97s/it]"
     ]
    },
    {
     "name": "stdout",
     "output_type": "stream",
     "text": [
      "pred: [7, 1], gt: [1, 3, 2, 2]\n"
     ]
    },
    {
     "name": "stderr",
     "output_type": "stream",
     "text": [
      "Chunks: 100%|██████████| 8/8 [00:02<00:00,  3.02it/s]\n",
      "1215it [26:37,  2.18s/it]"
     ]
    },
    {
     "name": "stdout",
     "output_type": "stream",
     "text": [
      "pred: [6, 5, 2, 2, 7], gt: [1, 8, 10, 3]\n"
     ]
    },
    {
     "name": "stderr",
     "output_type": "stream",
     "text": [
      "Chunks: 100%|██████████| 7/7 [00:00<00:00,  7.66it/s]\n",
      "1216it [26:38,  1.81s/it]"
     ]
    },
    {
     "name": "stdout",
     "output_type": "stream",
     "text": [
      "pred: [8, 4, 2], gt: [7, 7]\n"
     ]
    },
    {
     "name": "stderr",
     "output_type": "stream",
     "text": [
      "Chunks: 100%|██████████| 8/8 [00:00<00:00,  9.09it/s]\n",
      "1217it [26:39,  1.54s/it]"
     ]
    },
    {
     "name": "stdout",
     "output_type": "stream",
     "text": [
      "pred: [3, 9, 2, 1, 5, 9], gt: [3, 7, 4, 9, 6]\n"
     ]
    },
    {
     "name": "stderr",
     "output_type": "stream",
     "text": [
      "Chunks: 100%|██████████| 7/7 [00:00<00:00,  7.28it/s]\n",
      "1218it [26:40,  1.38s/it]"
     ]
    },
    {
     "name": "stdout",
     "output_type": "stream",
     "text": [
      "pred: [4, 8, 2], gt: [4, 3, 1, 1, 2, 3]\n"
     ]
    },
    {
     "name": "stderr",
     "output_type": "stream",
     "text": [
      "Chunks: 100%|██████████| 6/6 [00:01<00:00,  3.50it/s]\n",
      "1219it [26:41,  1.49s/it]"
     ]
    },
    {
     "name": "stdout",
     "output_type": "stream",
     "text": [
      "pred: [1, 6, 3, 7], gt: [2, 2, 5, 4, 2, 2]\n"
     ]
    },
    {
     "name": "stderr",
     "output_type": "stream",
     "text": [
      "Chunks: 100%|██████████| 6/6 [00:00<00:00,  6.30it/s]\n",
      "1220it [26:42,  1.34s/it]"
     ]
    },
    {
     "name": "stdout",
     "output_type": "stream",
     "text": [
      "pred: [3, 8], gt: [2, 6, 3]\n"
     ]
    },
    {
     "name": "stderr",
     "output_type": "stream",
     "text": [
      "Chunks: 100%|██████████| 5/5 [00:01<00:00,  2.98it/s]\n",
      "1221it [26:44,  1.45s/it]"
     ]
    },
    {
     "name": "stdout",
     "output_type": "stream",
     "text": [
      "pred: [5, 4], gt: [1, 2, 3, 3]\n"
     ]
    },
    {
     "name": "stderr",
     "output_type": "stream",
     "text": [
      "Chunks: 100%|██████████| 6/6 [00:00<00:00,  6.17it/s]\n",
      "1222it [26:45,  1.31s/it]"
     ]
    },
    {
     "name": "stdout",
     "output_type": "stream",
     "text": [
      "pred: [6, 5, 1], gt: [2, 10]\n"
     ]
    },
    {
     "name": "stderr",
     "output_type": "stream",
     "text": [
      "Chunks: 100%|██████████| 8/8 [00:01<00:00,  5.05it/s]\n",
      "1223it [26:47,  1.41s/it]"
     ]
    },
    {
     "name": "stdout",
     "output_type": "stream",
     "text": [
      "pred: [3, 3, 1, 8, 9], gt: [1, 9, 7, 7]\n"
     ]
    },
    {
     "name": "stderr",
     "output_type": "stream",
     "text": [
      "Chunks: 100%|██████████| 5/5 [00:00<00:00,  7.77it/s]\n",
      "1224it [26:47,  1.18s/it]"
     ]
    },
    {
     "name": "stdout",
     "output_type": "stream",
     "text": [
      "pred: [5], gt: [3, 2]\n"
     ]
    },
    {
     "name": "stderr",
     "output_type": "stream",
     "text": [
      "Chunks: 100%|██████████| 7/7 [00:02<00:00,  2.55it/s]\n",
      "1225it [26:50,  1.66s/it]"
     ]
    },
    {
     "name": "stdout",
     "output_type": "stream",
     "text": [
      "pred: [10, 3], gt: [2, 3, 4, 4]\n"
     ]
    },
    {
     "name": "stderr",
     "output_type": "stream",
     "text": [
      "Chunks: 100%|██████████| 6/6 [00:00<00:00, 15.29it/s]\n",
      "1226it [26:51,  1.29s/it]"
     ]
    },
    {
     "name": "stdout",
     "output_type": "stream",
     "text": [
      "pred: [6], gt: [2, 2, 2]\n"
     ]
    },
    {
     "name": "stderr",
     "output_type": "stream",
     "text": [
      "Chunks: 100%|██████████| 8/8 [00:02<00:00,  3.93it/s]\n",
      "1227it [26:53,  1.52s/it]"
     ]
    },
    {
     "name": "stdout",
     "output_type": "stream",
     "text": [
      "pred: [2, 3, 11], gt: [1, 5, 5, 5]\n"
     ]
    },
    {
     "name": "stderr",
     "output_type": "stream",
     "text": [
      "Chunks: 100%|██████████| 3/3 [00:00<00:00,  3.88it/s]\n",
      "1228it [26:53,  1.30s/it]"
     ]
    },
    {
     "name": "stdout",
     "output_type": "stream",
     "text": [
      "pred: [3], gt: [1, 1, 1]\n"
     ]
    },
    {
     "name": "stderr",
     "output_type": "stream",
     "text": [
      "Chunks: 100%|██████████| 7/7 [00:01<00:00,  5.07it/s]\n",
      "1229it [26:55,  1.34s/it]"
     ]
    },
    {
     "name": "stdout",
     "output_type": "stream",
     "text": [
      "pred: [1, 3, 6, 10], gt: [4, 3, 8, 5]\n"
     ]
    },
    {
     "name": "stderr",
     "output_type": "stream",
     "text": [
      "Chunks: 100%|██████████| 5/5 [00:00<00:00,  9.16it/s]\n",
      "1230it [26:55,  1.11s/it]"
     ]
    },
    {
     "name": "stdout",
     "output_type": "stream",
     "text": [
      "pred: [3, 6], gt: [1, 8]\n"
     ]
    },
    {
     "name": "stderr",
     "output_type": "stream",
     "text": [
      "Chunks: 100%|██████████| 8/8 [00:00<00:00,  8.13it/s]\n",
      "1231it [26:56,  1.08s/it]"
     ]
    },
    {
     "name": "stdout",
     "output_type": "stream",
     "text": [
      "pred: [1, 2, 10, 2, 8], gt: [4, 3, 4, 3, 5, 4]\n"
     ]
    },
    {
     "name": "stderr",
     "output_type": "stream",
     "text": [
      "Chunks: 100%|██████████| 7/7 [00:01<00:00,  5.90it/s]\n",
      "1232it [26:58,  1.12s/it]"
     ]
    },
    {
     "name": "stdout",
     "output_type": "stream",
     "text": [
      "pred: [5, 1, 8], gt: [1, 3, 3, 3, 2, 2]\n"
     ]
    },
    {
     "name": "stderr",
     "output_type": "stream",
     "text": [
      "Chunks: 100%|██████████| 7/7 [00:01<00:00,  5.00it/s]\n",
      "1233it [26:59,  1.21s/it]"
     ]
    },
    {
     "name": "stdout",
     "output_type": "stream",
     "text": [
      "pred: [10, 3, 7, 1, 5], gt: [2, 7, 11, 6]\n"
     ]
    },
    {
     "name": "stderr",
     "output_type": "stream",
     "text": [
      "Chunks: 100%|██████████| 7/7 [00:00<00:00,  8.76it/s]\n",
      "1234it [27:00,  1.10s/it]"
     ]
    },
    {
     "name": "stdout",
     "output_type": "stream",
     "text": [
      "pred: [8, 3, 2], gt: [1, 3, 4, 3, 2]\n"
     ]
    },
    {
     "name": "stderr",
     "output_type": "stream",
     "text": [
      "Chunks: 100%|██████████| 6/6 [00:01<00:00,  4.65it/s]\n",
      "1235it [27:01,  1.16s/it]"
     ]
    },
    {
     "name": "stdout",
     "output_type": "stream",
     "text": [
      "pred: [7, 8, 2, 1], gt: [1, 5, 4, 8]\n"
     ]
    },
    {
     "name": "stderr",
     "output_type": "stream",
     "text": [
      "Chunks: 100%|██████████| 7/7 [00:00<00:00, 12.15it/s]\n",
      "1236it [27:02,  1.00it/s]"
     ]
    },
    {
     "name": "stdout",
     "output_type": "stream",
     "text": [
      "pred: [2, 8, 5, 6], gt: [2, 7, 5, 7]\n"
     ]
    },
    {
     "name": "stderr",
     "output_type": "stream",
     "text": [
      "Chunks: 100%|██████████| 8/8 [00:00<00:00,  9.35it/s]\n",
      "1237it [27:03,  1.04it/s]"
     ]
    },
    {
     "name": "stdout",
     "output_type": "stream",
     "text": [
      "pred: [1, 6, 8], gt: [2, 4, 5, 4]\n"
     ]
    },
    {
     "name": "stderr",
     "output_type": "stream",
     "text": [
      "Chunks: 100%|██████████| 6/6 [00:02<00:00,  2.58it/s]\n",
      "1238it [27:05,  1.38s/it]"
     ]
    },
    {
     "name": "stdout",
     "output_type": "stream",
     "text": [
      "pred: [1, 8, 1, 7], gt: [2, 6, 5, 4]\n"
     ]
    },
    {
     "name": "stderr",
     "output_type": "stream",
     "text": [
      "Chunks: 100%|██████████| 3/3 [00:00<00:00,  3.66it/s]\n",
      "1239it [27:06,  1.22s/it]"
     ]
    },
    {
     "name": "stdout",
     "output_type": "stream",
     "text": [
      "pred: [3], gt: [1, 1, 1]\n"
     ]
    },
    {
     "name": "stderr",
     "output_type": "stream",
     "text": [
      "Chunks: 100%|██████████| 5/5 [00:01<00:00,  4.03it/s]\n",
      "1240it [27:07,  1.23s/it]"
     ]
    },
    {
     "name": "stdout",
     "output_type": "stream",
     "text": [
      "pred: [3, 7], gt: [1, 6, 3]\n"
     ]
    },
    {
     "name": "stderr",
     "output_type": "stream",
     "text": [
      "Chunks: 100%|██████████| 8/8 [00:00<00:00, 10.48it/s]\n",
      "1241it [27:08,  1.10s/it]"
     ]
    },
    {
     "name": "stdout",
     "output_type": "stream",
     "text": [
      "pred: [10, 1, 5], gt: [1, 4, 5, 6]\n"
     ]
    },
    {
     "name": "stderr",
     "output_type": "stream",
     "text": [
      "Chunks: 100%|██████████| 8/8 [00:01<00:00,  4.88it/s]\n",
      "1242it [27:10,  1.27s/it]"
     ]
    },
    {
     "name": "stdout",
     "output_type": "stream",
     "text": [
      "pred: [11, 2, 3, 3, 3], gt: [2, 4, 4, 12]\n"
     ]
    },
    {
     "name": "stderr",
     "output_type": "stream",
     "text": [
      "Chunks: 100%|██████████| 8/8 [00:01<00:00,  4.92it/s]\n",
      "1243it [27:11,  1.38s/it]"
     ]
    },
    {
     "name": "stdout",
     "output_type": "stream",
     "text": [
      "pred: [3, 5], gt: [2, 3, 3]\n"
     ]
    },
    {
     "name": "stderr",
     "output_type": "stream",
     "text": [
      "Chunks: 100%|██████████| 7/7 [00:00<00:00,  7.20it/s]\n",
      "1244it [27:12,  1.27s/it]"
     ]
    },
    {
     "name": "stdout",
     "output_type": "stream",
     "text": [
      "pred: [14, 2, 2, 8, 2, 1, 6], gt: [3, 6, 21, 5]\n"
     ]
    },
    {
     "name": "stderr",
     "output_type": "stream",
     "text": [
      "Chunks: 100%|██████████| 7/7 [00:01<00:00,  6.56it/s]\n",
      "1245it [27:13,  1.22s/it]"
     ]
    },
    {
     "name": "stdout",
     "output_type": "stream",
     "text": [
      "pred: [2, 6, 6, 5], gt: [1, 5, 7, 6]\n"
     ]
    },
    {
     "name": "stderr",
     "output_type": "stream",
     "text": [
      "Chunks: 100%|██████████| 7/7 [00:00<00:00,  8.87it/s]\n",
      "1246it [27:14,  1.10s/it]"
     ]
    },
    {
     "name": "stdout",
     "output_type": "stream",
     "text": [
      "pred: [2, 7, 4], gt: [1, 4, 4, 4]\n"
     ]
    },
    {
     "name": "stderr",
     "output_type": "stream",
     "text": [
      "Chunks: 100%|██████████| 5/5 [00:01<00:00,  3.04it/s]\n",
      "1247it [27:16,  1.27s/it]"
     ]
    },
    {
     "name": "stdout",
     "output_type": "stream",
     "text": [
      "pred: [2, 7], gt: [1, 3, 2, 3]\n"
     ]
    },
    {
     "name": "stderr",
     "output_type": "stream",
     "text": [
      "Chunks: 100%|██████████| 5/5 [00:00<00:00,  9.81it/s]\n",
      "1248it [27:16,  1.05s/it]"
     ]
    },
    {
     "name": "stdout",
     "output_type": "stream",
     "text": [
      "pred: [6, 3], gt: [4, 3, 2]\n"
     ]
    },
    {
     "name": "stderr",
     "output_type": "stream",
     "text": [
      "Chunks: 100%|██████████| 5/5 [00:01<00:00,  2.83it/s]\n",
      "1249it [27:18,  1.27s/it]"
     ]
    },
    {
     "name": "stdout",
     "output_type": "stream",
     "text": [
      "pred: [5], gt: [2, 2, 1]\n"
     ]
    },
    {
     "name": "stderr",
     "output_type": "stream",
     "text": [
      "Chunks: 100%|██████████| 8/8 [00:01<00:00,  4.68it/s]\n",
      "1250it [27:20,  1.41s/it]"
     ]
    },
    {
     "name": "stdout",
     "output_type": "stream",
     "text": [
      "pred: [1, 5, 1, 5, 14, 3], gt: [2, 8, 8, 11]\n"
     ]
    },
    {
     "name": "stderr",
     "output_type": "stream",
     "text": [
      "Chunks: 100%|██████████| 5/5 [00:00<00:00,  7.64it/s]\n",
      "1251it [27:21,  1.19s/it]"
     ]
    },
    {
     "name": "stdout",
     "output_type": "stream",
     "text": [
      "pred: [5, 5], gt: [1, 2, 2, 2, 3]\n"
     ]
    },
    {
     "name": "stderr",
     "output_type": "stream",
     "text": [
      "Chunks: 100%|██████████| 7/7 [00:01<00:00,  4.27it/s]\n",
      "1252it [27:22,  1.34s/it]"
     ]
    },
    {
     "name": "stdout",
     "output_type": "stream",
     "text": [
      "pred: [11, 1, 4, 5], gt: [2, 6, 5, 8]\n"
     ]
    },
    {
     "name": "stderr",
     "output_type": "stream",
     "text": [
      "Chunks: 100%|██████████| 6/6 [00:00<00:00,  8.62it/s]\n",
      "1253it [27:23,  1.15s/it]"
     ]
    },
    {
     "name": "stdout",
     "output_type": "stream",
     "text": [
      "pred: [1, 2, 4, 10], gt: [1, 5, 6, 5]\n"
     ]
    },
    {
     "name": "stderr",
     "output_type": "stream",
     "text": [
      "Chunks: 100%|██████████| 7/7 [00:01<00:00,  5.92it/s]\n",
      "1254it [27:24,  1.17s/it]"
     ]
    },
    {
     "name": "stdout",
     "output_type": "stream",
     "text": [
      "pred: [4, 6, 4], gt: [1, 5, 5, 3]\n"
     ]
    },
    {
     "name": "stderr",
     "output_type": "stream",
     "text": [
      "Chunks: 100%|██████████| 8/8 [00:00<00:00,  8.60it/s]\n",
      "1255it [27:25,  1.11s/it]"
     ]
    },
    {
     "name": "stdout",
     "output_type": "stream",
     "text": [
      "pred: [3, 5, 2, 1, 13], gt: [1, 4, 3, 3, 2, 3, 3, 5]\n"
     ]
    },
    {
     "name": "stderr",
     "output_type": "stream",
     "text": [
      "Chunks: 100%|██████████| 5/5 [00:00<00:00,  5.54it/s]\n",
      "1256it [27:26,  1.06s/it]"
     ]
    },
    {
     "name": "stdout",
     "output_type": "stream",
     "text": [
      "pred: [7, 3], gt: [1, 3, 3, 3]\n"
     ]
    },
    {
     "name": "stderr",
     "output_type": "stream",
     "text": [
      "Chunks: 100%|██████████| 7/7 [00:03<00:00,  2.12it/s]\n",
      "1257it [27:29,  1.75s/it]"
     ]
    },
    {
     "name": "stdout",
     "output_type": "stream",
     "text": [
      "pred: [2, 8, 12, 3], gt: [2, 7, 6, 6, 4]\n"
     ]
    },
    {
     "name": "stderr",
     "output_type": "stream",
     "text": [
      "Chunks: 100%|██████████| 7/7 [00:01<00:00,  6.12it/s]\n",
      "1258it [27:31,  1.58s/it]"
     ]
    },
    {
     "name": "stdout",
     "output_type": "stream",
     "text": [
      "pred: [15, 1, 1, 2, 6], gt: [1, 10, 7, 7]\n"
     ]
    },
    {
     "name": "stderr",
     "output_type": "stream",
     "text": [
      "Chunks: 100%|██████████| 7/7 [00:00<00:00,  7.08it/s]\n",
      "1259it [27:32,  1.41s/it]"
     ]
    },
    {
     "name": "stdout",
     "output_type": "stream",
     "text": [
      "pred: [6, 9, 2, 3, 2, 6], gt: [1, 5, 5, 4, 5, 4, 4]\n"
     ]
    },
    {
     "name": "stderr",
     "output_type": "stream",
     "text": [
      "Chunks: 100%|██████████| 4/4 [00:00<00:00,  8.78it/s]\n",
      "1260it [27:32,  1.13s/it]"
     ]
    },
    {
     "name": "stdout",
     "output_type": "stream",
     "text": [
      "pred: [4], gt: [1, 1, 2]\n"
     ]
    },
    {
     "name": "stderr",
     "output_type": "stream",
     "text": [
      "Chunks: 100%|██████████| 6/6 [00:01<00:00,  4.04it/s]\n",
      "1261it [27:34,  1.25s/it]"
     ]
    },
    {
     "name": "stdout",
     "output_type": "stream",
     "text": [
      "pred: [2, 1, 7, 7], gt: [3, 4, 5, 5]\n"
     ]
    },
    {
     "name": "stderr",
     "output_type": "stream",
     "text": [
      "Chunks: 100%|██████████| 6/6 [00:01<00:00,  4.65it/s]\n",
      "1262it [27:35,  1.27s/it]"
     ]
    },
    {
     "name": "stdout",
     "output_type": "stream",
     "text": [
      "pred: [1, 1, 11, 5], gt: [1, 5, 6, 6]\n"
     ]
    },
    {
     "name": "stderr",
     "output_type": "stream",
     "text": [
      "Chunks: 100%|██████████| 8/8 [00:00<00:00,  8.24it/s]\n",
      "1263it [27:36,  1.19s/it]"
     ]
    },
    {
     "name": "stdout",
     "output_type": "stream",
     "text": [
      "pred: [6, 5, 11, 2], gt: [1, 4, 5, 6, 8]\n"
     ]
    },
    {
     "name": "stderr",
     "output_type": "stream",
     "text": [
      "Chunks: 100%|██████████| 5/5 [00:00<00:00,  7.51it/s]\n",
      "1264it [27:37,  1.04s/it]"
     ]
    },
    {
     "name": "stdout",
     "output_type": "stream",
     "text": [
      "pred: [2, 8], gt: [1, 3, 6]\n"
     ]
    },
    {
     "name": "stderr",
     "output_type": "stream",
     "text": [
      "Chunks: 100%|██████████| 8/8 [00:01<00:00,  6.69it/s]\n",
      "1265it [27:38,  1.09s/it]"
     ]
    },
    {
     "name": "stdout",
     "output_type": "stream",
     "text": [
      "pred: [1, 9, 6], gt: [1, 1, 2, 3, 2, 2, 2, 3]\n"
     ]
    },
    {
     "name": "stderr",
     "output_type": "stream",
     "text": [
      "Chunks: 100%|██████████| 7/7 [00:00<00:00, 11.85it/s]\n",
      "1266it [27:39,  1.05it/s]"
     ]
    },
    {
     "name": "stdout",
     "output_type": "stream",
     "text": [
      "pred: [8, 4, 2], gt: [1, 8, 5]\n"
     ]
    },
    {
     "name": "stderr",
     "output_type": "stream",
     "text": [
      "Chunks: 100%|██████████| 7/7 [00:01<00:00,  5.90it/s]\n",
      "1267it [27:40,  1.03s/it]"
     ]
    },
    {
     "name": "stdout",
     "output_type": "stream",
     "text": [
      "pred: [8, 3, 2], gt: [2, 7, 4]\n"
     ]
    },
    {
     "name": "stderr",
     "output_type": "stream",
     "text": [
      "Chunks: 100%|██████████| 6/6 [00:01<00:00,  3.99it/s]\n",
      "1268it [27:41,  1.18s/it]"
     ]
    },
    {
     "name": "stdout",
     "output_type": "stream",
     "text": [
      "pred: [6], gt: [1, 2, 1, 1, 1]\n"
     ]
    },
    {
     "name": "stderr",
     "output_type": "stream",
     "text": [
      "Chunks: 100%|██████████| 6/6 [00:00<00:00,  6.78it/s]\n",
      "1269it [27:42,  1.10s/it]"
     ]
    },
    {
     "name": "stdout",
     "output_type": "stream",
     "text": [
      "pred: [8, 3], gt: [1, 4, 3, 3]\n"
     ]
    },
    {
     "name": "stderr",
     "output_type": "stream",
     "text": [
      "Chunks: 100%|██████████| 6/6 [00:00<00:00, 10.01it/s]\n",
      "1270it [27:43,  1.05it/s]"
     ]
    },
    {
     "name": "stdout",
     "output_type": "stream",
     "text": [
      "pred: [6], gt: [4, 2]\n"
     ]
    },
    {
     "name": "stderr",
     "output_type": "stream",
     "text": [
      "Chunks: 100%|██████████| 7/7 [00:01<00:00,  6.91it/s]\n",
      "1271it [27:44,  1.02it/s]"
     ]
    },
    {
     "name": "stdout",
     "output_type": "stream",
     "text": [
      "pred: [9, 6, 2, 2, 6, 3], gt: [16, 12]\n"
     ]
    },
    {
     "name": "stderr",
     "output_type": "stream",
     "text": [
      "Chunks: 100%|██████████| 7/7 [00:01<00:00,  4.86it/s]\n",
      "1272it [27:45,  1.13s/it]"
     ]
    },
    {
     "name": "stdout",
     "output_type": "stream",
     "text": [
      "pred: [5, 2], gt: [1, 2, 2, 1, 1]\n"
     ]
    },
    {
     "name": "stderr",
     "output_type": "stream",
     "text": [
      "Chunks: 100%|██████████| 8/8 [00:00<00:00,  8.30it/s]\n",
      "1273it [27:46,  1.09s/it]"
     ]
    },
    {
     "name": "stdout",
     "output_type": "stream",
     "text": [
      "pred: [4, 8, 4, 7, 1], gt: [3, 21]\n"
     ]
    },
    {
     "name": "stderr",
     "output_type": "stream",
     "text": [
      "Chunks: 100%|██████████| 8/8 [00:01<00:00,  4.07it/s]\n",
      "1274it [27:48,  1.36s/it]"
     ]
    },
    {
     "name": "stdout",
     "output_type": "stream",
     "text": [
      "pred: [9, 2, 4], gt: [3, 4, 4, 4]\n"
     ]
    },
    {
     "name": "stderr",
     "output_type": "stream",
     "text": [
      "Chunks: 100%|██████████| 7/7 [00:00<00:00,  9.42it/s]\n",
      "1275it [27:49,  1.18s/it]"
     ]
    },
    {
     "name": "stdout",
     "output_type": "stream",
     "text": [
      "pred: [1, 7, 11, 1], gt: [2, 6, 6, 6]\n"
     ]
    },
    {
     "name": "stderr",
     "output_type": "stream",
     "text": [
      "Chunks: 100%|██████████| 3/3 [00:00<00:00,  3.82it/s]\n",
      "1276it [27:50,  1.07s/it]"
     ]
    },
    {
     "name": "stdout",
     "output_type": "stream",
     "text": [
      "pred: [3], gt: [1, 1, 1]\n"
     ]
    },
    {
     "name": "stderr",
     "output_type": "stream",
     "text": [
      "Chunks: 100%|██████████| 5/5 [00:00<00:00,  5.46it/s]\n",
      "1277it [27:51,  1.03s/it]"
     ]
    },
    {
     "name": "stdout",
     "output_type": "stream",
     "text": [
      "pred: [5], gt: [2, 3]\n"
     ]
    },
    {
     "name": "stderr",
     "output_type": "stream",
     "text": [
      "Chunks: 100%|██████████| 6/6 [00:00<00:00,  6.25it/s]\n",
      "1278it [27:52,  1.01s/it]"
     ]
    },
    {
     "name": "stdout",
     "output_type": "stream",
     "text": [
      "pred: [3, 8], gt: [2, 3, 2, 4]\n"
     ]
    },
    {
     "name": "stderr",
     "output_type": "stream",
     "text": [
      "Chunks: 100%|██████████| 6/6 [00:00<00:00, 10.43it/s]\n",
      "1279it [27:52,  1.13it/s]"
     ]
    },
    {
     "name": "stdout",
     "output_type": "stream",
     "text": [
      "pred: [2, 4, 5, 6], gt: [1, 4, 5, 4, 3]\n"
     ]
    },
    {
     "name": "stderr",
     "output_type": "stream",
     "text": [
      "Chunks: 100%|██████████| 8/8 [00:01<00:00,  6.54it/s]\n",
      "1280it [27:54,  1.01it/s]"
     ]
    },
    {
     "name": "stdout",
     "output_type": "stream",
     "text": [
      "pred: [6, 2], gt: [4, 4]\n"
     ]
    },
    {
     "name": "stderr",
     "output_type": "stream",
     "text": [
      "Chunks: 100%|██████████| 5/5 [00:00<00:00,  6.24it/s]\n",
      "1281it [27:54,  1.06it/s]"
     ]
    },
    {
     "name": "stdout",
     "output_type": "stream",
     "text": [
      "pred: [4, 6], gt: [1, 2, 4, 3]\n"
     ]
    },
    {
     "name": "stderr",
     "output_type": "stream",
     "text": [
      "Chunks: 100%|██████████| 5/5 [00:01<00:00,  2.85it/s]\n",
      "1282it [27:56,  1.19s/it]"
     ]
    },
    {
     "name": "stdout",
     "output_type": "stream",
     "text": [
      "pred: [7, 3], gt: [1, 3, 2, 2, 2]\n"
     ]
    },
    {
     "name": "stderr",
     "output_type": "stream",
     "text": [
      "Chunks: 100%|██████████| 3/3 [00:00<00:00,  4.02it/s]\n",
      "1283it [27:57,  1.06s/it]"
     ]
    },
    {
     "name": "stdout",
     "output_type": "stream",
     "text": [
      "pred: [3], gt: [2, 1]\n"
     ]
    },
    {
     "name": "stderr",
     "output_type": "stream",
     "text": [
      "Chunks: 100%|██████████| 8/8 [00:01<00:00,  7.64it/s]\n",
      "1284it [27:58,  1.07s/it]"
     ]
    },
    {
     "name": "stdout",
     "output_type": "stream",
     "text": [
      "pred: [10, 2, 2, 3, 6], gt: [3, 8, 7, 5]\n"
     ]
    },
    {
     "name": "stderr",
     "output_type": "stream",
     "text": [
      "Chunks: 100%|██████████| 4/4 [00:01<00:00,  2.83it/s]\n",
      "1285it [27:59,  1.18s/it]"
     ]
    },
    {
     "name": "stdout",
     "output_type": "stream",
     "text": [
      "pred: [4], gt: [1, 1, 1, 1]\n"
     ]
    },
    {
     "name": "stderr",
     "output_type": "stream",
     "text": [
      "Chunks: 100%|██████████| 8/8 [00:01<00:00,  4.53it/s]\n",
      "1286it [28:01,  1.36s/it]"
     ]
    },
    {
     "name": "stdout",
     "output_type": "stream",
     "text": [
      "pred: [5, 3], gt: [4, 4]\n"
     ]
    },
    {
     "name": "stderr",
     "output_type": "stream",
     "text": [
      "Chunks: 100%|██████████| 7/7 [00:01<00:00,  6.77it/s]\n",
      "1287it [28:02,  1.27s/it]"
     ]
    },
    {
     "name": "stdout",
     "output_type": "stream",
     "text": [
      "pred: [2, 6, 6], gt: [1, 5, 4, 4]\n"
     ]
    },
    {
     "name": "stderr",
     "output_type": "stream",
     "text": [
      "Chunks: 100%|██████████| 8/8 [00:03<00:00,  2.42it/s]\n",
      "1288it [28:06,  1.89s/it]"
     ]
    },
    {
     "name": "stdout",
     "output_type": "stream",
     "text": [
      "pred: [10, 7, 1, 7, 2, 2], gt: [1, 8, 8, 6, 6]\n"
     ]
    },
    {
     "name": "stderr",
     "output_type": "stream",
     "text": [
      "Chunks: 100%|██████████| 7/7 [00:00<00:00,  9.11it/s]\n",
      "1289it [28:06,  1.56s/it]"
     ]
    },
    {
     "name": "stdout",
     "output_type": "stream",
     "text": [
      "pred: [14, 4, 2, 3, 3, 1], gt: [1, 6, 12, 8]\n"
     ]
    },
    {
     "name": "stderr",
     "output_type": "stream",
     "text": [
      "Chunks: 100%|██████████| 8/8 [00:00<00:00, 13.68it/s]\n",
      "1290it [28:07,  1.27s/it]"
     ]
    },
    {
     "name": "stdout",
     "output_type": "stream",
     "text": [
      "pred: [6, 2], gt: [2, 4, 2]\n"
     ]
    },
    {
     "name": "stderr",
     "output_type": "stream",
     "text": [
      "Chunks: 100%|██████████| 7/7 [00:01<00:00,  4.28it/s]\n",
      "1291it [28:09,  1.39s/it]"
     ]
    },
    {
     "name": "stdout",
     "output_type": "stream",
     "text": [
      "pred: [7, 2, 7, 5], gt: [1, 7, 7, 6]\n"
     ]
    },
    {
     "name": "stderr",
     "output_type": "stream",
     "text": [
      "Chunks: 100%|██████████| 8/8 [00:03<00:00,  2.61it/s]\n",
      "1292it [28:12,  1.90s/it]"
     ]
    },
    {
     "name": "stdout",
     "output_type": "stream",
     "text": [
      "pred: [1, 3, 8, 7, 4], gt: [3, 4, 6, 6, 4]\n"
     ]
    },
    {
     "name": "stderr",
     "output_type": "stream",
     "text": [
      "Chunks: 100%|██████████| 5/5 [00:00<00:00,  5.46it/s]\n",
      "1293it [28:13,  1.62s/it]"
     ]
    },
    {
     "name": "stdout",
     "output_type": "stream",
     "text": [
      "pred: [3, 7], gt: [1, 3, 3, 3]\n"
     ]
    },
    {
     "name": "stderr",
     "output_type": "stream",
     "text": [
      "Chunks: 100%|██████████| 8/8 [00:03<00:00,  2.36it/s]\n",
      "1294it [28:16,  2.16s/it]"
     ]
    },
    {
     "name": "stdout",
     "output_type": "stream",
     "text": [
      "pred: [6, 2], gt: [2, 1, 2, 3]\n"
     ]
    },
    {
     "name": "stderr",
     "output_type": "stream",
     "text": [
      "Chunks: 100%|██████████| 4/4 [00:00<00:00,  8.79it/s]\n",
      "1295it [28:17,  1.65s/it]"
     ]
    },
    {
     "name": "stdout",
     "output_type": "stream",
     "text": [
      "pred: [4], gt: [2, 2]\n"
     ]
    },
    {
     "name": "stderr",
     "output_type": "stream",
     "text": [
      "Chunks: 100%|██████████| 7/7 [00:01<00:00,  4.13it/s]\n",
      "1296it [28:18,  1.67s/it]"
     ]
    },
    {
     "name": "stdout",
     "output_type": "stream",
     "text": [
      "pred: [2, 6, 7, 2, 8, 1, 8], gt: [1, 4, 3, 2, 3, 4, 2, 5, 2, 5, 3]\n"
     ]
    },
    {
     "name": "stderr",
     "output_type": "stream",
     "text": [
      "Chunks: 100%|██████████| 8/8 [00:01<00:00,  7.38it/s]\n",
      "1297it [28:20,  1.50s/it]"
     ]
    },
    {
     "name": "stdout",
     "output_type": "stream",
     "text": [
      "pred: [2, 6, 5, 3, 7], gt: [1, 6, 4, 7, 5]\n"
     ]
    },
    {
     "name": "stderr",
     "output_type": "stream",
     "text": [
      "Chunks: 100%|██████████| 7/7 [00:01<00:00,  4.99it/s]\n",
      "1298it [28:21,  1.49s/it]"
     ]
    },
    {
     "name": "stdout",
     "output_type": "stream",
     "text": [
      "pred: [2, 1, 12, 4], gt: [2, 6, 6, 5]\n"
     ]
    },
    {
     "name": "stderr",
     "output_type": "stream",
     "text": [
      "Chunks: 100%|██████████| 7/7 [00:01<00:00,  6.13it/s]\n",
      "1299it [28:22,  1.39s/it]"
     ]
    },
    {
     "name": "stdout",
     "output_type": "stream",
     "text": [
      "pred: [3, 12, 1, 4, 5], gt: [12, 13]\n"
     ]
    },
    {
     "name": "stderr",
     "output_type": "stream",
     "text": [
      "Chunks: 100%|██████████| 7/7 [00:00<00:00,  8.78it/s]\n",
      "1300it [28:23,  1.22s/it]"
     ]
    },
    {
     "name": "stdout",
     "output_type": "stream",
     "text": [
      "pred: [3, 2, 10, 6], gt: [2, 5, 7, 7]\n"
     ]
    },
    {
     "name": "stderr",
     "output_type": "stream",
     "text": [
      "Chunks: 100%|██████████| 5/5 [00:00<00:00,  6.85it/s]\n",
      "1301it [28:24,  1.08s/it]"
     ]
    },
    {
     "name": "stdout",
     "output_type": "stream",
     "text": [
      "pred: [5], gt: [1, 1, 1, 1, 1]\n"
     ]
    },
    {
     "name": "stderr",
     "output_type": "stream",
     "text": [
      "Chunks: 100%|██████████| 6/6 [00:01<00:00,  4.21it/s]\n",
      "1302it [28:25,  1.19s/it]"
     ]
    },
    {
     "name": "stdout",
     "output_type": "stream",
     "text": [
      "pred: [6, 5], gt: [2, 3, 3, 3]\n"
     ]
    },
    {
     "name": "stderr",
     "output_type": "stream",
     "text": [
      "Chunks: 100%|██████████| 5/5 [00:01<00:00,  3.24it/s]\n",
      "1303it [28:27,  1.30s/it]"
     ]
    },
    {
     "name": "stdout",
     "output_type": "stream",
     "text": [
      "pred: [8, 1], gt: [1, 2, 2, 4]\n"
     ]
    },
    {
     "name": "stderr",
     "output_type": "stream",
     "text": [
      "Chunks: 100%|██████████| 7/7 [00:00<00:00,  7.84it/s]\n",
      "1304it [28:28,  1.19s/it]"
     ]
    },
    {
     "name": "stdout",
     "output_type": "stream",
     "text": [
      "pred: [7, 2, 2, 2, 6, 12, 3], gt: [4, 5, 9, 4, 12]\n"
     ]
    },
    {
     "name": "stderr",
     "output_type": "stream",
     "text": [
      "Chunks: 100%|██████████| 8/8 [00:01<00:00,  5.02it/s]\n",
      "1305it [28:29,  1.32s/it]"
     ]
    },
    {
     "name": "stdout",
     "output_type": "stream",
     "text": [
      "pred: [1, 8, 5, 1, 7, 1, 9], gt: [3, 10, 8, 11]\n"
     ]
    },
    {
     "name": "stderr",
     "output_type": "stream",
     "text": [
      "Chunks: 100%|██████████| 8/8 [00:02<00:00,  2.97it/s]\n",
      "1306it [28:32,  1.74s/it]"
     ]
    },
    {
     "name": "stdout",
     "output_type": "stream",
     "text": [
      "pred: [2, 2, 11], gt: [4, 5, 6]\n"
     ]
    },
    {
     "name": "stderr",
     "output_type": "stream",
     "text": [
      "Chunks: 100%|██████████| 8/8 [00:01<00:00,  5.49it/s]\n",
      "1307it [28:33,  1.67s/it]"
     ]
    },
    {
     "name": "stdout",
     "output_type": "stream",
     "text": [
      "pred: [2, 7, 5, 3, 7, 5], gt: [2, 5, 7, 5, 5, 5]\n"
     ]
    },
    {
     "name": "stderr",
     "output_type": "stream",
     "text": [
      "Chunks: 100%|██████████| 5/5 [00:00<00:00,  5.96it/s]\n",
      "1308it [28:34,  1.42s/it]"
     ]
    },
    {
     "name": "stdout",
     "output_type": "stream",
     "text": [
      "pred: [1, 9], gt: [2, 8]\n"
     ]
    },
    {
     "name": "stderr",
     "output_type": "stream",
     "text": [
      "Chunks: 100%|██████████| 7/7 [00:01<00:00,  4.17it/s]\n",
      "1309it [28:36,  1.51s/it]"
     ]
    },
    {
     "name": "stdout",
     "output_type": "stream",
     "text": [
      "pred: [6, 7, 1], gt: [1, 5, 2, 6]\n"
     ]
    },
    {
     "name": "stderr",
     "output_type": "stream",
     "text": [
      "Chunks: 100%|██████████| 6/6 [00:00<00:00,  7.09it/s]\n",
      "1310it [28:37,  1.32s/it]"
     ]
    },
    {
     "name": "stdout",
     "output_type": "stream",
     "text": [
      "pred: [6, 5], gt: [1, 2, 5, 3]\n"
     ]
    },
    {
     "name": "stderr",
     "output_type": "stream",
     "text": [
      "Chunks: 100%|██████████| 8/8 [00:00<00:00,  9.63it/s]\n",
      "1311it [28:38,  1.18s/it]"
     ]
    },
    {
     "name": "stdout",
     "output_type": "stream",
     "text": [
      "pred: [6, 2], gt: [3, 2, 3]\n"
     ]
    },
    {
     "name": "stderr",
     "output_type": "stream",
     "text": [
      "Chunks: 100%|██████████| 6/6 [00:01<00:00,  4.31it/s]\n",
      "1312it [28:39,  1.25s/it]"
     ]
    },
    {
     "name": "stdout",
     "output_type": "stream",
     "text": [
      "pred: [1, 1, 10], gt: [3, 4, 5]\n"
     ]
    },
    {
     "name": "stderr",
     "output_type": "stream",
     "text": [
      "Chunks: 100%|██████████| 3/3 [00:01<00:00,  2.97it/s]\n",
      "1313it [28:40,  1.18s/it]"
     ]
    },
    {
     "name": "stdout",
     "output_type": "stream",
     "text": [
      "pred: [3], gt: [1, 1, 1]\n"
     ]
    },
    {
     "name": "stderr",
     "output_type": "stream",
     "text": [
      "Chunks: 100%|██████████| 6/6 [00:00<00:00,  9.91it/s]\n",
      "1314it [28:41,  1.01s/it]"
     ]
    },
    {
     "name": "stdout",
     "output_type": "stream",
     "text": [
      "pred: [9, 2], gt: [1, 3, 3, 4]\n"
     ]
    },
    {
     "name": "stderr",
     "output_type": "stream",
     "text": [
      "Chunks: 100%|██████████| 5/5 [00:01<00:00,  2.66it/s]\n",
      "1315it [28:43,  1.28s/it]"
     ]
    },
    {
     "name": "stdout",
     "output_type": "stream",
     "text": [
      "pred: [1, 9], gt: [1, 4, 3, 2]\n"
     ]
    },
    {
     "name": "stderr",
     "output_type": "stream",
     "text": [
      "Chunks: 100%|██████████| 7/7 [00:00<00:00,  8.86it/s]\n",
      "1316it [28:44,  1.14s/it]"
     ]
    },
    {
     "name": "stdout",
     "output_type": "stream",
     "text": [
      "pred: [8, 1, 4], gt: [1, 4, 3, 5]\n"
     ]
    },
    {
     "name": "stderr",
     "output_type": "stream",
     "text": [
      "Chunks: 100%|██████████| 7/7 [00:00<00:00,  8.77it/s]\n",
      "1317it [28:44,  1.05s/it]"
     ]
    },
    {
     "name": "stdout",
     "output_type": "stream",
     "text": [
      "pred: [1, 1, 5, 13, 5], gt: [1, 8, 5, 6, 5]\n"
     ]
    },
    {
     "name": "stderr",
     "output_type": "stream",
     "text": [
      "Chunks: 100%|██████████| 8/8 [00:02<00:00,  3.00it/s]\n",
      "1318it [28:47,  1.54s/it]"
     ]
    },
    {
     "name": "stdout",
     "output_type": "stream",
     "text": [
      "pred: [7, 9, 2, 2, 2], gt: [1, 5, 4, 4, 8]\n"
     ]
    },
    {
     "name": "stderr",
     "output_type": "stream",
     "text": [
      "Chunks: 100%|██████████| 6/6 [00:01<00:00,  4.08it/s]\n",
      "1319it [28:49,  1.53s/it]"
     ]
    },
    {
     "name": "stdout",
     "output_type": "stream",
     "text": [
      "pred: [1, 1, 1, 14], gt: [2, 4, 5, 6]\n"
     ]
    },
    {
     "name": "stderr",
     "output_type": "stream",
     "text": [
      "Chunks: 100%|██████████| 8/8 [00:00<00:00,  8.42it/s]\n",
      "1320it [28:50,  1.36s/it]"
     ]
    },
    {
     "name": "stdout",
     "output_type": "stream",
     "text": [
      "pred: [6, 2], gt: [1, 2, 2, 3]\n"
     ]
    },
    {
     "name": "stderr",
     "output_type": "stream",
     "text": [
      "Chunks: 100%|██████████| 7/7 [00:00<00:00,  7.23it/s]\n",
      "1321it [28:51,  1.25s/it]"
     ]
    },
    {
     "name": "stdout",
     "output_type": "stream",
     "text": [
      "pred: [9, 5, 4, 6, 3, 1], gt: [2, 7, 8, 11]\n"
     ]
    },
    {
     "name": "stderr",
     "output_type": "stream",
     "text": [
      "Chunks: 100%|██████████| 7/7 [00:00<00:00, 11.35it/s]\n",
      "1322it [28:51,  1.07s/it]"
     ]
    },
    {
     "name": "stdout",
     "output_type": "stream",
     "text": [
      "pred: [4, 7, 2], gt: [1, 2, 2, 2, 2, 1, 3]\n"
     ]
    },
    {
     "name": "stderr",
     "output_type": "stream",
     "text": [
      "Chunks: 100%|██████████| 6/6 [00:00<00:00,  9.31it/s]\n",
      "1323it [28:52,  1.06it/s]"
     ]
    },
    {
     "name": "stdout",
     "output_type": "stream",
     "text": [
      "pred: [6], gt: [2, 2, 2]\n"
     ]
    },
    {
     "name": "stderr",
     "output_type": "stream",
     "text": [
      "Chunks: 100%|██████████| 7/7 [00:02<00:00,  3.29it/s]\n",
      "1324it [28:54,  1.30s/it]"
     ]
    },
    {
     "name": "stdout",
     "output_type": "stream",
     "text": [
      "pred: [2, 6, 6], gt: [2, 2, 3, 7]\n"
     ]
    },
    {
     "name": "stderr",
     "output_type": "stream",
     "text": [
      "Chunks: 100%|██████████| 7/7 [00:01<00:00,  6.69it/s]\n",
      "1325it [28:55,  1.24s/it]"
     ]
    },
    {
     "name": "stdout",
     "output_type": "stream",
     "text": [
      "pred: [2, 10, 3, 4, 7], gt: [3, 7, 8, 8]\n"
     ]
    },
    {
     "name": "stderr",
     "output_type": "stream",
     "text": [
      "Chunks: 100%|██████████| 6/6 [00:01<00:00,  5.61it/s]\n",
      "1326it [28:56,  1.20s/it]"
     ]
    },
    {
     "name": "stdout",
     "output_type": "stream",
     "text": [
      "pred: [2, 11, 1, 4], gt: [1, 6, 5, 6]\n"
     ]
    },
    {
     "name": "stderr",
     "output_type": "stream",
     "text": [
      "Chunks: 100%|██████████| 8/8 [00:01<00:00,  4.14it/s]\n",
      "1327it [28:58,  1.42s/it]"
     ]
    },
    {
     "name": "stdout",
     "output_type": "stream",
     "text": [
      "pred: [1, 4, 11], gt: [1, 3, 4, 3, 3, 2]\n"
     ]
    },
    {
     "name": "stderr",
     "output_type": "stream",
     "text": [
      "Chunks: 100%|██████████| 6/6 [00:00<00:00,  6.19it/s]\n",
      "1328it [28:59,  1.29s/it]"
     ]
    },
    {
     "name": "stdout",
     "output_type": "stream",
     "text": [
      "pred: [8, 1, 3], gt: [3, 5, 4]\n"
     ]
    },
    {
     "name": "stderr",
     "output_type": "stream",
     "text": [
      "Chunks: 100%|██████████| 7/7 [00:00<00:00, 11.64it/s]\n",
      "1329it [29:00,  1.09s/it]"
     ]
    },
    {
     "name": "stdout",
     "output_type": "stream",
     "text": [
      "pred: [9, 2, 6, 4], gt: [2, 7, 6, 6]\n"
     ]
    },
    {
     "name": "stderr",
     "output_type": "stream",
     "text": [
      "Chunks: 100%|██████████| 8/8 [00:00<00:00,  8.57it/s]\n",
      "1330it [29:01,  1.05s/it]"
     ]
    },
    {
     "name": "stdout",
     "output_type": "stream",
     "text": [
      "pred: [10, 3, 2], gt: [1, 4, 5, 5]\n"
     ]
    },
    {
     "name": "stderr",
     "output_type": "stream",
     "text": [
      "Chunks: 100%|██████████| 8/8 [00:04<00:00,  1.78it/s]\n",
      "1331it [29:05,  2.09s/it]"
     ]
    },
    {
     "name": "stdout",
     "output_type": "stream",
     "text": [
      "pred: [5, 4, 3, 5, 5], gt: [3, 9, 5, 5]\n"
     ]
    },
    {
     "name": "stderr",
     "output_type": "stream",
     "text": [
      "Chunks: 100%|██████████| 6/6 [00:00<00:00,  7.05it/s]\n",
      "1332it [29:06,  1.73s/it]"
     ]
    },
    {
     "name": "stdout",
     "output_type": "stream",
     "text": [
      "pred: [5, 6], gt: [1, 2, 2, 1, 2, 2, 1]\n"
     ]
    },
    {
     "name": "stderr",
     "output_type": "stream",
     "text": [
      "Chunks: 100%|██████████| 6/6 [00:02<00:00,  2.65it/s]\n",
      "1333it [29:08,  1.89s/it]"
     ]
    },
    {
     "name": "stdout",
     "output_type": "stream",
     "text": [
      "pred: [7, 4], gt: [2, 2, 4, 3]\n"
     ]
    },
    {
     "name": "stderr",
     "output_type": "stream",
     "text": [
      "Chunks: 100%|██████████| 7/7 [00:00<00:00, 10.56it/s]\n",
      "1334it [29:09,  1.53s/it]"
     ]
    },
    {
     "name": "stdout",
     "output_type": "stream",
     "text": [
      "pred: [7, 4, 3, 5], gt: [2, 4, 4, 9]\n"
     ]
    },
    {
     "name": "stderr",
     "output_type": "stream",
     "text": [
      "Chunks: 100%|██████████| 6/6 [00:01<00:00,  4.17it/s]\n",
      "1335it [29:11,  1.51s/it]"
     ]
    },
    {
     "name": "stdout",
     "output_type": "stream",
     "text": [
      "pred: [6, 2, 4], gt: [1, 5, 1, 5]\n"
     ]
    },
    {
     "name": "stderr",
     "output_type": "stream",
     "text": [
      "Chunks: 100%|██████████| 7/7 [00:00<00:00,  7.39it/s]\n",
      "1336it [29:11,  1.35s/it]"
     ]
    },
    {
     "name": "stdout",
     "output_type": "stream",
     "text": [
      "pred: [2, 4, 5, 8], gt: [2, 4, 5, 4, 4]\n"
     ]
    },
    {
     "name": "stderr",
     "output_type": "stream",
     "text": [
      "Chunks: 100%|██████████| 8/8 [00:01<00:00,  6.96it/s]\n",
      "1337it [29:13,  1.30s/it]"
     ]
    },
    {
     "name": "stdout",
     "output_type": "stream",
     "text": [
      "pred: [3, 8, 4], gt: [2, 4, 4, 5]\n"
     ]
    },
    {
     "name": "stderr",
     "output_type": "stream",
     "text": [
      "Chunks: 100%|██████████| 7/7 [00:02<00:00,  3.02it/s]\n",
      "1338it [29:15,  1.61s/it]"
     ]
    },
    {
     "name": "stdout",
     "output_type": "stream",
     "text": [
      "pred: [1, 7, 8, 4], gt: [1, 6, 4, 4, 5]\n"
     ]
    },
    {
     "name": "stderr",
     "output_type": "stream",
     "text": [
      "Chunks: 100%|██████████| 8/8 [00:00<00:00,  8.28it/s]\n",
      "1339it [29:16,  1.42s/it]"
     ]
    },
    {
     "name": "stdout",
     "output_type": "stream",
     "text": [
      "pred: [3, 3, 2, 4, 10, 8], gt: [2, 5, 4, 4, 3, 4, 4, 4]\n"
     ]
    },
    {
     "name": "stderr",
     "output_type": "stream",
     "text": [
      "Chunks: 100%|██████████| 4/4 [00:00<00:00,  7.46it/s]\n",
      "1340it [29:17,  1.16s/it]"
     ]
    },
    {
     "name": "stdout",
     "output_type": "stream",
     "text": [
      "pred: [4], gt: [2, 2]\n"
     ]
    },
    {
     "name": "stderr",
     "output_type": "stream",
     "text": [
      "Chunks: 100%|██████████| 5/5 [00:03<00:00,  1.29it/s]\n",
      "1341it [29:20,  1.98s/it]"
     ]
    },
    {
     "name": "stdout",
     "output_type": "stream",
     "text": [
      "pred: [3, 6], gt: [3, 2, 4]\n"
     ]
    },
    {
     "name": "stderr",
     "output_type": "stream",
     "text": [
      "Chunks: 100%|██████████| 8/8 [00:03<00:00,  2.12it/s]\n",
      "1342it [29:24,  2.52s/it]"
     ]
    },
    {
     "name": "stdout",
     "output_type": "stream",
     "text": [
      "pred: [5, 3], gt: [1, 2, 3, 2]\n"
     ]
    },
    {
     "name": "stderr",
     "output_type": "stream",
     "text": [
      "Chunks: 100%|██████████| 7/7 [00:00<00:00, 11.67it/s]\n",
      "1343it [29:25,  1.95s/it]"
     ]
    },
    {
     "name": "stdout",
     "output_type": "stream",
     "text": [
      "pred: [6, 1], gt: [3, 2, 2]\n"
     ]
    },
    {
     "name": "stderr",
     "output_type": "stream",
     "text": [
      "Chunks: 100%|██████████| 6/6 [00:00<00:00,  9.57it/s]\n",
      "1344it [29:25,  1.56s/it]"
     ]
    },
    {
     "name": "stdout",
     "output_type": "stream",
     "text": [
      "pred: [6], gt: [2, 2, 2]\n"
     ]
    },
    {
     "name": "stderr",
     "output_type": "stream",
     "text": [
      "Chunks: 100%|██████████| 6/6 [00:01<00:00,  5.78it/s]\n",
      "1345it [29:27,  1.41s/it]"
     ]
    },
    {
     "name": "stdout",
     "output_type": "stream",
     "text": [
      "pred: [1, 10, 3, 3], gt: [2, 7, 4, 4]\n"
     ]
    },
    {
     "name": "stderr",
     "output_type": "stream",
     "text": [
      "Chunks: 100%|██████████| 6/6 [00:00<00:00, 13.07it/s]\n",
      "1346it [29:27,  1.13s/it]"
     ]
    },
    {
     "name": "stdout",
     "output_type": "stream",
     "text": [
      "pred: [1, 10, 1], gt: [4, 3, 2, 3]\n"
     ]
    },
    {
     "name": "stderr",
     "output_type": "stream",
     "text": [
      "Chunks: 100%|██████████| 7/7 [00:01<00:00,  5.10it/s]\n",
      "1347it [29:28,  1.21s/it]"
     ]
    },
    {
     "name": "stdout",
     "output_type": "stream",
     "text": [
      "pred: [1, 4, 2, 4, 1, 16], gt: [3, 5, 7, 5, 6, 2]\n"
     ]
    },
    {
     "name": "stderr",
     "output_type": "stream",
     "text": [
      "Chunks: 100%|██████████| 8/8 [00:00<00:00, 12.02it/s]\n",
      "1348it [29:29,  1.06s/it]"
     ]
    },
    {
     "name": "stdout",
     "output_type": "stream",
     "text": [
      "pred: [1, 13, 3, 1, 5], gt: [2, 6, 6, 5, 4]\n"
     ]
    },
    {
     "name": "stderr",
     "output_type": "stream",
     "text": [
      "Chunks: 100%|██████████| 4/4 [00:00<00:00,  7.35it/s]\n",
      "1349it [29:30,  1.10it/s]"
     ]
    },
    {
     "name": "stdout",
     "output_type": "stream",
     "text": [
      "pred: [4], gt: [3, 1]\n"
     ]
    },
    {
     "name": "stderr",
     "output_type": "stream",
     "text": [
      "Chunks: 100%|██████████| 5/5 [00:00<00:00, 10.39it/s]\n",
      "1350it [29:30,  1.27it/s]"
     ]
    },
    {
     "name": "stdout",
     "output_type": "stream",
     "text": [
      "pred: [4, 6], gt: [5, 5]\n"
     ]
    },
    {
     "name": "stderr",
     "output_type": "stream",
     "text": [
      "Chunks: 100%|██████████| 5/5 [00:01<00:00,  4.11it/s]\n",
      "1351it [29:31,  1.08it/s]"
     ]
    },
    {
     "name": "stdout",
     "output_type": "stream",
     "text": [
      "pred: [1, 9], gt: [2, 3, 5]\n"
     ]
    },
    {
     "name": "stderr",
     "output_type": "stream",
     "text": [
      "Chunks: 100%|██████████| 5/5 [00:01<00:00,  2.73it/s]\n",
      "1352it [29:33,  1.20s/it]"
     ]
    },
    {
     "name": "stdout",
     "output_type": "stream",
     "text": [
      "pred: [4, 6], gt: [2, 2, 2, 2, 2]\n"
     ]
    },
    {
     "name": "stderr",
     "output_type": "stream",
     "text": [
      "Chunks: 100%|██████████| 6/6 [00:00<00:00,  8.69it/s]\n",
      "1353it [29:34,  1.05s/it]"
     ]
    },
    {
     "name": "stdout",
     "output_type": "stream",
     "text": [
      "pred: [6, 5, 1], gt: [1, 4, 7]\n"
     ]
    },
    {
     "name": "stderr",
     "output_type": "stream",
     "text": [
      "Chunks: 100%|██████████| 6/6 [00:02<00:00,  2.40it/s]\n",
      "1354it [29:36,  1.50s/it]"
     ]
    },
    {
     "name": "stdout",
     "output_type": "stream",
     "text": [
      "pred: [5, 6], gt: [1, 6, 4]\n"
     ]
    },
    {
     "name": "stderr",
     "output_type": "stream",
     "text": [
      "Chunks: 100%|██████████| 7/7 [00:00<00:00,  7.76it/s]\n",
      "1355it [29:37,  1.33s/it]"
     ]
    },
    {
     "name": "stdout",
     "output_type": "stream",
     "text": [
      "pred: [5, 14, 1, 1], gt: [1, 3, 4, 3, 3, 4, 3]\n"
     ]
    },
    {
     "name": "stderr",
     "output_type": "stream",
     "text": [
      "Chunks: 100%|██████████| 7/7 [00:02<00:00,  3.45it/s]\n",
      "1356it [29:39,  1.55s/it]"
     ]
    },
    {
     "name": "stdout",
     "output_type": "stream",
     "text": [
      "pred: [1, 8, 4], gt: [1, 3, 3, 2, 4]\n"
     ]
    },
    {
     "name": "stderr",
     "output_type": "stream",
     "text": [
      "Chunks: 100%|██████████| 8/8 [00:02<00:00,  3.04it/s]\n",
      "1357it [29:42,  1.89s/it]"
     ]
    },
    {
     "name": "stdout",
     "output_type": "stream",
     "text": [
      "pred: [4, 2, 3, 5, 3, 10, 7, 6], gt: [2, 15, 13, 10]\n"
     ]
    },
    {
     "name": "stderr",
     "output_type": "stream",
     "text": [
      "Chunks: 100%|██████████| 8/8 [00:01<00:00,  4.41it/s]\n",
      "1358it [29:44,  1.87s/it]"
     ]
    },
    {
     "name": "stdout",
     "output_type": "stream",
     "text": [
      "pred: [10, 5, 5, 1, 1], gt: [1, 8, 6, 7]\n"
     ]
    },
    {
     "name": "stderr",
     "output_type": "stream",
     "text": [
      "Chunks: 100%|██████████| 7/7 [00:00<00:00,  8.59it/s]\n",
      "1359it [29:45,  1.56s/it]"
     ]
    },
    {
     "name": "stdout",
     "output_type": "stream",
     "text": [
      "pred: [3, 4], gt: [3, 1, 3]\n"
     ]
    },
    {
     "name": "stderr",
     "output_type": "stream",
     "text": [
      "Chunks: 100%|██████████| 8/8 [00:01<00:00,  5.56it/s]\n",
      "1360it [29:46,  1.53s/it]"
     ]
    },
    {
     "name": "stdout",
     "output_type": "stream",
     "text": [
      "pred: [9, 2, 5], gt: [3, 5, 4, 4]\n"
     ]
    },
    {
     "name": "stderr",
     "output_type": "stream",
     "text": [
      "Chunks: 100%|██████████| 6/6 [00:00<00:00,  8.44it/s]\n",
      "1361it [29:47,  1.29s/it]"
     ]
    },
    {
     "name": "stdout",
     "output_type": "stream",
     "text": [
      "pred: [5, 4, 3], gt: [1, 4, 4, 3]\n"
     ]
    },
    {
     "name": "stderr",
     "output_type": "stream",
     "text": [
      "Chunks: 100%|██████████| 8/8 [00:01<00:00,  5.41it/s]\n",
      "1362it [29:49,  1.36s/it]"
     ]
    },
    {
     "name": "stdout",
     "output_type": "stream",
     "text": [
      "pred: [1, 2, 4, 1, 14], gt: [2, 9, 5, 6]\n"
     ]
    },
    {
     "name": "stderr",
     "output_type": "stream",
     "text": [
      "Chunks: 100%|██████████| 7/7 [00:00<00:00, 10.91it/s]\n",
      "1363it [29:49,  1.15s/it]"
     ]
    },
    {
     "name": "stdout",
     "output_type": "stream",
     "text": [
      "pred: [3, 1, 3, 13], gt: [2, 5, 6, 7]\n"
     ]
    },
    {
     "name": "stderr",
     "output_type": "stream",
     "text": [
      "Chunks: 100%|██████████| 8/8 [00:01<00:00,  6.17it/s]\n",
      "1364it [29:51,  1.21s/it]"
     ]
    },
    {
     "name": "stdout",
     "output_type": "stream",
     "text": [
      "pred: [5, 13, 4, 1], gt: [2, 14, 7]\n"
     ]
    },
    {
     "name": "stderr",
     "output_type": "stream",
     "text": [
      "Chunks: 100%|██████████| 5/5 [00:00<00:00,  6.14it/s]\n",
      "1365it [29:51,  1.10s/it]"
     ]
    },
    {
     "name": "stdout",
     "output_type": "stream",
     "text": [
      "pred: [8, 2], gt: [4, 3, 3]\n"
     ]
    },
    {
     "name": "stderr",
     "output_type": "stream",
     "text": [
      "Chunks: 100%|██████████| 7/7 [00:02<00:00,  2.79it/s]\n",
      "1366it [29:54,  1.53s/it]"
     ]
    },
    {
     "name": "stdout",
     "output_type": "stream",
     "text": [
      "pred: [8, 2, 5, 4], gt: [2, 4, 6, 7]\n"
     ]
    },
    {
     "name": "stderr",
     "output_type": "stream",
     "text": [
      "Chunks: 100%|██████████| 7/7 [00:00<00:00,  7.43it/s]\n",
      "1367it [29:55,  1.36s/it]"
     ]
    },
    {
     "name": "stdout",
     "output_type": "stream",
     "text": [
      "pred: [3, 5, 5], gt: [2, 5, 3, 3]\n"
     ]
    },
    {
     "name": "stderr",
     "output_type": "stream",
     "text": [
      "Chunks: 100%|██████████| 7/7 [00:02<00:00,  3.08it/s]\n",
      "1368it [29:57,  1.65s/it]"
     ]
    },
    {
     "name": "stdout",
     "output_type": "stream",
     "text": [
      "pred: [1, 11, 6, 2], gt: [2, 7, 5, 6]\n"
     ]
    },
    {
     "name": "stderr",
     "output_type": "stream",
     "text": [
      "Chunks: 100%|██████████| 8/8 [00:03<00:00,  2.43it/s]\n",
      "1369it [30:01,  2.15s/it]"
     ]
    },
    {
     "name": "stdout",
     "output_type": "stream",
     "text": [
      "pred: [5, 3], gt: [1, 2, 2, 1, 1, 1]\n"
     ]
    },
    {
     "name": "stderr",
     "output_type": "stream",
     "text": [
      "Chunks: 100%|██████████| 6/6 [00:00<00:00,  8.87it/s]\n",
      "1370it [30:01,  1.71s/it]"
     ]
    },
    {
     "name": "stdout",
     "output_type": "stream",
     "text": [
      "pred: [4, 2, 6], gt: [1, 5, 4, 2]\n"
     ]
    },
    {
     "name": "stderr",
     "output_type": "stream",
     "text": [
      "Chunks: 100%|██████████| 7/7 [00:00<00:00,  7.08it/s]\n",
      "1371it [30:02,  1.51s/it]"
     ]
    },
    {
     "name": "stdout",
     "output_type": "stream",
     "text": [
      "pred: [9, 1, 4, 6], gt: [2, 7, 4, 7]\n"
     ]
    },
    {
     "name": "stderr",
     "output_type": "stream",
     "text": [
      "Chunks: 100%|██████████| 7/7 [00:00<00:00, 13.62it/s]\n",
      "1372it [30:03,  1.21s/it]"
     ]
    },
    {
     "name": "stdout",
     "output_type": "stream",
     "text": [
      "pred: [2, 4, 7], gt: [1, 5, 4, 3]\n"
     ]
    },
    {
     "name": "stderr",
     "output_type": "stream",
     "text": [
      "Chunks: 100%|██████████| 8/8 [00:01<00:00,  7.73it/s]\n",
      "1373it [30:04,  1.17s/it]"
     ]
    },
    {
     "name": "stdout",
     "output_type": "stream",
     "text": [
      "pred: [6, 2], gt: [1, 2, 3, 2]\n"
     ]
    },
    {
     "name": "stderr",
     "output_type": "stream",
     "text": [
      "Chunks: 100%|██████████| 6/6 [00:02<00:00,  2.36it/s]\n",
      "1374it [30:06,  1.59s/it]"
     ]
    },
    {
     "name": "stdout",
     "output_type": "stream",
     "text": [
      "pred: [2, 8, 2, 5], gt: [2, 3, 5, 1, 6]\n"
     ]
    },
    {
     "name": "stderr",
     "output_type": "stream",
     "text": [
      "Chunks: 100%|██████████| 6/6 [00:00<00:00,  8.75it/s]\n",
      "1375it [30:07,  1.33s/it]"
     ]
    },
    {
     "name": "stdout",
     "output_type": "stream",
     "text": [
      "pred: [5, 5, 3, 5], gt: [10, 8]\n"
     ]
    },
    {
     "name": "stderr",
     "output_type": "stream",
     "text": [
      "Chunks: 100%|██████████| 7/7 [00:00<00:00,  7.19it/s]\n",
      "1376it [30:08,  1.23s/it]"
     ]
    },
    {
     "name": "stdout",
     "output_type": "stream",
     "text": [
      "pred: [5, 1, 7], gt: [6, 7]\n"
     ]
    },
    {
     "name": "stderr",
     "output_type": "stream",
     "text": [
      "Chunks: 100%|██████████| 6/6 [00:00<00:00, 18.76it/s]\n",
      "1377it [30:08,  1.04it/s]"
     ]
    },
    {
     "name": "stdout",
     "output_type": "stream",
     "text": [
      "pred: [6], gt: [3, 3]\n"
     ]
    },
    {
     "name": "stderr",
     "output_type": "stream",
     "text": [
      "Chunks: 100%|██████████| 7/7 [00:01<00:00,  6.04it/s]\n",
      "1378it [30:10,  1.03s/it]"
     ]
    },
    {
     "name": "stdout",
     "output_type": "stream",
     "text": [
      "pred: [3, 4], gt: [1, 1, 1, 1, 1, 1, 1]\n"
     ]
    },
    {
     "name": "stderr",
     "output_type": "stream",
     "text": [
      "Chunks: 100%|██████████| 8/8 [00:01<00:00,  7.33it/s]\n",
      "1379it [30:11,  1.05s/it]"
     ]
    },
    {
     "name": "stdout",
     "output_type": "stream",
     "text": [
      "pred: [1, 8, 7], gt: [2, 4, 5, 5]\n"
     ]
    },
    {
     "name": "stderr",
     "output_type": "stream",
     "text": [
      "Chunks: 100%|██████████| 7/7 [00:00<00:00, 10.54it/s]\n",
      "1380it [30:11,  1.06it/s]"
     ]
    },
    {
     "name": "stdout",
     "output_type": "stream",
     "text": [
      "pred: [2, 5, 9, 4], gt: [1, 5, 5, 9]\n"
     ]
    },
    {
     "name": "stderr",
     "output_type": "stream",
     "text": [
      "Chunks: 100%|██████████| 5/5 [00:02<00:00,  1.88it/s]\n",
      "1381it [30:14,  1.46s/it]"
     ]
    },
    {
     "name": "stdout",
     "output_type": "stream",
     "text": [
      "pred: [4, 5], gt: [1, 3, 3, 2]\n"
     ]
    },
    {
     "name": "stderr",
     "output_type": "stream",
     "text": [
      "Chunks: 100%|██████████| 6/6 [00:00<00:00, 10.17it/s]\n",
      "1382it [30:15,  1.21s/it]"
     ]
    },
    {
     "name": "stdout",
     "output_type": "stream",
     "text": [
      "pred: [8, 3], gt: [1, 5, 1, 4]\n"
     ]
    },
    {
     "name": "stderr",
     "output_type": "stream",
     "text": [
      "Chunks: 100%|██████████| 6/6 [00:02<00:00,  2.50it/s]\n",
      "1383it [30:17,  1.57s/it]"
     ]
    },
    {
     "name": "stdout",
     "output_type": "stream",
     "text": [
      "pred: [5, 6], gt: [2, 2, 3, 2, 2]\n"
     ]
    },
    {
     "name": "stderr",
     "output_type": "stream",
     "text": [
      "Chunks: 100%|██████████| 7/7 [00:00<00:00, 12.33it/s]\n",
      "1384it [30:18,  1.28s/it]"
     ]
    },
    {
     "name": "stdout",
     "output_type": "stream",
     "text": [
      "pred: [1, 6, 7, 7], gt: [3, 5, 6, 7]\n"
     ]
    },
    {
     "name": "stderr",
     "output_type": "stream",
     "text": [
      "Chunks: 100%|██████████| 5/5 [00:01<00:00,  2.83it/s]\n",
      "1385it [30:20,  1.43s/it]"
     ]
    },
    {
     "name": "stdout",
     "output_type": "stream",
     "text": [
      "pred: [5, 5], gt: [2, 3, 2, 3]\n"
     ]
    },
    {
     "name": "stderr",
     "output_type": "stream",
     "text": [
      "Chunks: 100%|██████████| 5/5 [00:00<00:00,  5.35it/s]\n",
      "1386it [30:21,  1.29s/it]"
     ]
    },
    {
     "name": "stdout",
     "output_type": "stream",
     "text": [
      "pred: [5], gt: [1, 1, 1, 1, 1]\n"
     ]
    },
    {
     "name": "stderr",
     "output_type": "stream",
     "text": [
      "Chunks: 100%|██████████| 7/7 [00:01<00:00,  4.04it/s]\n",
      "1387it [30:22,  1.43s/it]"
     ]
    },
    {
     "name": "stdout",
     "output_type": "stream",
     "text": [
      "pred: [5, 4, 4], gt: [1, 4, 3, 5]\n"
     ]
    },
    {
     "name": "stderr",
     "output_type": "stream",
     "text": [
      "Chunks: 100%|██████████| 6/6 [00:00<00:00,  6.28it/s]\n",
      "1388it [30:23,  1.29s/it]"
     ]
    },
    {
     "name": "stdout",
     "output_type": "stream",
     "text": [
      "pred: [6, 5], gt: [1, 4, 3, 3]\n"
     ]
    },
    {
     "name": "stderr",
     "output_type": "stream",
     "text": [
      "Chunks: 100%|██████████| 7/7 [00:02<00:00,  3.36it/s]\n",
      "1389it [30:25,  1.54s/it]"
     ]
    },
    {
     "name": "stdout",
     "output_type": "stream",
     "text": [
      "pred: [3, 4, 6], gt: [2, 4, 3, 4]\n"
     ]
    },
    {
     "name": "stderr",
     "output_type": "stream",
     "text": [
      "Chunks: 100%|██████████| 6/6 [00:01<00:00,  5.27it/s]\n",
      "1390it [30:27,  1.43s/it]"
     ]
    },
    {
     "name": "stdout",
     "output_type": "stream",
     "text": [
      "pred: [1, 4, 1, 12], gt: [2, 5, 5, 6]\n"
     ]
    },
    {
     "name": "stderr",
     "output_type": "stream",
     "text": [
      "Chunks: 100%|██████████| 8/8 [00:01<00:00,  4.80it/s]\n",
      "1391it [30:28,  1.51s/it]"
     ]
    },
    {
     "name": "stdout",
     "output_type": "stream",
     "text": [
      "pred: [1, 8, 6, 6, 2], gt: [3, 6, 6, 8]\n"
     ]
    },
    {
     "name": "stderr",
     "output_type": "stream",
     "text": [
      "Chunks: 100%|██████████| 2/2 [00:00<00:00,  4.68it/s]\n",
      "1392it [30:29,  1.19s/it]"
     ]
    },
    {
     "name": "stdout",
     "output_type": "stream",
     "text": [
      "pred: [2], gt: [1, 1]\n",
      "WD calculation failed at index 1391: [<class 'decimal.DivisionUndefined'>]\n",
      "pred: [2], gt: [1, 1]\n"
     ]
    },
    {
     "name": "stderr",
     "output_type": "stream",
     "text": [
      "Chunks: 100%|██████████| 8/8 [00:01<00:00,  5.51it/s]\n",
      "1393it [30:30,  1.28s/it]"
     ]
    },
    {
     "name": "stdout",
     "output_type": "stream",
     "text": [
      "pred: [5, 1, 12, 1, 5], gt: [1, 5, 6, 5, 7]\n"
     ]
    },
    {
     "name": "stderr",
     "output_type": "stream",
     "text": [
      "Chunks: 100%|██████████| 8/8 [00:02<00:00,  3.82it/s]\n",
      "1394it [30:32,  1.53s/it]"
     ]
    },
    {
     "name": "stdout",
     "output_type": "stream",
     "text": [
      "pred: [3, 6, 4, 10, 1, 5], gt: [2, 10, 10, 7]\n"
     ]
    },
    {
     "name": "stderr",
     "output_type": "stream",
     "text": [
      "Chunks: 100%|██████████| 8/8 [00:01<00:00,  5.25it/s]\n",
      "1395it [30:34,  1.53s/it]"
     ]
    },
    {
     "name": "stdout",
     "output_type": "stream",
     "text": [
      "pred: [7, 2, 6], gt: [1, 1, 1, 1, 1, 1, 1, 1, 1, 1, 1, 1, 1, 1, 1]\n"
     ]
    },
    {
     "name": "stderr",
     "output_type": "stream",
     "text": [
      "Chunks: 100%|██████████| 7/7 [00:00<00:00, 11.70it/s]\n",
      "1396it [30:34,  1.26s/it]"
     ]
    },
    {
     "name": "stdout",
     "output_type": "stream",
     "text": [
      "pred: [5, 2], gt: [1, 1, 1, 1, 1, 1, 1]\n"
     ]
    },
    {
     "name": "stderr",
     "output_type": "stream",
     "text": [
      "Chunks: 100%|██████████| 3/3 [00:01<00:00,  2.95it/s]\n",
      "1397it [30:35,  1.19s/it]"
     ]
    },
    {
     "name": "stdout",
     "output_type": "stream",
     "text": [
      "pred: [3], gt: [1, 1, 1]\n"
     ]
    },
    {
     "name": "stderr",
     "output_type": "stream",
     "text": [
      "Chunks: 100%|██████████| 7/7 [00:01<00:00,  6.08it/s]\n",
      "1398it [30:37,  1.19s/it]"
     ]
    },
    {
     "name": "stdout",
     "output_type": "stream",
     "text": [
      "pred: [1, 11, 2, 6], gt: [1, 7, 6, 6]\n"
     ]
    },
    {
     "name": "stderr",
     "output_type": "stream",
     "text": [
      "Chunks: 100%|██████████| 5/5 [00:00<00:00, 11.14it/s]\n",
      "1399it [30:37,  1.03it/s]"
     ]
    },
    {
     "name": "stdout",
     "output_type": "stream",
     "text": [
      "pred: [5], gt: [2, 1, 2]\n"
     ]
    },
    {
     "name": "stderr",
     "output_type": "stream",
     "text": [
      "Chunks: 100%|██████████| 6/6 [00:00<00:00,  9.24it/s]\n",
      "1400it [30:38,  1.13it/s]"
     ]
    },
    {
     "name": "stdout",
     "output_type": "stream",
     "text": [
      "pred: [6, 3, 3], gt: [2, 6, 4]\n"
     ]
    },
    {
     "name": "stderr",
     "output_type": "stream",
     "text": [
      "Chunks: 100%|██████████| 7/7 [00:01<00:00,  4.92it/s]\n",
      "1401it [30:39,  1.05s/it]"
     ]
    },
    {
     "name": "stdout",
     "output_type": "stream",
     "text": [
      "pred: [6, 6, 2, 5], gt: [1, 4, 3, 3, 4, 4]\n"
     ]
    },
    {
     "name": "stderr",
     "output_type": "stream",
     "text": [
      "Chunks: 100%|██████████| 8/8 [00:02<00:00,  2.90it/s]\n",
      "1402it [30:42,  1.57s/it]"
     ]
    },
    {
     "name": "stdout",
     "output_type": "stream",
     "text": [
      "pred: [9, 2, 5], gt: [1, 4, 5, 6]\n"
     ]
    },
    {
     "name": "stderr",
     "output_type": "stream",
     "text": [
      "Chunks: 100%|██████████| 8/8 [00:02<00:00,  3.05it/s]\n",
      "1403it [30:45,  1.89s/it]"
     ]
    },
    {
     "name": "stdout",
     "output_type": "stream",
     "text": [
      "pred: [16, 5, 3, 1, 2, 6, 1, 3], gt: [7, 15, 15]\n"
     ]
    },
    {
     "name": "stderr",
     "output_type": "stream",
     "text": [
      "Chunks: 100%|██████████| 7/7 [00:01<00:00,  5.68it/s]\n",
      "1404it [30:46,  1.70s/it]"
     ]
    },
    {
     "name": "stdout",
     "output_type": "stream",
     "text": [
      "pred: [10, 5, 2, 3], gt: [1, 8, 4, 4, 3]\n"
     ]
    },
    {
     "name": "stderr",
     "output_type": "stream",
     "text": [
      "Chunks: 100%|██████████| 5/5 [00:00<00:00,  8.10it/s]\n",
      "1405it [30:47,  1.38s/it]"
     ]
    },
    {
     "name": "stdout",
     "output_type": "stream",
     "text": [
      "pred: [2, 8], gt: [1, 4, 3, 2]\n"
     ]
    },
    {
     "name": "stderr",
     "output_type": "stream",
     "text": [
      "Chunks: 100%|██████████| 7/7 [00:03<00:00,  2.20it/s]\n",
      "1406it [30:50,  1.93s/it]"
     ]
    },
    {
     "name": "stdout",
     "output_type": "stream",
     "text": [
      "pred: [1, 2, 1, 9, 13], gt: [4, 16, 6]\n"
     ]
    },
    {
     "name": "stderr",
     "output_type": "stream",
     "text": [
      "Chunks: 100%|██████████| 8/8 [00:02<00:00,  3.43it/s]\n",
      "1407it [30:52,  2.06s/it]"
     ]
    },
    {
     "name": "stdout",
     "output_type": "stream",
     "text": [
      "pred: [1, 8, 5, 4, 5], gt: [1, 3, 5, 4, 5, 5]\n"
     ]
    },
    {
     "name": "stderr",
     "output_type": "stream",
     "text": [
      "Chunks: 100%|██████████| 7/7 [00:00<00:00,  7.39it/s]\n",
      "1408it [30:53,  1.74s/it]"
     ]
    },
    {
     "name": "stdout",
     "output_type": "stream",
     "text": [
      "pred: [1, 2, 10], gt: [3, 4, 2, 4]\n"
     ]
    },
    {
     "name": "stderr",
     "output_type": "stream",
     "text": [
      "Chunks: 100%|██████████| 8/8 [00:00<00:00,  9.91it/s]\n",
      "1409it [30:54,  1.46s/it]"
     ]
    },
    {
     "name": "stdout",
     "output_type": "stream",
     "text": [
      "pred: [7, 1, 8], gt: [7, 9]\n"
     ]
    },
    {
     "name": "stderr",
     "output_type": "stream",
     "text": [
      "Chunks: 100%|██████████| 7/7 [00:01<00:00,  4.25it/s]\n",
      "1410it [30:56,  1.52s/it]"
     ]
    },
    {
     "name": "stdout",
     "output_type": "stream",
     "text": [
      "pred: [7, 2, 5], gt: [2, 4, 4, 4]\n"
     ]
    },
    {
     "name": "stderr",
     "output_type": "stream",
     "text": [
      "Chunks: 100%|██████████| 7/7 [00:00<00:00,  7.98it/s]\n",
      "1411it [30:56,  1.34s/it]"
     ]
    },
    {
     "name": "stdout",
     "output_type": "stream",
     "text": [
      "pred: [2, 5], gt: [1, 2, 4]\n"
     ]
    },
    {
     "name": "stderr",
     "output_type": "stream",
     "text": [
      "Chunks: 100%|██████████| 7/7 [00:01<00:00,  4.03it/s]\n",
      "1412it [30:58,  1.47s/it]"
     ]
    },
    {
     "name": "stdout",
     "output_type": "stream",
     "text": [
      "pred: [2, 2, 2, 14], gt: [6, 4, 4, 6]\n"
     ]
    },
    {
     "name": "stderr",
     "output_type": "stream",
     "text": [
      "Chunks: 100%|██████████| 6/6 [00:00<00:00,  6.02it/s]\n",
      "1413it [30:59,  1.34s/it]"
     ]
    },
    {
     "name": "stdout",
     "output_type": "stream",
     "text": [
      "pred: [9, 4, 2, 2], gt: [1, 3, 2, 3, 3, 2, 3]\n"
     ]
    },
    {
     "name": "stderr",
     "output_type": "stream",
     "text": [
      "Chunks: 100%|██████████| 7/7 [00:01<00:00,  3.58it/s]\n",
      "1414it [31:01,  1.53s/it]"
     ]
    },
    {
     "name": "stdout",
     "output_type": "stream",
     "text": [
      "pred: [4, 1, 8], gt: [6, 7]\n"
     ]
    },
    {
     "name": "stderr",
     "output_type": "stream",
     "text": [
      "Chunks: 100%|██████████| 8/8 [00:00<00:00,  8.05it/s]\n",
      "1415it [31:02,  1.38s/it]"
     ]
    },
    {
     "name": "stdout",
     "output_type": "stream",
     "text": [
      "pred: [1, 11, 4, 2, 3, 1, 10], gt: [4, 7, 10, 11]\n"
     ]
    },
    {
     "name": "stderr",
     "output_type": "stream",
     "text": [
      "Chunks: 100%|██████████| 6/6 [00:00<00:00,  6.52it/s]\n",
      "1416it [31:03,  1.25s/it]"
     ]
    },
    {
     "name": "stdout",
     "output_type": "stream",
     "text": [
      "pred: [6], gt: [1, 1, 1, 1, 1, 1]\n"
     ]
    },
    {
     "name": "stderr",
     "output_type": "stream",
     "text": [
      "Chunks: 100%|██████████| 7/7 [00:01<00:00,  5.69it/s]\n",
      "1417it [31:04,  1.25s/it]"
     ]
    },
    {
     "name": "stdout",
     "output_type": "stream",
     "text": [
      "pred: [1, 6], gt: [1, 2, 2, 2]\n"
     ]
    },
    {
     "name": "stderr",
     "output_type": "stream",
     "text": [
      "Chunks: 100%|██████████| 7/7 [00:00<00:00,  7.30it/s]\n",
      "1418it [31:05,  1.17s/it]"
     ]
    },
    {
     "name": "stdout",
     "output_type": "stream",
     "text": [
      "pred: [1, 8, 4], gt: [2, 2, 2, 3, 4]\n"
     ]
    },
    {
     "name": "stderr",
     "output_type": "stream",
     "text": [
      "Chunks: 100%|██████████| 5/5 [00:01<00:00,  2.68it/s]\n",
      "1419it [31:07,  1.38s/it]"
     ]
    },
    {
     "name": "stdout",
     "output_type": "stream",
     "text": [
      "pred: [7, 2], gt: [2, 7]\n"
     ]
    },
    {
     "name": "stderr",
     "output_type": "stream",
     "text": [
      "Chunks: 100%|██████████| 8/8 [00:01<00:00,  5.80it/s]\n",
      "1420it [31:09,  1.39s/it]"
     ]
    },
    {
     "name": "stdout",
     "output_type": "stream",
     "text": [
      "pred: [2, 1, 13, 3, 4], gt: [6, 7, 10]\n"
     ]
    },
    {
     "name": "stderr",
     "output_type": "stream",
     "text": [
      "Chunks: 100%|██████████| 7/7 [00:01<00:00,  6.74it/s]\n",
      "1421it [31:10,  1.29s/it]"
     ]
    },
    {
     "name": "stdout",
     "output_type": "stream",
     "text": [
      "pred: [2, 2, 8, 7], gt: [3, 8, 4, 4]\n"
     ]
    },
    {
     "name": "stderr",
     "output_type": "stream",
     "text": [
      "Chunks: 100%|██████████| 6/6 [00:01<00:00,  5.08it/s]\n",
      "1422it [31:11,  1.27s/it]"
     ]
    },
    {
     "name": "stdout",
     "output_type": "stream",
     "text": [
      "pred: [3, 6, 3], gt: [1, 4, 4, 3]\n"
     ]
    },
    {
     "name": "stderr",
     "output_type": "stream",
     "text": [
      "Chunks: 100%|██████████| 8/8 [00:02<00:00,  3.12it/s]\n",
      "1423it [31:14,  1.67s/it]"
     ]
    },
    {
     "name": "stdout",
     "output_type": "stream",
     "text": [
      "pred: [5, 3, 2, 4, 10], gt: [3, 7, 14]\n"
     ]
    },
    {
     "name": "stderr",
     "output_type": "stream",
     "text": [
      "Chunks: 100%|██████████| 7/7 [00:00<00:00,  8.47it/s]\n",
      "1424it [31:14,  1.42s/it]"
     ]
    },
    {
     "name": "stdout",
     "output_type": "stream",
     "text": [
      "pred: [2, 5], gt: [3, 1, 1, 2]\n"
     ]
    },
    {
     "name": "stderr",
     "output_type": "stream",
     "text": [
      "Chunks: 100%|██████████| 5/5 [00:00<00:00,  6.69it/s]\n",
      "1425it [31:15,  1.22s/it]"
     ]
    },
    {
     "name": "stdout",
     "output_type": "stream",
     "text": [
      "pred: [6, 3], gt: [1, 2, 3, 3]\n"
     ]
    },
    {
     "name": "stderr",
     "output_type": "stream",
     "text": [
      "Chunks: 100%|██████████| 6/6 [00:00<00:00,  9.34it/s]\n",
      "1426it [31:16,  1.06s/it]"
     ]
    },
    {
     "name": "stdout",
     "output_type": "stream",
     "text": [
      "pred: [5, 1, 6], gt: [5, 7]\n"
     ]
    },
    {
     "name": "stderr",
     "output_type": "stream",
     "text": [
      "Chunks: 100%|██████████| 5/5 [00:03<00:00,  1.47it/s]\n",
      "1427it [31:19,  1.77s/it]"
     ]
    },
    {
     "name": "stdout",
     "output_type": "stream",
     "text": [
      "pred: [7, 2], gt: [1, 3, 2, 3]\n"
     ]
    },
    {
     "name": "stderr",
     "output_type": "stream",
     "text": [
      "Chunks: 100%|██████████| 6/6 [00:01<00:00,  5.24it/s]\n",
      "1428it [31:21,  1.59s/it]"
     ]
    },
    {
     "name": "stdout",
     "output_type": "stream",
     "text": [
      "pred: [1, 5, 6, 6], gt: [2, 3, 7, 6]\n"
     ]
    },
    {
     "name": "stderr",
     "output_type": "stream",
     "text": [
      "Chunks: 100%|██████████| 6/6 [00:01<00:00,  3.83it/s]\n",
      "1429it [31:22,  1.59s/it]"
     ]
    },
    {
     "name": "stdout",
     "output_type": "stream",
     "text": [
      "pred: [8, 3], gt: [1, 3, 4, 3]\n"
     ]
    },
    {
     "name": "stderr",
     "output_type": "stream",
     "text": [
      "Chunks: 100%|██████████| 8/8 [00:01<00:00,  4.89it/s]\n",
      "1430it [31:24,  1.61s/it]"
     ]
    },
    {
     "name": "stdout",
     "output_type": "stream",
     "text": [
      "pred: [6, 1, 5, 3, 7], gt: [1, 6, 7, 8]\n"
     ]
    },
    {
     "name": "stderr",
     "output_type": "stream",
     "text": [
      "Chunks: 100%|██████████| 7/7 [00:01<00:00,  4.87it/s]\n",
      "1431it [31:25,  1.57s/it]"
     ]
    },
    {
     "name": "stdout",
     "output_type": "stream",
     "text": [
      "pred: [6, 5, 3], gt: [2, 3, 5, 4]\n"
     ]
    },
    {
     "name": "stderr",
     "output_type": "stream",
     "text": [
      "Chunks: 100%|██████████| 6/6 [00:01<00:00,  4.29it/s]\n",
      "1432it [31:27,  1.53s/it]"
     ]
    },
    {
     "name": "stdout",
     "output_type": "stream",
     "text": [
      "pred: [5, 5, 6, 1], gt: [1, 4, 4, 8]\n"
     ]
    },
    {
     "name": "stderr",
     "output_type": "stream",
     "text": [
      "Chunks: 100%|██████████| 7/7 [00:00<00:00,  7.69it/s]\n",
      "1433it [31:28,  1.35s/it]"
     ]
    },
    {
     "name": "stdout",
     "output_type": "stream",
     "text": [
      "pred: [4, 6, 3], gt: [3, 4, 4, 2]\n"
     ]
    },
    {
     "name": "stderr",
     "output_type": "stream",
     "text": [
      "Chunks: 100%|██████████| 8/8 [00:01<00:00,  5.65it/s]\n",
      "1434it [31:29,  1.38s/it]"
     ]
    },
    {
     "name": "stdout",
     "output_type": "stream",
     "text": [
      "pred: [5, 6, 4], gt: [1, 6, 4, 4]\n"
     ]
    },
    {
     "name": "stderr",
     "output_type": "stream",
     "text": [
      "Chunks: 100%|██████████| 6/6 [00:00<00:00,  8.97it/s]\n",
      "1435it [31:30,  1.17s/it]"
     ]
    },
    {
     "name": "stdout",
     "output_type": "stream",
     "text": [
      "pred: [2, 1, 1, 13], gt: [1, 4, 4, 4, 4]\n"
     ]
    },
    {
     "name": "stderr",
     "output_type": "stream",
     "text": [
      "Chunks: 100%|██████████| 6/6 [00:00<00:00,  8.53it/s]\n",
      "1436it [31:30,  1.04s/it]"
     ]
    },
    {
     "name": "stdout",
     "output_type": "stream",
     "text": [
      "pred: [2, 1, 8, 7], gt: [9, 9]\n"
     ]
    },
    {
     "name": "stderr",
     "output_type": "stream",
     "text": [
      "Chunks: 100%|██████████| 6/6 [00:00<00:00,  9.95it/s]\n",
      "1437it [31:31,  1.09it/s]"
     ]
    },
    {
     "name": "stdout",
     "output_type": "stream",
     "text": [
      "pred: [3, 5, 4], gt: [3, 4, 5]\n"
     ]
    },
    {
     "name": "stderr",
     "output_type": "stream",
     "text": [
      "Chunks: 100%|██████████| 4/4 [00:00<00:00,  6.97it/s]\n",
      "1438it [31:32,  1.22it/s]"
     ]
    },
    {
     "name": "stdout",
     "output_type": "stream",
     "text": [
      "pred: [4], gt: [2, 1, 1]\n"
     ]
    },
    {
     "name": "stderr",
     "output_type": "stream",
     "text": [
      "Chunks: 100%|██████████| 8/8 [00:03<00:00,  2.53it/s]\n",
      "1439it [31:35,  1.53s/it]"
     ]
    },
    {
     "name": "stdout",
     "output_type": "stream",
     "text": [
      "pred: [3, 2, 10], gt: [1, 4, 4, 4, 2]\n"
     ]
    },
    {
     "name": "stderr",
     "output_type": "stream",
     "text": [
      "Chunks: 100%|██████████| 7/7 [00:00<00:00,  7.28it/s]\n",
      "1440it [31:36,  1.32s/it]"
     ]
    },
    {
     "name": "stdout",
     "output_type": "stream",
     "text": [
      "pred: [1, 7, 6], gt: [4, 5, 2, 3]\n"
     ]
    },
    {
     "name": "stderr",
     "output_type": "stream",
     "text": [
      "\n"
     ]
    }
   ],
   "source": [
    "subject = \"cos_sim_spliter\"\n",
    "spliter = init_spliter(subject)\n",
    "results = []\n",
    "for index, row in tqdm(df.iterrows()):\n",
    "    text = \"\".join(row['sentences'])\n",
    "    sentence_df = pd.DataFrame(row['sentences'], columns=['sentence'])\n",
    "    sentence_df['start_idx'] = sentence_df['sentence'].apply(lambda x: re.search(re.escape(x), text).start())\n",
    "    sentence_df['end_idx'] = sentence_df['sentence'].apply(lambda x: re.search(re.escape(x), text).end())\n",
    "    chunk_df = spliter.cluster(sentence_df)\n",
    "    pred, gt = chunk_df['sentence_count'].tolist(), row['masses']\n",
    "    pk_score = pk(pred, gt, one_minus=True)\n",
    "    try:\n",
    "        wd_score = WD(pred, gt, one_minus=True, window_size=2)\n",
    "    except Exception as e:\n",
    "        print(f\"WD calculation failed at index {index}: {e}\")\n",
    "        print(f\"pred: {pred}, gt: {gt}\")\n",
    "        wd_score = None\n",
    "    b_score = B(pred, gt)\n",
    "    s_score = S(pred, gt)\n",
    "    \n",
    "    # 将指标保存到结果列表\n",
    "    results.append({\n",
    "        \"index\": index,\n",
    "        \"1-Pk\": pk_score,\n",
    "        \"1-WD\": wd_score,\n",
    "        \"B\": b_score,\n",
    "        \"S\": s_score\n",
    "    })\n",
    "\n",
    "# 转换结果列表为 DataFrame\n",
    "results_df = pd.DataFrame(results)\n",
    "\n",
    "# 计算各指标的平均值\n",
    "results_df.loc[\"avg\"] = {\n",
    "    \"index\": \"Average\",\n",
    "    \"1-Pk\": results_df[\"1-Pk\"].mean(),\n",
    "    \"1-WD\": results_df[\"1-WD\"].mean(),\n",
    "    \"B\": results_df[\"B\"].mean(),\n",
    "    \"S\": results_df[\"S\"].mean()\n",
    "}"
   ]
  },
  {
   "cell_type": "code",
   "execution_count": 3,
   "metadata": {},
   "outputs": [],
   "source": [
    "results_df.to_excel(f\"results/文档主题分割-{subject}.xlsx\")"
   ]
  },
  {
   "cell_type": "code",
   "execution_count": 4,
   "metadata": {},
   "outputs": [
    {
     "data": {
      "text/html": [
       "<div>\n",
       "<style scoped>\n",
       "    .dataframe tbody tr th:only-of-type {\n",
       "        vertical-align: middle;\n",
       "    }\n",
       "\n",
       "    .dataframe tbody tr th {\n",
       "        vertical-align: top;\n",
       "    }\n",
       "\n",
       "    .dataframe thead th {\n",
       "        text-align: right;\n",
       "    }\n",
       "</style>\n",
       "<table border=\"1\" class=\"dataframe\">\n",
       "  <thead>\n",
       "    <tr style=\"text-align: right;\">\n",
       "      <th></th>\n",
       "      <th>index</th>\n",
       "      <th>1-Pk</th>\n",
       "      <th>1-WD</th>\n",
       "      <th>B</th>\n",
       "      <th>S</th>\n",
       "    </tr>\n",
       "  </thead>\n",
       "  <tbody>\n",
       "    <tr>\n",
       "      <th>0</th>\n",
       "      <td>0</td>\n",
       "      <td>0.6666666666666666666666666667</td>\n",
       "      <td>0.6428571428571428571428571429</td>\n",
       "      <td>0</td>\n",
       "      <td>0.8</td>\n",
       "    </tr>\n",
       "    <tr>\n",
       "      <th>1</th>\n",
       "      <td>1</td>\n",
       "      <td>0.5238095238095238095238095238</td>\n",
       "      <td>0.5909090909090909090909090909</td>\n",
       "      <td>0.1</td>\n",
       "      <td>0.8043478260869565217391304348</td>\n",
       "    </tr>\n",
       "    <tr>\n",
       "      <th>2</th>\n",
       "      <td>2</td>\n",
       "      <td>0.8888888888888888888888888889</td>\n",
       "      <td>0.8888888888888888888888888889</td>\n",
       "      <td>0.5</td>\n",
       "      <td>0.9</td>\n",
       "    </tr>\n",
       "    <tr>\n",
       "      <th>3</th>\n",
       "      <td>3</td>\n",
       "      <td>0.5185185185185185185185185185</td>\n",
       "      <td>0.6551724137931034482758620690</td>\n",
       "      <td>0.1428571428571428571428571429</td>\n",
       "      <td>0.8</td>\n",
       "    </tr>\n",
       "    <tr>\n",
       "      <th>4</th>\n",
       "      <td>4</td>\n",
       "      <td>0.7142857142857142857142857143</td>\n",
       "      <td>0.7142857142857142857142857143</td>\n",
       "      <td>0.5</td>\n",
       "      <td>0.9</td>\n",
       "    </tr>\n",
       "    <tr>\n",
       "      <th>...</th>\n",
       "      <td>...</td>\n",
       "      <td>...</td>\n",
       "      <td>...</td>\n",
       "      <td>...</td>\n",
       "      <td>...</td>\n",
       "    </tr>\n",
       "    <tr>\n",
       "      <th>1436</th>\n",
       "      <td>1436</td>\n",
       "      <td>0.8</td>\n",
       "      <td>0.8</td>\n",
       "      <td>0.75</td>\n",
       "      <td>0.9545454545454545454545454545</td>\n",
       "    </tr>\n",
       "    <tr>\n",
       "      <th>1437</th>\n",
       "      <td>1437</td>\n",
       "      <td>0.0</td>\n",
       "      <td>0.0</td>\n",
       "      <td>0</td>\n",
       "      <td>0.3333333333333333333333333333</td>\n",
       "    </tr>\n",
       "    <tr>\n",
       "      <th>1438</th>\n",
       "      <td>1438</td>\n",
       "      <td>0.4615384615384615384615384615</td>\n",
       "      <td>0.4615384615384615384615384615</td>\n",
       "      <td>0.2</td>\n",
       "      <td>0.7142857142857142857142857143</td>\n",
       "    </tr>\n",
       "    <tr>\n",
       "      <th>1439</th>\n",
       "      <td>1439</td>\n",
       "      <td>0.4166666666666666666666666667</td>\n",
       "      <td>0.4166666666666666666666666667</td>\n",
       "      <td>0.125</td>\n",
       "      <td>0.7307692307692307692307692308</td>\n",
       "    </tr>\n",
       "    <tr>\n",
       "      <th>avg</th>\n",
       "      <td>Average</td>\n",
       "      <td>0.475745</td>\n",
       "      <td>0.479689</td>\n",
       "      <td>0.218261</td>\n",
       "      <td>0.715241</td>\n",
       "    </tr>\n",
       "  </tbody>\n",
       "</table>\n",
       "<p>1441 rows × 5 columns</p>\n",
       "</div>"
      ],
      "text/plain": [
       "        index                            1-Pk                            1-WD  \\\n",
       "0           0  0.6666666666666666666666666667  0.6428571428571428571428571429   \n",
       "1           1  0.5238095238095238095238095238  0.5909090909090909090909090909   \n",
       "2           2  0.8888888888888888888888888889  0.8888888888888888888888888889   \n",
       "3           3  0.5185185185185185185185185185  0.6551724137931034482758620690   \n",
       "4           4  0.7142857142857142857142857143  0.7142857142857142857142857143   \n",
       "...       ...                             ...                             ...   \n",
       "1436     1436                             0.8                             0.8   \n",
       "1437     1437                             0.0                             0.0   \n",
       "1438     1438  0.4615384615384615384615384615  0.4615384615384615384615384615   \n",
       "1439     1439  0.4166666666666666666666666667  0.4166666666666666666666666667   \n",
       "avg   Average                        0.475745                        0.479689   \n",
       "\n",
       "                                   B                               S  \n",
       "0                                  0                             0.8  \n",
       "1                                0.1  0.8043478260869565217391304348  \n",
       "2                                0.5                             0.9  \n",
       "3     0.1428571428571428571428571429                             0.8  \n",
       "4                                0.5                             0.9  \n",
       "...                              ...                             ...  \n",
       "1436                            0.75  0.9545454545454545454545454545  \n",
       "1437                               0  0.3333333333333333333333333333  \n",
       "1438                             0.2  0.7142857142857142857142857143  \n",
       "1439                           0.125  0.7307692307692307692307692308  \n",
       "avg                         0.218261                        0.715241  \n",
       "\n",
       "[1441 rows x 5 columns]"
      ]
     },
     "execution_count": 4,
     "metadata": {},
     "output_type": "execute_result"
    }
   ],
   "source": [
    "results_df"
   ]
  }
 ],
 "metadata": {
  "kernelspec": {
   "display_name": "finbot",
   "language": "python",
   "name": "python3"
  },
  "language_info": {
   "codemirror_mode": {
    "name": "ipython",
    "version": 3
   },
   "file_extension": ".py",
   "mimetype": "text/x-python",
   "name": "python",
   "nbconvert_exporter": "python",
   "pygments_lexer": "ipython3",
   "version": "3.8.20"
  }
 },
 "nbformat": 4,
 "nbformat_minor": 2
}
