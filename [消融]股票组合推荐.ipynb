{
 "cells": [
  {
   "cell_type": "markdown",
   "metadata": {},
   "source": [
    "## 数据预处理"
   ]
  },
  {
   "cell_type": "code",
   "execution_count": null,
   "metadata": {},
   "outputs": [],
   "source": [
    "def custom_qlib_stock_dataset(from_dir, to_dir):\n",
    "    # https://github.com/chenditc/investment_data\n",
    "    import qlib\n",
    "    import os\n",
    "    from qlib.data import D\n",
    "    # 初始化 Qlib 的数据存储\n",
    "    qlib.init(provider_uri = from_dir)\n",
    "    fields = ['$open', '$high', '$low', '$close', '$volume', '$amount', '$vwap']\n",
    "    df = D.features(D.instruments(market='csi300'), fields, start_time='20160101', end_time='20201231', freq='day')\n",
    "    df.rename(columns=lambda x: x.replace('$', ''), inplace=True)\n",
    "    os.makedirs(to_dir, exist_ok=True)\n",
    "    df.to_csv(os.path.join(to_dir,\"csi300_stock_feats.csv\"),index=False)"
   ]
  }
 ],
 "metadata": {
  "language_info": {
   "name": "python"
  }
 },
 "nbformat": 4,
 "nbformat_minor": 2
}
