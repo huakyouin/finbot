{
 "cells": [
  {
   "cell_type": "code",
   "execution_count": null,
   "metadata": {},
   "outputs": [],
   "source": [
    "from air_benchmark import AIRBench, Retriever, Reranker\n",
    "\n",
    "class MyRetriever(Retriever):\n",
    "    pass\n",
    "\n",
    "class MyReranker(Reranker):\n",
    "    pass\n",
    "\n",
    "\n",
    "retriever = MyRetriever(search_top_k=1000)\n",
    "reranker = MyReranker(rerank_top_k=100)\n",
    "\n",
    "evaluation = AIRBench(\n",
    "    benchmark_version=\"AIR-Bench_24.05\",\n",
    "    task_types=[\"long-doc\"],    # remove this line if you want to evaluate on all task types\n",
    "    domains=[\"arxiv\"],          # remove this line if you want to evaluate on all domains\n",
    "    languages=[\"en\"],           # remove this line if you want to evaluate on all languages\n",
    "    splits=[\"test\"],            # remove this line if you want to evaluate on all splits\n",
    "    cache_dir=\"<CACHE_DIR>\"     # path to the cache directory (**NEED ~103GB FOR FULL 24.05 BENCHMARK**)\n",
    ")\n",
    "\n",
    "evaluation.run(\n",
    "    retriever,\n",
    "    reranker=reranker,          # remove this line if you don't have a reranker\n",
    "    output_dir=\"<OUTPUT_DIR>\"   # path to the output directory, default is \"./search_results\"\n",
    "    overwrite=False             # set to True if you want to overwrite the existing results\n",
    ")"
   ]
  },
  {
   "cell_type": "code",
   "execution_count": 1,
   "metadata": {},
   "outputs": [
    {
     "name": "stderr",
     "output_type": "stream",
     "text": [
      "/mnt/disk1/JXH/01_apps/miniforge3/envs/finbot/lib/python3.10/site-packages/tqdm/auto.py:21: TqdmWarning: IProgress not found. Please update jupyter and ipywidgets. See https://ipywidgets.readthedocs.io/en/stable/user_install.html\n",
      "  from .autonotebook import tqdm as notebook_tqdm\n"
     ]
    },
    {
     "ename": "FileNotFoundError",
     "evalue": "[Errno 2] No such file or directory: './hf-transformers/search_results'",
     "output_type": "error",
     "traceback": [
      "\u001b[0;31m---------------------------------------------------------------------------\u001b[0m",
      "\u001b[0;31mFileNotFoundError\u001b[0m                         Traceback (most recent call last)",
      "Cell \u001b[0;32mIn[1], line 13\u001b[0m\n\u001b[1;32m      2\u001b[0m \u001b[38;5;28;01mfrom\u001b[39;00m \u001b[38;5;21;01mair_benchmark\u001b[39;00m\u001b[38;5;21;01m.\u001b[39;00m\u001b[38;5;21;01mtasks\u001b[39;00m \u001b[38;5;28;01mimport\u001b[39;00m LATEST_BENCHMARK_VERSION\n\u001b[1;32m      4\u001b[0m evaluate_args \u001b[38;5;241m=\u001b[39m \u001b[38;5;28mdict\u001b[39m(\n\u001b[1;32m      5\u001b[0m     benchmark_version \u001b[38;5;241m=\u001b[39m \u001b[38;5;124m\"\u001b[39m\u001b[38;5;124mAIR-Bench_24.05\u001b[39m\u001b[38;5;124m\"\u001b[39m,\n\u001b[1;32m      6\u001b[0m     search_results_save_dir \u001b[38;5;241m=\u001b[39m \u001b[38;5;124m\"\u001b[39m\u001b[38;5;124m./hf-transformers/search_results\u001b[39m\u001b[38;5;124m\"\u001b[39m,\n\u001b[0;32m   (...)\u001b[0m\n\u001b[1;32m     10\u001b[0m     metrics \u001b[38;5;241m=\u001b[39m [\u001b[38;5;124m\"\u001b[39m\u001b[38;5;124mndcg_at_10\u001b[39m\u001b[38;5;124m\"\u001b[39m, \u001b[38;5;124m\"\u001b[39m\u001b[38;5;124mrecall_at_10\u001b[39m\u001b[38;5;124m\"\u001b[39m],\n\u001b[1;32m     11\u001b[0m )\n\u001b[0;32m---> 13\u001b[0m \u001b[43mAIRBench\u001b[49m\u001b[38;5;241;43m.\u001b[39;49m\u001b[43mevaluate_dev\u001b[49m\u001b[43m(\u001b[49m\u001b[38;5;241;43m*\u001b[39;49m\u001b[38;5;241;43m*\u001b[39;49m\u001b[43mevaluate_args\u001b[49m\u001b[43m)\u001b[49m\n",
      "File \u001b[0;32m/mnt/disk1/JXH/01_apps/miniforge3/envs/finbot/lib/python3.10/site-packages/air_benchmark/air_benchmark.py:188\u001b[0m, in \u001b[0;36mAIRBench.evaluate_dev\u001b[0;34m(benchmark_version, search_results_save_dir, k_values, cache_dir, output_method, output_path, metrics)\u001b[0m\n\u001b[1;32m    185\u001b[0m evaluator \u001b[38;5;241m=\u001b[39m Evaluator(data_loader)\n\u001b[1;32m    187\u001b[0m eval_results_dict \u001b[38;5;241m=\u001b[39m {}\n\u001b[0;32m--> 188\u001b[0m \u001b[38;5;28;01mfor\u001b[39;00m model_name \u001b[38;5;129;01min\u001b[39;00m \u001b[38;5;28msorted\u001b[39m(\u001b[43mos\u001b[49m\u001b[38;5;241;43m.\u001b[39;49m\u001b[43mlistdir\u001b[49m\u001b[43m(\u001b[49m\u001b[43msearch_results_save_dir\u001b[49m\u001b[43m)\u001b[49m):\n\u001b[1;32m    189\u001b[0m     model_search_results_save_dir \u001b[38;5;241m=\u001b[39m os\u001b[38;5;241m.\u001b[39mpath\u001b[38;5;241m.\u001b[39mjoin(search_results_save_dir, model_name)\n\u001b[1;32m    190\u001b[0m     \u001b[38;5;28;01mif\u001b[39;00m \u001b[38;5;129;01mnot\u001b[39;00m os\u001b[38;5;241m.\u001b[39mpath\u001b[38;5;241m.\u001b[39misdir(model_search_results_save_dir):\n",
      "\u001b[0;31mFileNotFoundError\u001b[0m: [Errno 2] No such file or directory: './hf-transformers/search_results'"
     ]
    }
   ],
   "source": [
    "from air_benchmark import AIRBench\n",
    "from air_benchmark.tasks import LATEST_BENCHMARK_VERSION\n",
    "\n",
    "evaluate_args = dict(\n",
    "    benchmark_version = \"AIR-Bench_24.05\",\n",
    "    search_results_save_dir = \"./hf-transformers/search_results\",\n",
    "    cache_dir = \"~/.cache\",\n",
    "    output_method = \"markdown\",\n",
    "    output_path = \"./24.05_eval_results.md\",\n",
    "    metrics = [\"ndcg_at_10\", \"recall_at_10\"],\n",
    ")\n",
    "\n",
    "AIRBench.evaluate_dev(**evaluate_args)"
   ]
  }
 ],
 "metadata": {
  "kernelspec": {
   "display_name": "finbot",
   "language": "python",
   "name": "python3"
  },
  "language_info": {
   "codemirror_mode": {
    "name": "ipython",
    "version": 3
   },
   "file_extension": ".py",
   "mimetype": "text/x-python",
   "name": "python",
   "nbconvert_exporter": "python",
   "pygments_lexer": "ipython3",
   "version": "3.10.16"
  }
 },
 "nbformat": 4,
 "nbformat_minor": 2
}
